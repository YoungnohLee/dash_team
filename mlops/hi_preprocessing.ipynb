{
  "nbformat": 4,
  "nbformat_minor": 0,
  "metadata": {
    "colab": {
      "provenance": []
    },
    "kernelspec": {
      "name": "python3",
      "display_name": "Python 3"
    },
    "language_info": {
      "name": "python"
    }
  },
  "cells": [
    {
      "cell_type": "code",
      "source": [
        "!pip install pmdarima"
      ],
      "metadata": {
        "id": "xIDSsh5ezv-R"
      },
      "execution_count": null,
      "outputs": []
    },
    {
      "cell_type": "code",
      "source": [
        "import bw_class\n",
        "import database_bw\n",
        "import hi_preprocessing_rfm\n",
        "import hi_auto_arima"
      ],
      "metadata": {
        "id": "jCwiVlmJ8j-p"
      },
      "execution_count": null,
      "outputs": []
    },
    {
      "cell_type": "code",
      "source": [
        "train_0 = database_bw.making_dataframe_train_db('train_table')\n",
        "test_0 = database_bw.making_dataframe_test_db('test_table')"
      ],
      "metadata": {
        "id": "hV5hjTFOxuvO"
      },
      "execution_count": null,
      "outputs": []
    },
    {
      "cell_type": "code",
      "source": [
        "ecommerce_df = bw_class.bw_preprocessing(train_0)"
      ],
      "metadata": {
        "id": "DavuxQN2xvaj"
      },
      "execution_count": null,
      "outputs": []
    },
    {
      "cell_type": "code",
      "source": [
        "# rfm\n",
        "rfm_data = rfm_data(ecommerce_df)\n",
        "rfm_pipeline = RFMClusteringPipeline()\n",
        "rfm_scaled = rfm_pipeline.fit_transform(rfm_data)\n",
        "rfm_data['Cluster'] = rfm_pipeline.fit_kmeans(method='silhouette')"
      ],
      "metadata": {
        "id": "cGivPyANzGX1"
      },
      "execution_count": null,
      "outputs": []
    },
    {
      "cell_type": "code",
      "source": [
        "ecommerce_df = add_cluster(ecommerce_df, rfm_data, on='고객ID')\n",
        "ecommerce_df"
      ],
      "metadata": {
        "id": "E2tGwImgzF1Q"
      },
      "execution_count": null,
      "outputs": []
    },
    {
      "cell_type": "code",
      "source": [
        "# data split\n",
        "out = hi_auto_arima.auto_arima_pipeline.split_data_by_cluster(ecommerce_df)\n",
        "train, test = hi_auto_arima.auto_arima_pipeline.create_train_test_by_cluster(ecommerce_df, out)"
      ],
      "metadata": {
        "id": "CGGv45wKzXgy"
      },
      "execution_count": null,
      "outputs": []
    },
    {
      "cell_type": "code",
      "source": [
        "# AutoArimaPipeline 객체 생성\n",
        "auto_arima_pipeline = hi_auto_arima.AutoArimaPipeline()\n",
        "\n",
        "# 모델 피팅\n",
        "auto_arima_pipeline.fit(train)\n",
        "\n",
        "# 예측 수행\n",
        "predictions = auto_arima_pipeline.predict(test)\n",
        "\n",
        "# 결과 출력\n",
        "for i, prediction in enumerate(predictions):\n",
        "    print(f\"Predictions for Cluster {i}:\")\n",
        "    print(prediction)"
      ],
      "metadata": {
        "id": "wgY9atAWzLaF"
      },
      "execution_count": null,
      "outputs": []
    }
  ]
}