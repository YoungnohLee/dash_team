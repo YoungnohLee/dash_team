{
 "cells": [
  {
   "cell_type": "code",
   "execution_count": 1,
   "id": "90509226-5dbf-41d4-b752-d83ce28492be",
   "metadata": {},
   "outputs": [],
   "source": [
    "\n",
    "import seaborn as sns\n",
    "import csv\n",
    "import sqlite3\n",
    "import math\n",
    "import matplotlib.pyplot as plt\n",
    "import pickle as pkl\n",
    "import pandas as pd\n",
    "import numpy as np\n",
    "from sklearn.cluster import KMeans\n",
    "from datetime import datetime\n",
    "from sklearn.metrics import silhouette_score, silhouette_samples\n",
    "import matplotlib.cm as cm\n",
    "from sklearn.preprocessing import StandardScaler\n",
    "from sklearn.ensemble import RandomForestClassifier\n",
    "import bw_class\n",
    "import sy_class\n",
    "import sy_database"
   ]
  },
  {
   "cell_type": "code",
   "execution_count": 2,
   "id": "64ad9dc7-e018-43de-9a35-fb9b2a78a74c",
   "metadata": {},
   "outputs": [],
   "source": [
    "train_df = pd.read_csv(\"./train.csv\")\n",
    "val_df = pd.read_csv(\"./val.csv\")\n",
    "test_df = pd.read_csv(\"./test.csv\")"
   ]
  },
  {
   "cell_type": "code",
   "execution_count": 3,
   "id": "7502328a",
   "metadata": {},
   "outputs": [],
   "source": [
    "# 추가 변수 생성된 df\n",
    "def process_and_merge_data(df_name, bw_class):\n",
    "    # Preprocessing with bw_class.bw_preprocessing\n",
    "    pre = bw_class.bw_preprocessing(df_name)\n",
    "    pre.apply_my_function()\n",
    "    pre_df = pre.return_dataframe()\n",
    "\n",
    "    # Processing with RFMProcessor\n",
    "    processor = bw_class.RFMProcessor(df_name)\n",
    "    rfm_without_outliers, rfm_outliers, rfm_without_outliers_log, X_scaled = processor.process_data()\n",
    "    processor.fit_clustering(X_scaled, n_clusters=4)\n",
    "    new_data_predictions = processor.predict(df_name)\n",
    "\n",
    "    # Mapping cluster data\n",
    "    cluster_data = bw_class.mapping_cluster(new_data_predictions)\n",
    "    cluster = cluster_data[['고객ID', '고객분류']]\n",
    "    \n",
    "    # Merging processed data\n",
    "    final = pre_df.merge(cluster, on='고객ID', how='left')\n",
    "\n",
    "    return final\n"
   ]
  },
  {
   "cell_type": "code",
   "execution_count": 4,
   "id": "84b19bf8",
   "metadata": {},
   "outputs": [],
   "source": [
    "train = process_and_merge_data(train_df, bw_class) \n",
    "val = process_and_merge_data(val_df, bw_class) \n",
    "test = process_and_merge_data(test_df, bw_class)"
   ]
  },
  {
   "cell_type": "code",
   "execution_count": 5,
   "id": "51858466",
   "metadata": {},
   "outputs": [
    {
     "name": "stdout",
     "output_type": "stream",
     "text": [
      "Database created at: ./sy_db.db\n",
      "Database path set to: ./sy_db.db\n",
      "\n",
      "\n",
      "Existing table 'train' dropped, and new table is created\n",
      "\n",
      "\n",
      "Existing table 'val' dropped, and new table is created\n",
      "\n",
      "\n",
      "Existing table 'test' dropped, and new table is created\n"
     ]
    }
   ],
   "source": [
    "# 전처리한 df를 db에 저장하기\n",
    "db_manager = sy_database.DatabaseManager()\n",
    "\n",
    "# Create new database\n",
    "db_manager.create_database('./sy_db.db')\n",
    "\n",
    "# sy_db에 table 만들기\n",
    "db_manager.create_new_table(train, 'train')\n",
    "db_manager.create_new_table(val, 'val')\n",
    "db_manager.create_new_table(test, 'test')\n",
    "\n",
    "# # train dataframe 만들기\n",
    "# train = db_manager.making_dataframe(\"train\")"
   ]
  },
  {
   "cell_type": "code",
   "execution_count": 6,
   "id": "bde14f5f-7085-4f3c-b3de-797b7c48d210",
   "metadata": {},
   "outputs": [
    {
     "name": "stdout",
     "output_type": "stream",
     "text": [
      "\n",
      "\n",
      "Existing table 'cohort' dropped, and new table is created\n"
     ]
    }
   ],
   "source": [
    "# 코호트 분석\n",
    "cohort_analysis = sy_class.CohortAnalysis(train)\n",
    "cohort = cohort_analysis.calculate_cohort()\n",
    "retention_matrix = cohort_analysis.calculate_retention_rate(cohort)\n",
    "\n",
    "# category df를 sy_db에 저장\n",
    "db_manager.create_new_table(cohort, 'cohort')\n"
   ]
  },
  {
   "cell_type": "code",
   "execution_count": 7,
   "id": "1ede175f-2a4b-44bf-beee-c3a7153e0921",
   "metadata": {},
   "outputs": [
    {
     "name": "stdout",
     "output_type": "stream",
     "text": [
      "\n",
      "\n",
      "Existing table 'category' dropped, and new table is created\n"
     ]
    }
   ],
   "source": [
    "# 카테고리별 재구매 그래프\n",
    "CategoryAnalysis = sy_class.CustomerCategoryAnalysis(train)\n",
    "CategoryAnalysis.calculate_repurchase_periods()\n",
    "category = CategoryAnalysis.create_category_dataframe()\n",
    "\n",
    "# category df를 sy_db에 저장\n",
    "db_manager.create_new_table(category, 'category')\n"
   ]
  },
  {
   "cell_type": "code",
   "execution_count": 8,
   "id": "2f160083",
   "metadata": {},
   "outputs": [
    {
     "data": {
      "application/vnd.plotly.v1+json": {
       "config": {
        "plotlyServerURL": "https://plot.ly"
       },
       "data": [
        {
         "alignmentgroup": "True",
         "hovertemplate": "제품카테고리=%{y}<br>평균 재구매 주기(일)=%{x}<br>text=%{text}<extra></extra>",
         "legendgroup": "Accessories",
         "marker": {
          "color": "#636efa",
          "pattern": {
           "shape": ""
          }
         },
         "name": "Accessories",
         "offsetgroup": "Accessories",
         "orientation": "h",
         "showlegend": true,
         "text": [
          "1.000"
         ],
         "textposition": "auto",
         "type": "bar",
         "x": [
          13.541666666666666
         ],
         "xaxis": "x",
         "y": [
          "Accessories"
         ],
         "yaxis": "y"
        },
        {
         "alignmentgroup": "True",
         "hovertemplate": "제품카테고리=%{y}<br>평균 재구매 주기(일)=%{x}<br>text=%{text}<extra></extra>",
         "legendgroup": "Android",
         "marker": {
          "color": "#EF553B",
          "pattern": {
           "shape": ""
          }
         },
         "name": "Android",
         "offsetgroup": "Android",
         "orientation": "h",
         "showlegend": true,
         "text": [
          "1.000"
         ],
         "textposition": "auto",
         "type": "bar",
         "x": [
          40
         ],
         "xaxis": "x",
         "y": [
          "Android"
         ],
         "yaxis": "y"
        },
        {
         "alignmentgroup": "True",
         "hovertemplate": "제품카테고리=%{y}<br>평균 재구매 주기(일)=%{x}<br>text=%{text}<extra></extra>",
         "legendgroup": "Apparel",
         "marker": {
          "color": "#00cc96",
          "pattern": {
           "shape": ""
          }
         },
         "name": "Apparel",
         "offsetgroup": "Apparel",
         "orientation": "h",
         "showlegend": true,
         "text": [
          "0.512"
         ],
         "textposition": "auto",
         "type": "bar",
         "x": [
          3.5173784184292067
         ],
         "xaxis": "x",
         "y": [
          "Apparel"
         ],
         "yaxis": "y"
        },
        {
         "alignmentgroup": "True",
         "hovertemplate": "제품카테고리=%{y}<br>평균 재구매 주기(일)=%{x}<br>text=%{text}<extra></extra>",
         "legendgroup": "Backpacks",
         "marker": {
          "color": "#ab63fa",
          "pattern": {
           "shape": ""
          }
         },
         "name": "Backpacks",
         "offsetgroup": "Backpacks",
         "orientation": "h",
         "showlegend": true,
         "text": [
          "0.800"
         ],
         "textposition": "auto",
         "type": "bar",
         "x": [
          12.357142857142858
         ],
         "xaxis": "x",
         "y": [
          "Backpacks"
         ],
         "yaxis": "y"
        },
        {
         "alignmentgroup": "True",
         "hovertemplate": "제품카테고리=%{y}<br>평균 재구매 주기(일)=%{x}<br>text=%{text}<extra></extra>",
         "legendgroup": "Bags",
         "marker": {
          "color": "#FFA15A",
          "pattern": {
           "shape": ""
          }
         },
         "name": "Bags",
         "offsetgroup": "Bags",
         "orientation": "h",
         "showlegend": true,
         "text": [
          "0.566"
         ],
         "textposition": "auto",
         "type": "bar",
         "x": [
          16.4775390625
         ],
         "xaxis": "x",
         "y": [
          "Bags"
         ],
         "yaxis": "y"
        },
        {
         "alignmentgroup": "True",
         "hovertemplate": "제품카테고리=%{y}<br>평균 재구매 주기(일)=%{x}<br>text=%{text}<extra></extra>",
         "legendgroup": "Bottles",
         "marker": {
          "color": "#19d3f3",
          "pattern": {
           "shape": ""
          }
         },
         "name": "Bottles",
         "offsetgroup": "Bottles",
         "orientation": "h",
         "showlegend": true,
         "text": [
          "0.750"
         ],
         "textposition": "auto",
         "type": "bar",
         "x": [
          34.90769230769231
         ],
         "xaxis": "x",
         "y": [
          "Bottles"
         ],
         "yaxis": "y"
        },
        {
         "alignmentgroup": "True",
         "hovertemplate": "제품카테고리=%{y}<br>평균 재구매 주기(일)=%{x}<br>text=%{text}<extra></extra>",
         "legendgroup": "Drinkware",
         "marker": {
          "color": "#FF6692",
          "pattern": {
           "shape": ""
          }
         },
         "name": "Drinkware",
         "offsetgroup": "Drinkware",
         "orientation": "h",
         "showlegend": true,
         "text": [
          "0.564"
         ],
         "textposition": "auto",
         "type": "bar",
         "x": [
          11.3656330749354
         ],
         "xaxis": "x",
         "y": [
          "Drinkware"
         ],
         "yaxis": "y"
        },
        {
         "alignmentgroup": "True",
         "hovertemplate": "제품카테고리=%{y}<br>평균 재구매 주기(일)=%{x}<br>text=%{text}<extra></extra>",
         "legendgroup": "Fun",
         "marker": {
          "color": "#B6E880",
          "pattern": {
           "shape": ""
          }
         },
         "name": "Fun",
         "offsetgroup": "Fun",
         "orientation": "h",
         "showlegend": true,
         "text": [
          "0.684"
         ],
         "textposition": "auto",
         "type": "bar",
         "x": [
          29.404761904761905
         ],
         "xaxis": "x",
         "y": [
          "Fun"
         ],
         "yaxis": "y"
        },
        {
         "alignmentgroup": "True",
         "hovertemplate": "제품카테고리=%{y}<br>평균 재구매 주기(일)=%{x}<br>text=%{text}<extra></extra>",
         "legendgroup": "Gift Cards",
         "marker": {
          "color": "#FF97FF",
          "pattern": {
           "shape": ""
          }
         },
         "name": "Gift Cards",
         "offsetgroup": "Gift Cards",
         "orientation": "h",
         "showlegend": true,
         "text": [
          "1.000"
         ],
         "textposition": "auto",
         "type": "bar",
         "x": [
          0.8375
         ],
         "xaxis": "x",
         "y": [
          "Gift Cards"
         ],
         "yaxis": "y"
        },
        {
         "alignmentgroup": "True",
         "hovertemplate": "제품카테고리=%{y}<br>평균 재구매 주기(일)=%{x}<br>text=%{text}<extra></extra>",
         "legendgroup": "Google",
         "marker": {
          "color": "#FECB52",
          "pattern": {
           "shape": ""
          }
         },
         "name": "Google",
         "offsetgroup": "Google",
         "orientation": "h",
         "showlegend": true,
         "text": [
          "0.625"
         ],
         "textposition": "auto",
         "type": "bar",
         "x": [
          25.1875
         ],
         "xaxis": "x",
         "y": [
          "Google"
         ],
         "yaxis": "y"
        },
        {
         "alignmentgroup": "True",
         "hovertemplate": "제품카테고리=%{y}<br>평균 재구매 주기(일)=%{x}<br>text=%{text}<extra></extra>",
         "legendgroup": "Headgear",
         "marker": {
          "color": "#636efa",
          "pattern": {
           "shape": ""
          }
         },
         "name": "Headgear",
         "offsetgroup": "Headgear",
         "orientation": "h",
         "showlegend": true,
         "text": [
          "0.653"
         ],
         "textposition": "auto",
         "type": "bar",
         "x": [
          25.55483870967742
         ],
         "xaxis": "x",
         "y": [
          "Headgear"
         ],
         "yaxis": "y"
        },
        {
         "alignmentgroup": "True",
         "hovertemplate": "제품카테고리=%{y}<br>평균 재구매 주기(일)=%{x}<br>text=%{text}<extra></extra>",
         "legendgroup": "Housewares",
         "marker": {
          "color": "#EF553B",
          "pattern": {
           "shape": ""
          }
         },
         "name": "Housewares",
         "offsetgroup": "Housewares",
         "orientation": "h",
         "showlegend": true,
         "text": [
          "0.833"
         ],
         "textposition": "auto",
         "type": "bar",
         "x": [
          41.53333333333333
         ],
         "xaxis": "x",
         "y": [
          "Housewares"
         ],
         "yaxis": "y"
        },
        {
         "alignmentgroup": "True",
         "hovertemplate": "제품카테고리=%{y}<br>평균 재구매 주기(일)=%{x}<br>text=%{text}<extra></extra>",
         "legendgroup": "Lifestyle",
         "marker": {
          "color": "#00cc96",
          "pattern": {
           "shape": ""
          }
         },
         "name": "Lifestyle",
         "offsetgroup": "Lifestyle",
         "orientation": "h",
         "showlegend": true,
         "text": [
          "0.584"
         ],
         "textposition": "auto",
         "type": "bar",
         "x": [
          10.873894834806887
         ],
         "xaxis": "x",
         "y": [
          "Lifestyle"
         ],
         "yaxis": "y"
        },
        {
         "alignmentgroup": "True",
         "hovertemplate": "제품카테고리=%{y}<br>평균 재구매 주기(일)=%{x}<br>text=%{text}<extra></extra>",
         "legendgroup": "Nest",
         "marker": {
          "color": "#ab63fa",
          "pattern": {
           "shape": ""
          }
         },
         "name": "Nest",
         "offsetgroup": "Nest",
         "orientation": "h",
         "showlegend": true,
         "text": [
          "0.655"
         ],
         "textposition": "auto",
         "type": "bar",
         "x": [
          1.4115586690017514
         ],
         "xaxis": "x",
         "y": [
          "Nest"
         ],
         "yaxis": "y"
        },
        {
         "alignmentgroup": "True",
         "hovertemplate": "제품카테고리=%{y}<br>평균 재구매 주기(일)=%{x}<br>text=%{text}<extra></extra>",
         "legendgroup": "Nest-Canada",
         "marker": {
          "color": "#FFA15A",
          "pattern": {
           "shape": ""
          }
         },
         "name": "Nest-Canada",
         "offsetgroup": "Nest-Canada",
         "orientation": "h",
         "showlegend": true,
         "text": [
          "0.864"
         ],
         "textposition": "auto",
         "type": "bar",
         "x": [
          19.711340206185568
         ],
         "xaxis": "x",
         "y": [
          "Nest-Canada"
         ],
         "yaxis": "y"
        },
        {
         "alignmentgroup": "True",
         "hovertemplate": "제품카테고리=%{y}<br>평균 재구매 주기(일)=%{x}<br>text=%{text}<extra></extra>",
         "legendgroup": "Nest-USA",
         "marker": {
          "color": "#19d3f3",
          "pattern": {
           "shape": ""
          }
         },
         "name": "Nest-USA",
         "offsetgroup": "Nest-USA",
         "orientation": "h",
         "showlegend": true,
         "text": [
          "0.515"
         ],
         "textposition": "auto",
         "type": "bar",
         "x": [
          4.758779851495083
         ],
         "xaxis": "x",
         "y": [
          "Nest-USA"
         ],
         "yaxis": "y"
        },
        {
         "alignmentgroup": "True",
         "hovertemplate": "제품카테고리=%{y}<br>평균 재구매 주기(일)=%{x}<br>text=%{text}<extra></extra>",
         "legendgroup": "Notebooks & Journals",
         "marker": {
          "color": "#FF6692",
          "pattern": {
           "shape": ""
          }
         },
         "name": "Notebooks & Journals",
         "offsetgroup": "Notebooks & Journals",
         "orientation": "h",
         "showlegend": true,
         "text": [
          "0.714"
         ],
         "textposition": "auto",
         "type": "bar",
         "x": [
          16.229916897506925
         ],
         "xaxis": "x",
         "y": [
          "Notebooks & Journals"
         ],
         "yaxis": "y"
        },
        {
         "alignmentgroup": "True",
         "hovertemplate": "제품카테고리=%{y}<br>평균 재구매 주기(일)=%{x}<br>text=%{text}<extra></extra>",
         "legendgroup": "Office",
         "marker": {
          "color": "#B6E880",
          "pattern": {
           "shape": ""
          }
         },
         "name": "Office",
         "offsetgroup": "Office",
         "orientation": "h",
         "showlegend": true,
         "text": [
          "0.553"
         ],
         "textposition": "auto",
         "type": "bar",
         "x": [
          7.9509360877985795
         ],
         "xaxis": "x",
         "y": [
          "Office"
         ],
         "yaxis": "y"
        },
        {
         "alignmentgroup": "True",
         "hovertemplate": "제품카테고리=%{y}<br>평균 재구매 주기(일)=%{x}<br>text=%{text}<extra></extra>",
         "legendgroup": "Waze",
         "marker": {
          "color": "#FF97FF",
          "pattern": {
           "shape": ""
          }
         },
         "name": "Waze",
         "offsetgroup": "Waze",
         "orientation": "h",
         "showlegend": true,
         "text": [
          "0.717"
         ],
         "textposition": "auto",
         "type": "bar",
         "x": [
          13.449197860962567
         ],
         "xaxis": "x",
         "y": [
          "Waze"
         ],
         "yaxis": "y"
        }
       ],
       "layout": {
        "barmode": "relative",
        "legend": {
         "title": {
          "text": "제품카테고리"
         },
         "tracegroupgap": 0
        },
        "template": {
         "data": {
          "bar": [
           {
            "error_x": {
             "color": "#2a3f5f"
            },
            "error_y": {
             "color": "#2a3f5f"
            },
            "marker": {
             "line": {
              "color": "#E5ECF6",
              "width": 0.5
             },
             "pattern": {
              "fillmode": "overlay",
              "size": 10,
              "solidity": 0.2
             }
            },
            "type": "bar"
           }
          ],
          "barpolar": [
           {
            "marker": {
             "line": {
              "color": "#E5ECF6",
              "width": 0.5
             },
             "pattern": {
              "fillmode": "overlay",
              "size": 10,
              "solidity": 0.2
             }
            },
            "type": "barpolar"
           }
          ],
          "carpet": [
           {
            "aaxis": {
             "endlinecolor": "#2a3f5f",
             "gridcolor": "white",
             "linecolor": "white",
             "minorgridcolor": "white",
             "startlinecolor": "#2a3f5f"
            },
            "baxis": {
             "endlinecolor": "#2a3f5f",
             "gridcolor": "white",
             "linecolor": "white",
             "minorgridcolor": "white",
             "startlinecolor": "#2a3f5f"
            },
            "type": "carpet"
           }
          ],
          "choropleth": [
           {
            "colorbar": {
             "outlinewidth": 0,
             "ticks": ""
            },
            "type": "choropleth"
           }
          ],
          "contour": [
           {
            "colorbar": {
             "outlinewidth": 0,
             "ticks": ""
            },
            "colorscale": [
             [
              0,
              "#0d0887"
             ],
             [
              0.1111111111111111,
              "#46039f"
             ],
             [
              0.2222222222222222,
              "#7201a8"
             ],
             [
              0.3333333333333333,
              "#9c179e"
             ],
             [
              0.4444444444444444,
              "#bd3786"
             ],
             [
              0.5555555555555556,
              "#d8576b"
             ],
             [
              0.6666666666666666,
              "#ed7953"
             ],
             [
              0.7777777777777778,
              "#fb9f3a"
             ],
             [
              0.8888888888888888,
              "#fdca26"
             ],
             [
              1,
              "#f0f921"
             ]
            ],
            "type": "contour"
           }
          ],
          "contourcarpet": [
           {
            "colorbar": {
             "outlinewidth": 0,
             "ticks": ""
            },
            "type": "contourcarpet"
           }
          ],
          "heatmap": [
           {
            "colorbar": {
             "outlinewidth": 0,
             "ticks": ""
            },
            "colorscale": [
             [
              0,
              "#0d0887"
             ],
             [
              0.1111111111111111,
              "#46039f"
             ],
             [
              0.2222222222222222,
              "#7201a8"
             ],
             [
              0.3333333333333333,
              "#9c179e"
             ],
             [
              0.4444444444444444,
              "#bd3786"
             ],
             [
              0.5555555555555556,
              "#d8576b"
             ],
             [
              0.6666666666666666,
              "#ed7953"
             ],
             [
              0.7777777777777778,
              "#fb9f3a"
             ],
             [
              0.8888888888888888,
              "#fdca26"
             ],
             [
              1,
              "#f0f921"
             ]
            ],
            "type": "heatmap"
           }
          ],
          "heatmapgl": [
           {
            "colorbar": {
             "outlinewidth": 0,
             "ticks": ""
            },
            "colorscale": [
             [
              0,
              "#0d0887"
             ],
             [
              0.1111111111111111,
              "#46039f"
             ],
             [
              0.2222222222222222,
              "#7201a8"
             ],
             [
              0.3333333333333333,
              "#9c179e"
             ],
             [
              0.4444444444444444,
              "#bd3786"
             ],
             [
              0.5555555555555556,
              "#d8576b"
             ],
             [
              0.6666666666666666,
              "#ed7953"
             ],
             [
              0.7777777777777778,
              "#fb9f3a"
             ],
             [
              0.8888888888888888,
              "#fdca26"
             ],
             [
              1,
              "#f0f921"
             ]
            ],
            "type": "heatmapgl"
           }
          ],
          "histogram": [
           {
            "marker": {
             "pattern": {
              "fillmode": "overlay",
              "size": 10,
              "solidity": 0.2
             }
            },
            "type": "histogram"
           }
          ],
          "histogram2d": [
           {
            "colorbar": {
             "outlinewidth": 0,
             "ticks": ""
            },
            "colorscale": [
             [
              0,
              "#0d0887"
             ],
             [
              0.1111111111111111,
              "#46039f"
             ],
             [
              0.2222222222222222,
              "#7201a8"
             ],
             [
              0.3333333333333333,
              "#9c179e"
             ],
             [
              0.4444444444444444,
              "#bd3786"
             ],
             [
              0.5555555555555556,
              "#d8576b"
             ],
             [
              0.6666666666666666,
              "#ed7953"
             ],
             [
              0.7777777777777778,
              "#fb9f3a"
             ],
             [
              0.8888888888888888,
              "#fdca26"
             ],
             [
              1,
              "#f0f921"
             ]
            ],
            "type": "histogram2d"
           }
          ],
          "histogram2dcontour": [
           {
            "colorbar": {
             "outlinewidth": 0,
             "ticks": ""
            },
            "colorscale": [
             [
              0,
              "#0d0887"
             ],
             [
              0.1111111111111111,
              "#46039f"
             ],
             [
              0.2222222222222222,
              "#7201a8"
             ],
             [
              0.3333333333333333,
              "#9c179e"
             ],
             [
              0.4444444444444444,
              "#bd3786"
             ],
             [
              0.5555555555555556,
              "#d8576b"
             ],
             [
              0.6666666666666666,
              "#ed7953"
             ],
             [
              0.7777777777777778,
              "#fb9f3a"
             ],
             [
              0.8888888888888888,
              "#fdca26"
             ],
             [
              1,
              "#f0f921"
             ]
            ],
            "type": "histogram2dcontour"
           }
          ],
          "mesh3d": [
           {
            "colorbar": {
             "outlinewidth": 0,
             "ticks": ""
            },
            "type": "mesh3d"
           }
          ],
          "parcoords": [
           {
            "line": {
             "colorbar": {
              "outlinewidth": 0,
              "ticks": ""
             }
            },
            "type": "parcoords"
           }
          ],
          "pie": [
           {
            "automargin": true,
            "type": "pie"
           }
          ],
          "scatter": [
           {
            "fillpattern": {
             "fillmode": "overlay",
             "size": 10,
             "solidity": 0.2
            },
            "type": "scatter"
           }
          ],
          "scatter3d": [
           {
            "line": {
             "colorbar": {
              "outlinewidth": 0,
              "ticks": ""
             }
            },
            "marker": {
             "colorbar": {
              "outlinewidth": 0,
              "ticks": ""
             }
            },
            "type": "scatter3d"
           }
          ],
          "scattercarpet": [
           {
            "marker": {
             "colorbar": {
              "outlinewidth": 0,
              "ticks": ""
             }
            },
            "type": "scattercarpet"
           }
          ],
          "scattergeo": [
           {
            "marker": {
             "colorbar": {
              "outlinewidth": 0,
              "ticks": ""
             }
            },
            "type": "scattergeo"
           }
          ],
          "scattergl": [
           {
            "marker": {
             "colorbar": {
              "outlinewidth": 0,
              "ticks": ""
             }
            },
            "type": "scattergl"
           }
          ],
          "scattermapbox": [
           {
            "marker": {
             "colorbar": {
              "outlinewidth": 0,
              "ticks": ""
             }
            },
            "type": "scattermapbox"
           }
          ],
          "scatterpolar": [
           {
            "marker": {
             "colorbar": {
              "outlinewidth": 0,
              "ticks": ""
             }
            },
            "type": "scatterpolar"
           }
          ],
          "scatterpolargl": [
           {
            "marker": {
             "colorbar": {
              "outlinewidth": 0,
              "ticks": ""
             }
            },
            "type": "scatterpolargl"
           }
          ],
          "scatterternary": [
           {
            "marker": {
             "colorbar": {
              "outlinewidth": 0,
              "ticks": ""
             }
            },
            "type": "scatterternary"
           }
          ],
          "surface": [
           {
            "colorbar": {
             "outlinewidth": 0,
             "ticks": ""
            },
            "colorscale": [
             [
              0,
              "#0d0887"
             ],
             [
              0.1111111111111111,
              "#46039f"
             ],
             [
              0.2222222222222222,
              "#7201a8"
             ],
             [
              0.3333333333333333,
              "#9c179e"
             ],
             [
              0.4444444444444444,
              "#bd3786"
             ],
             [
              0.5555555555555556,
              "#d8576b"
             ],
             [
              0.6666666666666666,
              "#ed7953"
             ],
             [
              0.7777777777777778,
              "#fb9f3a"
             ],
             [
              0.8888888888888888,
              "#fdca26"
             ],
             [
              1,
              "#f0f921"
             ]
            ],
            "type": "surface"
           }
          ],
          "table": [
           {
            "cells": {
             "fill": {
              "color": "#EBF0F8"
             },
             "line": {
              "color": "white"
             }
            },
            "header": {
             "fill": {
              "color": "#C8D4E3"
             },
             "line": {
              "color": "white"
             }
            },
            "type": "table"
           }
          ]
         },
         "layout": {
          "annotationdefaults": {
           "arrowcolor": "#2a3f5f",
           "arrowhead": 0,
           "arrowwidth": 1
          },
          "autotypenumbers": "strict",
          "coloraxis": {
           "colorbar": {
            "outlinewidth": 0,
            "ticks": ""
           }
          },
          "colorscale": {
           "diverging": [
            [
             0,
             "#8e0152"
            ],
            [
             0.1,
             "#c51b7d"
            ],
            [
             0.2,
             "#de77ae"
            ],
            [
             0.3,
             "#f1b6da"
            ],
            [
             0.4,
             "#fde0ef"
            ],
            [
             0.5,
             "#f7f7f7"
            ],
            [
             0.6,
             "#e6f5d0"
            ],
            [
             0.7,
             "#b8e186"
            ],
            [
             0.8,
             "#7fbc41"
            ],
            [
             0.9,
             "#4d9221"
            ],
            [
             1,
             "#276419"
            ]
           ],
           "sequential": [
            [
             0,
             "#0d0887"
            ],
            [
             0.1111111111111111,
             "#46039f"
            ],
            [
             0.2222222222222222,
             "#7201a8"
            ],
            [
             0.3333333333333333,
             "#9c179e"
            ],
            [
             0.4444444444444444,
             "#bd3786"
            ],
            [
             0.5555555555555556,
             "#d8576b"
            ],
            [
             0.6666666666666666,
             "#ed7953"
            ],
            [
             0.7777777777777778,
             "#fb9f3a"
            ],
            [
             0.8888888888888888,
             "#fdca26"
            ],
            [
             1,
             "#f0f921"
            ]
           ],
           "sequentialminus": [
            [
             0,
             "#0d0887"
            ],
            [
             0.1111111111111111,
             "#46039f"
            ],
            [
             0.2222222222222222,
             "#7201a8"
            ],
            [
             0.3333333333333333,
             "#9c179e"
            ],
            [
             0.4444444444444444,
             "#bd3786"
            ],
            [
             0.5555555555555556,
             "#d8576b"
            ],
            [
             0.6666666666666666,
             "#ed7953"
            ],
            [
             0.7777777777777778,
             "#fb9f3a"
            ],
            [
             0.8888888888888888,
             "#fdca26"
            ],
            [
             1,
             "#f0f921"
            ]
           ]
          },
          "colorway": [
           "#636efa",
           "#EF553B",
           "#00cc96",
           "#ab63fa",
           "#FFA15A",
           "#19d3f3",
           "#FF6692",
           "#B6E880",
           "#FF97FF",
           "#FECB52"
          ],
          "font": {
           "color": "#2a3f5f"
          },
          "geo": {
           "bgcolor": "white",
           "lakecolor": "white",
           "landcolor": "#E5ECF6",
           "showlakes": true,
           "showland": true,
           "subunitcolor": "white"
          },
          "hoverlabel": {
           "align": "left"
          },
          "hovermode": "closest",
          "mapbox": {
           "style": "light"
          },
          "paper_bgcolor": "white",
          "plot_bgcolor": "#E5ECF6",
          "polar": {
           "angularaxis": {
            "gridcolor": "white",
            "linecolor": "white",
            "ticks": ""
           },
           "bgcolor": "#E5ECF6",
           "radialaxis": {
            "gridcolor": "white",
            "linecolor": "white",
            "ticks": ""
           }
          },
          "scene": {
           "xaxis": {
            "backgroundcolor": "#E5ECF6",
            "gridcolor": "white",
            "gridwidth": 2,
            "linecolor": "white",
            "showbackground": true,
            "ticks": "",
            "zerolinecolor": "white"
           },
           "yaxis": {
            "backgroundcolor": "#E5ECF6",
            "gridcolor": "white",
            "gridwidth": 2,
            "linecolor": "white",
            "showbackground": true,
            "ticks": "",
            "zerolinecolor": "white"
           },
           "zaxis": {
            "backgroundcolor": "#E5ECF6",
            "gridcolor": "white",
            "gridwidth": 2,
            "linecolor": "white",
            "showbackground": true,
            "ticks": "",
            "zerolinecolor": "white"
           }
          },
          "shapedefaults": {
           "line": {
            "color": "#2a3f5f"
           }
          },
          "ternary": {
           "aaxis": {
            "gridcolor": "white",
            "linecolor": "white",
            "ticks": ""
           },
           "baxis": {
            "gridcolor": "white",
            "linecolor": "white",
            "ticks": ""
           },
           "bgcolor": "#E5ECF6",
           "caxis": {
            "gridcolor": "white",
            "linecolor": "white",
            "ticks": ""
           }
          },
          "title": {
           "x": 0.05
          },
          "xaxis": {
           "automargin": true,
           "gridcolor": "white",
           "linecolor": "white",
           "ticks": "",
           "title": {
            "standoff": 15
           },
           "zerolinecolor": "white",
           "zerolinewidth": 2
          },
          "yaxis": {
           "automargin": true,
           "gridcolor": "white",
           "linecolor": "white",
           "ticks": "",
           "title": {
            "standoff": 15
           },
           "zerolinecolor": "white",
           "zerolinewidth": 2
          }
         }
        },
        "title": {
         "text": "제품 카테고리별 평균 재구매 주기(일)"
        },
        "xaxis": {
         "anchor": "y",
         "domain": [
          0,
          1
         ],
         "title": {
          "text": "평균 재구매 주기(일)"
         }
        },
        "yaxis": {
         "anchor": "x",
         "categoryarray": [
          "Waze",
          "Office",
          "Notebooks & Journals",
          "Nest-USA",
          "Nest-Canada",
          "Nest",
          "Lifestyle",
          "Housewares",
          "Headgear",
          "Google",
          "Gift Cards",
          "Fun",
          "Drinkware",
          "Bottles",
          "Bags",
          "Backpacks",
          "Apparel",
          "Android",
          "Accessories"
         ],
         "categoryorder": "array",
         "domain": [
          0,
          1
         ],
         "title": {
          "text": "제품카테고리"
         }
        }
       }
      }
     },
     "metadata": {},
     "output_type": "display_data"
    }
   ],
   "source": [
    "CategoryAnalysis.visualize_repurchase_periods('평균 재구매 주기(일)', category)"
   ]
  },
  {
   "cell_type": "code",
   "execution_count": 9,
   "id": "3dd8fa1f",
   "metadata": {},
   "outputs": [
    {
     "data": {
      "application/vnd.plotly.v1+json": {
       "config": {
        "plotlyServerURL": "https://plot.ly"
       },
       "data": [
        {
         "alignmentgroup": "True",
         "hovertemplate": "제품카테고리=%{y}<br>재구매율=%{x}<br>text=%{text}<extra></extra>",
         "legendgroup": "Accessories",
         "marker": {
          "color": "#636efa",
          "pattern": {
           "shape": ""
          }
         },
         "name": "Accessories",
         "offsetgroup": "Accessories",
         "orientation": "h",
         "showlegend": true,
         "text": [
          "1.000"
         ],
         "textposition": "auto",
         "type": "bar",
         "x": [
          1
         ],
         "xaxis": "x",
         "y": [
          "Accessories"
         ],
         "yaxis": "y"
        },
        {
         "alignmentgroup": "True",
         "hovertemplate": "제품카테고리=%{y}<br>재구매율=%{x}<br>text=%{text}<extra></extra>",
         "legendgroup": "Android",
         "marker": {
          "color": "#EF553B",
          "pattern": {
           "shape": ""
          }
         },
         "name": "Android",
         "offsetgroup": "Android",
         "orientation": "h",
         "showlegend": true,
         "text": [
          "1.000"
         ],
         "textposition": "auto",
         "type": "bar",
         "x": [
          1
         ],
         "xaxis": "x",
         "y": [
          "Android"
         ],
         "yaxis": "y"
        },
        {
         "alignmentgroup": "True",
         "hovertemplate": "제품카테고리=%{y}<br>재구매율=%{x}<br>text=%{text}<extra></extra>",
         "legendgroup": "Apparel",
         "marker": {
          "color": "#00cc96",
          "pattern": {
           "shape": ""
          }
         },
         "name": "Apparel",
         "offsetgroup": "Apparel",
         "orientation": "h",
         "showlegend": true,
         "text": [
          "0.512"
         ],
         "textposition": "auto",
         "type": "bar",
         "x": [
          0.5122699386503068
         ],
         "xaxis": "x",
         "y": [
          "Apparel"
         ],
         "yaxis": "y"
        },
        {
         "alignmentgroup": "True",
         "hovertemplate": "제품카테고리=%{y}<br>재구매율=%{x}<br>text=%{text}<extra></extra>",
         "legendgroup": "Backpacks",
         "marker": {
          "color": "#ab63fa",
          "pattern": {
           "shape": ""
          }
         },
         "name": "Backpacks",
         "offsetgroup": "Backpacks",
         "orientation": "h",
         "showlegend": true,
         "text": [
          "0.800"
         ],
         "textposition": "auto",
         "type": "bar",
         "x": [
          0.8
         ],
         "xaxis": "x",
         "y": [
          "Backpacks"
         ],
         "yaxis": "y"
        },
        {
         "alignmentgroup": "True",
         "hovertemplate": "제품카테고리=%{y}<br>재구매율=%{x}<br>text=%{text}<extra></extra>",
         "legendgroup": "Bags",
         "marker": {
          "color": "#FFA15A",
          "pattern": {
           "shape": ""
          }
         },
         "name": "Bags",
         "offsetgroup": "Bags",
         "orientation": "h",
         "showlegend": true,
         "text": [
          "0.566"
         ],
         "textposition": "auto",
         "type": "bar",
         "x": [
          0.5655430711610487
         ],
         "xaxis": "x",
         "y": [
          "Bags"
         ],
         "yaxis": "y"
        },
        {
         "alignmentgroup": "True",
         "hovertemplate": "제품카테고리=%{y}<br>재구매율=%{x}<br>text=%{text}<extra></extra>",
         "legendgroup": "Bottles",
         "marker": {
          "color": "#19d3f3",
          "pattern": {
           "shape": ""
          }
         },
         "name": "Bottles",
         "offsetgroup": "Bottles",
         "orientation": "h",
         "showlegend": true,
         "text": [
          "0.750"
         ],
         "textposition": "auto",
         "type": "bar",
         "x": [
          0.75
         ],
         "xaxis": "x",
         "y": [
          "Bottles"
         ],
         "yaxis": "y"
        },
        {
         "alignmentgroup": "True",
         "hovertemplate": "제품카테고리=%{y}<br>재구매율=%{x}<br>text=%{text}<extra></extra>",
         "legendgroup": "Drinkware",
         "marker": {
          "color": "#FF6692",
          "pattern": {
           "shape": ""
          }
         },
         "name": "Drinkware",
         "offsetgroup": "Drinkware",
         "orientation": "h",
         "showlegend": true,
         "text": [
          "0.564"
         ],
         "textposition": "auto",
         "type": "bar",
         "x": [
          0.5642201834862385
         ],
         "xaxis": "x",
         "y": [
          "Drinkware"
         ],
         "yaxis": "y"
        },
        {
         "alignmentgroup": "True",
         "hovertemplate": "제품카테고리=%{y}<br>재구매율=%{x}<br>text=%{text}<extra></extra>",
         "legendgroup": "Fun",
         "marker": {
          "color": "#B6E880",
          "pattern": {
           "shape": ""
          }
         },
         "name": "Fun",
         "offsetgroup": "Fun",
         "orientation": "h",
         "showlegend": true,
         "text": [
          "0.684"
         ],
         "textposition": "auto",
         "type": "bar",
         "x": [
          0.6842105263157895
         ],
         "xaxis": "x",
         "y": [
          "Fun"
         ],
         "yaxis": "y"
        },
        {
         "alignmentgroup": "True",
         "hovertemplate": "제품카테고리=%{y}<br>재구매율=%{x}<br>text=%{text}<extra></extra>",
         "legendgroup": "Gift Cards",
         "marker": {
          "color": "#FF97FF",
          "pattern": {
           "shape": ""
          }
         },
         "name": "Gift Cards",
         "offsetgroup": "Gift Cards",
         "orientation": "h",
         "showlegend": true,
         "text": [
          "1.000"
         ],
         "textposition": "auto",
         "type": "bar",
         "x": [
          1
         ],
         "xaxis": "x",
         "y": [
          "Gift Cards"
         ],
         "yaxis": "y"
        },
        {
         "alignmentgroup": "True",
         "hovertemplate": "제품카테고리=%{y}<br>재구매율=%{x}<br>text=%{text}<extra></extra>",
         "legendgroup": "Google",
         "marker": {
          "color": "#FECB52",
          "pattern": {
           "shape": ""
          }
         },
         "name": "Google",
         "offsetgroup": "Google",
         "orientation": "h",
         "showlegend": true,
         "text": [
          "0.625"
         ],
         "textposition": "auto",
         "type": "bar",
         "x": [
          0.625
         ],
         "xaxis": "x",
         "y": [
          "Google"
         ],
         "yaxis": "y"
        },
        {
         "alignmentgroup": "True",
         "hovertemplate": "제품카테고리=%{y}<br>재구매율=%{x}<br>text=%{text}<extra></extra>",
         "legendgroup": "Headgear",
         "marker": {
          "color": "#636efa",
          "pattern": {
           "shape": ""
          }
         },
         "name": "Headgear",
         "offsetgroup": "Headgear",
         "orientation": "h",
         "showlegend": true,
         "text": [
          "0.653"
         ],
         "textposition": "auto",
         "type": "bar",
         "x": [
          0.6528925619834711
         ],
         "xaxis": "x",
         "y": [
          "Headgear"
         ],
         "yaxis": "y"
        },
        {
         "alignmentgroup": "True",
         "hovertemplate": "제품카테고리=%{y}<br>재구매율=%{x}<br>text=%{text}<extra></extra>",
         "legendgroup": "Housewares",
         "marker": {
          "color": "#EF553B",
          "pattern": {
           "shape": ""
          }
         },
         "name": "Housewares",
         "offsetgroup": "Housewares",
         "orientation": "h",
         "showlegend": true,
         "text": [
          "0.833"
         ],
         "textposition": "auto",
         "type": "bar",
         "x": [
          0.8333333333333334
         ],
         "xaxis": "x",
         "y": [
          "Housewares"
         ],
         "yaxis": "y"
        },
        {
         "alignmentgroup": "True",
         "hovertemplate": "제품카테고리=%{y}<br>재구매율=%{x}<br>text=%{text}<extra></extra>",
         "legendgroup": "Lifestyle",
         "marker": {
          "color": "#00cc96",
          "pattern": {
           "shape": ""
          }
         },
         "name": "Lifestyle",
         "offsetgroup": "Lifestyle",
         "orientation": "h",
         "showlegend": true,
         "text": [
          "0.584"
         ],
         "textposition": "auto",
         "type": "bar",
         "x": [
          0.5835694050991501
         ],
         "xaxis": "x",
         "y": [
          "Lifestyle"
         ],
         "yaxis": "y"
        },
        {
         "alignmentgroup": "True",
         "hovertemplate": "제품카테고리=%{y}<br>재구매율=%{x}<br>text=%{text}<extra></extra>",
         "legendgroup": "Nest",
         "marker": {
          "color": "#ab63fa",
          "pattern": {
           "shape": ""
          }
         },
         "name": "Nest",
         "offsetgroup": "Nest",
         "orientation": "h",
         "showlegend": true,
         "text": [
          "0.655"
         ],
         "textposition": "auto",
         "type": "bar",
         "x": [
          0.6545454545454545
         ],
         "xaxis": "x",
         "y": [
          "Nest"
         ],
         "yaxis": "y"
        },
        {
         "alignmentgroup": "True",
         "hovertemplate": "제품카테고리=%{y}<br>재구매율=%{x}<br>text=%{text}<extra></extra>",
         "legendgroup": "Nest-Canada",
         "marker": {
          "color": "#FFA15A",
          "pattern": {
           "shape": ""
          }
         },
         "name": "Nest-Canada",
         "offsetgroup": "Nest-Canada",
         "orientation": "h",
         "showlegend": true,
         "text": [
          "0.864"
         ],
         "textposition": "auto",
         "type": "bar",
         "x": [
          0.8636363636363636
         ],
         "xaxis": "x",
         "y": [
          "Nest-Canada"
         ],
         "yaxis": "y"
        },
        {
         "alignmentgroup": "True",
         "hovertemplate": "제품카테고리=%{y}<br>재구매율=%{x}<br>text=%{text}<extra></extra>",
         "legendgroup": "Nest-USA",
         "marker": {
          "color": "#19d3f3",
          "pattern": {
           "shape": ""
          }
         },
         "name": "Nest-USA",
         "offsetgroup": "Nest-USA",
         "orientation": "h",
         "showlegend": true,
         "text": [
          "0.515"
         ],
         "textposition": "auto",
         "type": "bar",
         "x": [
          0.5154994259471871
         ],
         "xaxis": "x",
         "y": [
          "Nest-USA"
         ],
         "yaxis": "y"
        },
        {
         "alignmentgroup": "True",
         "hovertemplate": "제품카테고리=%{y}<br>재구매율=%{x}<br>text=%{text}<extra></extra>",
         "legendgroup": "Notebooks & Journals",
         "marker": {
          "color": "#FF6692",
          "pattern": {
           "shape": ""
          }
         },
         "name": "Notebooks & Journals",
         "offsetgroup": "Notebooks & Journals",
         "orientation": "h",
         "showlegend": true,
         "text": [
          "0.714"
         ],
         "textposition": "auto",
         "type": "bar",
         "x": [
          0.7142857142857143
         ],
         "xaxis": "x",
         "y": [
          "Notebooks & Journals"
         ],
         "yaxis": "y"
        },
        {
         "alignmentgroup": "True",
         "hovertemplate": "제품카테고리=%{y}<br>재구매율=%{x}<br>text=%{text}<extra></extra>",
         "legendgroup": "Office",
         "marker": {
          "color": "#B6E880",
          "pattern": {
           "shape": ""
          }
         },
         "name": "Office",
         "offsetgroup": "Office",
         "orientation": "h",
         "showlegend": true,
         "text": [
          "0.553"
         ],
         "textposition": "auto",
         "type": "bar",
         "x": [
          0.5525876460767947
         ],
         "xaxis": "x",
         "y": [
          "Office"
         ],
         "yaxis": "y"
        },
        {
         "alignmentgroup": "True",
         "hovertemplate": "제품카테고리=%{y}<br>재구매율=%{x}<br>text=%{text}<extra></extra>",
         "legendgroup": "Waze",
         "marker": {
          "color": "#FF97FF",
          "pattern": {
           "shape": ""
          }
         },
         "name": "Waze",
         "offsetgroup": "Waze",
         "orientation": "h",
         "showlegend": true,
         "text": [
          "0.717"
         ],
         "textposition": "auto",
         "type": "bar",
         "x": [
          0.717391304347826
         ],
         "xaxis": "x",
         "y": [
          "Waze"
         ],
         "yaxis": "y"
        }
       ],
       "layout": {
        "barmode": "relative",
        "legend": {
         "title": {
          "text": "제품카테고리"
         },
         "tracegroupgap": 0
        },
        "template": {
         "data": {
          "bar": [
           {
            "error_x": {
             "color": "#2a3f5f"
            },
            "error_y": {
             "color": "#2a3f5f"
            },
            "marker": {
             "line": {
              "color": "#E5ECF6",
              "width": 0.5
             },
             "pattern": {
              "fillmode": "overlay",
              "size": 10,
              "solidity": 0.2
             }
            },
            "type": "bar"
           }
          ],
          "barpolar": [
           {
            "marker": {
             "line": {
              "color": "#E5ECF6",
              "width": 0.5
             },
             "pattern": {
              "fillmode": "overlay",
              "size": 10,
              "solidity": 0.2
             }
            },
            "type": "barpolar"
           }
          ],
          "carpet": [
           {
            "aaxis": {
             "endlinecolor": "#2a3f5f",
             "gridcolor": "white",
             "linecolor": "white",
             "minorgridcolor": "white",
             "startlinecolor": "#2a3f5f"
            },
            "baxis": {
             "endlinecolor": "#2a3f5f",
             "gridcolor": "white",
             "linecolor": "white",
             "minorgridcolor": "white",
             "startlinecolor": "#2a3f5f"
            },
            "type": "carpet"
           }
          ],
          "choropleth": [
           {
            "colorbar": {
             "outlinewidth": 0,
             "ticks": ""
            },
            "type": "choropleth"
           }
          ],
          "contour": [
           {
            "colorbar": {
             "outlinewidth": 0,
             "ticks": ""
            },
            "colorscale": [
             [
              0,
              "#0d0887"
             ],
             [
              0.1111111111111111,
              "#46039f"
             ],
             [
              0.2222222222222222,
              "#7201a8"
             ],
             [
              0.3333333333333333,
              "#9c179e"
             ],
             [
              0.4444444444444444,
              "#bd3786"
             ],
             [
              0.5555555555555556,
              "#d8576b"
             ],
             [
              0.6666666666666666,
              "#ed7953"
             ],
             [
              0.7777777777777778,
              "#fb9f3a"
             ],
             [
              0.8888888888888888,
              "#fdca26"
             ],
             [
              1,
              "#f0f921"
             ]
            ],
            "type": "contour"
           }
          ],
          "contourcarpet": [
           {
            "colorbar": {
             "outlinewidth": 0,
             "ticks": ""
            },
            "type": "contourcarpet"
           }
          ],
          "heatmap": [
           {
            "colorbar": {
             "outlinewidth": 0,
             "ticks": ""
            },
            "colorscale": [
             [
              0,
              "#0d0887"
             ],
             [
              0.1111111111111111,
              "#46039f"
             ],
             [
              0.2222222222222222,
              "#7201a8"
             ],
             [
              0.3333333333333333,
              "#9c179e"
             ],
             [
              0.4444444444444444,
              "#bd3786"
             ],
             [
              0.5555555555555556,
              "#d8576b"
             ],
             [
              0.6666666666666666,
              "#ed7953"
             ],
             [
              0.7777777777777778,
              "#fb9f3a"
             ],
             [
              0.8888888888888888,
              "#fdca26"
             ],
             [
              1,
              "#f0f921"
             ]
            ],
            "type": "heatmap"
           }
          ],
          "heatmapgl": [
           {
            "colorbar": {
             "outlinewidth": 0,
             "ticks": ""
            },
            "colorscale": [
             [
              0,
              "#0d0887"
             ],
             [
              0.1111111111111111,
              "#46039f"
             ],
             [
              0.2222222222222222,
              "#7201a8"
             ],
             [
              0.3333333333333333,
              "#9c179e"
             ],
             [
              0.4444444444444444,
              "#bd3786"
             ],
             [
              0.5555555555555556,
              "#d8576b"
             ],
             [
              0.6666666666666666,
              "#ed7953"
             ],
             [
              0.7777777777777778,
              "#fb9f3a"
             ],
             [
              0.8888888888888888,
              "#fdca26"
             ],
             [
              1,
              "#f0f921"
             ]
            ],
            "type": "heatmapgl"
           }
          ],
          "histogram": [
           {
            "marker": {
             "pattern": {
              "fillmode": "overlay",
              "size": 10,
              "solidity": 0.2
             }
            },
            "type": "histogram"
           }
          ],
          "histogram2d": [
           {
            "colorbar": {
             "outlinewidth": 0,
             "ticks": ""
            },
            "colorscale": [
             [
              0,
              "#0d0887"
             ],
             [
              0.1111111111111111,
              "#46039f"
             ],
             [
              0.2222222222222222,
              "#7201a8"
             ],
             [
              0.3333333333333333,
              "#9c179e"
             ],
             [
              0.4444444444444444,
              "#bd3786"
             ],
             [
              0.5555555555555556,
              "#d8576b"
             ],
             [
              0.6666666666666666,
              "#ed7953"
             ],
             [
              0.7777777777777778,
              "#fb9f3a"
             ],
             [
              0.8888888888888888,
              "#fdca26"
             ],
             [
              1,
              "#f0f921"
             ]
            ],
            "type": "histogram2d"
           }
          ],
          "histogram2dcontour": [
           {
            "colorbar": {
             "outlinewidth": 0,
             "ticks": ""
            },
            "colorscale": [
             [
              0,
              "#0d0887"
             ],
             [
              0.1111111111111111,
              "#46039f"
             ],
             [
              0.2222222222222222,
              "#7201a8"
             ],
             [
              0.3333333333333333,
              "#9c179e"
             ],
             [
              0.4444444444444444,
              "#bd3786"
             ],
             [
              0.5555555555555556,
              "#d8576b"
             ],
             [
              0.6666666666666666,
              "#ed7953"
             ],
             [
              0.7777777777777778,
              "#fb9f3a"
             ],
             [
              0.8888888888888888,
              "#fdca26"
             ],
             [
              1,
              "#f0f921"
             ]
            ],
            "type": "histogram2dcontour"
           }
          ],
          "mesh3d": [
           {
            "colorbar": {
             "outlinewidth": 0,
             "ticks": ""
            },
            "type": "mesh3d"
           }
          ],
          "parcoords": [
           {
            "line": {
             "colorbar": {
              "outlinewidth": 0,
              "ticks": ""
             }
            },
            "type": "parcoords"
           }
          ],
          "pie": [
           {
            "automargin": true,
            "type": "pie"
           }
          ],
          "scatter": [
           {
            "fillpattern": {
             "fillmode": "overlay",
             "size": 10,
             "solidity": 0.2
            },
            "type": "scatter"
           }
          ],
          "scatter3d": [
           {
            "line": {
             "colorbar": {
              "outlinewidth": 0,
              "ticks": ""
             }
            },
            "marker": {
             "colorbar": {
              "outlinewidth": 0,
              "ticks": ""
             }
            },
            "type": "scatter3d"
           }
          ],
          "scattercarpet": [
           {
            "marker": {
             "colorbar": {
              "outlinewidth": 0,
              "ticks": ""
             }
            },
            "type": "scattercarpet"
           }
          ],
          "scattergeo": [
           {
            "marker": {
             "colorbar": {
              "outlinewidth": 0,
              "ticks": ""
             }
            },
            "type": "scattergeo"
           }
          ],
          "scattergl": [
           {
            "marker": {
             "colorbar": {
              "outlinewidth": 0,
              "ticks": ""
             }
            },
            "type": "scattergl"
           }
          ],
          "scattermapbox": [
           {
            "marker": {
             "colorbar": {
              "outlinewidth": 0,
              "ticks": ""
             }
            },
            "type": "scattermapbox"
           }
          ],
          "scatterpolar": [
           {
            "marker": {
             "colorbar": {
              "outlinewidth": 0,
              "ticks": ""
             }
            },
            "type": "scatterpolar"
           }
          ],
          "scatterpolargl": [
           {
            "marker": {
             "colorbar": {
              "outlinewidth": 0,
              "ticks": ""
             }
            },
            "type": "scatterpolargl"
           }
          ],
          "scatterternary": [
           {
            "marker": {
             "colorbar": {
              "outlinewidth": 0,
              "ticks": ""
             }
            },
            "type": "scatterternary"
           }
          ],
          "surface": [
           {
            "colorbar": {
             "outlinewidth": 0,
             "ticks": ""
            },
            "colorscale": [
             [
              0,
              "#0d0887"
             ],
             [
              0.1111111111111111,
              "#46039f"
             ],
             [
              0.2222222222222222,
              "#7201a8"
             ],
             [
              0.3333333333333333,
              "#9c179e"
             ],
             [
              0.4444444444444444,
              "#bd3786"
             ],
             [
              0.5555555555555556,
              "#d8576b"
             ],
             [
              0.6666666666666666,
              "#ed7953"
             ],
             [
              0.7777777777777778,
              "#fb9f3a"
             ],
             [
              0.8888888888888888,
              "#fdca26"
             ],
             [
              1,
              "#f0f921"
             ]
            ],
            "type": "surface"
           }
          ],
          "table": [
           {
            "cells": {
             "fill": {
              "color": "#EBF0F8"
             },
             "line": {
              "color": "white"
             }
            },
            "header": {
             "fill": {
              "color": "#C8D4E3"
             },
             "line": {
              "color": "white"
             }
            },
            "type": "table"
           }
          ]
         },
         "layout": {
          "annotationdefaults": {
           "arrowcolor": "#2a3f5f",
           "arrowhead": 0,
           "arrowwidth": 1
          },
          "autotypenumbers": "strict",
          "coloraxis": {
           "colorbar": {
            "outlinewidth": 0,
            "ticks": ""
           }
          },
          "colorscale": {
           "diverging": [
            [
             0,
             "#8e0152"
            ],
            [
             0.1,
             "#c51b7d"
            ],
            [
             0.2,
             "#de77ae"
            ],
            [
             0.3,
             "#f1b6da"
            ],
            [
             0.4,
             "#fde0ef"
            ],
            [
             0.5,
             "#f7f7f7"
            ],
            [
             0.6,
             "#e6f5d0"
            ],
            [
             0.7,
             "#b8e186"
            ],
            [
             0.8,
             "#7fbc41"
            ],
            [
             0.9,
             "#4d9221"
            ],
            [
             1,
             "#276419"
            ]
           ],
           "sequential": [
            [
             0,
             "#0d0887"
            ],
            [
             0.1111111111111111,
             "#46039f"
            ],
            [
             0.2222222222222222,
             "#7201a8"
            ],
            [
             0.3333333333333333,
             "#9c179e"
            ],
            [
             0.4444444444444444,
             "#bd3786"
            ],
            [
             0.5555555555555556,
             "#d8576b"
            ],
            [
             0.6666666666666666,
             "#ed7953"
            ],
            [
             0.7777777777777778,
             "#fb9f3a"
            ],
            [
             0.8888888888888888,
             "#fdca26"
            ],
            [
             1,
             "#f0f921"
            ]
           ],
           "sequentialminus": [
            [
             0,
             "#0d0887"
            ],
            [
             0.1111111111111111,
             "#46039f"
            ],
            [
             0.2222222222222222,
             "#7201a8"
            ],
            [
             0.3333333333333333,
             "#9c179e"
            ],
            [
             0.4444444444444444,
             "#bd3786"
            ],
            [
             0.5555555555555556,
             "#d8576b"
            ],
            [
             0.6666666666666666,
             "#ed7953"
            ],
            [
             0.7777777777777778,
             "#fb9f3a"
            ],
            [
             0.8888888888888888,
             "#fdca26"
            ],
            [
             1,
             "#f0f921"
            ]
           ]
          },
          "colorway": [
           "#636efa",
           "#EF553B",
           "#00cc96",
           "#ab63fa",
           "#FFA15A",
           "#19d3f3",
           "#FF6692",
           "#B6E880",
           "#FF97FF",
           "#FECB52"
          ],
          "font": {
           "color": "#2a3f5f"
          },
          "geo": {
           "bgcolor": "white",
           "lakecolor": "white",
           "landcolor": "#E5ECF6",
           "showlakes": true,
           "showland": true,
           "subunitcolor": "white"
          },
          "hoverlabel": {
           "align": "left"
          },
          "hovermode": "closest",
          "mapbox": {
           "style": "light"
          },
          "paper_bgcolor": "white",
          "plot_bgcolor": "#E5ECF6",
          "polar": {
           "angularaxis": {
            "gridcolor": "white",
            "linecolor": "white",
            "ticks": ""
           },
           "bgcolor": "#E5ECF6",
           "radialaxis": {
            "gridcolor": "white",
            "linecolor": "white",
            "ticks": ""
           }
          },
          "scene": {
           "xaxis": {
            "backgroundcolor": "#E5ECF6",
            "gridcolor": "white",
            "gridwidth": 2,
            "linecolor": "white",
            "showbackground": true,
            "ticks": "",
            "zerolinecolor": "white"
           },
           "yaxis": {
            "backgroundcolor": "#E5ECF6",
            "gridcolor": "white",
            "gridwidth": 2,
            "linecolor": "white",
            "showbackground": true,
            "ticks": "",
            "zerolinecolor": "white"
           },
           "zaxis": {
            "backgroundcolor": "#E5ECF6",
            "gridcolor": "white",
            "gridwidth": 2,
            "linecolor": "white",
            "showbackground": true,
            "ticks": "",
            "zerolinecolor": "white"
           }
          },
          "shapedefaults": {
           "line": {
            "color": "#2a3f5f"
           }
          },
          "ternary": {
           "aaxis": {
            "gridcolor": "white",
            "linecolor": "white",
            "ticks": ""
           },
           "baxis": {
            "gridcolor": "white",
            "linecolor": "white",
            "ticks": ""
           },
           "bgcolor": "#E5ECF6",
           "caxis": {
            "gridcolor": "white",
            "linecolor": "white",
            "ticks": ""
           }
          },
          "title": {
           "x": 0.05
          },
          "xaxis": {
           "automargin": true,
           "gridcolor": "white",
           "linecolor": "white",
           "ticks": "",
           "title": {
            "standoff": 15
           },
           "zerolinecolor": "white",
           "zerolinewidth": 2
          },
          "yaxis": {
           "automargin": true,
           "gridcolor": "white",
           "linecolor": "white",
           "ticks": "",
           "title": {
            "standoff": 15
           },
           "zerolinecolor": "white",
           "zerolinewidth": 2
          }
         }
        },
        "title": {
         "text": "제품 카테고리별 재구매율"
        },
        "xaxis": {
         "anchor": "y",
         "domain": [
          0,
          1
         ],
         "title": {
          "text": "재구매율"
         }
        },
        "yaxis": {
         "anchor": "x",
         "categoryarray": [
          "Waze",
          "Office",
          "Notebooks & Journals",
          "Nest-USA",
          "Nest-Canada",
          "Nest",
          "Lifestyle",
          "Housewares",
          "Headgear",
          "Google",
          "Gift Cards",
          "Fun",
          "Drinkware",
          "Bottles",
          "Bags",
          "Backpacks",
          "Apparel",
          "Android",
          "Accessories"
         ],
         "categoryorder": "array",
         "domain": [
          0,
          1
         ],
         "title": {
          "text": "제품카테고리"
         }
        }
       }
      }
     },
     "metadata": {},
     "output_type": "display_data"
    }
   ],
   "source": [
    "CategoryAnalysis.visualize_repurchase_periods('재구매율', category)"
   ]
  },
  {
   "cell_type": "markdown",
   "id": "c17cb208",
   "metadata": {},
   "source": [
    "### 재구매 여부 예측"
   ]
  },
  {
   "cell_type": "code",
   "execution_count": 10,
   "id": "41853475",
   "metadata": {},
   "outputs": [
    {
     "name": "stdout",
     "output_type": "stream",
     "text": [
      "\n",
      "\n",
      "Existing table 'repurchase' dropped, and new table is created\n"
     ]
    }
   ],
   "source": [
    "# 분석에 사용할 컬럼들로 이루어진 repurchase df를 db에 저장\n",
    "columns = ['제품카테고리', '평균금액', '배송료', '쿠폰상태', '성별', '고객지역', '가입기간',  '할인율', '마케팅비용', '고객소비액', '매출', '재방문여부', '고객분류']\n",
    "repurchase = train[columns]\n",
    "db_manager.create_new_table(repurchase, 'repurchase')"
   ]
  },
  {
   "cell_type": "code",
   "execution_count": 11,
   "id": "716d6ab3",
   "metadata": {},
   "outputs": [
    {
     "name": "stdout",
     "output_type": "stream",
     "text": [
      "\n",
      "\n",
      "Existing table 'predict' dropped, and new table is created\n"
     ]
    },
    {
     "name": "stdout",
     "output_type": "stream",
     "text": [
      "Accuracy for test set: 0.7972861533848115\n",
      "Confusion matrix for test set:\n",
      "Predicted     0     1\n",
      "Actual               \n",
      "0          1587  1835\n",
      "1           869  9048\n",
      "Predictions saved to predict table in sy_db.db\n"
     ]
    },
    {
     "name": "stderr",
     "output_type": "stream",
     "text": [
      "c:\\Users\\소영\\AppData\\Local\\Programs\\Python\\Python312\\Lib\\site-packages\\sklearn\\linear_model\\_logistic.py:460: ConvergenceWarning:\n",
      "\n",
      "lbfgs failed to converge (status=1):\n",
      "STOP: TOTAL NO. of ITERATIONS REACHED LIMIT.\n",
      "\n",
      "Increase the number of iterations (max_iter) or scale the data as shown in:\n",
      "    https://scikit-learn.org/stable/modules/preprocessing.html\n",
      "Please also refer to the documentation for alternative solver options:\n",
      "    https://scikit-learn.org/stable/modules/linear_model.html#logistic-regression\n",
      "\n"
     ]
    }
   ],
   "source": [
    "# 로지스틱 회귀\n",
    "model_instance = sy_class.RebuyPredictionModel(train, target_column='재방문여부')\n",
    "train_data, test_data = model_instance.train_test_split()\n",
    "db_manager.create_new_table(test_data, \"predict\")\n",
    "\n",
    "model_pipeline = model_instance.run_pipeline(train_data)\n",
    "model_instance.save_model_and_transformation()\n",
    "\n",
    "model_instance.evaluate_model(test_data)\n",
    "feature_names = model_instance.get_feature_names()\n",
    "pred = model_instance.inference(test_data) \n",
    "model_instance.save_predictions_to_db(test_data, pred)"
   ]
  },
  {
   "cell_type": "code",
   "execution_count": 12,
   "id": "198465d8",
   "metadata": {},
   "outputs": [
    {
     "data": {
      "text/html": [
       "<style>#sk-container-id-1 {color: black;}#sk-container-id-1 pre{padding: 0;}#sk-container-id-1 div.sk-toggleable {background-color: white;}#sk-container-id-1 label.sk-toggleable__label {cursor: pointer;display: block;width: 100%;margin-bottom: 0;padding: 0.3em;box-sizing: border-box;text-align: center;}#sk-container-id-1 label.sk-toggleable__label-arrow:before {content: \"▸\";float: left;margin-right: 0.25em;color: #696969;}#sk-container-id-1 label.sk-toggleable__label-arrow:hover:before {color: black;}#sk-container-id-1 div.sk-estimator:hover label.sk-toggleable__label-arrow:before {color: black;}#sk-container-id-1 div.sk-toggleable__content {max-height: 0;max-width: 0;overflow: hidden;text-align: left;background-color: #f0f8ff;}#sk-container-id-1 div.sk-toggleable__content pre {margin: 0.2em;color: black;border-radius: 0.25em;background-color: #f0f8ff;}#sk-container-id-1 input.sk-toggleable__control:checked~div.sk-toggleable__content {max-height: 200px;max-width: 100%;overflow: auto;}#sk-container-id-1 input.sk-toggleable__control:checked~label.sk-toggleable__label-arrow:before {content: \"▾\";}#sk-container-id-1 div.sk-estimator input.sk-toggleable__control:checked~label.sk-toggleable__label {background-color: #d4ebff;}#sk-container-id-1 div.sk-label input.sk-toggleable__control:checked~label.sk-toggleable__label {background-color: #d4ebff;}#sk-container-id-1 input.sk-hidden--visually {border: 0;clip: rect(1px 1px 1px 1px);clip: rect(1px, 1px, 1px, 1px);height: 1px;margin: -1px;overflow: hidden;padding: 0;position: absolute;width: 1px;}#sk-container-id-1 div.sk-estimator {font-family: monospace;background-color: #f0f8ff;border: 1px dotted black;border-radius: 0.25em;box-sizing: border-box;margin-bottom: 0.5em;}#sk-container-id-1 div.sk-estimator:hover {background-color: #d4ebff;}#sk-container-id-1 div.sk-parallel-item::after {content: \"\";width: 100%;border-bottom: 1px solid gray;flex-grow: 1;}#sk-container-id-1 div.sk-label:hover label.sk-toggleable__label {background-color: #d4ebff;}#sk-container-id-1 div.sk-serial::before {content: \"\";position: absolute;border-left: 1px solid gray;box-sizing: border-box;top: 0;bottom: 0;left: 50%;z-index: 0;}#sk-container-id-1 div.sk-serial {display: flex;flex-direction: column;align-items: center;background-color: white;padding-right: 0.2em;padding-left: 0.2em;position: relative;}#sk-container-id-1 div.sk-item {position: relative;z-index: 1;}#sk-container-id-1 div.sk-parallel {display: flex;align-items: stretch;justify-content: center;background-color: white;position: relative;}#sk-container-id-1 div.sk-item::before, #sk-container-id-1 div.sk-parallel-item::before {content: \"\";position: absolute;border-left: 1px solid gray;box-sizing: border-box;top: 0;bottom: 0;left: 50%;z-index: -1;}#sk-container-id-1 div.sk-parallel-item {display: flex;flex-direction: column;z-index: 1;position: relative;background-color: white;}#sk-container-id-1 div.sk-parallel-item:first-child::after {align-self: flex-end;width: 50%;}#sk-container-id-1 div.sk-parallel-item:last-child::after {align-self: flex-start;width: 50%;}#sk-container-id-1 div.sk-parallel-item:only-child::after {width: 0;}#sk-container-id-1 div.sk-dashed-wrapped {border: 1px dashed gray;margin: 0 0.4em 0.5em 0.4em;box-sizing: border-box;padding-bottom: 0.4em;background-color: white;}#sk-container-id-1 div.sk-label label {font-family: monospace;font-weight: bold;display: inline-block;line-height: 1.2em;}#sk-container-id-1 div.sk-label-container {text-align: center;}#sk-container-id-1 div.sk-container {/* jupyter's `normalize.less` sets `[hidden] { display: none; }` but bootstrap.min.css set `[hidden] { display: none !important; }` so we also need the `!important` here to be able to override the default hidden behavior on the sphinx rendered scikit-learn.org. See: https://github.com/scikit-learn/scikit-learn/issues/21755 */display: inline-block !important;position: relative;}#sk-container-id-1 div.sk-text-repr-fallback {display: none;}</style><div id=\"sk-container-id-1\" class=\"sk-top-container\"><div class=\"sk-text-repr-fallback\"><pre>Pipeline(steps=[(&#x27;transform&#x27;,\n",
       "                 ColumnTransformer(transformers=[(&#x27;num&#x27;, StandardScaler(),\n",
       "                                                  [&#x27;평균금액&#x27;, &#x27;배송료&#x27;, &#x27;가입기간&#x27;, &#x27;할인율&#x27;,\n",
       "                                                   &#x27;마케팅비용&#x27;, &#x27;고객소비액&#x27;, &#x27;매출&#x27;]),\n",
       "                                                 (&#x27;cat&#x27;, OneHotEncoder(),\n",
       "                                                  [&#x27;제품카테고리&#x27;, &#x27;쿠폰상태&#x27;, &#x27;성별&#x27;,\n",
       "                                                   &#x27;고객지역&#x27;, &#x27;고객분류&#x27;])])),\n",
       "                (&#x27;model&#x27;, LogisticRegression())])</pre><b>In a Jupyter environment, please rerun this cell to show the HTML representation or trust the notebook. <br />On GitHub, the HTML representation is unable to render, please try loading this page with nbviewer.org.</b></div><div class=\"sk-container\" hidden><div class=\"sk-item sk-dashed-wrapped\"><div class=\"sk-label-container\"><div class=\"sk-label sk-toggleable\"><input class=\"sk-toggleable__control sk-hidden--visually\" id=\"sk-estimator-id-1\" type=\"checkbox\" ><label for=\"sk-estimator-id-1\" class=\"sk-toggleable__label sk-toggleable__label-arrow\">Pipeline</label><div class=\"sk-toggleable__content\"><pre>Pipeline(steps=[(&#x27;transform&#x27;,\n",
       "                 ColumnTransformer(transformers=[(&#x27;num&#x27;, StandardScaler(),\n",
       "                                                  [&#x27;평균금액&#x27;, &#x27;배송료&#x27;, &#x27;가입기간&#x27;, &#x27;할인율&#x27;,\n",
       "                                                   &#x27;마케팅비용&#x27;, &#x27;고객소비액&#x27;, &#x27;매출&#x27;]),\n",
       "                                                 (&#x27;cat&#x27;, OneHotEncoder(),\n",
       "                                                  [&#x27;제품카테고리&#x27;, &#x27;쿠폰상태&#x27;, &#x27;성별&#x27;,\n",
       "                                                   &#x27;고객지역&#x27;, &#x27;고객분류&#x27;])])),\n",
       "                (&#x27;model&#x27;, LogisticRegression())])</pre></div></div></div><div class=\"sk-serial\"><div class=\"sk-item sk-dashed-wrapped\"><div class=\"sk-label-container\"><div class=\"sk-label sk-toggleable\"><input class=\"sk-toggleable__control sk-hidden--visually\" id=\"sk-estimator-id-2\" type=\"checkbox\" ><label for=\"sk-estimator-id-2\" class=\"sk-toggleable__label sk-toggleable__label-arrow\">transform: ColumnTransformer</label><div class=\"sk-toggleable__content\"><pre>ColumnTransformer(transformers=[(&#x27;num&#x27;, StandardScaler(),\n",
       "                                 [&#x27;평균금액&#x27;, &#x27;배송료&#x27;, &#x27;가입기간&#x27;, &#x27;할인율&#x27;, &#x27;마케팅비용&#x27;,\n",
       "                                  &#x27;고객소비액&#x27;, &#x27;매출&#x27;]),\n",
       "                                (&#x27;cat&#x27;, OneHotEncoder(),\n",
       "                                 [&#x27;제품카테고리&#x27;, &#x27;쿠폰상태&#x27;, &#x27;성별&#x27;, &#x27;고객지역&#x27;, &#x27;고객분류&#x27;])])</pre></div></div></div><div class=\"sk-parallel\"><div class=\"sk-parallel-item\"><div class=\"sk-item\"><div class=\"sk-label-container\"><div class=\"sk-label sk-toggleable\"><input class=\"sk-toggleable__control sk-hidden--visually\" id=\"sk-estimator-id-3\" type=\"checkbox\" ><label for=\"sk-estimator-id-3\" class=\"sk-toggleable__label sk-toggleable__label-arrow\">num</label><div class=\"sk-toggleable__content\"><pre>[&#x27;평균금액&#x27;, &#x27;배송료&#x27;, &#x27;가입기간&#x27;, &#x27;할인율&#x27;, &#x27;마케팅비용&#x27;, &#x27;고객소비액&#x27;, &#x27;매출&#x27;]</pre></div></div></div><div class=\"sk-serial\"><div class=\"sk-item\"><div class=\"sk-estimator sk-toggleable\"><input class=\"sk-toggleable__control sk-hidden--visually\" id=\"sk-estimator-id-4\" type=\"checkbox\" ><label for=\"sk-estimator-id-4\" class=\"sk-toggleable__label sk-toggleable__label-arrow\">StandardScaler</label><div class=\"sk-toggleable__content\"><pre>StandardScaler()</pre></div></div></div></div></div></div><div class=\"sk-parallel-item\"><div class=\"sk-item\"><div class=\"sk-label-container\"><div class=\"sk-label sk-toggleable\"><input class=\"sk-toggleable__control sk-hidden--visually\" id=\"sk-estimator-id-5\" type=\"checkbox\" ><label for=\"sk-estimator-id-5\" class=\"sk-toggleable__label sk-toggleable__label-arrow\">cat</label><div class=\"sk-toggleable__content\"><pre>[&#x27;제품카테고리&#x27;, &#x27;쿠폰상태&#x27;, &#x27;성별&#x27;, &#x27;고객지역&#x27;, &#x27;고객분류&#x27;]</pre></div></div></div><div class=\"sk-serial\"><div class=\"sk-item\"><div class=\"sk-estimator sk-toggleable\"><input class=\"sk-toggleable__control sk-hidden--visually\" id=\"sk-estimator-id-6\" type=\"checkbox\" ><label for=\"sk-estimator-id-6\" class=\"sk-toggleable__label sk-toggleable__label-arrow\">OneHotEncoder</label><div class=\"sk-toggleable__content\"><pre>OneHotEncoder()</pre></div></div></div></div></div></div></div></div><div class=\"sk-item\"><div class=\"sk-estimator sk-toggleable\"><input class=\"sk-toggleable__control sk-hidden--visually\" id=\"sk-estimator-id-7\" type=\"checkbox\" ><label for=\"sk-estimator-id-7\" class=\"sk-toggleable__label sk-toggleable__label-arrow\">LogisticRegression</label><div class=\"sk-toggleable__content\"><pre>LogisticRegression()</pre></div></div></div></div></div></div></div>"
      ],
      "text/plain": [
       "Pipeline(steps=[('transform',\n",
       "                 ColumnTransformer(transformers=[('num', StandardScaler(),\n",
       "                                                  ['평균금액', '배송료', '가입기간', '할인율',\n",
       "                                                   '마케팅비용', '고객소비액', '매출']),\n",
       "                                                 ('cat', OneHotEncoder(),\n",
       "                                                  ['제품카테고리', '쿠폰상태', '성별',\n",
       "                                                   '고객지역', '고객분류'])])),\n",
       "                ('model', LogisticRegression())])"
      ]
     },
     "execution_count": 12,
     "metadata": {},
     "output_type": "execute_result"
    }
   ],
   "source": [
    "model_pipeline"
   ]
  },
  {
   "cell_type": "code",
   "execution_count": null,
   "id": "8132af25",
   "metadata": {},
   "outputs": [],
   "source": []
  }
 ],
 "metadata": {
  "kernelspec": {
   "display_name": "Python 3 (ipykernel)",
   "language": "python",
   "name": "python3"
  },
  "language_info": {
   "codemirror_mode": {
    "name": "ipython",
    "version": 3
   },
   "file_extension": ".py",
   "mimetype": "text/x-python",
   "name": "python",
   "nbconvert_exporter": "python",
   "pygments_lexer": "ipython3",
   "version": "3.12.0"
  }
 },
 "nbformat": 4,
 "nbformat_minor": 5
}
