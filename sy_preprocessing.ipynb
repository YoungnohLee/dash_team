{
 "cells": [
  {
   "cell_type": "markdown",
   "id": "4da08045-195d-44be-9eb2-65656b94d6bb",
   "metadata": {},
   "source": [
    "# 1. 데이터 불러오기"
   ]
  },
  {
   "cell_type": "code",
   "execution_count": 1,
   "id": "90509226-5dbf-41d4-b752-d83ce28492be",
   "metadata": {},
   "outputs": [],
   "source": [
    "import seaborn as sns\n",
    "# import database\n",
    "# import Create_table_sy\n",
    "import csv\n",
    "import sqlite3\n",
    "import math\n",
    "import matplotlib.pyplot as plt\n",
    "import pickle as pkl\n",
    "import pandas as pd\n",
    "import numpy as np\n",
    "from sklearn.cluster import KMeans\n",
    "from datetime import datetime\n",
    "from sklearn.metrics import silhouette_score, silhouette_samples\n",
    "import matplotlib.cm as cm\n",
    "from sklearn.preprocessing import StandardScaler\n",
    "from sklearn.ensemble import RandomForestClassifier\n",
    "import bw_class\n",
    "import sy_class"
   ]
  },
  {
   "cell_type": "code",
   "execution_count": 2,
   "id": "64ad9dc7-e018-43de-9a35-fb9b2a78a74c",
   "metadata": {},
   "outputs": [],
   "source": [
    "train = pd.read_csv(\"./train.csv\")\n",
    "val = pd.read_csv(\"./val.csv\")\n",
    "test = pd.read_csv(\"./test.csv\")"
   ]
  },
  {
   "cell_type": "code",
   "execution_count": 3,
   "id": "be4db3c8-f373-4564-895b-b9c0fd2ab28f",
   "metadata": {},
   "outputs": [
    {
     "data": {
      "text/html": [
       "<div>\n",
       "<style scoped>\n",
       "    .dataframe tbody tr th:only-of-type {\n",
       "        vertical-align: middle;\n",
       "    }\n",
       "\n",
       "    .dataframe tbody tr th {\n",
       "        vertical-align: top;\n",
       "    }\n",
       "\n",
       "    .dataframe thead th {\n",
       "        text-align: right;\n",
       "    }\n",
       "</style>\n",
       "<table border=\"1\" class=\"dataframe\">\n",
       "  <thead>\n",
       "    <tr style=\"text-align: right;\">\n",
       "      <th></th>\n",
       "      <th>IND</th>\n",
       "      <th>고객ID</th>\n",
       "      <th>거래ID</th>\n",
       "      <th>거래날짜</th>\n",
       "      <th>제품ID</th>\n",
       "      <th>제품카테고리</th>\n",
       "      <th>수량</th>\n",
       "      <th>평균금액</th>\n",
       "      <th>배송료</th>\n",
       "      <th>쿠폰상태</th>\n",
       "      <th>...</th>\n",
       "      <th>가입기간</th>\n",
       "      <th>쿠폰코드</th>\n",
       "      <th>할인율</th>\n",
       "      <th>GST</th>\n",
       "      <th>고객소비액</th>\n",
       "      <th>매출</th>\n",
       "      <th>처음거래날짜</th>\n",
       "      <th>마지막거래날짜</th>\n",
       "      <th>거래날차이</th>\n",
       "      <th>재방문여부</th>\n",
       "    </tr>\n",
       "  </thead>\n",
       "  <tbody>\n",
       "    <tr>\n",
       "      <th>0</th>\n",
       "      <td>0</td>\n",
       "      <td>USER_1358</td>\n",
       "      <td>Transaction_0000</td>\n",
       "      <td>2019-01-01</td>\n",
       "      <td>Product_0981</td>\n",
       "      <td>Nest-USA</td>\n",
       "      <td>1</td>\n",
       "      <td>153.71</td>\n",
       "      <td>6.50</td>\n",
       "      <td>Used</td>\n",
       "      <td>...</td>\n",
       "      <td>12</td>\n",
       "      <td>ELEC10</td>\n",
       "      <td>10.0</td>\n",
       "      <td>0.10</td>\n",
       "      <td>158.6729</td>\n",
       "      <td>153.71</td>\n",
       "      <td>2019-01-01</td>\n",
       "      <td>2019-01-26</td>\n",
       "      <td>25 days</td>\n",
       "      <td>1</td>\n",
       "    </tr>\n",
       "    <tr>\n",
       "      <th>1</th>\n",
       "      <td>1</td>\n",
       "      <td>USER_1358</td>\n",
       "      <td>Transaction_0001</td>\n",
       "      <td>2019-01-01</td>\n",
       "      <td>Product_0981</td>\n",
       "      <td>Nest-USA</td>\n",
       "      <td>1</td>\n",
       "      <td>153.71</td>\n",
       "      <td>6.50</td>\n",
       "      <td>Used</td>\n",
       "      <td>...</td>\n",
       "      <td>12</td>\n",
       "      <td>ELEC10</td>\n",
       "      <td>10.0</td>\n",
       "      <td>0.10</td>\n",
       "      <td>158.6729</td>\n",
       "      <td>153.71</td>\n",
       "      <td>2019-01-01</td>\n",
       "      <td>2019-01-26</td>\n",
       "      <td>25 days</td>\n",
       "      <td>1</td>\n",
       "    </tr>\n",
       "    <tr>\n",
       "      <th>2</th>\n",
       "      <td>2</td>\n",
       "      <td>USER_1358</td>\n",
       "      <td>Transaction_0002</td>\n",
       "      <td>2019-01-01</td>\n",
       "      <td>Product_0904</td>\n",
       "      <td>Office</td>\n",
       "      <td>1</td>\n",
       "      <td>2.05</td>\n",
       "      <td>6.50</td>\n",
       "      <td>Used</td>\n",
       "      <td>...</td>\n",
       "      <td>12</td>\n",
       "      <td>OFF10</td>\n",
       "      <td>10.0</td>\n",
       "      <td>0.10</td>\n",
       "      <td>8.5295</td>\n",
       "      <td>2.05</td>\n",
       "      <td>2019-01-01</td>\n",
       "      <td>2019-01-26</td>\n",
       "      <td>25 days</td>\n",
       "      <td>1</td>\n",
       "    </tr>\n",
       "    <tr>\n",
       "      <th>3</th>\n",
       "      <td>3</td>\n",
       "      <td>USER_1358</td>\n",
       "      <td>Transaction_0003</td>\n",
       "      <td>2019-01-01</td>\n",
       "      <td>Product_0203</td>\n",
       "      <td>Apparel</td>\n",
       "      <td>5</td>\n",
       "      <td>17.53</td>\n",
       "      <td>6.50</td>\n",
       "      <td>Not Used</td>\n",
       "      <td>...</td>\n",
       "      <td>12</td>\n",
       "      <td>SALE10</td>\n",
       "      <td>0.0</td>\n",
       "      <td>0.18</td>\n",
       "      <td>109.9270</td>\n",
       "      <td>87.65</td>\n",
       "      <td>2019-01-01</td>\n",
       "      <td>2019-01-26</td>\n",
       "      <td>25 days</td>\n",
       "      <td>1</td>\n",
       "    </tr>\n",
       "    <tr>\n",
       "      <th>4</th>\n",
       "      <td>4</td>\n",
       "      <td>USER_1358</td>\n",
       "      <td>Transaction_0003</td>\n",
       "      <td>2019-01-01</td>\n",
       "      <td>Product_0848</td>\n",
       "      <td>Bags</td>\n",
       "      <td>1</td>\n",
       "      <td>16.50</td>\n",
       "      <td>6.50</td>\n",
       "      <td>Used</td>\n",
       "      <td>...</td>\n",
       "      <td>12</td>\n",
       "      <td>AIO10</td>\n",
       "      <td>10.0</td>\n",
       "      <td>0.18</td>\n",
       "      <td>24.0230</td>\n",
       "      <td>16.50</td>\n",
       "      <td>2019-01-01</td>\n",
       "      <td>2019-01-26</td>\n",
       "      <td>25 days</td>\n",
       "      <td>1</td>\n",
       "    </tr>\n",
       "    <tr>\n",
       "      <th>...</th>\n",
       "      <td>...</td>\n",
       "      <td>...</td>\n",
       "      <td>...</td>\n",
       "      <td>...</td>\n",
       "      <td>...</td>\n",
       "      <td>...</td>\n",
       "      <td>...</td>\n",
       "      <td>...</td>\n",
       "      <td>...</td>\n",
       "      <td>...</td>\n",
       "      <td>...</td>\n",
       "      <td>...</td>\n",
       "      <td>...</td>\n",
       "      <td>...</td>\n",
       "      <td>...</td>\n",
       "      <td>...</td>\n",
       "      <td>...</td>\n",
       "      <td>...</td>\n",
       "      <td>...</td>\n",
       "      <td>...</td>\n",
       "      <td>...</td>\n",
       "    </tr>\n",
       "    <tr>\n",
       "      <th>44456</th>\n",
       "      <td>44456</td>\n",
       "      <td>USER_0035</td>\n",
       "      <td>Transaction_20090</td>\n",
       "      <td>2019-10-31</td>\n",
       "      <td>Product_0989</td>\n",
       "      <td>Nest-USA</td>\n",
       "      <td>2</td>\n",
       "      <td>149.00</td>\n",
       "      <td>6.00</td>\n",
       "      <td>Not Used</td>\n",
       "      <td>...</td>\n",
       "      <td>26</td>\n",
       "      <td>ELEC10</td>\n",
       "      <td>0.0</td>\n",
       "      <td>0.10</td>\n",
       "      <td>333.8000</td>\n",
       "      <td>298.00</td>\n",
       "      <td>2019-03-06</td>\n",
       "      <td>2019-10-31</td>\n",
       "      <td>239 days</td>\n",
       "      <td>1</td>\n",
       "    </tr>\n",
       "    <tr>\n",
       "      <th>44457</th>\n",
       "      <td>44457</td>\n",
       "      <td>USER_0035</td>\n",
       "      <td>Transaction_20091</td>\n",
       "      <td>2019-10-31</td>\n",
       "      <td>Product_0981</td>\n",
       "      <td>Nest-USA</td>\n",
       "      <td>1</td>\n",
       "      <td>149.00</td>\n",
       "      <td>6.00</td>\n",
       "      <td>Used</td>\n",
       "      <td>...</td>\n",
       "      <td>26</td>\n",
       "      <td>ELEC10</td>\n",
       "      <td>10.0</td>\n",
       "      <td>0.10</td>\n",
       "      <td>153.5100</td>\n",
       "      <td>149.00</td>\n",
       "      <td>2019-03-06</td>\n",
       "      <td>2019-10-31</td>\n",
       "      <td>239 days</td>\n",
       "      <td>1</td>\n",
       "    </tr>\n",
       "    <tr>\n",
       "      <th>44458</th>\n",
       "      <td>44458</td>\n",
       "      <td>USER_0035</td>\n",
       "      <td>Transaction_20092</td>\n",
       "      <td>2019-10-31</td>\n",
       "      <td>Product_0990</td>\n",
       "      <td>Nest</td>\n",
       "      <td>1</td>\n",
       "      <td>199.00</td>\n",
       "      <td>19.99</td>\n",
       "      <td>Used</td>\n",
       "      <td>...</td>\n",
       "      <td>26</td>\n",
       "      <td>NE10</td>\n",
       "      <td>10.0</td>\n",
       "      <td>0.05</td>\n",
       "      <td>208.0450</td>\n",
       "      <td>199.00</td>\n",
       "      <td>2019-03-06</td>\n",
       "      <td>2019-10-31</td>\n",
       "      <td>239 days</td>\n",
       "      <td>1</td>\n",
       "    </tr>\n",
       "    <tr>\n",
       "      <th>44459</th>\n",
       "      <td>44459</td>\n",
       "      <td>USER_0035</td>\n",
       "      <td>Transaction_20093</td>\n",
       "      <td>2019-10-31</td>\n",
       "      <td>Product_0992</td>\n",
       "      <td>Nest</td>\n",
       "      <td>1</td>\n",
       "      <td>99.00</td>\n",
       "      <td>6.00</td>\n",
       "      <td>Clicked</td>\n",
       "      <td>...</td>\n",
       "      <td>26</td>\n",
       "      <td>NE10</td>\n",
       "      <td>0.0</td>\n",
       "      <td>0.05</td>\n",
       "      <td>109.9500</td>\n",
       "      <td>99.00</td>\n",
       "      <td>2019-03-06</td>\n",
       "      <td>2019-10-31</td>\n",
       "      <td>239 days</td>\n",
       "      <td>1</td>\n",
       "    </tr>\n",
       "    <tr>\n",
       "      <th>44460</th>\n",
       "      <td>44460</td>\n",
       "      <td>USER_0035</td>\n",
       "      <td>Transaction_20094</td>\n",
       "      <td>2019-10-31</td>\n",
       "      <td>Product_0976</td>\n",
       "      <td>Nest-USA</td>\n",
       "      <td>5</td>\n",
       "      <td>119.00</td>\n",
       "      <td>6.00</td>\n",
       "      <td>Used</td>\n",
       "      <td>...</td>\n",
       "      <td>26</td>\n",
       "      <td>ELEC10</td>\n",
       "      <td>10.0</td>\n",
       "      <td>0.10</td>\n",
       "      <td>595.0500</td>\n",
       "      <td>595.00</td>\n",
       "      <td>2019-03-06</td>\n",
       "      <td>2019-10-31</td>\n",
       "      <td>239 days</td>\n",
       "      <td>1</td>\n",
       "    </tr>\n",
       "  </tbody>\n",
       "</table>\n",
       "<p>44461 rows × 23 columns</p>\n",
       "</div>"
      ],
      "text/plain": [
       "         IND       고객ID               거래ID       거래날짜          제품ID    제품카테고리  \\\n",
       "0          0  USER_1358   Transaction_0000 2019-01-01  Product_0981  Nest-USA   \n",
       "1          1  USER_1358   Transaction_0001 2019-01-01  Product_0981  Nest-USA   \n",
       "2          2  USER_1358   Transaction_0002 2019-01-01  Product_0904    Office   \n",
       "3          3  USER_1358   Transaction_0003 2019-01-01  Product_0203   Apparel   \n",
       "4          4  USER_1358   Transaction_0003 2019-01-01  Product_0848      Bags   \n",
       "...      ...        ...                ...        ...           ...       ...   \n",
       "44456  44456  USER_0035  Transaction_20090 2019-10-31  Product_0989  Nest-USA   \n",
       "44457  44457  USER_0035  Transaction_20091 2019-10-31  Product_0981  Nest-USA   \n",
       "44458  44458  USER_0035  Transaction_20092 2019-10-31  Product_0990      Nest   \n",
       "44459  44459  USER_0035  Transaction_20093 2019-10-31  Product_0992      Nest   \n",
       "44460  44460  USER_0035  Transaction_20094 2019-10-31  Product_0976  Nest-USA   \n",
       "\n",
       "       수량    평균금액    배송료      쿠폰상태  ...  가입기간    쿠폰코드   할인율   GST     고객소비액  \\\n",
       "0       1  153.71   6.50      Used  ...    12  ELEC10  10.0  0.10  158.6729   \n",
       "1       1  153.71   6.50      Used  ...    12  ELEC10  10.0  0.10  158.6729   \n",
       "2       1    2.05   6.50      Used  ...    12   OFF10  10.0  0.10    8.5295   \n",
       "3       5   17.53   6.50  Not Used  ...    12  SALE10   0.0  0.18  109.9270   \n",
       "4       1   16.50   6.50      Used  ...    12   AIO10  10.0  0.18   24.0230   \n",
       "...    ..     ...    ...       ...  ...   ...     ...   ...   ...       ...   \n",
       "44456   2  149.00   6.00  Not Used  ...    26  ELEC10   0.0  0.10  333.8000   \n",
       "44457   1  149.00   6.00      Used  ...    26  ELEC10  10.0  0.10  153.5100   \n",
       "44458   1  199.00  19.99      Used  ...    26    NE10  10.0  0.05  208.0450   \n",
       "44459   1   99.00   6.00   Clicked  ...    26    NE10   0.0  0.05  109.9500   \n",
       "44460   5  119.00   6.00      Used  ...    26  ELEC10  10.0  0.10  595.0500   \n",
       "\n",
       "           매출     처음거래날짜    마지막거래날짜     거래날차이 재방문여부  \n",
       "0      153.71 2019-01-01 2019-01-26   25 days     1  \n",
       "1      153.71 2019-01-01 2019-01-26   25 days     1  \n",
       "2        2.05 2019-01-01 2019-01-26   25 days     1  \n",
       "3       87.65 2019-01-01 2019-01-26   25 days     1  \n",
       "4       16.50 2019-01-01 2019-01-26   25 days     1  \n",
       "...       ...        ...        ...       ...   ...  \n",
       "44456  298.00 2019-03-06 2019-10-31  239 days     1  \n",
       "44457  149.00 2019-03-06 2019-10-31  239 days     1  \n",
       "44458  199.00 2019-03-06 2019-10-31  239 days     1  \n",
       "44459   99.00 2019-03-06 2019-10-31  239 days     1  \n",
       "44460  595.00 2019-03-06 2019-10-31  239 days     1  \n",
       "\n",
       "[44461 rows x 23 columns]"
      ]
     },
     "execution_count": 3,
     "metadata": {},
     "output_type": "execute_result"
    }
   ],
   "source": [
    "# 사용 예시\n",
    "sy = bw_class.bw_preprocessing(train)\n",
    "sy.apply_my_function()\n",
    "sy_df = sy.return_dataframe()\n",
    "sy_df"
   ]
  },
  {
   "cell_type": "code",
   "execution_count": 4,
   "id": "01015782-8271-44f4-a629-feeb67e213c6",
   "metadata": {},
   "outputs": [
    {
     "data": {
      "text/html": [
       "<div>\n",
       "<style scoped>\n",
       "    .dataframe tbody tr th:only-of-type {\n",
       "        vertical-align: middle;\n",
       "    }\n",
       "\n",
       "    .dataframe tbody tr th {\n",
       "        vertical-align: top;\n",
       "    }\n",
       "\n",
       "    .dataframe thead th {\n",
       "        text-align: right;\n",
       "    }\n",
       "</style>\n",
       "<table border=\"1\" class=\"dataframe\">\n",
       "  <thead>\n",
       "    <tr style=\"text-align: right;\">\n",
       "      <th></th>\n",
       "      <th>고객ID</th>\n",
       "      <th>Recency</th>\n",
       "      <th>Frequency</th>\n",
       "      <th>Monetary</th>\n",
       "      <th>Recency_log</th>\n",
       "      <th>Frequency_log</th>\n",
       "      <th>Monetary_log</th>\n",
       "      <th>Cluster</th>\n",
       "    </tr>\n",
       "  </thead>\n",
       "  <tbody>\n",
       "    <tr>\n",
       "      <th>0</th>\n",
       "      <td>USER_0000</td>\n",
       "      <td>47</td>\n",
       "      <td>1</td>\n",
       "      <td>174.98174</td>\n",
       "      <td>3.850148</td>\n",
       "      <td>0.000000</td>\n",
       "      <td>5.164682</td>\n",
       "      <td>1.0</td>\n",
       "    </tr>\n",
       "    <tr>\n",
       "      <th>1</th>\n",
       "      <td>USER_0001</td>\n",
       "      <td>222</td>\n",
       "      <td>13</td>\n",
       "      <td>9572.18180</td>\n",
       "      <td>5.402677</td>\n",
       "      <td>2.564949</td>\n",
       "      <td>9.166616</td>\n",
       "      <td>-1.0</td>\n",
       "    </tr>\n",
       "    <tr>\n",
       "      <th>2</th>\n",
       "      <td>USER_0002</td>\n",
       "      <td>13</td>\n",
       "      <td>8</td>\n",
       "      <td>1501.92620</td>\n",
       "      <td>2.564949</td>\n",
       "      <td>2.079442</td>\n",
       "      <td>7.314504</td>\n",
       "      <td>3.0</td>\n",
       "    </tr>\n",
       "    <tr>\n",
       "      <th>3</th>\n",
       "      <td>USER_0004</td>\n",
       "      <td>47</td>\n",
       "      <td>13</td>\n",
       "      <td>1753.45086</td>\n",
       "      <td>3.850148</td>\n",
       "      <td>2.564949</td>\n",
       "      <td>7.469341</td>\n",
       "      <td>0.0</td>\n",
       "    </tr>\n",
       "    <tr>\n",
       "      <th>4</th>\n",
       "      <td>USER_0005</td>\n",
       "      <td>70</td>\n",
       "      <td>3</td>\n",
       "      <td>653.19048</td>\n",
       "      <td>4.248495</td>\n",
       "      <td>1.098612</td>\n",
       "      <td>6.481869</td>\n",
       "      <td>2.0</td>\n",
       "    </tr>\n",
       "    <tr>\n",
       "      <th>...</th>\n",
       "      <td>...</td>\n",
       "      <td>...</td>\n",
       "      <td>...</td>\n",
       "      <td>...</td>\n",
       "      <td>...</td>\n",
       "      <td>...</td>\n",
       "      <td>...</td>\n",
       "      <td>...</td>\n",
       "    </tr>\n",
       "    <tr>\n",
       "      <th>1289</th>\n",
       "      <td>USER_1463</td>\n",
       "      <td>210</td>\n",
       "      <td>3</td>\n",
       "      <td>816.40980</td>\n",
       "      <td>5.347108</td>\n",
       "      <td>1.098612</td>\n",
       "      <td>6.704916</td>\n",
       "      <td>2.0</td>\n",
       "    </tr>\n",
       "    <tr>\n",
       "      <th>1290</th>\n",
       "      <td>USER_1464</td>\n",
       "      <td>27</td>\n",
       "      <td>19</td>\n",
       "      <td>2647.24033</td>\n",
       "      <td>3.295837</td>\n",
       "      <td>2.944439</td>\n",
       "      <td>7.881273</td>\n",
       "      <td>3.0</td>\n",
       "    </tr>\n",
       "    <tr>\n",
       "      <th>1291</th>\n",
       "      <td>USER_1465</td>\n",
       "      <td>134</td>\n",
       "      <td>2</td>\n",
       "      <td>155.66092</td>\n",
       "      <td>4.897840</td>\n",
       "      <td>0.693147</td>\n",
       "      <td>5.047680</td>\n",
       "      <td>1.0</td>\n",
       "    </tr>\n",
       "    <tr>\n",
       "      <th>1292</th>\n",
       "      <td>USER_1466</td>\n",
       "      <td>9</td>\n",
       "      <td>1</td>\n",
       "      <td>301.02000</td>\n",
       "      <td>2.197225</td>\n",
       "      <td>0.000000</td>\n",
       "      <td>5.707177</td>\n",
       "      <td>1.0</td>\n",
       "    </tr>\n",
       "    <tr>\n",
       "      <th>1293</th>\n",
       "      <td>USER_1467</td>\n",
       "      <td>22</td>\n",
       "      <td>53</td>\n",
       "      <td>6970.80527</td>\n",
       "      <td>3.091042</td>\n",
       "      <td>3.970292</td>\n",
       "      <td>8.849486</td>\n",
       "      <td>-1.0</td>\n",
       "    </tr>\n",
       "  </tbody>\n",
       "</table>\n",
       "<p>1294 rows × 8 columns</p>\n",
       "</div>"
      ],
      "text/plain": [
       "           고객ID  Recency  Frequency    Monetary  Recency_log  Frequency_log  \\\n",
       "0     USER_0000       47          1   174.98174     3.850148       0.000000   \n",
       "1     USER_0001      222         13  9572.18180     5.402677       2.564949   \n",
       "2     USER_0002       13          8  1501.92620     2.564949       2.079442   \n",
       "3     USER_0004       47         13  1753.45086     3.850148       2.564949   \n",
       "4     USER_0005       70          3   653.19048     4.248495       1.098612   \n",
       "...         ...      ...        ...         ...          ...            ...   \n",
       "1289  USER_1463      210          3   816.40980     5.347108       1.098612   \n",
       "1290  USER_1464       27         19  2647.24033     3.295837       2.944439   \n",
       "1291  USER_1465      134          2   155.66092     4.897840       0.693147   \n",
       "1292  USER_1466        9          1   301.02000     2.197225       0.000000   \n",
       "1293  USER_1467       22         53  6970.80527     3.091042       3.970292   \n",
       "\n",
       "      Monetary_log  Cluster  \n",
       "0         5.164682      1.0  \n",
       "1         9.166616     -1.0  \n",
       "2         7.314504      3.0  \n",
       "3         7.469341      0.0  \n",
       "4         6.481869      2.0  \n",
       "...            ...      ...  \n",
       "1289      6.704916      2.0  \n",
       "1290      7.881273      3.0  \n",
       "1291      5.047680      1.0  \n",
       "1292      5.707177      1.0  \n",
       "1293      8.849486     -1.0  \n",
       "\n",
       "[1294 rows x 8 columns]"
      ]
     },
     "execution_count": 4,
     "metadata": {},
     "output_type": "execute_result"
    }
   ],
   "source": [
    "# 적용\n",
    "processor = bw_class.RFMProcessor(train) \n",
    "rfm_without_outliers, rfm_outliers, rfm_without_outliers_log, X_scaled = processor.process_data()\n",
    "processor.fit_clustering(X_scaled, n_clusters=4)\n",
    "new_data_predictions = processor.predict(train)\n",
    "new_data_predictions"
   ]
  },
  {
   "cell_type": "code",
   "execution_count": 5,
   "id": "33157410-0cf4-451f-9368-f9ba07098e72",
   "metadata": {},
   "outputs": [
    {
     "data": {
      "text/html": [
       "<div>\n",
       "<style scoped>\n",
       "    .dataframe tbody tr th:only-of-type {\n",
       "        vertical-align: middle;\n",
       "    }\n",
       "\n",
       "    .dataframe tbody tr th {\n",
       "        vertical-align: top;\n",
       "    }\n",
       "\n",
       "    .dataframe thead th {\n",
       "        text-align: right;\n",
       "    }\n",
       "</style>\n",
       "<table border=\"1\" class=\"dataframe\">\n",
       "  <thead>\n",
       "    <tr style=\"text-align: right;\">\n",
       "      <th></th>\n",
       "      <th>IND</th>\n",
       "      <th>고객ID</th>\n",
       "      <th>거래ID</th>\n",
       "      <th>거래날짜</th>\n",
       "      <th>제품ID</th>\n",
       "      <th>제품카테고리</th>\n",
       "      <th>수량</th>\n",
       "      <th>평균금액</th>\n",
       "      <th>배송료</th>\n",
       "      <th>쿠폰상태</th>\n",
       "      <th>...</th>\n",
       "      <th>쿠폰코드</th>\n",
       "      <th>할인율</th>\n",
       "      <th>GST</th>\n",
       "      <th>고객소비액</th>\n",
       "      <th>매출</th>\n",
       "      <th>처음거래날짜</th>\n",
       "      <th>마지막거래날짜</th>\n",
       "      <th>거래날차이</th>\n",
       "      <th>재방문여부</th>\n",
       "      <th>고객분류</th>\n",
       "    </tr>\n",
       "  </thead>\n",
       "  <tbody>\n",
       "    <tr>\n",
       "      <th>0</th>\n",
       "      <td>0</td>\n",
       "      <td>USER_1358</td>\n",
       "      <td>Transaction_0000</td>\n",
       "      <td>2019-01-01</td>\n",
       "      <td>Product_0981</td>\n",
       "      <td>Nest-USA</td>\n",
       "      <td>1</td>\n",
       "      <td>153.71</td>\n",
       "      <td>6.50</td>\n",
       "      <td>Used</td>\n",
       "      <td>...</td>\n",
       "      <td>ELEC10</td>\n",
       "      <td>10.0</td>\n",
       "      <td>0.10</td>\n",
       "      <td>158.6729</td>\n",
       "      <td>153.71</td>\n",
       "      <td>2019-01-01</td>\n",
       "      <td>2019-01-26</td>\n",
       "      <td>25 days</td>\n",
       "      <td>1</td>\n",
       "      <td>VIP고객</td>\n",
       "    </tr>\n",
       "    <tr>\n",
       "      <th>1</th>\n",
       "      <td>1</td>\n",
       "      <td>USER_1358</td>\n",
       "      <td>Transaction_0001</td>\n",
       "      <td>2019-01-01</td>\n",
       "      <td>Product_0981</td>\n",
       "      <td>Nest-USA</td>\n",
       "      <td>1</td>\n",
       "      <td>153.71</td>\n",
       "      <td>6.50</td>\n",
       "      <td>Used</td>\n",
       "      <td>...</td>\n",
       "      <td>ELEC10</td>\n",
       "      <td>10.0</td>\n",
       "      <td>0.10</td>\n",
       "      <td>158.6729</td>\n",
       "      <td>153.71</td>\n",
       "      <td>2019-01-01</td>\n",
       "      <td>2019-01-26</td>\n",
       "      <td>25 days</td>\n",
       "      <td>1</td>\n",
       "      <td>VIP고객</td>\n",
       "    </tr>\n",
       "    <tr>\n",
       "      <th>2</th>\n",
       "      <td>2</td>\n",
       "      <td>USER_1358</td>\n",
       "      <td>Transaction_0002</td>\n",
       "      <td>2019-01-01</td>\n",
       "      <td>Product_0904</td>\n",
       "      <td>Office</td>\n",
       "      <td>1</td>\n",
       "      <td>2.05</td>\n",
       "      <td>6.50</td>\n",
       "      <td>Used</td>\n",
       "      <td>...</td>\n",
       "      <td>OFF10</td>\n",
       "      <td>10.0</td>\n",
       "      <td>0.10</td>\n",
       "      <td>8.5295</td>\n",
       "      <td>2.05</td>\n",
       "      <td>2019-01-01</td>\n",
       "      <td>2019-01-26</td>\n",
       "      <td>25 days</td>\n",
       "      <td>1</td>\n",
       "      <td>VIP고객</td>\n",
       "    </tr>\n",
       "    <tr>\n",
       "      <th>3</th>\n",
       "      <td>3</td>\n",
       "      <td>USER_1358</td>\n",
       "      <td>Transaction_0003</td>\n",
       "      <td>2019-01-01</td>\n",
       "      <td>Product_0203</td>\n",
       "      <td>Apparel</td>\n",
       "      <td>5</td>\n",
       "      <td>17.53</td>\n",
       "      <td>6.50</td>\n",
       "      <td>Not Used</td>\n",
       "      <td>...</td>\n",
       "      <td>SALE10</td>\n",
       "      <td>0.0</td>\n",
       "      <td>0.18</td>\n",
       "      <td>109.9270</td>\n",
       "      <td>87.65</td>\n",
       "      <td>2019-01-01</td>\n",
       "      <td>2019-01-26</td>\n",
       "      <td>25 days</td>\n",
       "      <td>1</td>\n",
       "      <td>VIP고객</td>\n",
       "    </tr>\n",
       "    <tr>\n",
       "      <th>4</th>\n",
       "      <td>4</td>\n",
       "      <td>USER_1358</td>\n",
       "      <td>Transaction_0003</td>\n",
       "      <td>2019-01-01</td>\n",
       "      <td>Product_0848</td>\n",
       "      <td>Bags</td>\n",
       "      <td>1</td>\n",
       "      <td>16.50</td>\n",
       "      <td>6.50</td>\n",
       "      <td>Used</td>\n",
       "      <td>...</td>\n",
       "      <td>AIO10</td>\n",
       "      <td>10.0</td>\n",
       "      <td>0.18</td>\n",
       "      <td>24.0230</td>\n",
       "      <td>16.50</td>\n",
       "      <td>2019-01-01</td>\n",
       "      <td>2019-01-26</td>\n",
       "      <td>25 days</td>\n",
       "      <td>1</td>\n",
       "      <td>VIP고객</td>\n",
       "    </tr>\n",
       "    <tr>\n",
       "      <th>...</th>\n",
       "      <td>...</td>\n",
       "      <td>...</td>\n",
       "      <td>...</td>\n",
       "      <td>...</td>\n",
       "      <td>...</td>\n",
       "      <td>...</td>\n",
       "      <td>...</td>\n",
       "      <td>...</td>\n",
       "      <td>...</td>\n",
       "      <td>...</td>\n",
       "      <td>...</td>\n",
       "      <td>...</td>\n",
       "      <td>...</td>\n",
       "      <td>...</td>\n",
       "      <td>...</td>\n",
       "      <td>...</td>\n",
       "      <td>...</td>\n",
       "      <td>...</td>\n",
       "      <td>...</td>\n",
       "      <td>...</td>\n",
       "      <td>...</td>\n",
       "    </tr>\n",
       "    <tr>\n",
       "      <th>44456</th>\n",
       "      <td>44456</td>\n",
       "      <td>USER_0035</td>\n",
       "      <td>Transaction_20090</td>\n",
       "      <td>2019-10-31</td>\n",
       "      <td>Product_0989</td>\n",
       "      <td>Nest-USA</td>\n",
       "      <td>2</td>\n",
       "      <td>149.00</td>\n",
       "      <td>6.00</td>\n",
       "      <td>Not Used</td>\n",
       "      <td>...</td>\n",
       "      <td>ELEC10</td>\n",
       "      <td>0.0</td>\n",
       "      <td>0.10</td>\n",
       "      <td>333.8000</td>\n",
       "      <td>298.00</td>\n",
       "      <td>2019-03-06</td>\n",
       "      <td>2019-10-31</td>\n",
       "      <td>239 days</td>\n",
       "      <td>1</td>\n",
       "      <td>관심고객</td>\n",
       "    </tr>\n",
       "    <tr>\n",
       "      <th>44457</th>\n",
       "      <td>44457</td>\n",
       "      <td>USER_0035</td>\n",
       "      <td>Transaction_20091</td>\n",
       "      <td>2019-10-31</td>\n",
       "      <td>Product_0981</td>\n",
       "      <td>Nest-USA</td>\n",
       "      <td>1</td>\n",
       "      <td>149.00</td>\n",
       "      <td>6.00</td>\n",
       "      <td>Used</td>\n",
       "      <td>...</td>\n",
       "      <td>ELEC10</td>\n",
       "      <td>10.0</td>\n",
       "      <td>0.10</td>\n",
       "      <td>153.5100</td>\n",
       "      <td>149.00</td>\n",
       "      <td>2019-03-06</td>\n",
       "      <td>2019-10-31</td>\n",
       "      <td>239 days</td>\n",
       "      <td>1</td>\n",
       "      <td>관심고객</td>\n",
       "    </tr>\n",
       "    <tr>\n",
       "      <th>44458</th>\n",
       "      <td>44458</td>\n",
       "      <td>USER_0035</td>\n",
       "      <td>Transaction_20092</td>\n",
       "      <td>2019-10-31</td>\n",
       "      <td>Product_0990</td>\n",
       "      <td>Nest</td>\n",
       "      <td>1</td>\n",
       "      <td>199.00</td>\n",
       "      <td>19.99</td>\n",
       "      <td>Used</td>\n",
       "      <td>...</td>\n",
       "      <td>NE10</td>\n",
       "      <td>10.0</td>\n",
       "      <td>0.05</td>\n",
       "      <td>208.0450</td>\n",
       "      <td>199.00</td>\n",
       "      <td>2019-03-06</td>\n",
       "      <td>2019-10-31</td>\n",
       "      <td>239 days</td>\n",
       "      <td>1</td>\n",
       "      <td>관심고객</td>\n",
       "    </tr>\n",
       "    <tr>\n",
       "      <th>44459</th>\n",
       "      <td>44459</td>\n",
       "      <td>USER_0035</td>\n",
       "      <td>Transaction_20093</td>\n",
       "      <td>2019-10-31</td>\n",
       "      <td>Product_0992</td>\n",
       "      <td>Nest</td>\n",
       "      <td>1</td>\n",
       "      <td>99.00</td>\n",
       "      <td>6.00</td>\n",
       "      <td>Clicked</td>\n",
       "      <td>...</td>\n",
       "      <td>NE10</td>\n",
       "      <td>0.0</td>\n",
       "      <td>0.05</td>\n",
       "      <td>109.9500</td>\n",
       "      <td>99.00</td>\n",
       "      <td>2019-03-06</td>\n",
       "      <td>2019-10-31</td>\n",
       "      <td>239 days</td>\n",
       "      <td>1</td>\n",
       "      <td>관심고객</td>\n",
       "    </tr>\n",
       "    <tr>\n",
       "      <th>44460</th>\n",
       "      <td>44460</td>\n",
       "      <td>USER_0035</td>\n",
       "      <td>Transaction_20094</td>\n",
       "      <td>2019-10-31</td>\n",
       "      <td>Product_0976</td>\n",
       "      <td>Nest-USA</td>\n",
       "      <td>5</td>\n",
       "      <td>119.00</td>\n",
       "      <td>6.00</td>\n",
       "      <td>Used</td>\n",
       "      <td>...</td>\n",
       "      <td>ELEC10</td>\n",
       "      <td>10.0</td>\n",
       "      <td>0.10</td>\n",
       "      <td>595.0500</td>\n",
       "      <td>595.00</td>\n",
       "      <td>2019-03-06</td>\n",
       "      <td>2019-10-31</td>\n",
       "      <td>239 days</td>\n",
       "      <td>1</td>\n",
       "      <td>관심고객</td>\n",
       "    </tr>\n",
       "  </tbody>\n",
       "</table>\n",
       "<p>44461 rows × 24 columns</p>\n",
       "</div>"
      ],
      "text/plain": [
       "         IND       고객ID               거래ID       거래날짜          제품ID    제품카테고리  \\\n",
       "0          0  USER_1358   Transaction_0000 2019-01-01  Product_0981  Nest-USA   \n",
       "1          1  USER_1358   Transaction_0001 2019-01-01  Product_0981  Nest-USA   \n",
       "2          2  USER_1358   Transaction_0002 2019-01-01  Product_0904    Office   \n",
       "3          3  USER_1358   Transaction_0003 2019-01-01  Product_0203   Apparel   \n",
       "4          4  USER_1358   Transaction_0003 2019-01-01  Product_0848      Bags   \n",
       "...      ...        ...                ...        ...           ...       ...   \n",
       "44456  44456  USER_0035  Transaction_20090 2019-10-31  Product_0989  Nest-USA   \n",
       "44457  44457  USER_0035  Transaction_20091 2019-10-31  Product_0981  Nest-USA   \n",
       "44458  44458  USER_0035  Transaction_20092 2019-10-31  Product_0990      Nest   \n",
       "44459  44459  USER_0035  Transaction_20093 2019-10-31  Product_0992      Nest   \n",
       "44460  44460  USER_0035  Transaction_20094 2019-10-31  Product_0976  Nest-USA   \n",
       "\n",
       "       수량    평균금액    배송료      쿠폰상태  ...    쿠폰코드   할인율   GST     고객소비액      매출  \\\n",
       "0       1  153.71   6.50      Used  ...  ELEC10  10.0  0.10  158.6729  153.71   \n",
       "1       1  153.71   6.50      Used  ...  ELEC10  10.0  0.10  158.6729  153.71   \n",
       "2       1    2.05   6.50      Used  ...   OFF10  10.0  0.10    8.5295    2.05   \n",
       "3       5   17.53   6.50  Not Used  ...  SALE10   0.0  0.18  109.9270   87.65   \n",
       "4       1   16.50   6.50      Used  ...   AIO10  10.0  0.18   24.0230   16.50   \n",
       "...    ..     ...    ...       ...  ...     ...   ...   ...       ...     ...   \n",
       "44456   2  149.00   6.00  Not Used  ...  ELEC10   0.0  0.10  333.8000  298.00   \n",
       "44457   1  149.00   6.00      Used  ...  ELEC10  10.0  0.10  153.5100  149.00   \n",
       "44458   1  199.00  19.99      Used  ...    NE10  10.0  0.05  208.0450  199.00   \n",
       "44459   1   99.00   6.00   Clicked  ...    NE10   0.0  0.05  109.9500   99.00   \n",
       "44460   5  119.00   6.00      Used  ...  ELEC10  10.0  0.10  595.0500  595.00   \n",
       "\n",
       "          처음거래날짜    마지막거래날짜     거래날차이  재방문여부   고객분류  \n",
       "0     2019-01-01 2019-01-26   25 days      1  VIP고객  \n",
       "1     2019-01-01 2019-01-26   25 days      1  VIP고객  \n",
       "2     2019-01-01 2019-01-26   25 days      1  VIP고객  \n",
       "3     2019-01-01 2019-01-26   25 days      1  VIP고객  \n",
       "4     2019-01-01 2019-01-26   25 days      1  VIP고객  \n",
       "...          ...        ...       ...    ...    ...  \n",
       "44456 2019-03-06 2019-10-31  239 days      1   관심고객  \n",
       "44457 2019-03-06 2019-10-31  239 days      1   관심고객  \n",
       "44458 2019-03-06 2019-10-31  239 days      1   관심고객  \n",
       "44459 2019-03-06 2019-10-31  239 days      1   관심고객  \n",
       "44460 2019-03-06 2019-10-31  239 days      1   관심고객  \n",
       "\n",
       "[44461 rows x 24 columns]"
      ]
     },
     "execution_count": 5,
     "metadata": {},
     "output_type": "execute_result"
    }
   ],
   "source": [
    "cluster_data = bw_class.mapping_cluster(new_data_predictions)\n",
    "cluster = cluster_data[['고객ID', '고객분류']]\n",
    "sy = sy_df.merge(cluster, on = '고객ID', how = 'left')\n",
    "sy"
   ]
  },
  {
   "cell_type": "code",
   "execution_count": 6,
   "id": "bde14f5f-7085-4f3c-b3de-797b7c48d210",
   "metadata": {},
   "outputs": [
    {
     "data": {
      "image/png": "[encoded data removed]",
      "text/plain": [
       "<Figure size 1800x1000 with 2 Axes>"
      ]
     },
     "metadata": {},
     "output_type": "display_data"
    }
   ],
   "source": [
    "# 코호트 분석\n",
    "cohort_analysis = sy_class.CohortAnalysis(sy, new_data_predictions)\n",
    "cohort_analysis.calculate_purchase_metrics()\n",
    "cohort = cohort_analysis.calculate_cohort()\n",
    "retention_matrix = cohort_analysis.calculate_retention_rate(cohort)\n",
    "cohort_analysis.visualize_retention_rate(retention_matrix)\n"
   ]
  },
  {
   "cell_type": "code",
   "execution_count": 7,
   "id": "62f95ee3-5aea-42e2-ae8c-00d5f43fc97d",
   "metadata": {},
   "outputs": [],
   "source": [
    "# 카테고리별 재구매"
   ]
  },
  {
   "cell_type": "code",
   "execution_count": 8,
   "id": "23b24a8f-c774-4b50-b75b-3bf21cbca487",
   "metadata": {},
   "outputs": [
    {
     "name": "stdout",
     "output_type": "stream",
     "text": [
      "Apparel 카테고리의 평균 재구매 주기: 3.517 일\n",
      "Office 카테고리의 평균 재구매 주기: 7.951 일\n",
      "Bags 카테고리의 평균 재구매 주기: 16.478 일\n",
      "Drinkware 카테고리의 평균 재구매 주기: 11.366 일\n",
      "Google 카테고리의 평균 재구매 주기: 25.188 일\n",
      "Headgear 카테고리의 평균 재구매 주기: 25.555 일\n",
      "Nest-USA 카테고리의 평균 재구매 주기: 4.759 일\n",
      "Lifestyle 카테고리의 평균 재구매 주기: 10.874 일\n",
      "Nest 카테고리의 평균 재구매 주기: 1.412 일\n",
      "Bottles 카테고리의 평균 재구매 주기: 34.908 일\n",
      "Nest-Canada 카테고리의 평균 재구매 주기: 19.711 일\n",
      "Notebooks & Journals 카테고리의 평균 재구매 주기: 16.230 일\n",
      "Backpacks 카테고리의 평균 재구매 주기: 12.357 일\n",
      "Gift Cards 카테고리의 평균 재구매 주기: 0.838 일\n",
      "Waze 카테고리의 평균 재구매 주기: 13.449 일\n",
      "Fun 카테고리의 평균 재구매 주기: 29.405 일\n",
      "Accessories 카테고리의 평균 재구매 주기: 13.542 일\n",
      "Housewares 카테고리의 평균 재구매 주기: 41.533 일\n",
      "Android 카테고리의 평균 재구매 주기: 40.000 일\n",
      "More Bags 카테고리의 평균 재구매 주기: 0.000 일\n"
     ]
    }
   ],
   "source": [
    "customer_category_groups = sy.groupby(['고객ID', '제품카테고리'])\n",
    "category_repurchase_periods = {}\n",
    "\n",
    "# 고객별로 제품 카테고리 재구매 주기 계산\n",
    "for name, group in customer_category_groups:\n",
    "    \n",
    "    # 시간순으로 정렬\n",
    "    group = group.sort_values(by='거래날짜')\n",
    "\n",
    "    # 각 거래 간의 시간 간격 계산\n",
    "    purchase_gaps = group['거래날짜'].diff().dt.days\n",
    "    \n",
    "    # 첫 번째 구매 제외 (재구매 주기는 두 번째 구매부터 계산)\n",
    "    purchase_gaps = purchase_gaps.iloc[1:]\n",
    "    \n",
    "    category = name[1]  #제품카테고리\n",
    "    if category not in category_repurchase_periods:\n",
    "        category_repurchase_periods[category] = []\n",
    "    category_repurchase_periods[category].extend(purchase_gaps)\n",
    "\n",
    "# 각 제품 카테고리별로 평균 재구매 주기 계산\n",
    "average_repurchase_periods = {}\n",
    "for category, periods in category_repurchase_periods.items():\n",
    "    average_repurchase_periods[category] = pd.Series(periods).mean()\n",
    "\n",
    "# 결과 출력\n",
    "for category, avg_period in average_repurchase_periods.items():\n",
    "    print(f\"{category} 카테고리의 평균 재구매 주기: {avg_period:.3f} 일\")"
   ]
  },
  {
   "cell_type": "code",
   "execution_count": 9,
   "id": "8fedd716-6e2a-4c92-a7cf-d3796d0bb532",
   "metadata": {},
   "outputs": [
    {
     "data": {
      "text/html": [
       "<div>\n",
       "<style scoped>\n",
       "    .dataframe tbody tr th:only-of-type {\n",
       "        vertical-align: middle;\n",
       "    }\n",
       "\n",
       "    .dataframe tbody tr th {\n",
       "        vertical-align: top;\n",
       "    }\n",
       "\n",
       "    .dataframe thead th {\n",
       "        text-align: right;\n",
       "    }\n",
       "</style>\n",
       "<table border=\"1\" class=\"dataframe\">\n",
       "  <thead>\n",
       "    <tr style=\"text-align: right;\">\n",
       "      <th></th>\n",
       "      <th>제품카테고리</th>\n",
       "      <th>평균 재구매 주기(일)</th>\n",
       "    </tr>\n",
       "  </thead>\n",
       "  <tbody>\n",
       "    <tr>\n",
       "      <th>0</th>\n",
       "      <td>Apparel</td>\n",
       "      <td>3.517378</td>\n",
       "    </tr>\n",
       "    <tr>\n",
       "      <th>1</th>\n",
       "      <td>Office</td>\n",
       "      <td>7.950936</td>\n",
       "    </tr>\n",
       "    <tr>\n",
       "      <th>2</th>\n",
       "      <td>Bags</td>\n",
       "      <td>16.477539</td>\n",
       "    </tr>\n",
       "    <tr>\n",
       "      <th>3</th>\n",
       "      <td>Drinkware</td>\n",
       "      <td>11.365633</td>\n",
       "    </tr>\n",
       "    <tr>\n",
       "      <th>4</th>\n",
       "      <td>Google</td>\n",
       "      <td>25.187500</td>\n",
       "    </tr>\n",
       "    <tr>\n",
       "      <th>5</th>\n",
       "      <td>Headgear</td>\n",
       "      <td>25.554839</td>\n",
       "    </tr>\n",
       "    <tr>\n",
       "      <th>6</th>\n",
       "      <td>Nest-USA</td>\n",
       "      <td>4.758780</td>\n",
       "    </tr>\n",
       "    <tr>\n",
       "      <th>7</th>\n",
       "      <td>Lifestyle</td>\n",
       "      <td>10.873895</td>\n",
       "    </tr>\n",
       "    <tr>\n",
       "      <th>8</th>\n",
       "      <td>Nest</td>\n",
       "      <td>1.411559</td>\n",
       "    </tr>\n",
       "    <tr>\n",
       "      <th>9</th>\n",
       "      <td>Bottles</td>\n",
       "      <td>34.907692</td>\n",
       "    </tr>\n",
       "    <tr>\n",
       "      <th>10</th>\n",
       "      <td>Nest-Canada</td>\n",
       "      <td>19.711340</td>\n",
       "    </tr>\n",
       "    <tr>\n",
       "      <th>11</th>\n",
       "      <td>Notebooks &amp; Journals</td>\n",
       "      <td>16.229917</td>\n",
       "    </tr>\n",
       "    <tr>\n",
       "      <th>12</th>\n",
       "      <td>Backpacks</td>\n",
       "      <td>12.357143</td>\n",
       "    </tr>\n",
       "    <tr>\n",
       "      <th>13</th>\n",
       "      <td>Gift Cards</td>\n",
       "      <td>0.837500</td>\n",
       "    </tr>\n",
       "    <tr>\n",
       "      <th>14</th>\n",
       "      <td>Waze</td>\n",
       "      <td>13.449198</td>\n",
       "    </tr>\n",
       "    <tr>\n",
       "      <th>15</th>\n",
       "      <td>Fun</td>\n",
       "      <td>29.404762</td>\n",
       "    </tr>\n",
       "    <tr>\n",
       "      <th>16</th>\n",
       "      <td>Accessories</td>\n",
       "      <td>13.541667</td>\n",
       "    </tr>\n",
       "    <tr>\n",
       "      <th>17</th>\n",
       "      <td>Housewares</td>\n",
       "      <td>41.533333</td>\n",
       "    </tr>\n",
       "    <tr>\n",
       "      <th>18</th>\n",
       "      <td>Android</td>\n",
       "      <td>40.000000</td>\n",
       "    </tr>\n",
       "    <tr>\n",
       "      <th>19</th>\n",
       "      <td>More Bags</td>\n",
       "      <td>0.000000</td>\n",
       "    </tr>\n",
       "  </tbody>\n",
       "</table>\n",
       "</div>"
      ],
      "text/plain": [
       "                  제품카테고리  평균 재구매 주기(일)\n",
       "0                Apparel      3.517378\n",
       "1                 Office      7.950936\n",
       "2                   Bags     16.477539\n",
       "3              Drinkware     11.365633\n",
       "4                 Google     25.187500\n",
       "5               Headgear     25.554839\n",
       "6               Nest-USA      4.758780\n",
       "7              Lifestyle     10.873895\n",
       "8                   Nest      1.411559\n",
       "9                Bottles     34.907692\n",
       "10           Nest-Canada     19.711340\n",
       "11  Notebooks & Journals     16.229917\n",
       "12             Backpacks     12.357143\n",
       "13            Gift Cards      0.837500\n",
       "14                  Waze     13.449198\n",
       "15                   Fun     29.404762\n",
       "16           Accessories     13.541667\n",
       "17            Housewares     41.533333\n",
       "18               Android     40.000000\n",
       "19             More Bags      0.000000"
      ]
     },
     "execution_count": 9,
     "metadata": {},
     "output_type": "execute_result"
    }
   ],
   "source": [
    "result_df = pd.DataFrame(list(average_repurchase_periods.items()), columns=['제품카테고리', '평균 재구매 주기(일)'])\n",
    "result_df"
   ]
  },
  {
   "cell_type": "code",
   "execution_count": 10,
   "id": "dd10f9f0-9f92-4a2a-bdcd-d1c4e916e376",
   "metadata": {},
   "outputs": [],
   "source": [
    "# 첫 번째 그룹바이 및 카운트\n",
    "klk = sy.groupby(['고객ID', '거래날짜', '제품카테고리']).size().reset_index(name='n')\n",
    "\n",
    "# 고객ID와 제품카테고리로 그룹바이하여 재구매 횟수 계산\n",
    "klk = klk.groupby(['고객ID', '제품카테고리']).size().reset_index(name='n2')\n",
    "\n",
    "# n2가 1이 아닌 행 필터링\n",
    "klk = klk[klk['n2'] != 1]\n",
    "\n",
    "# n2를 1씩 감소\n",
    "klk['n2'] = klk['n2'] - 1"
   ]
  },
  {
   "cell_type": "code",
   "execution_count": 11,
   "id": "7760eae2-5955-4855-8e44-49d96ab96093",
   "metadata": {},
   "outputs": [
    {
     "data": {
      "text/html": [
       "<div>\n",
       "<style scoped>\n",
       "    .dataframe tbody tr th:only-of-type {\n",
       "        vertical-align: middle;\n",
       "    }\n",
       "\n",
       "    .dataframe tbody tr th {\n",
       "        vertical-align: top;\n",
       "    }\n",
       "\n",
       "    .dataframe thead th {\n",
       "        text-align: right;\n",
       "    }\n",
       "</style>\n",
       "<table border=\"1\" class=\"dataframe\">\n",
       "  <thead>\n",
       "    <tr style=\"text-align: right;\">\n",
       "      <th></th>\n",
       "      <th>제품카테고리</th>\n",
       "      <th>n</th>\n",
       "      <th>sum</th>\n",
       "      <th>재구매율</th>\n",
       "    </tr>\n",
       "  </thead>\n",
       "  <tbody>\n",
       "    <tr>\n",
       "      <th>0</th>\n",
       "      <td>Accessories</td>\n",
       "      <td>4</td>\n",
       "      <td>4</td>\n",
       "      <td>1.000000</td>\n",
       "    </tr>\n",
       "    <tr>\n",
       "      <th>1</th>\n",
       "      <td>Android</td>\n",
       "      <td>1</td>\n",
       "      <td>1</td>\n",
       "      <td>1.000000</td>\n",
       "    </tr>\n",
       "    <tr>\n",
       "      <th>2</th>\n",
       "      <td>Apparel</td>\n",
       "      <td>501</td>\n",
       "      <td>978</td>\n",
       "      <td>0.512270</td>\n",
       "    </tr>\n",
       "    <tr>\n",
       "      <th>3</th>\n",
       "      <td>Backpacks</td>\n",
       "      <td>4</td>\n",
       "      <td>5</td>\n",
       "      <td>0.800000</td>\n",
       "    </tr>\n",
       "    <tr>\n",
       "      <th>4</th>\n",
       "      <td>Bags</td>\n",
       "      <td>151</td>\n",
       "      <td>267</td>\n",
       "      <td>0.565543</td>\n",
       "    </tr>\n",
       "    <tr>\n",
       "      <th>5</th>\n",
       "      <td>Bottles</td>\n",
       "      <td>24</td>\n",
       "      <td>32</td>\n",
       "      <td>0.750000</td>\n",
       "    </tr>\n",
       "    <tr>\n",
       "      <th>6</th>\n",
       "      <td>Drinkware</td>\n",
       "      <td>246</td>\n",
       "      <td>436</td>\n",
       "      <td>0.564220</td>\n",
       "    </tr>\n",
       "    <tr>\n",
       "      <th>7</th>\n",
       "      <td>Fun</td>\n",
       "      <td>13</td>\n",
       "      <td>19</td>\n",
       "      <td>0.684211</td>\n",
       "    </tr>\n",
       "    <tr>\n",
       "      <th>8</th>\n",
       "      <td>Gift Cards</td>\n",
       "      <td>1</td>\n",
       "      <td>1</td>\n",
       "      <td>1.000000</td>\n",
       "    </tr>\n",
       "    <tr>\n",
       "      <th>9</th>\n",
       "      <td>Google</td>\n",
       "      <td>5</td>\n",
       "      <td>8</td>\n",
       "      <td>0.625000</td>\n",
       "    </tr>\n",
       "    <tr>\n",
       "      <th>10</th>\n",
       "      <td>Headgear</td>\n",
       "      <td>79</td>\n",
       "      <td>121</td>\n",
       "      <td>0.652893</td>\n",
       "    </tr>\n",
       "    <tr>\n",
       "      <th>11</th>\n",
       "      <td>Housewares</td>\n",
       "      <td>5</td>\n",
       "      <td>6</td>\n",
       "      <td>0.833333</td>\n",
       "    </tr>\n",
       "    <tr>\n",
       "      <th>12</th>\n",
       "      <td>Lifestyle</td>\n",
       "      <td>206</td>\n",
       "      <td>353</td>\n",
       "      <td>0.583569</td>\n",
       "    </tr>\n",
       "    <tr>\n",
       "      <th>13</th>\n",
       "      <td>Nest</td>\n",
       "      <td>36</td>\n",
       "      <td>55</td>\n",
       "      <td>0.654545</td>\n",
       "    </tr>\n",
       "    <tr>\n",
       "      <th>14</th>\n",
       "      <td>Nest-Canada</td>\n",
       "      <td>19</td>\n",
       "      <td>22</td>\n",
       "      <td>0.863636</td>\n",
       "    </tr>\n",
       "    <tr>\n",
       "      <th>15</th>\n",
       "      <td>Nest-USA</td>\n",
       "      <td>449</td>\n",
       "      <td>871</td>\n",
       "      <td>0.515499</td>\n",
       "    </tr>\n",
       "    <tr>\n",
       "      <th>16</th>\n",
       "      <td>Notebooks &amp; Journals</td>\n",
       "      <td>70</td>\n",
       "      <td>98</td>\n",
       "      <td>0.714286</td>\n",
       "    </tr>\n",
       "    <tr>\n",
       "      <th>17</th>\n",
       "      <td>Office</td>\n",
       "      <td>331</td>\n",
       "      <td>599</td>\n",
       "      <td>0.552588</td>\n",
       "    </tr>\n",
       "    <tr>\n",
       "      <th>18</th>\n",
       "      <td>Waze</td>\n",
       "      <td>33</td>\n",
       "      <td>46</td>\n",
       "      <td>0.717391</td>\n",
       "    </tr>\n",
       "  </tbody>\n",
       "</table>\n",
       "</div>"
      ],
      "text/plain": [
       "                  제품카테고리    n  sum      재구매율\n",
       "0            Accessories    4    4  1.000000\n",
       "1                Android    1    1  1.000000\n",
       "2                Apparel  501  978  0.512270\n",
       "3              Backpacks    4    5  0.800000\n",
       "4                   Bags  151  267  0.565543\n",
       "5                Bottles   24   32  0.750000\n",
       "6              Drinkware  246  436  0.564220\n",
       "7                    Fun   13   19  0.684211\n",
       "8             Gift Cards    1    1  1.000000\n",
       "9                 Google    5    8  0.625000\n",
       "10              Headgear   79  121  0.652893\n",
       "11            Housewares    5    6  0.833333\n",
       "12             Lifestyle  206  353  0.583569\n",
       "13                  Nest   36   55  0.654545\n",
       "14           Nest-Canada   19   22  0.863636\n",
       "15              Nest-USA  449  871  0.515499\n",
       "16  Notebooks & Journals   70   98  0.714286\n",
       "17                Office  331  599  0.552588\n",
       "18                  Waze   33   46  0.717391"
      ]
     },
     "execution_count": 11,
     "metadata": {},
     "output_type": "execute_result"
    }
   ],
   "source": [
    "# 제품카테고리별로 그룹바이하여 재구매율 계산\n",
    "ka = klk.groupby('제품카테고리').agg(\n",
    "    n=('고객ID', 'size'),\n",
    "    sum=('n2', 'sum')\n",
    ").reset_index()\n",
    "\n",
    "ka['재구매율'] = ka['n'] / ka['sum']\n",
    "\n",
    "# 결과 출력\n",
    "ka"
   ]
  },
  {
   "cell_type": "code",
   "execution_count": 12,
   "id": "04c97ded",
   "metadata": {},
   "outputs": [
    {
     "data": {
      "application/vnd.plotly.v1+json": {
       "config": {
        "plotlyServerURL": "https://plot.ly"
       },
       "data": [
        {
         "alignmentgroup": "True",
         "hovertemplate": "제품카테고리=%{y}<br>재구매율=%{text}<extra></extra>",
         "legendgroup": "Accessories",
         "marker": {
          "color": "#636efa",
          "pattern": {
           "shape": ""
          }
         },
         "name": "Accessories",
         "offsetgroup": "Accessories",
         "orientation": "h",
         "showlegend": true,
         "text": [
          1
         ],
         "textposition": "auto",
         "type": "bar",
         "x": [
          1
         ],
         "xaxis": "x",
         "y": [
          "Accessories"
         ],
         "yaxis": "y"
        },
        {
         "alignmentgroup": "True",
         "hovertemplate": "제품카테고리=%{y}<br>재구매율=%{text}<extra></extra>",
         "legendgroup": "Android",
         "marker": {
          "color": "#EF553B",
          "pattern": {
           "shape": ""
          }
         },
         "name": "Android",
         "offsetgroup": "Android",
         "orientation": "h",
         "showlegend": true,
         "text": [
          1
         ],
         "textposition": "auto",
         "type": "bar",
         "x": [
          1
         ],
         "xaxis": "x",
         "y": [
          "Android"
         ],
         "yaxis": "y"
        },
        {
         "alignmentgroup": "True",
         "hovertemplate": "제품카테고리=%{y}<br>재구매율=%{text}<extra></extra>",
         "legendgroup": "Apparel",
         "marker": {
          "color": "#00cc96",
          "pattern": {
           "shape": ""
          }
         },
         "name": "Apparel",
         "offsetgroup": "Apparel",
         "orientation": "h",
         "showlegend": true,
         "text": [
          0.5122699386503068
         ],
         "textposition": "auto",
         "type": "bar",
         "x": [
          0.5122699386503068
         ],
         "xaxis": "x",
         "y": [
          "Apparel"
         ],
         "yaxis": "y"
        },
        {
         "alignmentgroup": "True",
         "hovertemplate": "제품카테고리=%{y}<br>재구매율=%{text}<extra></extra>",
         "legendgroup": "Backpacks",
         "marker": {
          "color": "#ab63fa",
          "pattern": {
           "shape": ""
          }
         },
         "name": "Backpacks",
         "offsetgroup": "Backpacks",
         "orientation": "h",
         "showlegend": true,
         "text": [
          0.8
         ],
         "textposition": "auto",
         "type": "bar",
         "x": [
          0.8
         ],
         "xaxis": "x",
         "y": [
          "Backpacks"
         ],
         "yaxis": "y"
        },
        {
         "alignmentgroup": "True",
         "hovertemplate": "제품카테고리=%{y}<br>재구매율=%{text}<extra></extra>",
         "legendgroup": "Bags",
         "marker": {
          "color": "#FFA15A",
          "pattern": {
           "shape": ""
          }
         },
         "name": "Bags",
         "offsetgroup": "Bags",
         "orientation": "h",
         "showlegend": true,
         "text": [
          0.5655430711610487
         ],
         "textposition": "auto",
         "type": "bar",
         "x": [
          0.5655430711610487
         ],
         "xaxis": "x",
         "y": [
          "Bags"
         ],
         "yaxis": "y"
        },
        {
         "alignmentgroup": "True",
         "hovertemplate": "제품카테고리=%{y}<br>재구매율=%{text}<extra></extra>",
         "legendgroup": "Bottles",
         "marker": {
          "color": "#19d3f3",
          "pattern": {
           "shape": ""
          }
         },
         "name": "Bottles",
         "offsetgroup": "Bottles",
         "orientation": "h",
         "showlegend": true,
         "text": [
          0.75
         ],
         "textposition": "auto",
         "type": "bar",
         "x": [
          0.75
         ],
         "xaxis": "x",
         "y": [
          "Bottles"
         ],
         "yaxis": "y"
        },
        {
         "alignmentgroup": "True",
         "hovertemplate": "제품카테고리=%{y}<br>재구매율=%{text}<extra></extra>",
         "legendgroup": "Drinkware",
         "marker": {
          "color": "#FF6692",
          "pattern": {
           "shape": ""
          }
         },
         "name": "Drinkware",
         "offsetgroup": "Drinkware",
         "orientation": "h",
         "showlegend": true,
         "text": [
          0.5642201834862385
         ],
         "textposition": "auto",
         "type": "bar",
         "x": [
          0.5642201834862385
         ],
         "xaxis": "x",
         "y": [
          "Drinkware"
         ],
         "yaxis": "y"
        },
        {
         "alignmentgroup": "True",
         "hovertemplate": "제품카테고리=%{y}<br>재구매율=%{text}<extra></extra>",
         "legendgroup": "Fun",
         "marker": {
          "color": "#B6E880",
          "pattern": {
           "shape": ""
          }
         },
         "name": "Fun",
         "offsetgroup": "Fun",
         "orientation": "h",
         "showlegend": true,
         "text": [
          0.6842105263157895
         ],
         "textposition": "auto",
         "type": "bar",
         "x": [
          0.6842105263157895
         ],
         "xaxis": "x",
         "y": [
          "Fun"
         ],
         "yaxis": "y"
        },
        {
         "alignmentgroup": "True",
         "hovertemplate": "제품카테고리=%{y}<br>재구매율=%{text}<extra></extra>",
         "legendgroup": "Gift Cards",
         "marker": {
          "color": "#FF97FF",
          "pattern": {
           "shape": ""
          }
         },
         "name": "Gift Cards",
         "offsetgroup": "Gift Cards",
         "orientation": "h",
         "showlegend": true,
         "text": [
          1
         ],
         "textposition": "auto",
         "type": "bar",
         "x": [
          1
         ],
         "xaxis": "x",
         "y": [
          "Gift Cards"
         ],
         "yaxis": "y"
        },
        {
         "alignmentgroup": "True",
         "hovertemplate": "제품카테고리=%{y}<br>재구매율=%{text}<extra></extra>",
         "legendgroup": "Google",
         "marker": {
          "color": "#FECB52",
          "pattern": {
           "shape": ""
          }
         },
         "name": "Google",
         "offsetgroup": "Google",
         "orientation": "h",
         "showlegend": true,
         "text": [
          0.625
         ],
         "textposition": "auto",
         "type": "bar",
         "x": [
          0.625
         ],
         "xaxis": "x",
         "y": [
          "Google"
         ],
         "yaxis": "y"
        },
        {
         "alignmentgroup": "True",
         "hovertemplate": "제품카테고리=%{y}<br>재구매율=%{text}<extra></extra>",
         "legendgroup": "Headgear",
         "marker": {
          "color": "#636efa",
          "pattern": {
           "shape": ""
          }
         },
         "name": "Headgear",
         "offsetgroup": "Headgear",
         "orientation": "h",
         "showlegend": true,
         "text": [
          0.6528925619834711
         ],
         "textposition": "auto",
         "type": "bar",
         "x": [
          0.6528925619834711
         ],
         "xaxis": "x",
         "y": [
          "Headgear"
         ],
         "yaxis": "y"
        },
        {
         "alignmentgroup": "True",
         "hovertemplate": "제품카테고리=%{y}<br>재구매율=%{text}<extra></extra>",
         "legendgroup": "Housewares",
         "marker": {
          "color": "#EF553B",
          "pattern": {
           "shape": ""
          }
         },
         "name": "Housewares",
         "offsetgroup": "Housewares",
         "orientation": "h",
         "showlegend": true,
         "text": [
          0.8333333333333334
         ],
         "textposition": "auto",
         "type": "bar",
         "x": [
          0.8333333333333334
         ],
         "xaxis": "x",
         "y": [
          "Housewares"
         ],
         "yaxis": "y"
        },
        {
         "alignmentgroup": "True",
         "hovertemplate": "제품카테고리=%{y}<br>재구매율=%{text}<extra></extra>",
         "legendgroup": "Lifestyle",
         "marker": {
          "color": "#00cc96",
          "pattern": {
           "shape": ""
          }
         },
         "name": "Lifestyle",
         "offsetgroup": "Lifestyle",
         "orientation": "h",
         "showlegend": true,
         "text": [
          0.5835694050991501
         ],
         "textposition": "auto",
         "type": "bar",
         "x": [
          0.5835694050991501
         ],
         "xaxis": "x",
         "y": [
          "Lifestyle"
         ],
         "yaxis": "y"
        },
        {
         "alignmentgroup": "True",
         "hovertemplate": "제품카테고리=%{y}<br>재구매율=%{text}<extra></extra>",
         "legendgroup": "Nest",
         "marker": {
          "color": "#ab63fa",
          "pattern": {
           "shape": ""
          }
         },
         "name": "Nest",
         "offsetgroup": "Nest",
         "orientation": "h",
         "showlegend": true,
         "text": [
          0.6545454545454545
         ],
         "textposition": "auto",
         "type": "bar",
         "x": [
          0.6545454545454545
         ],
         "xaxis": "x",
         "y": [
          "Nest"
         ],
         "yaxis": "y"
        },
        {
         "alignmentgroup": "True",
         "hovertemplate": "제품카테고리=%{y}<br>재구매율=%{text}<extra></extra>",
         "legendgroup": "Nest-Canada",
         "marker": {
          "color": "#FFA15A",
          "pattern": {
           "shape": ""
          }
         },
         "name": "Nest-Canada",
         "offsetgroup": "Nest-Canada",
         "orientation": "h",
         "showlegend": true,
         "text": [
          0.8636363636363636
         ],
         "textposition": "auto",
         "type": "bar",
         "x": [
          0.8636363636363636
         ],
         "xaxis": "x",
         "y": [
          "Nest-Canada"
         ],
         "yaxis": "y"
        },
        {
         "alignmentgroup": "True",
         "hovertemplate": "제품카테고리=%{y}<br>재구매율=%{text}<extra></extra>",
         "legendgroup": "Nest-USA",
         "marker": {
          "color": "#19d3f3",
          "pattern": {
           "shape": ""
          }
         },
         "name": "Nest-USA",
         "offsetgroup": "Nest-USA",
         "orientation": "h",
         "showlegend": true,
         "text": [
          0.5154994259471871
         ],
         "textposition": "auto",
         "type": "bar",
         "x": [
          0.5154994259471871
         ],
         "xaxis": "x",
         "y": [
          "Nest-USA"
         ],
         "yaxis": "y"
        },
        {
         "alignmentgroup": "True",
         "hovertemplate": "제품카테고리=%{y}<br>재구매율=%{text}<extra></extra>",
         "legendgroup": "Notebooks & Journals",
         "marker": {
          "color": "#FF6692",
          "pattern": {
           "shape": ""
          }
         },
         "name": "Notebooks & Journals",
         "offsetgroup": "Notebooks & Journals",
         "orientation": "h",
         "showlegend": true,
         "text": [
          0.7142857142857143
         ],
         "textposition": "auto",
         "type": "bar",
         "x": [
          0.7142857142857143
         ],
         "xaxis": "x",
         "y": [
          "Notebooks & Journals"
         ],
         "yaxis": "y"
        },
        {
         "alignmentgroup": "True",
         "hovertemplate": "제품카테고리=%{y}<br>재구매율=%{text}<extra></extra>",
         "legendgroup": "Office",
         "marker": {
          "color": "#B6E880",
          "pattern": {
           "shape": ""
          }
         },
         "name": "Office",
         "offsetgroup": "Office",
         "orientation": "h",
         "showlegend": true,
         "text": [
          0.5525876460767947
         ],
         "textposition": "auto",
         "type": "bar",
         "x": [
          0.5525876460767947
         ],
         "xaxis": "x",
         "y": [
          "Office"
         ],
         "yaxis": "y"
        },
        {
         "alignmentgroup": "True",
         "hovertemplate": "제품카테고리=%{y}<br>재구매율=%{text}<extra></extra>",
         "legendgroup": "Waze",
         "marker": {
          "color": "#FF97FF",
          "pattern": {
           "shape": ""
          }
         },
         "name": "Waze",
         "offsetgroup": "Waze",
         "orientation": "h",
         "showlegend": true,
         "text": [
          0.717391304347826
         ],
         "textposition": "auto",
         "type": "bar",
         "x": [
          0.717391304347826
         ],
         "xaxis": "x",
         "y": [
          "Waze"
         ],
         "yaxis": "y"
        }
       ],
       "layout": {
        "barmode": "relative",
        "legend": {
         "title": {
          "text": "제품카테고리"
         },
         "tracegroupgap": 0
        },
        "template": {
         "data": {
          "bar": [
           {
            "error_x": {
             "color": "#2a3f5f"
            },
            "error_y": {
             "color": "#2a3f5f"
            },
            "marker": {
             "line": {
              "color": "#E5ECF6",
              "width": 0.5
             },
             "pattern": {
              "fillmode": "overlay",
              "size": 10,
              "solidity": 0.2
             }
            },
            "type": "bar"
           }
          ],
          "barpolar": [
           {
            "marker": {
             "line": {
              "color": "#E5ECF6",
              "width": 0.5
             },
             "pattern": {
              "fillmode": "overlay",
              "size": 10,
              "solidity": 0.2
             }
            },
            "type": "barpolar"
           }
          ],
          "carpet": [
           {
            "aaxis": {
             "endlinecolor": "#2a3f5f",
             "gridcolor": "white",
             "linecolor": "white",
             "minorgridcolor": "white",
             "startlinecolor": "#2a3f5f"
            },
            "baxis": {
             "endlinecolor": "#2a3f5f",
             "gridcolor": "white",
             "linecolor": "white",
             "minorgridcolor": "white",
             "startlinecolor": "#2a3f5f"
            },
            "type": "carpet"
           }
          ],
          "choropleth": [
           {
            "colorbar": {
             "outlinewidth": 0,
             "ticks": ""
            },
            "type": "choropleth"
           }
          ],
          "contour": [
           {
            "colorbar": {
             "outlinewidth": 0,
             "ticks": ""
            },
            "colorscale": [
             [
              0,
              "#0d0887"
             ],
             [
              0.1111111111111111,
              "#46039f"
             ],
             [
              0.2222222222222222,
              "#7201a8"
             ],
             [
              0.3333333333333333,
              "#9c179e"
             ],
             [
              0.4444444444444444,
              "#bd3786"
             ],
             [
              0.5555555555555556,
              "#d8576b"
             ],
             [
              0.6666666666666666,
              "#ed7953"
             ],
             [
              0.7777777777777778,
              "#fb9f3a"
             ],
             [
              0.8888888888888888,
              "#fdca26"
             ],
             [
              1,
              "#f0f921"
             ]
            ],
            "type": "contour"
           }
          ],
          "contourcarpet": [
           {
            "colorbar": {
             "outlinewidth": 0,
             "ticks": ""
            },
            "type": "contourcarpet"
           }
          ],
          "heatmap": [
           {
            "colorbar": {
             "outlinewidth": 0,
             "ticks": ""
            },
            "colorscale": [
             [
              0,
              "#0d0887"
             ],
             [
              0.1111111111111111,
              "#46039f"
             ],
             [
              0.2222222222222222,
              "#7201a8"
             ],
             [
              0.3333333333333333,
              "#9c179e"
             ],
             [
              0.4444444444444444,
              "#bd3786"
             ],
             [
              0.5555555555555556,
              "#d8576b"
             ],
             [
              0.6666666666666666,
              "#ed7953"
             ],
             [
              0.7777777777777778,
              "#fb9f3a"
             ],
             [
              0.8888888888888888,
              "#fdca26"
             ],
             [
              1,
              "#f0f921"
             ]
            ],
            "type": "heatmap"
           }
          ],
          "heatmapgl": [
           {
            "colorbar": {
             "outlinewidth": 0,
             "ticks": ""
            },
            "colorscale": [
             [
              0,
              "#0d0887"
             ],
             [
              0.1111111111111111,
              "#46039f"
             ],
             [
              0.2222222222222222,
              "#7201a8"
             ],
             [
              0.3333333333333333,
              "#9c179e"
             ],
             [
              0.4444444444444444,
              "#bd3786"
             ],
             [
              0.5555555555555556,
              "#d8576b"
             ],
             [
              0.6666666666666666,
              "#ed7953"
             ],
             [
              0.7777777777777778,
              "#fb9f3a"
             ],
             [
              0.8888888888888888,
              "#fdca26"
             ],
             [
              1,
              "#f0f921"
             ]
            ],
            "type": "heatmapgl"
           }
          ],
          "histogram": [
           {
            "marker": {
             "pattern": {
              "fillmode": "overlay",
              "size": 10,
              "solidity": 0.2
             }
            },
            "type": "histogram"
           }
          ],
          "histogram2d": [
           {
            "colorbar": {
             "outlinewidth": 0,
             "ticks": ""
            },
            "colorscale": [
             [
              0,
              "#0d0887"
             ],
             [
              0.1111111111111111,
              "#46039f"
             ],
             [
              0.2222222222222222,
              "#7201a8"
             ],
             [
              0.3333333333333333,
              "#9c179e"
             ],
             [
              0.4444444444444444,
              "#bd3786"
             ],
             [
              0.5555555555555556,
              "#d8576b"
             ],
             [
              0.6666666666666666,
              "#ed7953"
             ],
             [
              0.7777777777777778,
              "#fb9f3a"
             ],
             [
              0.8888888888888888,
              "#fdca26"
             ],
             [
              1,
              "#f0f921"
             ]
            ],
            "type": "histogram2d"
           }
          ],
          "histogram2dcontour": [
           {
            "colorbar": {
             "outlinewidth": 0,
             "ticks": ""
            },
            "colorscale": [
             [
              0,
              "#0d0887"
             ],
             [
              0.1111111111111111,
              "#46039f"
             ],
             [
              0.2222222222222222,
              "#7201a8"
             ],
             [
              0.3333333333333333,
              "#9c179e"
             ],
             [
              0.4444444444444444,
              "#bd3786"
             ],
             [
              0.5555555555555556,
              "#d8576b"
             ],
             [
              0.6666666666666666,
              "#ed7953"
             ],
             [
              0.7777777777777778,
              "#fb9f3a"
             ],
             [
              0.8888888888888888,
              "#fdca26"
             ],
             [
              1,
              "#f0f921"
             ]
            ],
            "type": "histogram2dcontour"
           }
          ],
          "mesh3d": [
           {
            "colorbar": {
             "outlinewidth": 0,
             "ticks": ""
            },
            "type": "mesh3d"
           }
          ],
          "parcoords": [
           {
            "line": {
             "colorbar": {
              "outlinewidth": 0,
              "ticks": ""
             }
            },
            "type": "parcoords"
           }
          ],
          "pie": [
           {
            "automargin": true,
            "type": "pie"
           }
          ],
          "scatter": [
           {
            "fillpattern": {
             "fillmode": "overlay",
             "size": 10,
             "solidity": 0.2
            },
            "type": "scatter"
           }
          ],
          "scatter3d": [
           {
            "line": {
             "colorbar": {
              "outlinewidth": 0,
              "ticks": ""
             }
            },
            "marker": {
             "colorbar": {
              "outlinewidth": 0,
              "ticks": ""
             }
            },
            "type": "scatter3d"
           }
          ],
          "scattercarpet": [
           {
            "marker": {
             "colorbar": {
              "outlinewidth": 0,
              "ticks": ""
             }
            },
            "type": "scattercarpet"
           }
          ],
          "scattergeo": [
           {
            "marker": {
             "colorbar": {
              "outlinewidth": 0,
              "ticks": ""
             }
            },
            "type": "scattergeo"
           }
          ],
          "scattergl": [
           {
            "marker": {
             "colorbar": {
              "outlinewidth": 0,
              "ticks": ""
             }
            },
            "type": "scattergl"
           }
          ],
          "scattermapbox": [
           {
            "marker": {
             "colorbar": {
              "outlinewidth": 0,
              "ticks": ""
             }
            },
            "type": "scattermapbox"
           }
          ],
          "scatterpolar": [
           {
            "marker": {
             "colorbar": {
              "outlinewidth": 0,
              "ticks": ""
             }
            },
            "type": "scatterpolar"
           }
          ],
          "scatterpolargl": [
           {
            "marker": {
             "colorbar": {
              "outlinewidth": 0,
              "ticks": ""
             }
            },
            "type": "scatterpolargl"
           }
          ],
          "scatterternary": [
           {
            "marker": {
             "colorbar": {
              "outlinewidth": 0,
              "ticks": ""
             }
            },
            "type": "scatterternary"
           }
          ],
          "surface": [
           {
            "colorbar": {
             "outlinewidth": 0,
             "ticks": ""
            },
            "colorscale": [
             [
              0,
              "#0d0887"
             ],
             [
              0.1111111111111111,
              "#46039f"
             ],
             [
              0.2222222222222222,
              "#7201a8"
             ],
             [
              0.3333333333333333,
              "#9c179e"
             ],
             [
              0.4444444444444444,
              "#bd3786"
             ],
             [
              0.5555555555555556,
              "#d8576b"
             ],
             [
              0.6666666666666666,
              "#ed7953"
             ],
             [
              0.7777777777777778,
              "#fb9f3a"
             ],
             [
              0.8888888888888888,
              "#fdca26"
             ],
             [
              1,
              "#f0f921"
             ]
            ],
            "type": "surface"
           }
          ],
          "table": [
           {
            "cells": {
             "fill": {
              "color": "#EBF0F8"
             },
             "line": {
              "color": "white"
             }
            },
            "header": {
             "fill": {
              "color": "#C8D4E3"
             },
             "line": {
              "color": "white"
             }
            },
            "type": "table"
           }
          ]
         },
         "layout": {
          "annotationdefaults": {
           "arrowcolor": "#2a3f5f",
           "arrowhead": 0,
           "arrowwidth": 1
          },
          "autotypenumbers": "strict",
          "coloraxis": {
           "colorbar": {
            "outlinewidth": 0,
            "ticks": ""
           }
          },
          "colorscale": {
           "diverging": [
            [
             0,
             "#8e0152"
            ],
            [
             0.1,
             "#c51b7d"
            ],
            [
             0.2,
             "#de77ae"
            ],
            [
             0.3,
             "#f1b6da"
            ],
            [
             0.4,
             "#fde0ef"
            ],
            [
             0.5,
             "#f7f7f7"
            ],
            [
             0.6,
             "#e6f5d0"
            ],
            [
             0.7,
             "#b8e186"
            ],
            [
             0.8,
             "#7fbc41"
            ],
            [
             0.9,
             "#4d9221"
            ],
            [
             1,
             "#276419"
            ]
           ],
           "sequential": [
            [
             0,
             "#0d0887"
            ],
            [
             0.1111111111111111,
             "#46039f"
            ],
            [
             0.2222222222222222,
             "#7201a8"
            ],
            [
             0.3333333333333333,
             "#9c179e"
            ],
            [
             0.4444444444444444,
             "#bd3786"
            ],
            [
             0.5555555555555556,
             "#d8576b"
            ],
            [
             0.6666666666666666,
             "#ed7953"
            ],
            [
             0.7777777777777778,
             "#fb9f3a"
            ],
            [
             0.8888888888888888,
             "#fdca26"
            ],
            [
             1,
             "#f0f921"
            ]
           ],
           "sequentialminus": [
            [
             0,
             "#0d0887"
            ],
            [
             0.1111111111111111,
             "#46039f"
            ],
            [
             0.2222222222222222,
             "#7201a8"
            ],
            [
             0.3333333333333333,
             "#9c179e"
            ],
            [
             0.4444444444444444,
             "#bd3786"
            ],
            [
             0.5555555555555556,
             "#d8576b"
            ],
            [
             0.6666666666666666,
             "#ed7953"
            ],
            [
             0.7777777777777778,
             "#fb9f3a"
            ],
            [
             0.8888888888888888,
             "#fdca26"
            ],
            [
             1,
             "#f0f921"
            ]
           ]
          },
          "colorway": [
           "#636efa",
           "#EF553B",
           "#00cc96",
           "#ab63fa",
           "#FFA15A",
           "#19d3f3",
           "#FF6692",
           "#B6E880",
           "#FF97FF",
           "#FECB52"
          ],
          "font": {
           "color": "#2a3f5f"
          },
          "geo": {
           "bgcolor": "white",
           "lakecolor": "white",
           "landcolor": "#E5ECF6",
           "showlakes": true,
           "showland": true,
           "subunitcolor": "white"
          },
          "hoverlabel": {
           "align": "left"
          },
          "hovermode": "closest",
          "mapbox": {
           "style": "light"
          },
          "paper_bgcolor": "white",
          "plot_bgcolor": "#E5ECF6",
          "polar": {
           "angularaxis": {
            "gridcolor": "white",
            "linecolor": "white",
            "ticks": ""
           },
           "bgcolor": "#E5ECF6",
           "radialaxis": {
            "gridcolor": "white",
            "linecolor": "white",
            "ticks": ""
           }
          },
          "scene": {
           "xaxis": {
            "backgroundcolor": "#E5ECF6",
            "gridcolor": "white",
            "gridwidth": 2,
            "linecolor": "white",
            "showbackground": true,
            "ticks": "",
            "zerolinecolor": "white"
           },
           "yaxis": {
            "backgroundcolor": "#E5ECF6",
            "gridcolor": "white",
            "gridwidth": 2,
            "linecolor": "white",
            "showbackground": true,
            "ticks": "",
            "zerolinecolor": "white"
           },
           "zaxis": {
            "backgroundcolor": "#E5ECF6",
            "gridcolor": "white",
            "gridwidth": 2,
            "linecolor": "white",
            "showbackground": true,
            "ticks": "",
            "zerolinecolor": "white"
           }
          },
          "shapedefaults": {
           "line": {
            "color": "#2a3f5f"
           }
          },
          "ternary": {
           "aaxis": {
            "gridcolor": "white",
            "linecolor": "white",
            "ticks": ""
           },
           "baxis": {
            "gridcolor": "white",
            "linecolor": "white",
            "ticks": ""
           },
           "bgcolor": "#E5ECF6",
           "caxis": {
            "gridcolor": "white",
            "linecolor": "white",
            "ticks": ""
           }
          },
          "title": {
           "x": 0.05
          },
          "xaxis": {
           "automargin": true,
           "gridcolor": "white",
           "linecolor": "white",
           "ticks": "",
           "title": {
            "standoff": 15
           },
           "zerolinecolor": "white",
           "zerolinewidth": 2
          },
          "yaxis": {
           "automargin": true,
           "gridcolor": "white",
           "linecolor": "white",
           "ticks": "",
           "title": {
            "standoff": 15
           },
           "zerolinecolor": "white",
           "zerolinewidth": 2
          }
         }
        },
        "title": {
         "text": "재구매율"
        },
        "xaxis": {
         "anchor": "y",
         "domain": [
          0,
          1
         ],
         "title": {
          "text": "재구매율"
         }
        },
        "yaxis": {
         "anchor": "x",
         "categoryarray": [
          "Waze",
          "Office",
          "Notebooks & Journals",
          "Nest-USA",
          "Nest-Canada",
          "Nest",
          "Lifestyle",
          "Housewares",
          "Headgear",
          "Google",
          "Gift Cards",
          "Fun",
          "Drinkware",
          "Bottles",
          "Bags",
          "Backpacks",
          "Apparel",
          "Android",
          "Accessories"
         ],
         "categoryorder": "array",
         "domain": [
          0,
          1
         ],
         "title": {
          "text": "제품카테고리"
         }
        }
       }
      }
     },
     "metadata": {},
     "output_type": "display_data"
    }
   ],
   "source": [
    "import plotly.express as px\n",
    "fig = px.bar(ka, \n",
    "                 x='재구매율',\n",
    "                 y='제품카테고리',  \n",
    "                 title='재구매율',\n",
    "                 color='제품카테고리',  # 카테고리에 따라 색상 지정\n",
    "                 orientation='h',\n",
    "                 text='재구매율')  # 막대에 텍스트 라벨 추가\n",
    "fig"
   ]
  },
  {
   "cell_type": "code",
   "execution_count": 13,
   "id": "1ede175f-2a4b-44bf-beee-c3a7153e0921",
   "metadata": {},
   "outputs": [
    {
     "data": {
      "application/vnd.plotly.v1+json": {
       "config": {
        "plotlyServerURL": "https://plot.ly"
       },
       "data": [
        {
         "alignmentgroup": "True",
         "hovertemplate": "제품카테고리=%{y}<br>재구매율=%{text}<extra></extra>",
         "legendgroup": "Accessories",
         "marker": {
          "color": "#636efa",
          "pattern": {
           "shape": ""
          }
         },
         "name": "Accessories",
         "offsetgroup": "Accessories",
         "orientation": "h",
         "showlegend": true,
         "text": [
          1
         ],
         "textposition": "auto",
         "type": "bar",
         "x": [
          1
         ],
         "xaxis": "x",
         "y": [
          "Accessories"
         ],
         "yaxis": "y"
        },
        {
         "alignmentgroup": "True",
         "hovertemplate": "제품카테고리=%{y}<br>재구매율=%{text}<extra></extra>",
         "legendgroup": "Android",
         "marker": {
          "color": "#EF553B",
          "pattern": {
           "shape": ""
          }
         },
         "name": "Android",
         "offsetgroup": "Android",
         "orientation": "h",
         "showlegend": true,
         "text": [
          1
         ],
         "textposition": "auto",
         "type": "bar",
         "x": [
          1
         ],
         "xaxis": "x",
         "y": [
          "Android"
         ],
         "yaxis": "y"
        },
        {
         "alignmentgroup": "True",
         "hovertemplate": "제품카테고리=%{y}<br>재구매율=%{text}<extra></extra>",
         "legendgroup": "Apparel",
         "marker": {
          "color": "#00cc96",
          "pattern": {
           "shape": ""
          }
         },
         "name": "Apparel",
         "offsetgroup": "Apparel",
         "orientation": "h",
         "showlegend": true,
         "text": [
          0.5122699386503068
         ],
         "textposition": "auto",
         "type": "bar",
         "x": [
          0.5122699386503068
         ],
         "xaxis": "x",
         "y": [
          "Apparel"
         ],
         "yaxis": "y"
        },
        {
         "alignmentgroup": "True",
         "hovertemplate": "제품카테고리=%{y}<br>재구매율=%{text}<extra></extra>",
         "legendgroup": "Backpacks",
         "marker": {
          "color": "#ab63fa",
          "pattern": {
           "shape": ""
          }
         },
         "name": "Backpacks",
         "offsetgroup": "Backpacks",
         "orientation": "h",
         "showlegend": true,
         "text": [
          0.8
         ],
         "textposition": "auto",
         "type": "bar",
         "x": [
          0.8
         ],
         "xaxis": "x",
         "y": [
          "Backpacks"
         ],
         "yaxis": "y"
        },
        {
         "alignmentgroup": "True",
         "hovertemplate": "제품카테고리=%{y}<br>재구매율=%{text}<extra></extra>",
         "legendgroup": "Bags",
         "marker": {
          "color": "#FFA15A",
          "pattern": {
           "shape": ""
          }
         },
         "name": "Bags",
         "offsetgroup": "Bags",
         "orientation": "h",
         "showlegend": true,
         "text": [
          0.5655430711610487
         ],
         "textposition": "auto",
         "type": "bar",
         "x": [
          0.5655430711610487
         ],
         "xaxis": "x",
         "y": [
          "Bags"
         ],
         "yaxis": "y"
        },
        {
         "alignmentgroup": "True",
         "hovertemplate": "제품카테고리=%{y}<br>재구매율=%{text}<extra></extra>",
         "legendgroup": "Bottles",
         "marker": {
          "color": "#19d3f3",
          "pattern": {
           "shape": ""
          }
         },
         "name": "Bottles",
         "offsetgroup": "Bottles",
         "orientation": "h",
         "showlegend": true,
         "text": [
          0.75
         ],
         "textposition": "auto",
         "type": "bar",
         "x": [
          0.75
         ],
         "xaxis": "x",
         "y": [
          "Bottles"
         ],
         "yaxis": "y"
        },
        {
         "alignmentgroup": "True",
         "hovertemplate": "제품카테고리=%{y}<br>재구매율=%{text}<extra></extra>",
         "legendgroup": "Drinkware",
         "marker": {
          "color": "#FF6692",
          "pattern": {
           "shape": ""
          }
         },
         "name": "Drinkware",
         "offsetgroup": "Drinkware",
         "orientation": "h",
         "showlegend": true,
         "text": [
          0.5642201834862385
         ],
         "textposition": "auto",
         "type": "bar",
         "x": [
          0.5642201834862385
         ],
         "xaxis": "x",
         "y": [
          "Drinkware"
         ],
         "yaxis": "y"
        },
        {
         "alignmentgroup": "True",
         "hovertemplate": "제품카테고리=%{y}<br>재구매율=%{text}<extra></extra>",
         "legendgroup": "Fun",
         "marker": {
          "color": "#B6E880",
          "pattern": {
           "shape": ""
          }
         },
         "name": "Fun",
         "offsetgroup": "Fun",
         "orientation": "h",
         "showlegend": true,
         "text": [
          0.6842105263157895
         ],
         "textposition": "auto",
         "type": "bar",
         "x": [
          0.6842105263157895
         ],
         "xaxis": "x",
         "y": [
          "Fun"
         ],
         "yaxis": "y"
        },
        {
         "alignmentgroup": "True",
         "hovertemplate": "제품카테고리=%{y}<br>재구매율=%{text}<extra></extra>",
         "legendgroup": "Gift Cards",
         "marker": {
          "color": "#FF97FF",
          "pattern": {
           "shape": ""
          }
         },
         "name": "Gift Cards",
         "offsetgroup": "Gift Cards",
         "orientation": "h",
         "showlegend": true,
         "text": [
          1
         ],
         "textposition": "auto",
         "type": "bar",
         "x": [
          1
         ],
         "xaxis": "x",
         "y": [
          "Gift Cards"
         ],
         "yaxis": "y"
        },
        {
         "alignmentgroup": "True",
         "hovertemplate": "제품카테고리=%{y}<br>재구매율=%{text}<extra></extra>",
         "legendgroup": "Google",
         "marker": {
          "color": "#FECB52",
          "pattern": {
           "shape": ""
          }
         },
         "name": "Google",
         "offsetgroup": "Google",
         "orientation": "h",
         "showlegend": true,
         "text": [
          0.625
         ],
         "textposition": "auto",
         "type": "bar",
         "x": [
          0.625
         ],
         "xaxis": "x",
         "y": [
          "Google"
         ],
         "yaxis": "y"
        },
        {
         "alignmentgroup": "True",
         "hovertemplate": "제품카테고리=%{y}<br>재구매율=%{text}<extra></extra>",
         "legendgroup": "Headgear",
         "marker": {
          "color": "#636efa",
          "pattern": {
           "shape": ""
          }
         },
         "name": "Headgear",
         "offsetgroup": "Headgear",
         "orientation": "h",
         "showlegend": true,
         "text": [
          0.6528925619834711
         ],
         "textposition": "auto",
         "type": "bar",
         "x": [
          0.6528925619834711
         ],
         "xaxis": "x",
         "y": [
          "Headgear"
         ],
         "yaxis": "y"
        },
        {
         "alignmentgroup": "True",
         "hovertemplate": "제품카테고리=%{y}<br>재구매율=%{text}<extra></extra>",
         "legendgroup": "Housewares",
         "marker": {
          "color": "#EF553B",
          "pattern": {
           "shape": ""
          }
         },
         "name": "Housewares",
         "offsetgroup": "Housewares",
         "orientation": "h",
         "showlegend": true,
         "text": [
          0.8333333333333334
         ],
         "textposition": "auto",
         "type": "bar",
         "x": [
          0.8333333333333334
         ],
         "xaxis": "x",
         "y": [
          "Housewares"
         ],
         "yaxis": "y"
        },
        {
         "alignmentgroup": "True",
         "hovertemplate": "제품카테고리=%{y}<br>재구매율=%{text}<extra></extra>",
         "legendgroup": "Lifestyle",
         "marker": {
          "color": "#00cc96",
          "pattern": {
           "shape": ""
          }
         },
         "name": "Lifestyle",
         "offsetgroup": "Lifestyle",
         "orientation": "h",
         "showlegend": true,
         "text": [
          0.5835694050991501
         ],
         "textposition": "auto",
         "type": "bar",
         "x": [
          0.5835694050991501
         ],
         "xaxis": "x",
         "y": [
          "Lifestyle"
         ],
         "yaxis": "y"
        },
        {
         "alignmentgroup": "True",
         "hovertemplate": "제품카테고리=%{y}<br>재구매율=%{text}<extra></extra>",
         "legendgroup": "Nest",
         "marker": {
          "color": "#ab63fa",
          "pattern": {
           "shape": ""
          }
         },
         "name": "Nest",
         "offsetgroup": "Nest",
         "orientation": "h",
         "showlegend": true,
         "text": [
          0.6545454545454545
         ],
         "textposition": "auto",
         "type": "bar",
         "x": [
          0.6545454545454545
         ],
         "xaxis": "x",
         "y": [
          "Nest"
         ],
         "yaxis": "y"
        },
        {
         "alignmentgroup": "True",
         "hovertemplate": "제품카테고리=%{y}<br>재구매율=%{text}<extra></extra>",
         "legendgroup": "Nest-Canada",
         "marker": {
          "color": "#FFA15A",
          "pattern": {
           "shape": ""
          }
         },
         "name": "Nest-Canada",
         "offsetgroup": "Nest-Canada",
         "orientation": "h",
         "showlegend": true,
         "text": [
          0.8636363636363636
         ],
         "textposition": "auto",
         "type": "bar",
         "x": [
          0.8636363636363636
         ],
         "xaxis": "x",
         "y": [
          "Nest-Canada"
         ],
         "yaxis": "y"
        },
        {
         "alignmentgroup": "True",
         "hovertemplate": "제품카테고리=%{y}<br>재구매율=%{text}<extra></extra>",
         "legendgroup": "Nest-USA",
         "marker": {
          "color": "#19d3f3",
          "pattern": {
           "shape": ""
          }
         },
         "name": "Nest-USA",
         "offsetgroup": "Nest-USA",
         "orientation": "h",
         "showlegend": true,
         "text": [
          0.5154994259471871
         ],
         "textposition": "auto",
         "type": "bar",
         "x": [
          0.5154994259471871
         ],
         "xaxis": "x",
         "y": [
          "Nest-USA"
         ],
         "yaxis": "y"
        },
        {
         "alignmentgroup": "True",
         "hovertemplate": "제품카테고리=%{y}<br>재구매율=%{text}<extra></extra>",
         "legendgroup": "Notebooks & Journals",
         "marker": {
          "color": "#FF6692",
          "pattern": {
           "shape": ""
          }
         },
         "name": "Notebooks & Journals",
         "offsetgroup": "Notebooks & Journals",
         "orientation": "h",
         "showlegend": true,
         "text": [
          0.7142857142857143
         ],
         "textposition": "auto",
         "type": "bar",
         "x": [
          0.7142857142857143
         ],
         "xaxis": "x",
         "y": [
          "Notebooks & Journals"
         ],
         "yaxis": "y"
        },
        {
         "alignmentgroup": "True",
         "hovertemplate": "제품카테고리=%{y}<br>재구매율=%{text}<extra></extra>",
         "legendgroup": "Office",
         "marker": {
          "color": "#B6E880",
          "pattern": {
           "shape": ""
          }
         },
         "name": "Office",
         "offsetgroup": "Office",
         "orientation": "h",
         "showlegend": true,
         "text": [
          0.5525876460767947
         ],
         "textposition": "auto",
         "type": "bar",
         "x": [
          0.5525876460767947
         ],
         "xaxis": "x",
         "y": [
          "Office"
         ],
         "yaxis": "y"
        },
        {
         "alignmentgroup": "True",
         "hovertemplate": "제품카테고리=%{y}<br>재구매율=%{text}<extra></extra>",
         "legendgroup": "Waze",
         "marker": {
          "color": "#FF97FF",
          "pattern": {
           "shape": ""
          }
         },
         "name": "Waze",
         "offsetgroup": "Waze",
         "orientation": "h",
         "showlegend": true,
         "text": [
          0.717391304347826
         ],
         "textposition": "auto",
         "type": "bar",
         "x": [
          0.717391304347826
         ],
         "xaxis": "x",
         "y": [
          "Waze"
         ],
         "yaxis": "y"
        }
       ],
       "layout": {
        "barmode": "relative",
        "legend": {
         "title": {
          "text": "제품카테고리"
         },
         "tracegroupgap": 0
        },
        "template": {
         "data": {
          "bar": [
           {
            "error_x": {
             "color": "#2a3f5f"
            },
            "error_y": {
             "color": "#2a3f5f"
            },
            "marker": {
             "line": {
              "color": "#E5ECF6",
              "width": 0.5
             },
             "pattern": {
              "fillmode": "overlay",
              "size": 10,
              "solidity": 0.2
             }
            },
            "type": "bar"
           }
          ],
          "barpolar": [
           {
            "marker": {
             "line": {
              "color": "#E5ECF6",
              "width": 0.5
             },
             "pattern": {
              "fillmode": "overlay",
              "size": 10,
              "solidity": 0.2
             }
            },
            "type": "barpolar"
           }
          ],
          "carpet": [
           {
            "aaxis": {
             "endlinecolor": "#2a3f5f",
             "gridcolor": "white",
             "linecolor": "white",
             "minorgridcolor": "white",
             "startlinecolor": "#2a3f5f"
            },
            "baxis": {
             "endlinecolor": "#2a3f5f",
             "gridcolor": "white",
             "linecolor": "white",
             "minorgridcolor": "white",
             "startlinecolor": "#2a3f5f"
            },
            "type": "carpet"
           }
          ],
          "choropleth": [
           {
            "colorbar": {
             "outlinewidth": 0,
             "ticks": ""
            },
            "type": "choropleth"
           }
          ],
          "contour": [
           {
            "colorbar": {
             "outlinewidth": 0,
             "ticks": ""
            },
            "colorscale": [
             [
              0,
              "#0d0887"
             ],
             [
              0.1111111111111111,
              "#46039f"
             ],
             [
              0.2222222222222222,
              "#7201a8"
             ],
             [
              0.3333333333333333,
              "#9c179e"
             ],
             [
              0.4444444444444444,
              "#bd3786"
             ],
             [
              0.5555555555555556,
              "#d8576b"
             ],
             [
              0.6666666666666666,
              "#ed7953"
             ],
             [
              0.7777777777777778,
              "#fb9f3a"
             ],
             [
              0.8888888888888888,
              "#fdca26"
             ],
             [
              1,
              "#f0f921"
             ]
            ],
            "type": "contour"
           }
          ],
          "contourcarpet": [
           {
            "colorbar": {
             "outlinewidth": 0,
             "ticks": ""
            },
            "type": "contourcarpet"
           }
          ],
          "heatmap": [
           {
            "colorbar": {
             "outlinewidth": 0,
             "ticks": ""
            },
            "colorscale": [
             [
              0,
              "#0d0887"
             ],
             [
              0.1111111111111111,
              "#46039f"
             ],
             [
              0.2222222222222222,
              "#7201a8"
             ],
             [
              0.3333333333333333,
              "#9c179e"
             ],
             [
              0.4444444444444444,
              "#bd3786"
             ],
             [
              0.5555555555555556,
              "#d8576b"
             ],
             [
              0.6666666666666666,
              "#ed7953"
             ],
             [
              0.7777777777777778,
              "#fb9f3a"
             ],
             [
              0.8888888888888888,
              "#fdca26"
             ],
             [
              1,
              "#f0f921"
             ]
            ],
            "type": "heatmap"
           }
          ],
          "heatmapgl": [
           {
            "colorbar": {
             "outlinewidth": 0,
             "ticks": ""
            },
            "colorscale": [
             [
              0,
              "#0d0887"
             ],
             [
              0.1111111111111111,
              "#46039f"
             ],
             [
              0.2222222222222222,
              "#7201a8"
             ],
             [
              0.3333333333333333,
              "#9c179e"
             ],
             [
              0.4444444444444444,
              "#bd3786"
             ],
             [
              0.5555555555555556,
              "#d8576b"
             ],
             [
              0.6666666666666666,
              "#ed7953"
             ],
             [
              0.7777777777777778,
              "#fb9f3a"
             ],
             [
              0.8888888888888888,
              "#fdca26"
             ],
             [
              1,
              "#f0f921"
             ]
            ],
            "type": "heatmapgl"
           }
          ],
          "histogram": [
           {
            "marker": {
             "pattern": {
              "fillmode": "overlay",
              "size": 10,
              "solidity": 0.2
             }
            },
            "type": "histogram"
           }
          ],
          "histogram2d": [
           {
            "colorbar": {
             "outlinewidth": 0,
             "ticks": ""
            },
            "colorscale": [
             [
              0,
              "#0d0887"
             ],
             [
              0.1111111111111111,
              "#46039f"
             ],
             [
              0.2222222222222222,
              "#7201a8"
             ],
             [
              0.3333333333333333,
              "#9c179e"
             ],
             [
              0.4444444444444444,
              "#bd3786"
             ],
             [
              0.5555555555555556,
              "#d8576b"
             ],
             [
              0.6666666666666666,
              "#ed7953"
             ],
             [
              0.7777777777777778,
              "#fb9f3a"
             ],
             [
              0.8888888888888888,
              "#fdca26"
             ],
             [
              1,
              "#f0f921"
             ]
            ],
            "type": "histogram2d"
           }
          ],
          "histogram2dcontour": [
           {
            "colorbar": {
             "outlinewidth": 0,
             "ticks": ""
            },
            "colorscale": [
             [
              0,
              "#0d0887"
             ],
             [
              0.1111111111111111,
              "#46039f"
             ],
             [
              0.2222222222222222,
              "#7201a8"
             ],
             [
              0.3333333333333333,
              "#9c179e"
             ],
             [
              0.4444444444444444,
              "#bd3786"
             ],
             [
              0.5555555555555556,
              "#d8576b"
             ],
             [
              0.6666666666666666,
              "#ed7953"
             ],
             [
              0.7777777777777778,
              "#fb9f3a"
             ],
             [
              0.8888888888888888,
              "#fdca26"
             ],
             [
              1,
              "#f0f921"
             ]
            ],
            "type": "histogram2dcontour"
           }
          ],
          "mesh3d": [
           {
            "colorbar": {
             "outlinewidth": 0,
             "ticks": ""
            },
            "type": "mesh3d"
           }
          ],
          "parcoords": [
           {
            "line": {
             "colorbar": {
              "outlinewidth": 0,
              "ticks": ""
             }
            },
            "type": "parcoords"
           }
          ],
          "pie": [
           {
            "automargin": true,
            "type": "pie"
           }
          ],
          "scatter": [
           {
            "fillpattern": {
             "fillmode": "overlay",
             "size": 10,
             "solidity": 0.2
            },
            "type": "scatter"
           }
          ],
          "scatter3d": [
           {
            "line": {
             "colorbar": {
              "outlinewidth": 0,
              "ticks": ""
             }
            },
            "marker": {
             "colorbar": {
              "outlinewidth": 0,
              "ticks": ""
             }
            },
            "type": "scatter3d"
           }
          ],
          "scattercarpet": [
           {
            "marker": {
             "colorbar": {
              "outlinewidth": 0,
              "ticks": ""
             }
            },
            "type": "scattercarpet"
           }
          ],
          "scattergeo": [
           {
            "marker": {
             "colorbar": {
              "outlinewidth": 0,
              "ticks": ""
             }
            },
            "type": "scattergeo"
           }
          ],
          "scattergl": [
           {
            "marker": {
             "colorbar": {
              "outlinewidth": 0,
              "ticks": ""
             }
            },
            "type": "scattergl"
           }
          ],
          "scattermapbox": [
           {
            "marker": {
             "colorbar": {
              "outlinewidth": 0,
              "ticks": ""
             }
            },
            "type": "scattermapbox"
           }
          ],
          "scatterpolar": [
           {
            "marker": {
             "colorbar": {
              "outlinewidth": 0,
              "ticks": ""
             }
            },
            "type": "scatterpolar"
           }
          ],
          "scatterpolargl": [
           {
            "marker": {
             "colorbar": {
              "outlinewidth": 0,
              "ticks": ""
             }
            },
            "type": "scatterpolargl"
           }
          ],
          "scatterternary": [
           {
            "marker": {
             "colorbar": {
              "outlinewidth": 0,
              "ticks": ""
             }
            },
            "type": "scatterternary"
           }
          ],
          "surface": [
           {
            "colorbar": {
             "outlinewidth": 0,
             "ticks": ""
            },
            "colorscale": [
             [
              0,
              "#0d0887"
             ],
             [
              0.1111111111111111,
              "#46039f"
             ],
             [
              0.2222222222222222,
              "#7201a8"
             ],
             [
              0.3333333333333333,
              "#9c179e"
             ],
             [
              0.4444444444444444,
              "#bd3786"
             ],
             [
              0.5555555555555556,
              "#d8576b"
             ],
             [
              0.6666666666666666,
              "#ed7953"
             ],
             [
              0.7777777777777778,
              "#fb9f3a"
             ],
             [
              0.8888888888888888,
              "#fdca26"
             ],
             [
              1,
              "#f0f921"
             ]
            ],
            "type": "surface"
           }
          ],
          "table": [
           {
            "cells": {
             "fill": {
              "color": "#EBF0F8"
             },
             "line": {
              "color": "white"
             }
            },
            "header": {
             "fill": {
              "color": "#C8D4E3"
             },
             "line": {
              "color": "white"
             }
            },
            "type": "table"
           }
          ]
         },
         "layout": {
          "annotationdefaults": {
           "arrowcolor": "#2a3f5f",
           "arrowhead": 0,
           "arrowwidth": 1
          },
          "autotypenumbers": "strict",
          "coloraxis": {
           "colorbar": {
            "outlinewidth": 0,
            "ticks": ""
           }
          },
          "colorscale": {
           "diverging": [
            [
             0,
             "#8e0152"
            ],
            [
             0.1,
             "#c51b7d"
            ],
            [
             0.2,
             "#de77ae"
            ],
            [
             0.3,
             "#f1b6da"
            ],
            [
             0.4,
             "#fde0ef"
            ],
            [
             0.5,
             "#f7f7f7"
            ],
            [
             0.6,
             "#e6f5d0"
            ],
            [
             0.7,
             "#b8e186"
            ],
            [
             0.8,
             "#7fbc41"
            ],
            [
             0.9,
             "#4d9221"
            ],
            [
             1,
             "#276419"
            ]
           ],
           "sequential": [
            [
             0,
             "#0d0887"
            ],
            [
             0.1111111111111111,
             "#46039f"
            ],
            [
             0.2222222222222222,
             "#7201a8"
            ],
            [
             0.3333333333333333,
             "#9c179e"
            ],
            [
             0.4444444444444444,
             "#bd3786"
            ],
            [
             0.5555555555555556,
             "#d8576b"
            ],
            [
             0.6666666666666666,
             "#ed7953"
            ],
            [
             0.7777777777777778,
             "#fb9f3a"
            ],
            [
             0.8888888888888888,
             "#fdca26"
            ],
            [
             1,
             "#f0f921"
            ]
           ],
           "sequentialminus": [
            [
             0,
             "#0d0887"
            ],
            [
             0.1111111111111111,
             "#46039f"
            ],
            [
             0.2222222222222222,
             "#7201a8"
            ],
            [
             0.3333333333333333,
             "#9c179e"
            ],
            [
             0.4444444444444444,
             "#bd3786"
            ],
            [
             0.5555555555555556,
             "#d8576b"
            ],
            [
             0.6666666666666666,
             "#ed7953"
            ],
            [
             0.7777777777777778,
             "#fb9f3a"
            ],
            [
             0.8888888888888888,
             "#fdca26"
            ],
            [
             1,
             "#f0f921"
            ]
           ]
          },
          "colorway": [
           "#636efa",
           "#EF553B",
           "#00cc96",
           "#ab63fa",
           "#FFA15A",
           "#19d3f3",
           "#FF6692",
           "#B6E880",
           "#FF97FF",
           "#FECB52"
          ],
          "font": {
           "color": "#2a3f5f"
          },
          "geo": {
           "bgcolor": "white",
           "lakecolor": "white",
           "landcolor": "#E5ECF6",
           "showlakes": true,
           "showland": true,
           "subunitcolor": "white"
          },
          "hoverlabel": {
           "align": "left"
          },
          "hovermode": "closest",
          "mapbox": {
           "style": "light"
          },
          "paper_bgcolor": "white",
          "plot_bgcolor": "#E5ECF6",
          "polar": {
           "angularaxis": {
            "gridcolor": "white",
            "linecolor": "white",
            "ticks": ""
           },
           "bgcolor": "#E5ECF6",
           "radialaxis": {
            "gridcolor": "white",
            "linecolor": "white",
            "ticks": ""
           }
          },
          "scene": {
           "xaxis": {
            "backgroundcolor": "#E5ECF6",
            "gridcolor": "white",
            "gridwidth": 2,
            "linecolor": "white",
            "showbackground": true,
            "ticks": "",
            "zerolinecolor": "white"
           },
           "yaxis": {
            "backgroundcolor": "#E5ECF6",
            "gridcolor": "white",
            "gridwidth": 2,
            "linecolor": "white",
            "showbackground": true,
            "ticks": "",
            "zerolinecolor": "white"
           },
           "zaxis": {
            "backgroundcolor": "#E5ECF6",
            "gridcolor": "white",
            "gridwidth": 2,
            "linecolor": "white",
            "showbackground": true,
            "ticks": "",
            "zerolinecolor": "white"
           }
          },
          "shapedefaults": {
           "line": {
            "color": "#2a3f5f"
           }
          },
          "ternary": {
           "aaxis": {
            "gridcolor": "white",
            "linecolor": "white",
            "ticks": ""
           },
           "baxis": {
            "gridcolor": "white",
            "linecolor": "white",
            "ticks": ""
           },
           "bgcolor": "#E5ECF6",
           "caxis": {
            "gridcolor": "white",
            "linecolor": "white",
            "ticks": ""
           }
          },
          "title": {
           "x": 0.05
          },
          "xaxis": {
           "automargin": true,
           "gridcolor": "white",
           "linecolor": "white",
           "ticks": "",
           "title": {
            "standoff": 15
           },
           "zerolinecolor": "white",
           "zerolinewidth": 2
          },
          "yaxis": {
           "automargin": true,
           "gridcolor": "white",
           "linecolor": "white",
           "ticks": "",
           "title": {
            "standoff": 15
           },
           "zerolinecolor": "white",
           "zerolinewidth": 2
          }
         }
        },
        "title": {
         "text": "재구매율"
        },
        "xaxis": {
         "anchor": "y",
         "domain": [
          0,
          1
         ],
         "title": {
          "text": "재구매율"
         }
        },
        "yaxis": {
         "anchor": "x",
         "categoryarray": [
          "Waze",
          "Office",
          "Notebooks & Journals",
          "Nest-USA",
          "Nest-Canada",
          "Nest",
          "Lifestyle",
          "Housewares",
          "Headgear",
          "Google",
          "Gift Cards",
          "Fun",
          "Drinkware",
          "Bottles",
          "Bags",
          "Backpacks",
          "Apparel",
          "Android",
          "Accessories"
         ],
         "categoryorder": "array",
         "domain": [
          0,
          1
         ],
         "title": {
          "text": "제품카테고리"
         }
        }
       }
      }
     },
     "metadata": {},
     "output_type": "display_data"
    }
   ],
   "source": [
    "#실행 예시\n",
    "CategoryAnalysis = sy_class.CustomerCategoryAnalysis(sy)\n",
    "CategoryAnalysis.calculate_repurchase_periods()\n",
    "CategoryAnalysis.visualize_repurchase_periods()\n"
   ]
  },
  {
   "cell_type": "markdown",
   "id": "88329f14-717b-41af-a925-69da50bebddc",
   "metadata": {
    "jp-MarkdownHeadingCollapsed": true
   },
   "source": [
    "# 2. EDA"
   ]
  },
  {
   "cell_type": "code",
   "execution_count": 14,
   "id": "6d707e15-8351-48a7-a5f8-d556ffe4570d",
   "metadata": {},
   "outputs": [
    {
     "ename": "NameError",
     "evalue": "name 'database_sy' is not defined",
     "output_type": "error",
     "traceback": [
      "\u001b[1;31m---------------------------------------------------------------------------\u001b[0m",
      "\u001b[1;31mNameError\u001b[0m                                 Traceback (most recent call last)",
      "Cell \u001b[1;32mIn[14], line 1\u001b[0m\n\u001b[1;32m----> 1\u001b[0m customer \u001b[38;5;241m=\u001b[39m \u001b[43mdatabase_sy\u001b[49m\u001b[38;5;241m.\u001b[39mmaking_dataframe(\u001b[38;5;124m'\u001b[39m\u001b[38;5;124mCustomer_info\u001b[39m\u001b[38;5;124m'\u001b[39m)\n\u001b[0;32m      2\u001b[0m \u001b[38;5;28mprint\u001b[39m(\u001b[38;5;28mlen\u001b[39m(customer)); customer\u001b[38;5;241m.\u001b[39mhead(\u001b[38;5;241m2\u001b[39m) \n",
      "\u001b[1;31mNameError\u001b[0m: name 'database_sy' is not defined"
     ]
    }
   ],
   "source": [
    "customer = database_sy.making_dataframe('Customer_info')\n",
    "print(len(customer)); customer.head(2) "
   ]
  },
  {
   "cell_type": "code",
   "execution_count": null,
   "id": "ccdc5cb4-4321-43d1-9d3f-da0e76c630b1",
   "metadata": {},
   "outputs": [],
   "source": [
    "discount = database_sy.making_dataframe('Discount_info')\n",
    "print(len(discount)); discount.head(2) "
   ]
  },
  {
   "cell_type": "code",
   "execution_count": null,
   "id": "ce0eb1c4-df91-4012-91a4-03ad990e6fda",
   "metadata": {},
   "outputs": [],
   "source": [
    "marketing = database_sy.making_dataframe('Marketing_info')\n",
    "print(len(marketing)); marketing.head(2) "
   ]
  },
  {
   "cell_type": "code",
   "execution_count": null,
   "id": "ae943acb-b19b-439f-8308-027e1fb3b5e2",
   "metadata": {},
   "outputs": [],
   "source": [
    "onlinesales = database_sy.making_dataframe('Onlinesales_info')\n",
    "print(len(onlinesales)); onlinesales.head(2) "
   ]
  },
  {
   "cell_type": "code",
   "execution_count": null,
   "id": "080e587a-5bfb-4a80-9d11-f7b87ce55b3a",
   "metadata": {},
   "outputs": [],
   "source": [
    "tax = database_sy.making_dataframe('Tax_info')\n",
    "print(len(tax)); tax.head(2)"
   ]
  },
  {
   "cell_type": "code",
   "execution_count": null,
   "id": "35ca0106-dc24-4f84-82ce-697e0e1aa57c",
   "metadata": {},
   "outputs": [],
   "source": [
    "customer[customer[\"가입기간\"] <= 12]"
   ]
  },
  {
   "cell_type": "markdown",
   "id": "91819819-a1fe-4320-acaf-f344f4833ab7",
   "metadata": {},
   "source": [
    "##### total : customer df와 onlinesales df 병합"
   ]
  },
  {
   "cell_type": "code",
   "execution_count": null,
   "id": "9906e553",
   "metadata": {},
   "outputs": [],
   "source": [
    "# customers_data 통합 \n",
    "onlinesales[\"거래날짜\"] = pd.to_datetime(onlinesales[\"거래날짜\"])\n",
    "total = pd.merge(onlinesales, customer, how='left', left_on='고객ID', right_on='고객ID')\n",
    "\n",
    "df = total.copy()\n",
    "df[\"거래날짜\"] = pd.to_datetime(df[\"거래날짜\"])\n",
    "\n",
    "# discount_coupon통합\n",
    "df[\"월\"]=df[\"거래날짜\"].dt.month\n",
    "month_dict = {\n",
    "    'Jan': 1, 'Feb': 2, 'Mar': 3, 'Apr': 4, 'May': 5, 'Jun': 6,\n",
    "    'Jul': 7, 'Aug': 8, 'Sep': 9, 'Oct': 10, 'Nov': 11, 'Dec': 12\n",
    "}\n",
    "discount[\"월\"] = discount[\"월\"].map(month_dict)\n",
    "df=df.merge(discount, on=[\"월\",\"제품카테고리\"],how=\"left\")\n",
    "\n",
    "# tax_amount 통합\n",
    "df = df.merge(tax, on=\"제품카테고리\",how=\"outer\")\n",
    "\n",
    "# 쿠폰상태가 used 아닌 경우에 할인율 0 적용\n",
    "df.loc[df['쿠폰상태'] != 'Used', '할인율'] = 0\n",
    "\n",
    "# null값 대체\n",
    "df=df.fillna(0)\n",
    "\n",
    "# 총 고객소비액 = 수량 * 평균금액 * (1-할인율)/100 * (1+GST) + 배송료\n",
    "df[\"고객소비액\"]=df[\"수량\"]*df[\"평균금액\"]*(1-df[\"할인율\"]/100)*(1+df[\"GST\"])+df[\"배송료\"]\n",
    "df[\"매출\"]=df[\"수량\"]*df[\"평균금액\"]\n",
    "total = df\n",
    "total"
   ]
  },
  {
   "cell_type": "code",
   "execution_count": null,
   "id": "1e84a6c7-b8c1-421a-92e6-71965ec938d0",
   "metadata": {},
   "outputs": [],
   "source": [
    "total.describe()"
   ]
  },
  {
   "cell_type": "code",
   "execution_count": null,
   "id": "08adcb0c-f41b-4dd2-a3c6-43ea6cea3025",
   "metadata": {},
   "outputs": [],
   "source": [
    "total.info()"
   ]
  },
  {
   "cell_type": "markdown",
   "id": "1cc34f90-e8b5-419d-b7c2-831f64590d54",
   "metadata": {},
   "source": [
    "##### numeric/categorical 변수 구분"
   ]
  },
  {
   "cell_type": "code",
   "execution_count": null,
   "id": "98ad5eef-051f-4929-be2d-b1ad45064a94",
   "metadata": {},
   "outputs": [],
   "source": [
    "num_columns = total.select_dtypes(include=np.number).columns.tolist()\n",
    "cat_columns = total.select_dtypes(exclude=np.number).columns.tolist()"
   ]
  },
  {
   "cell_type": "code",
   "execution_count": null,
   "id": "f424cdb8-6f05-4439-b59a-b9ef34ba5d0f",
   "metadata": {},
   "outputs": [],
   "source": [
    "total[num_columns]"
   ]
  },
  {
   "cell_type": "code",
   "execution_count": null,
   "id": "e5ec5a6a-de07-4f2e-b465-a94509b1b8a1",
   "metadata": {},
   "outputs": [],
   "source": [
    "# import matplotlib.pyplot as plt\n",
    "# plt.rcParams['font.family'] ='Malgun Gothic'\n",
    "# total.hist(bins=50, figsize=(20,15))"
   ]
  },
  {
   "cell_type": "code",
   "execution_count": null,
   "id": "f5212550-b4d6-4d9d-abfe-7903401aedd4",
   "metadata": {},
   "outputs": [],
   "source": [
    "# print(total[num_columns].groupby('가입기간').mean())"
   ]
  },
  {
   "cell_type": "markdown",
   "id": "b1f3bb38-377b-4533-9c4d-33038faade4d",
   "metadata": {
    "jp-MarkdownHeadingCollapsed": true
   },
   "source": [
    "#  3. 분석"
   ]
  },
  {
   "cell_type": "markdown",
   "id": "0e1c87f6-3f93-4e4c-b0ea-b449714e25ca",
   "metadata": {},
   "source": [
    "#### 3.1 고객의 최초 구매 날짜 정의 후 카테고리별 재구매 여부 예측 분석"
   ]
  },
  {
   "cell_type": "markdown",
   "id": "358c64d4-fb26-4f16-bdb9-e825a7ff4944",
   "metadata": {},
   "source": [
    "##### 최초구매 & 최근구매 날짜 정의 / 재구매여부  / 구매횟수 변수 생성"
   ]
  },
  {
   "cell_type": "code",
   "execution_count": null,
   "id": "045781fc",
   "metadata": {},
   "outputs": [],
   "source": [
    "purchase = total.copy()\n",
    "# 최초구매와 최근구매날짜 정의 \n",
    "result = purchase.groupby('고객ID').agg(최초구매날짜=('거래날짜', 'min'),\n",
    "                                      최근구매날짜=('거래날짜', 'max')).reset_index()\n",
    "\n",
    "# 최초 구매날로부터 구매날짜 계산\n",
    "result['전체기간'] = result['최근구매날짜'] - result['최초구매날짜']\n",
    "\n",
    "# 재구매여부 계산\n",
    "result['재구매여부'] = result['전체기간'].apply(lambda x: 0 if x == pd.Timedelta(days=0) else 1)\n",
    "\n",
    "# 거래횟수 계산\n",
    "p_count = purchase.groupby('고객ID').agg(구매횟수=('거래날짜', 'count')).reset_index()\n",
    "c = pd.merge(result, p_count, how='left', left_on='고객ID', right_on='고객ID')\n",
    "\n",
    "# 고객table과 병합\n",
    "k = pd.merge(customer, c, how='left', left_on='고객ID', right_on='고객ID')\n",
    "k"
   ]
  },
  {
   "cell_type": "markdown",
   "id": "78005d0c",
   "metadata": {},
   "source": [
    "##### 고객분류 컬럼 추가"
   ]
  },
  {
   "cell_type": "code",
   "execution_count": null,
   "id": "05c95baf",
   "metadata": {},
   "outputs": [],
   "source": [
    "data = total.copy()\n",
    "\n",
    "import datetime\n",
    "\n",
    "#Recency의 기준은 2020-01-01 00:00시\n",
    "refrence_date = data.거래날짜.max() + datetime.timedelta(days = 1) \n",
    "print('Reference Date:', refrence_date)\n",
    "data['Recency'] = (refrence_date - data.거래날짜).dt.days \n",
    "\n",
    "# 기준 날짜로부터 고객의 최종 접속일이 며칠이 떨어져있는지를 계산\n",
    "\n",
    "#Recency 계산(최근에 구매한 \n",
    "rfm = data[['고객ID', 'Recency']].groupby(\"고객ID\").min().reset_index()\n",
    "\n",
    "#Frequency 계산\n",
    "freq = data[['고객ID', '거래ID']].drop_duplicates().groupby('고객ID').count().reset_index()\n",
    "freq.columns=['고객ID','Frequency']\n",
    "rfm=pd.merge(rfm,freq,how='left')\n",
    "\n",
    "#Monetary 계산\n",
    "Monetary = data[['고객ID', '고객소비액']].groupby(\"고객ID\").sum().reset_index()\n",
    "rfm = rfm.merge(Monetary).rename(columns= {\"고객소비액\":\"Monetary\"})\n",
    "rfm"
   ]
  },
  {
   "cell_type": "code",
   "execution_count": null,
   "id": "ef3b9f07-c11d-403b-8219-8516f647a209",
   "metadata": {},
   "outputs": [],
   "source": []
  },
  {
   "cell_type": "code",
   "execution_count": null,
   "id": "83ce1114",
   "metadata": {},
   "outputs": [],
   "source": [
    "def separate_outliers(df, column):\n",
    "    Q1 = df[column].quantile(0.25)\n",
    "    Q3 = df[column].quantile(0.75)\n",
    "    IQR = Q3 - Q1\n",
    "\n",
    "    filter = (df[column] >= Q1 - 1.5 * IQR) & (df[column] <= Q3 + 1.5 * IQR)\n",
    "    \n",
    "    df_outliers = df.loc[~filter]  # 이상치만을 담은 DataFrame\n",
    "    df = df.loc[filter]  # 이상치를 제거한 DataFrame\n",
    "    \n",
    "    return df, df_outliers"
   ]
  },
  {
   "cell_type": "code",
   "execution_count": null,
   "id": "c785f0d0",
   "metadata": {
    "scrolled": true
   },
   "outputs": [],
   "source": [
    "# 'Frequency' 컬럼의 이상치 제거\n",
    "rfm_without_outliers_f, rfm_outliers_f = separate_outliers(rfm, 'Frequency')\n",
    "# 'Monetary' 컬럼의 이상치 제거\n",
    "rfm_without_outliers_m, rfm_outliers_m = separate_outliers(rfm, 'Monetary')\n",
    "# 이상치가 없는 행만 선택\n",
    "rfm_without_outliers = rfm.loc[rfm.index.isin(rfm_without_outliers_f.index) & rfm.index.isin(rfm_without_outliers_m.index)]\n",
    "# 이상치를 포함하는 행만 선택\n",
    "rfm_outliers = rfm.loc[rfm.index.isin(rfm_outliers_f.index) | rfm.index.isin(rfm_outliers_m.index)]\n",
    "rfm_without_outliers"
   ]
  },
  {
   "cell_type": "code",
   "execution_count": null,
   "id": "fa9fce31",
   "metadata": {},
   "outputs": [],
   "source": [
    "# R, F, M 컬럼 각각 log변환\n",
    "rfm_without_outliers['Recency_log'] = rfm_without_outliers['Recency'].apply(math.log)\n",
    "rfm_without_outliers['Frequency_log'] = rfm_without_outliers['Frequency'].apply(math.log)\n",
    "rfm_without_outliers['Monetary_log'] = rfm_without_outliers['Monetary'].apply(math.log)\n",
    "features = ['Monetary_log', 'Recency_log','Frequency_log']\n",
    "rfm_without_outliers_log=rfm_without_outliers[features]\n",
    "rfm_without_outliers_log"
   ]
  },
  {
   "cell_type": "code",
   "execution_count": null,
   "id": "ca5eebfc-199a-4632-b363-cf774474e1c7",
   "metadata": {},
   "outputs": [],
   "source": [
    "rfm_without_outliers['Monetary'].plot()"
   ]
  },
  {
   "cell_type": "code",
   "execution_count": null,
   "id": "9160cb14-eb93-4117-b183-8bc966600193",
   "metadata": {},
   "outputs": [],
   "source": [
    "rfm_without_outliers['Monetary_log'].plot()"
   ]
  },
  {
   "cell_type": "code",
   "execution_count": null,
   "id": "04ec6ce7",
   "metadata": {},
   "outputs": [],
   "source": [
    "def find_optimal_k(df, max_k):\n",
    "    wcss = []\n",
    "\n",
    "    for k in range(1, max_k+1):\n",
    "        kmeans = KMeans(n_clusters=k, init='k-means++', max_iter=300, n_init=10, random_state=0)\n",
    "        kmeans.fit(df)\n",
    "        wcss.append(kmeans.inertia_)\n",
    "\n",
    "    plt.plot(range(1, max_k+1), wcss)\n",
    "    plt.title('Elbow Method')\n",
    "    plt.xlabel('Number of clusters')\n",
    "    plt.ylabel('WCSS')\n",
    "    plt.show()\n",
    "\n",
    "# RFM 데이터 사용\n",
    "rfm_data = rfm_without_outliers_log\n",
    "\n",
    "# 최대 클러스터 개수를 10으로 설정\n",
    "find_optimal_k(rfm_data,10)"
   ]
  },
  {
   "cell_type": "code",
   "execution_count": null,
   "id": "3653edae-357b-4e0a-997e-a17399463eaf",
   "metadata": {},
   "outputs": [],
   "source": [
    "from sklearn.cluster import KMeans\n",
    "from sklearn.metrics import silhouette_score, silhouette_samples\n",
    "import matplotlib.pyplot as plt\n",
    "import matplotlib.cm as cm\n",
    "import numpy as np\n",
    "\n",
    "def visualize_kmeans(cluster_list, feature_columns, X):\n",
    "    cluster_centers = dict()\n",
    "    for n_clusters in cluster_list:\n",
    "        fig, (ax1, ax2, ax3) = plt.subplots(1, 3)\n",
    "        fig.set_size_inches(20, 6)\n",
    "        ax1.set_xlim([-0.1, 1])\n",
    "        ax1.set_ylim([0, len(X) + (n_clusters + 1) * 10])\n",
    "\n",
    "        clusterer = KMeans(n_clusters=n_clusters, init='k-means++', n_init=10, max_iter=300, tol=1e-04, random_state=123)\n",
    "        cluster_labels = clusterer.fit_predict(X)\n",
    "\n",
    "        silhouette_avg = silhouette_score(X=X, labels=cluster_labels)\n",
    "        cluster_centers.update({n_clusters: {'cluster_center': clusterer.cluster_centers_,\n",
    "                                             'silhouette_score': silhouette_avg,\n",
    "                                             'labels': cluster_labels}\n",
    "                               })\n",
    "\n",
    "        sample_silhouette_values = silhouette_samples(X=X, labels=cluster_labels)\n",
    "        y_lower = 10\n",
    "        for i in range(n_clusters):\n",
    "            ith_cluster_silhouette_values = sample_silhouette_values[cluster_labels == i]\n",
    "\n",
    "            ith_cluster_silhouette_values.sort()\n",
    "\n",
    "            size_cluster_i = ith_cluster_silhouette_values.shape[0]\n",
    "            y_upper = y_lower + size_cluster_i\n",
    "\n",
    "            color = cm.Spectral(float(i) / n_clusters)\n",
    "            ax1.fill_betweenx(np.arange(y_lower, y_upper),\n",
    "                              0, ith_cluster_silhouette_values,\n",
    "                              facecolor=color, edgecolor=color, alpha=0.7)\n",
    "\n",
    "            ax1.text(-0.05, y_lower + 0.5 * size_cluster_i, str(i))\n",
    "            y_lower = y_upper + 10  \n",
    "\n",
    "        ax1.set_title(\"The silhouette plot for the various clusters\")\n",
    "        ax1.set_xlabel(\"The silhouette coefficient values\")\n",
    "        ax1.set_ylabel(\"Cluster label\")\n",
    "        ax1.axvline(x=silhouette_avg, color=\"red\", linestyle=\"--\")\n",
    "        ax1.set_yticks([])\n",
    "        ax1.set_xticks([-0.1, 0, 0.1, 0.2, 0.3, 0.4, 0.5, 0.6, 0.7, 0.8, 0.9, 1])\n",
    "        colors = cm.Spectral(cluster_labels.astype(float) / n_clusters)\n",
    "\n",
    "        centers = clusterer.cluster_centers_\n",
    "        y = 0\n",
    "        x = 1\n",
    "        ax2.scatter(X.iloc[:, x], X.iloc[:, y], marker='.', s=30, lw=0, alpha=0.7, c=colors, edgecolor='k')   \n",
    "        ax2.scatter(centers[:, x], centers[:, y], marker='o', c=\"white\", alpha=1, s=200, edgecolor='k')\n",
    "        for i, c in enumerate(centers):\n",
    "            ax2.scatter(c[x], c[y], marker='$%d$' % i, alpha=1, s=50, edgecolor='k')\n",
    "        ax2.set_title(\"{} Clustered data\".format(n_clusters))\n",
    "        ax2.set_xlabel(feature_columns[x])\n",
    "        ax2.set_ylabel(feature_columns[y])\n",
    "\n",
    "        x = 2\n",
    "        ax3.scatter(X.iloc[:, x], X.iloc[:, y], marker='.', s=30, lw=0, alpha=0.7, c=colors, edgecolor='k')   \n",
    "        ax3.scatter(centers[:, x], centers[:, y], marker='o', c=\"white\", alpha=1, s=200, edgecolor='k')\n",
    "        for i, c in enumerate(centers):\n",
    "            ax3.scatter(c[x], c[y], marker='$%d$' % i, alpha=1, s=50, edgecolor='k')\n",
    "        ax3.set_title(\"Silhouette score: {:1.2f}\".format(cluster_centers[n_clusters]['silhouette_score']))\n",
    "        ax3.set_xlabel(feature_columns[x])\n",
    "        ax3.set_ylabel(feature_columns[y])\n",
    "\n",
    "        plt.suptitle((\"Silhouette analysis for KMeans clustering on sample data with n_clusters = %d\" % n_clusters),\n",
    "                     fontsize=14, fontweight='bold')\n",
    "        plt.show()\n",
    "    return cluster_centers\n",
    "\n",
    "# 함수 호출 예제\n",
    "# cluster_centers = visualize_kmeans([3, 4, 5], features, rfm_without_outliers_log)\n"
   ]
  },
  {
   "cell_type": "code",
   "execution_count": null,
   "id": "0d5e7488",
   "metadata": {},
   "outputs": [],
   "source": [
    "# K = 3, 4, 5 시각화\n",
    "cluster_centers=visualize_kmeans([3,4,5],features,rfm_without_outliers_log)"
   ]
  },
  {
   "cell_type": "code",
   "execution_count": null,
   "id": "e911e67f-e730-4ea0-8652-abeb8becaf5c",
   "metadata": {},
   "outputs": [],
   "source": [
    "rfm_without_outliers.clusters_4"
   ]
  },
  {
   "cell_type": "code",
   "execution_count": null,
   "id": "ab9193d5",
   "metadata": {},
   "outputs": [],
   "source": [
    "rfm_without_outliers['clusters_3'] = cluster_centers[3]['labels'] \n",
    "rfm_without_outliers['clusters_4'] = cluster_centers[4]['labels']\n",
    "\n",
    "fig = plt.figure(figsize=(20,7))\n",
    "f1 = fig.add_subplot(131)\n",
    "market = rfm_without_outliers.clusters_3.value_counts()\n",
    "plt.pie(market, labels=market.index, autopct='%.1f%%', shadow=True, startangle=90)\n",
    "plt.title('3 Clusters')\n",
    "\n",
    "f1 = fig.add_subplot(132)\n",
    "market = rfm_without_outliers.clusters_4.value_counts()\n",
    "plt.pie(market, labels=market.index, autopct='%.1f%%', shadow=True, startangle=90)\n",
    "plt.title('4 Clusters')"
   ]
  },
  {
   "cell_type": "code",
   "execution_count": null,
   "id": "73e696dc",
   "metadata": {},
   "outputs": [],
   "source": [
    "rfm_clusters=rfm_without_outliers[[\"고객ID\",\"Recency\",\"Frequency\",\"Monetary\",\"clusters_4\"]]\n",
    "rfm_clusters=rfm_clusters.rename(columns={\"clusters_4\":\"clusters\"})\n",
    "rfm_outliers[\"clusters\"]=4\n",
    "rfm_clusters = pd.concat([rfm_clusters, rfm_outliers]).reset_index(drop=True)\n",
    "\n",
    "rfm_clusters"
   ]
  },
  {
   "cell_type": "code",
   "execution_count": null,
   "id": "4e7bc3b6",
   "metadata": {},
   "outputs": [],
   "source": [
    "dt = k.merge(rfm_clusters, on='고객ID', how=\"left\")\n",
    "\n",
    "# 클러스터 이름 변경\n",
    "cluster_names = {0: '고객유형0', 1: '고객유형1', 2: '고객유형2', 3: '고객유형3', 4:\"이상치고객\"}\n",
    "dt['clusters'] = dt['clusters'].replace(cluster_names)\n",
    "\n",
    "# 고객분류 딕셔너리 생성\n",
    "customer_classification = {'고객유형0': '관심고객', '고객유형1': '잠재고객', '고객유형2': '충성고객', '고객유형3': '이탈고객', \"이상치고객\" : \"VIP\"}\n",
    "\n",
    "# 고객분류 컬럼 생성\n",
    "dt['고객분류'] = dt['clusters'].replace(customer_classification)\n",
    "dt.drop(columns = ['clusters'], inplace = True)\n",
    "\n",
    "customer = dt\n",
    "sorted_customer = customer.sort_values(by='고객ID', ascending=True)\n",
    "sorted_customer\n"
   ]
  },
  {
   "cell_type": "markdown",
   "id": "4afdbb24-9652-4e5a-8793-90addc10026b",
   "metadata": {},
   "source": [
    "##### 평균구매주기 변수 생성"
   ]
  },
  {
   "cell_type": "code",
   "execution_count": null,
   "id": "eed8851b-b383-415c-9e79-a075846a239e",
   "metadata": {},
   "outputs": [],
   "source": [
    "from datetime import datetime"
   ]
  },
  {
   "cell_type": "code",
   "execution_count": null,
   "id": "0c578b0b",
   "metadata": {},
   "outputs": [],
   "source": [
    "customer"
   ]
  },
  {
   "cell_type": "code",
   "execution_count": null,
   "id": "5d7a8b3e-c6fa-42a4-8187-4bd3f3b13661",
   "metadata": {},
   "outputs": [],
   "source": [
    "customer['최근구매날짜'] = customer['최근구매날짜'].astype('str').apply(lambda _ : datetime.strptime(_,'%Y-%m-%d'))\n",
    "customer['최초구매날짜'] = customer['최초구매날짜'].astype('str').apply(lambda _ : datetime.strptime(_,'%Y-%m-%d'))"
   ]
  },
  {
   "cell_type": "code",
   "execution_count": null,
   "id": "49a9d9ce-b504-4ba8-8540-282e846bb3d3",
   "metadata": {},
   "outputs": [],
   "source": [
    "# 구매주기 \n",
    "customer['전체기간'] = customer['최근구매날짜'] - customer['최초구매날짜']\n",
    "customer['전체기간'] = customer['전체기간'].dt.days\n",
    "customer"
   ]
  },
  {
   "cell_type": "code",
   "execution_count": null,
   "id": "ff1b2a5c-f6d6-45a4-ac38-e93593920601",
   "metadata": {},
   "outputs": [],
   "source": [
    "customer['구매주기'] = np.where(\n",
    "    customer['전체기간'] == 0,\n",
    "    0,\n",
    "    (customer['전체기간'] / (customer['구매횟수'] - 1)).astype(str)\n",
    ")\n",
    "\n",
    "customer['구매주기'] = np.where(\n",
    "    customer['구매횟수'] == 1,\n",
    "    0,\n",
    "    customer['구매주기']\n",
    ")"
   ]
  },
  {
   "cell_type": "code",
   "execution_count": null,
   "id": "3808511a",
   "metadata": {},
   "outputs": [],
   "source": [
    "customer"
   ]
  },
  {
   "cell_type": "code",
   "execution_count": null,
   "id": "a74a338d-0ccf-4223-b867-433d150fbb5a",
   "metadata": {},
   "outputs": [],
   "source": [
    "customer['구매주기'] = customer['구매주기'].astype(float)"
   ]
  },
  {
   "cell_type": "code",
   "execution_count": null,
   "id": "1b128bde",
   "metadata": {
    "scrolled": true
   },
   "outputs": [],
   "source": [
    "customer"
   ]
  },
  {
   "cell_type": "markdown",
   "id": "471aeee4",
   "metadata": {},
   "source": [
    "### DB에 저장"
   ]
  },
  {
   "cell_type": "code",
   "execution_count": null,
   "id": "d119d98f",
   "metadata": {},
   "outputs": [],
   "source": [
    "database_sy.create_new_table(total, 'total')"
   ]
  },
  {
   "cell_type": "code",
   "execution_count": null,
   "id": "6e89ed9c-a5c0-41af-a41a-091e50aa6fab",
   "metadata": {},
   "outputs": [],
   "source": [
    "database_sy.create_new_table(customer, 'customer')"
   ]
  },
  {
   "cell_type": "code",
   "execution_count": null,
   "id": "6493319f",
   "metadata": {},
   "outputs": [],
   "source": []
  },
  {
   "cell_type": "code",
   "execution_count": null,
   "id": "0f562d7f",
   "metadata": {},
   "outputs": [],
   "source": []
  },
  {
   "cell_type": "code",
   "execution_count": null,
   "id": "81927394",
   "metadata": {},
   "outputs": [],
   "source": []
  },
  {
   "cell_type": "markdown",
   "id": "18b628ee",
   "metadata": {
    "jp-MarkdownHeadingCollapsed": true
   },
   "source": [
    "# 코호트분석"
   ]
  },
  {
   "cell_type": "code",
   "execution_count": null,
   "id": "a10e472b-ce4d-4e12-86ba-4e59a786172b",
   "metadata": {},
   "outputs": [],
   "source": [
    "total = pd.merge(total, customer[['고객ID', '최초구매날짜']], on='고객ID')"
   ]
  },
  {
   "cell_type": "code",
   "execution_count": null,
   "id": "312a9a43-fe77-453e-b6e1-5ce06e5cc753",
   "metadata": {},
   "outputs": [],
   "source": [
    "# 최초구매한 월 변수 생성\n",
    "total['최초구매_월'] = total['최초구매날짜'].dt.to_period('M').astype('str').apply(lambda _ : datetime.strptime(_,'%Y-%m'))"
   ]
  },
  {
   "cell_type": "code",
   "execution_count": null,
   "id": "98a0ea7d-0e45-4451-a197-39fb7a281829",
   "metadata": {},
   "outputs": [],
   "source": [
    "# 거래한 월 변수 생\n",
    "total['구매_월'] = total['거래날짜'].dt.to_period('M').astype('str').apply(lambda _ : datetime.strptime(_,'%Y-%m'))"
   ]
  },
  {
   "cell_type": "code",
   "execution_count": null,
   "id": "337ab749-78c7-455b-9db8-7a058804f148",
   "metadata": {},
   "outputs": [],
   "source": [
    "total.info()"
   ]
  },
  {
   "cell_type": "code",
   "execution_count": null,
   "id": "6f7f5452-0588-4936-abd4-b1fbc53d4fa8",
   "metadata": {},
   "outputs": [],
   "source": [
    "# 최초 구매한 달 별 고객수\n",
    "cohort = total.groupby(['최초구매_월', '구매_월']).agg(n_customers=('고객ID', 'nunique')).reset_index()"
   ]
  },
  {
   "cell_type": "code",
   "execution_count": null,
   "id": "6800f3c7-01e4-40b0-9d83-e8c2e86a3658",
   "metadata": {},
   "outputs": [],
   "source": [
    "# 첫구매 이후 \n",
    "cohort['코호트_기간'] = round((cohort['구매_월'] - cohort['최초구매_월']).apply(lambda x: x / pd.Timedelta(days=30)))"
   ]
  },
  {
   "cell_type": "code",
   "execution_count": null,
   "id": "aaccb793-2a74-4ab8-b92e-959195908c4a",
   "metadata": {
    "scrolled": true
   },
   "outputs": [],
   "source": [
    "# 코호트 그룹별(최초구매_월) 첫 구매 고객 수를 계산\n",
    "cohort_size = cohort[cohort['코호트_기간'] == 0][['최초구매_월', 'n_customers']].rename(columns={'n_customers': '코호트_크기'})\n",
    "\n",
    "cohort = pd.merge(cohort, cohort_size, on='최초구매_월')\n",
    "cohort"
   ]
  },
  {
   "cell_type": "markdown",
   "id": "7f5e64b8",
   "metadata": {
    "jp-MarkdownHeadingCollapsed": true
   },
   "source": [
    "###  DB에 저장"
   ]
  },
  {
   "cell_type": "code",
   "execution_count": null,
   "id": "77eb712f",
   "metadata": {},
   "outputs": [],
   "source": [
    "database_sy.create_new_table(cohort, 'cohort')"
   ]
  },
  {
   "cell_type": "code",
   "execution_count": null,
   "id": "306330b5",
   "metadata": {},
   "outputs": [],
   "source": [
    "cohort.info()"
   ]
  },
  {
   "cell_type": "code",
   "execution_count": null,
   "id": "e1858dcc",
   "metadata": {},
   "outputs": [],
   "source": []
  },
  {
   "cell_type": "code",
   "execution_count": null,
   "id": "019753c6",
   "metadata": {},
   "outputs": [],
   "source": []
  },
  {
   "cell_type": "code",
   "execution_count": null,
   "id": "8904af5b",
   "metadata": {},
   "outputs": [],
   "source": []
  },
  {
   "cell_type": "code",
   "execution_count": null,
   "id": "35681cdc",
   "metadata": {},
   "outputs": [],
   "source": [
    "cohort.info()"
   ]
  },
  {
   "cell_type": "code",
   "execution_count": null,
   "id": "22683d71-2505-4e10-8f15-085e9563b6e2",
   "metadata": {},
   "outputs": [],
   "source": [
    "# 재구매율 계산 = (해당 기간에 구매 고객수)/(첫구매 고객수)\n",
    "cohort['재구매율'] = cohort['n_customers']/cohort['코호트_크기']"
   ]
  },
  {
   "cell_type": "code",
   "execution_count": null,
   "id": "d18afaef-b563-4f3a-a74b-67b59d10eb15",
   "metadata": {},
   "outputs": [],
   "source": [
    "# \"코호트 기간\"과 \"최초구매_월\"을 인덱스로 하여 재구매율 피벗 테이블 생성\n",
    "cohort['최초구매_월'] = cohort['최초구매_월'].dt.to_period('M')\n",
    "retention_matrix = cohort.pivot_table(index='최초구매_월', columns='코호트_기간', values='재구매율')\n",
    "\n",
    "# 재구매율 시각화\n",
    "plt.figure(figsize=(18, 8))\n",
    "sns.heatmap(retention_matrix, annot=True, fmt='.0%', cmap='Blues')\n",
    "plt.title('Cohort Analysis - Retention Rates')\n",
    "plt.ylabel('Cohort Group')\n",
    "plt.xlabel('Months After First Purchase')\n",
    "plt.show()"
   ]
  },
  {
   "cell_type": "code",
   "execution_count": null,
   "id": "a6495e3c",
   "metadata": {},
   "outputs": [],
   "source": []
  },
  {
   "cell_type": "markdown",
   "id": "40552fd9-265a-4053-947a-664ea81c52a0",
   "metadata": {},
   "source": [
    "# 카테고리별 재구매 주기, 재구매율"
   ]
  },
  {
   "cell_type": "code",
   "execution_count": null,
   "id": "d7e6331b-0592-47bf-9e1e-c1a8ccd2895e",
   "metadata": {},
   "outputs": [],
   "source": []
  },
  {
   "cell_type": "code",
   "execution_count": null,
   "id": "d3873c2a-e6e3-4701-a92d-6a803efe7ff8",
   "metadata": {},
   "outputs": [],
   "source": [
    "online_sales = database_sy.making_dataframe('total')\n",
    "online_sales"
   ]
  },
  {
   "cell_type": "code",
   "execution_count": null,
   "id": "1b7b1750",
   "metadata": {},
   "outputs": [],
   "source": [
    "customer = database_sy.making_dataframe('customer')\n",
    "customer"
   ]
  },
  {
   "cell_type": "code",
   "execution_count": null,
   "id": "2b121716",
   "metadata": {},
   "outputs": [],
   "source": [
    "online_sales['거래날짜'] = pd.to_datetime(online_sales['거래날짜'])\n",
    "customer_category_groups = online_sales.groupby(['고객ID', '제품카테고리'])\n",
    "\n",
    "\n",
    "category_repurchase_periods = {}\n",
    "\n",
    "# 고객별로 제품 카테고리 재구매 주기 계산\n",
    "for name, group in customer_category_groups:\n",
    "    \n",
    "    # 시간순으로 정렬\n",
    "    group = group.sort_values(by='거래날짜')\n",
    "\n",
    "    # 각 거래 간의 시간 간격 계산\n",
    "    purchase_gaps = group['거래날짜'].diff().dt.days\n",
    "    \n",
    "    # 첫 번째 구매 제외 (재구매 주기는 두 번째 구매부터 계산)\n",
    "    purchase_gaps = purchase_gaps.iloc[1:]\n",
    "    \n",
    "    category = name[1]  #제품카테고리\n",
    "    if category not in category_repurchase_periods:\n",
    "        category_repurchase_periods[category] = []\n",
    "    category_repurchase_periods[category].extend(purchase_gaps)\n",
    "\n",
    "# 각 제품 카테고리별로 평균 재구매 주기 계산\n",
    "average_repurchase_periods = {}\n",
    "for category, periods in category_repurchase_periods.items():\n",
    "    average_repurchase_periods[category] = pd.Series(periods).mean()\n",
    "\n",
    "# 결과 출력\n",
    "for category, avg_period in average_repurchase_periods.items():\n",
    "    print(f\"{category} 카테고리의 평균 재구매 주기: {avg_period:.3f} 일\")\n"
   ]
  },
  {
   "cell_type": "code",
   "execution_count": null,
   "id": "d3a12af7-60d3-407c-9d3b-52fb9d24a743",
   "metadata": {},
   "outputs": [],
   "source": [
    "result_df = pd.DataFrame(list(average_repurchase_periods.items()), columns=['제품카테고리', '평균 재구매 주기(일)'])\n",
    "result_df"
   ]
  },
  {
   "cell_type": "code",
   "execution_count": null,
   "id": "bf97c236-a774-4234-8cc0-f9e66583969b",
   "metadata": {},
   "outputs": [],
   "source": [
    "# 거래날짜를 datetime 타입으로 변환\n",
    "online_sales['거래날짜'] = pd.to_datetime(online_sales['거래날짜'])\n",
    "\n",
    "# 첫 번째 그룹바이 및 카운트\n",
    "klk = online_sales.groupby(['고객ID', '거래날짜', '제품카테고리']).size().reset_index(name='n')\n",
    "klk"
   ]
  },
  {
   "cell_type": "code",
   "execution_count": null,
   "id": "3debd0d6-604a-4b7a-9207-69d1d0dc7700",
   "metadata": {},
   "outputs": [],
   "source": [
    "# 고객ID와 제품카테고리로 그룹바이하여 재구매 횟수 계산\n",
    "klk = klk.groupby(['고객ID', '제품카테고리']).size().reset_index(name='n2')\n",
    "klk"
   ]
  },
  {
   "cell_type": "code",
   "execution_count": null,
   "id": "8e0b0cbe-7a06-4228-8a84-b6e5bea5e4f7",
   "metadata": {},
   "outputs": [],
   "source": [
    "# n2가 1이 아닌 행 필터링\n",
    "klk = klk[klk['n2'] != 1]\n",
    "\n",
    "# n2를 1씩 감소\n",
    "klk['n2'] = klk['n2'] - 1"
   ]
  },
  {
   "cell_type": "code",
   "execution_count": null,
   "id": "a5ce83cf-aca1-4ff9-aa73-72975beff912",
   "metadata": {},
   "outputs": [],
   "source": [
    "# 제품카테고리별로 그룹바이하여 재구매율 계산\n",
    "ka = klk.groupby('제품카테고리').agg(\n",
    "    n=('고객ID', 'size'),\n",
    "    sum=('n2', 'sum')\n",
    ").reset_index()\n",
    "\n",
    "ka['재구매율'] = ka['n'] / ka['sum']\n",
    "\n",
    "# 결과 출력\n",
    "ka"
   ]
  },
  {
   "cell_type": "code",
   "execution_count": null,
   "id": "da99b4d3-e217-4f7c-a9b8-6d644c123de2",
   "metadata": {},
   "outputs": [],
   "source": []
  },
  {
   "cell_type": "code",
   "execution_count": null,
   "id": "c68fbc75-a744-4899-b882-b05e1f28346f",
   "metadata": {},
   "outputs": [],
   "source": []
  },
  {
   "cell_type": "code",
   "execution_count": null,
   "id": "9f000a70-b984-4f55-9daa-8ae2b363b0e8",
   "metadata": {
    "scrolled": true
   },
   "outputs": [],
   "source": [
    "s = sns.countplot(data = total, x = '제품카테고리', order = total['제품카테고리'].value_counts().index)\n",
    "plt.xticks(rotation=40)"
   ]
  },
  {
   "cell_type": "code",
   "execution_count": null,
   "id": "3af4fe86-315d-4bff-994c-833d02dfbcfd",
   "metadata": {},
   "outputs": [],
   "source": [
    "total['재구매여부'] = np.where(\n",
    "    total['거래날짜'] - total['최초구매날짜'] == '0 days',\n",
    "    0,\n",
    "    1\n",
    ")"
   ]
  },
  {
   "cell_type": "code",
   "execution_count": null,
   "id": "a87619bc-3236-4b9c-bde9-fe762f3851d4",
   "metadata": {},
   "outputs": [],
   "source": [
    "category = total[total['재구매여부'] == 1].groupby(['고객ID', '제품카테고리']).count()\n",
    "category = total.groupby(['제품카테고리']).agg(n_customers=('고객ID', 'nunique')).reset_index()"
   ]
  },
  {
   "cell_type": "code",
   "execution_count": null,
   "id": "8ef8e69f-1635-49bf-8b78-6052536906d2",
   "metadata": {},
   "outputs": [],
   "source": []
  },
  {
   "cell_type": "code",
   "execution_count": null,
   "id": "8b8d3511-16ff-4a69-9208-68e598d797d9",
   "metadata": {},
   "outputs": [],
   "source": [
    "category = pd.merge(ka, result_df, on = '제품카테고리')\n",
    "category"
   ]
  },
  {
   "cell_type": "code",
   "execution_count": null,
   "id": "59248f75-f44b-4e2f-8359-8deb187c8ecf",
   "metadata": {},
   "outputs": [],
   "source": [
    "database_sy.create_new_table(category, 'category')"
   ]
  },
  {
   "cell_type": "code",
   "execution_count": null,
   "id": "f10ac097-fa05-41cf-9a4e-fbc5e33dea1f",
   "metadata": {},
   "outputs": [],
   "source": []
  },
  {
   "cell_type": "code",
   "execution_count": null,
   "id": "95fbfbfd-a13d-4bd8-80f4-e86ae297bdfb",
   "metadata": {},
   "outputs": [],
   "source": []
  },
  {
   "cell_type": "markdown",
   "id": "bbd45244-56f6-4843-b066-1315caecd77d",
   "metadata": {},
   "source": [
    "# 재구매 여부 예측 "
   ]
  },
  {
   "cell_type": "code",
   "execution_count": null,
   "id": "df3e7e69-2a3e-4942-9769-2349eed1ef4f",
   "metadata": {},
   "outputs": [],
   "source": [
    "from sklearn.model_selection import train_test_split\n",
    "from sklearn.preprocessing import StandardScaler  \n",
    "from sklearn.linear_model import LogisticRegression \n",
    "from sklearn.ensemble import RandomForestClassifier\n",
    "from sklearn.metrics import accuracy_score"
   ]
  },
  {
   "cell_type": "code",
   "execution_count": null,
   "id": "1f8f5842-0741-40b7-adb3-601dae3e911b",
   "metadata": {},
   "outputs": [],
   "source": [
    "sales = database_sy.making_dataframe('total')"
   ]
  },
  {
   "cell_type": "code",
   "execution_count": null,
   "id": "4e7c4d00-6a92-4791-a26e-6c5670911826",
   "metadata": {},
   "outputs": [],
   "source": [
    "customer  = database_sy.making_dataframe('customer')"
   ]
  },
  {
   "cell_type": "code",
   "execution_count": null,
   "id": "50adbddf-fb3b-4d37-ae0b-35c0e45c6cd5",
   "metadata": {},
   "outputs": [],
   "source": []
  },
  {
   "cell_type": "code",
   "execution_count": null,
   "id": "a0b3ef9f-9579-41de-b655-455f3ff6a030",
   "metadata": {},
   "outputs": [],
   "source": [
    "# 병합 전에 중복 열 제거\n",
    "sales = sales.drop(columns=['성별', '고객지역', '가입기간'])\n",
    "\n",
    "# 데이터 프레임 병합\n",
    "merged_df = pd.merge(sales, customer, on='고객ID', how='inner')"
   ]
  },
  {
   "cell_type": "code",
   "execution_count": null,
   "id": "a835b5fb-0860-4e17-8d15-08b6d553ad6c",
   "metadata": {},
   "outputs": [],
   "source": [
    "merged_df['거래날짜'] = pd.to_datetime(sales['거래날짜'])\n",
    "merged_df['최초구매날짜'] = pd.to_datetime(customer['최초구매날짜'])\n",
    "merged_df['최근구매날짜'] = pd.to_datetime(customer['최근구매날짜'])"
   ]
  },
  {
   "cell_type": "code",
   "execution_count": null,
   "id": "e898a0f3-c806-4ea1-99b9-23423caef5d2",
   "metadata": {},
   "outputs": [],
   "source": [
    "# 1월 ~ 9월 데이터를 가지고 모델링\n",
    "october_filter = merged_df['거래날짜'].dt.month < 10\n",
    "dat = merged_df[october_filter]"
   ]
  },
  {
   "cell_type": "code",
   "execution_count": null,
   "id": "89bc4fe0-80ef-4b08-b6b6-4fe25b6fbc46",
   "metadata": {},
   "outputs": [],
   "source": [
    "# 분석에 필요 없는 변수 제거\n",
    "# 고객ID, 거래ID, 거래날짜, 제품ID, 쿠폰코드, 최초구매날짜, 최근구매날짜\n",
    "columns_to_drop = ['고객ID', '거래ID', '거래날짜', '제품ID', '월', '쿠폰코드', 'GST', '최초구매날짜', '최근구매날짜']\n",
    "\n",
    "dat = dat.drop(columns=columns_to_drop)\n",
    "dat.columns"
   ]
  },
  {
   "cell_type": "code",
   "execution_count": null,
   "id": "366d088e-1ba1-454a-a178-df642196b903",
   "metadata": {},
   "outputs": [],
   "source": [
    "dat.columns"
   ]
  },
  {
   "cell_type": "code",
   "execution_count": null,
   "id": "3ea600db-3b8a-4d54-8b1e-66f42a20881e",
   "metadata": {},
   "outputs": [],
   "source": [
    "# dat테이블  db에 저장\n",
    "database_sy.create_new_table(dat, 'dat')"
   ]
  },
  {
   "cell_type": "code",
   "execution_count": null,
   "id": "2c368a38-8463-43cb-8666-ff1814d165a2",
   "metadata": {},
   "outputs": [],
   "source": [
    "y = dat['재구매여부']\n",
    "X = dat.loc[:, [i for i in list(dat.columns) if i not in ['재구매여부']]]"
   ]
  },
  {
   "cell_type": "code",
   "execution_count": null,
   "id": "e3555524-bfb2-4296-a04f-ce8395c75745",
   "metadata": {},
   "outputs": [],
   "source": []
  },
  {
   "cell_type": "code",
   "execution_count": null,
   "id": "c337900e-52da-46f4-ba23-366fe32b66a2",
   "metadata": {},
   "outputs": [],
   "source": [
    "# X df의 이상치 탐색"
   ]
  },
  {
   "cell_type": "code",
   "execution_count": null,
   "id": "930ef1dd-2b64-4fdf-b031-b68e71571699",
   "metadata": {},
   "outputs": [],
   "source": [
    "# 일단은 이상치 제거 안하고 모델링"
   ]
  },
  {
   "cell_type": "code",
   "execution_count": null,
   "id": "b0558abe-a7e1-4a09-9551-bb73cf5a593b",
   "metadata": {},
   "outputs": [],
   "source": [
    "def separate_outliers(df, column):\n",
    "    Q1 = df[column].quantile(0.25)\n",
    "    Q3 = df[column].quantile(0.75)\n",
    "    IQR = Q3 - Q1\n",
    "\n",
    "    filter = (df[column] >= Q1 - 1.5 * IQR) & (df[column] <= Q3 + 1.5 * IQR)\n",
    "    \n",
    "    df_outliers = df.loc[~filter]  # 이상치만을 담은 DataFrame\n",
    "    df = df.loc[filter]  # 이상치를 제거한 DataFrame\n",
    "    \n",
    "    return df, df_outliers"
   ]
  },
  {
   "cell_type": "code",
   "execution_count": null,
   "id": "679e8c5f-ec88-4e55-813c-a98edf39fb05",
   "metadata": {},
   "outputs": [],
   "source": [
    "# 'Frequency' 컬럼의 이상치 제거\n",
    "rfm_without_outliers_f, rfm_outliers_f = separate_outliers(rfm, 'Frequency')\n",
    "# 'Monetary' 컬럼의 이상치 제거\n",
    "rfm_without_outliers_m, rfm_outliers_m = separate_outliers(rfm, 'Monetary')\n",
    "# 이상치가 없는 행만 선택\n",
    "rfm_without_outliers = rfm.loc[rfm.index.isin(rfm_without_outliers_f.index) & rfm.index.isin(rfm_without_outliers_m.index)]\n",
    "# 이상치를 포함하는 행만 선택\n",
    "rfm_outliers = rfm.loc[rfm.index.isin(rfm_outliers_f.index) | rfm.index.isin(rfm_outliers_m.index)]\n",
    "rfm_without_outliers"
   ]
  },
  {
   "cell_type": "code",
   "execution_count": null,
   "id": "b4fa9884-6323-4941-b1e7-67d09748d560",
   "metadata": {},
   "outputs": [],
   "source": [
    "# "
   ]
  },
  {
   "cell_type": "code",
   "execution_count": null,
   "id": "8f439cb0-3c6b-490a-826e-c1c136670599",
   "metadata": {},
   "outputs": [],
   "source": [
    "# 상관분석"
   ]
  },
  {
   "cell_type": "code",
   "execution_count": null,
   "id": "c7425d1e-d7a3-4aec-9728-b6d041178307",
   "metadata": {},
   "outputs": [],
   "source": [
    "plt.figure(figsize = (15,15))\n",
    "plt.rcParams['font.family'] ='Malgun Gothic'\n",
    "sns.heatmap(X[num_columns].corr(), cmap = 'coolwarm', vmax =1, vmin = -1, annot = True)\n"
   ]
  },
  {
   "cell_type": "code",
   "execution_count": null,
   "id": "f2bc5ee7-e671-48e6-bd37-4b8d00c81c35",
   "metadata": {},
   "outputs": [],
   "source": [
    "# 변수 변환 \n",
    "from sklearn.compose import ColumnTransformer\n",
    "from sklearn.preprocessing import OneHotEncoder, StandardScaler"
   ]
  },
  {
   "cell_type": "code",
   "execution_count": null,
   "id": "09afe807-1b81-4c76-994a-7511023c174a",
   "metadata": {},
   "outputs": [],
   "source": [
    "numeric_features = X.select_dtypes(include=np.number).columns.tolist()\n",
    "categorical_features = X.select_dtypes(exclude=np.number).columns.tolist()"
   ]
  },
  {
   "cell_type": "code",
   "execution_count": null,
   "id": "90399508-1853-48f6-82c8-3c6fbc6d1bc4",
   "metadata": {},
   "outputs": [],
   "source": [
    "num_columns"
   ]
  },
  {
   "cell_type": "code",
   "execution_count": null,
   "id": "3ca4083f-c9b4-42bf-ab48-0aad32d59d95",
   "metadata": {},
   "outputs": [],
   "source": [
    "cat_columns"
   ]
  },
  {
   "cell_type": "code",
   "execution_count": null,
   "id": "b008daa4-d439-400b-af52-145ee1688ef1",
   "metadata": {},
   "outputs": [],
   "source": [
    "# 변수 스케일링 & 원핫인코딩"
   ]
  },
  {
   "cell_type": "code",
   "execution_count": null,
   "id": "aea8deb7-e210-4831-afdf-f59d973c9b1b",
   "metadata": {},
   "outputs": [],
   "source": [
    "trans = ColumnTransformer([\n",
    "    ('cat_columns',OneHotEncoder(sparse_output=False),cat_columns),\n",
    "    ('num_columns',StandardScaler(),num_columns)])"
   ]
  },
  {
   "cell_type": "code",
   "execution_count": null,
   "id": "eeb14167-b2a0-48ee-9cb3-91c6d19e3dff",
   "metadata": {},
   "outputs": [],
   "source": [
    "trans.fit(X)"
   ]
  },
  {
   "cell_type": "code",
   "execution_count": null,
   "id": "096bd028-ee46-4c10-a4b6-12fa7e523ffd",
   "metadata": {},
   "outputs": [],
   "source": [
    "from sklearn.pipeline import Pipeline\n",
    "import pickle as pkl"
   ]
  },
  {
   "cell_type": "code",
   "execution_count": null,
   "id": "a5449048-87b5-446e-adb7-ea92b7292490",
   "metadata": {},
   "outputs": [],
   "source": [
    "# 전처리 파이프라인 정의\n",
    "preprocessor = ColumnTransformer(\n",
    "    transformers=[\n",
    "        ('num', StandardScaler(), numeric_features),\n",
    "        ('cat', OneHotEncoder(), categorical_features)\n",
    "    ])\n",
    "\n",
    "# 파이프라인 실행\n",
    "df_preprocessed = preprocessor.fit_transform(X)\n",
    "\n",
    "# 결과를 데이터프레임으로 변환 (열 이름 포함)\n",
    "numeric_transformer = Pipeline(steps=[\n",
    "    ('scaler', StandardScaler())\n",
    "])\n",
    "\n",
    "categorical_transformer = Pipeline(steps=[\n",
    "    ('onehot', OneHotEncoder())\n",
    "])\n",
    "\n",
    "preprocessor = ColumnTransformer(\n",
    "    transformers=[\n",
    "        ('num', numeric_transformer, numeric_features),\n",
    "        ('cat', categorical_transformer, categorical_features)\n",
    "    ])\n",
    "\n",
    "# Fit and transform the data\n",
    "df_preprocessed = preprocessor.fit_transform(X)\n",
    "\n",
    "# Get feature names\n",
    "num_features = numeric_features\n",
    "cat_features = preprocessor.named_transformers_['cat']['onehot'].get_feature_names_out(categorical_features)\n",
    "all_features = list(num_features) + list(cat_features)\n",
    "\n",
    "# Create a DataFrame with the transformed data\n",
    "df_preprocessed = pd.DataFrame(df_preprocessed, columns=all_features)\n",
    "\n",
    "# 결과 출력\n",
    "print(df_preprocessed)"
   ]
  },
  {
   "cell_type": "code",
   "execution_count": null,
   "id": "a239081d-522b-4c33-86ff-e19eeba09e75",
   "metadata": {},
   "outputs": [],
   "source": [
    "# 1~월 9월 데이터에서 7:3비율로 train/test set 분할\n",
    "X_train, X_test, y_train, y_test = train_test_split(df_preprocessed, y, test_size = 0.3)"
   ]
  },
  {
   "cell_type": "code",
   "execution_count": null,
   "id": "b9dcc228-ffe8-4462-be1d-79f41f9a2cca",
   "metadata": {},
   "outputs": [],
   "source": [
    "# 검증 데이터 분할\n",
    "X_train, X_val, y_train, y_val = train_test_split(X_train, y_train, test_size = 0.3)"
   ]
  },
  {
   "cell_type": "code",
   "execution_count": null,
   "id": "a7d56feb-f8f1-494c-b98b-d2a48cb2bbc5",
   "metadata": {},
   "outputs": [],
   "source": [
    "print(len(df_preprocessed),len(X_train),len(X_val),len(X_test))"
   ]
  },
  {
   "cell_type": "code",
   "execution_count": null,
   "id": "b9184441-00bb-4220-bcdf-f22aea59ca10",
   "metadata": {},
   "outputs": [],
   "source": [
    "# 분류 모델"
   ]
  },
  {
   "cell_type": "code",
   "execution_count": null,
   "id": "9f451345-9841-4d71-a21a-14a7f2ccc070",
   "metadata": {},
   "outputs": [],
   "source": [
    "model = RandomForestClassifier(n_estimators = 50, max_features = 'sqrt', criterion = 'gini', max_depth = 10 )\n",
    "model.fit(X_train, y_train)"
   ]
  },
  {
   "cell_type": "code",
   "execution_count": null,
   "id": "72e6a2d8-b0fb-4879-9db0-c68699ee120c",
   "metadata": {},
   "outputs": [],
   "source": [
    "print(\"creating model files...\")\n",
    "pkl.dump(model,open(\"model.pkl\",\"wb\"))\n",
    "print(\"creating transformation fole...\")\n",
    "pkl.dump(trans, open(\"transform.pkl\",\"wb\"))"
   ]
  },
  {
   "cell_type": "code",
   "execution_count": null,
   "id": "ccd17428-ed6e-4308-a6fd-725f33a8b2f1",
   "metadata": {},
   "outputs": [],
   "source": [
    "from sklearn.model_selection import cross_val_score\n",
    "scores = cross_val_score(model, X_train, y_train, cv = 5)"
   ]
  },
  {
   "cell_type": "code",
   "execution_count": null,
   "id": "24e5c65d-33b0-47ef-87dc-d8ed9f274af4",
   "metadata": {},
   "outputs": [],
   "source": [
    "print(f\"Cross-validation scores: {scores}\")\n",
    "print(f\"Mean cross-validation score: {scores.mean()}\")"
   ]
  },
  {
   "cell_type": "code",
   "execution_count": null,
   "id": "2cacdb71-1435-48f1-9726-79cd0bf973ad",
   "metadata": {},
   "outputs": [],
   "source": [
    "# 예측\n",
    "pred = model.predict(X_test)"
   ]
  },
  {
   "cell_type": "code",
   "execution_count": null,
   "id": "65df7b9d-78e4-4af7-a7e3-767731dbc9fc",
   "metadata": {},
   "outputs": [],
   "source": [
    "y_test"
   ]
  },
  {
   "cell_type": "code",
   "execution_count": null,
   "id": "78603b8e-179c-4b9b-a851-bfb0ad20a653",
   "metadata": {},
   "outputs": [],
   "source": [
    "pred"
   ]
  },
  {
   "cell_type": "code",
   "execution_count": null,
   "id": "532cfca7-b552-4627-b2ab-75f6dfa5f1ca",
   "metadata": {},
   "outputs": [],
   "source": [
    "pd.crosstab(y_test, pred)"
   ]
  },
  {
   "cell_type": "code",
   "execution_count": null,
   "id": "38338526-472f-44a9-9ce5-2b5844dc5fe8",
   "metadata": {},
   "outputs": [],
   "source": [
    "from sklearn.model_selection import GridSearchCV\n",
    "\n",
    "params = {\n",
    "    'n_estimators':[100, 200],\n",
    "    'max_depth' : [6, 10], \n",
    "    'min_samples_leaf' : [8, 12],\n",
    "    'min_samples_split' : [8, 16]\n",
    "}\n",
    "\n",
    "rf_clf = RandomForestClassifier(random_state=0, n_jobs=-1)\n",
    "grid_cv = GridSearchCV(rf_clf , param_grid=params , cv=5, verbose=2 )\n",
    "grid_cv.fit(X_train , y_train) # grid.cv.fit(train_x, train_y)\n",
    "\n",
    "estimator =grid_cv.best_estimator_ \n",
    "pred = estimator.predict(X_val) # estimator.predict(test)\n",
    "\n",
    "print('최적 하이퍼 파라미터:\\n', grid_cv.best_params_)\n",
    "print('최고 예측 정확도: {0:.4f}'.format(grid_cv.best_score_))"
   ]
  },
  {
   "cell_type": "code",
   "execution_count": null,
   "id": "d1682975-24e2-4da5-ab7f-18adbb94021a",
   "metadata": {},
   "outputs": [],
   "source": [
    "ftr_importances_values = estimator.feature_importances_\n",
    "ftr_importances = pd.Series(ftr_importances_values,index=X_train.columns)\n",
    "ftr_top = ftr_importances.sort_values(ascending=False)\n",
    "\n",
    "plt.figure(figsize=(8,6))\n",
    "plt.title('Feature importances')\n",
    "sns.barplot(x=ftr_top , y = ftr_top.index)\n",
    "plt.show()"
   ]
  },
  {
   "cell_type": "code",
   "execution_count": null,
   "id": "e1f85425-617a-4b1b-83bc-bb706883effe",
   "metadata": {},
   "outputs": [],
   "source": [
    "from sklearn.linear_model import LogisticRegression\n",
    "from sklearn.metrics import classification_report, confusion_matrix"
   ]
  },
  {
   "cell_type": "code",
   "execution_count": null,
   "id": "96b97aba-10d0-49a7-a765-af0905e67f94",
   "metadata": {},
   "outputs": [],
   "source": [
    "logistic = LogisticRegression()\n",
    "model2 = logistic.fit(X_train, y_train)"
   ]
  },
  {
   "cell_type": "code",
   "execution_count": null,
   "id": "b55d3780-a66a-4add-abb1-fe884852b4e5",
   "metadata": {},
   "outputs": [],
   "source": [
    "pred = model2.predict(X_test)"
   ]
  },
  {
   "cell_type": "code",
   "execution_count": null,
   "id": "57e4fb43-b8d1-40c6-83a1-ecf58a3c65ac",
   "metadata": {},
   "outputs": [],
   "source": [
    "print(\"Classification Report:\\n\", classification_report(y_test, pred))\n",
    "print(\"Confusion Matrix:\\n\", confusion_matrix(y_test, pred))"
   ]
  }
 ],
 "metadata": {
  "kernelspec": {
   "display_name": "Python 3 (ipykernel)",
   "language": "python",
   "name": "python3"
  },
  "language_info": {
   "codemirror_mode": {
    "name": "ipython",
    "version": 3
   },
   "file_extension": ".py",
   "mimetype": "text/x-python",
   "name": "python",
   "nbconvert_exporter": "python",
   "pygments_lexer": "ipython3",
   "version": "3.12.0"
  }
 },
 "nbformat": 4,
 "nbformat_minor": 5
}
