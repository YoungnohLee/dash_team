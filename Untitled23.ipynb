{
  "cells": [
    {
      "cell_type": "code",
      "execution_count": 1,
      "metadata": {
        "colab": {
          "base_uri": "https://localhost:8080/"
        },
        "id": "U_xPSgZP80n3",
        "outputId": "5385563a-0cdc-4215-e13c-b7a5744a61b5"
      },
      "outputs": [
        {
          "name": "stdout",
          "output_type": "stream",
          "text": [
            "c:\\Users\\junio\\OneDrive\\바탕 화면\\dash_v2\\may\\0523\n",
            "C:\\Users\\junio\\OneDrive\\바탕 화면\\dash_v2\\may\n"
          ]
        }
      ],
      "source": [
        "import os\n",
        "import sys\n",
        "\n",
        "import pandas as pd\n",
        "import numpy as np\n",
        "import matplotlib.pyplot as plt\n",
        "%matplotlib inline\n",
        "\n",
        "import warnings\n",
        "warnings.filterwarnings(action='ignore')\n",
        "\n",
        "print(os.getcwd())\n",
        "os.chdir(\"C:/Users/junio/OneDrive/바탕 화면/dash_v2/may\")\n",
        "path = os.getcwd()\n",
        "print(os.getcwd())"
      ]
    },
    {
      "cell_type": "code",
      "execution_count": 2,
      "metadata": {
        "id": "vWaV4H_p9YGX"
      },
      "outputs": [],
      "source": [
        "def load_data():\n",
        "    customer = pd.read_csv(\"./Customer_info.csv\")\n",
        "    discount = pd.read_csv(\"./Discount_info.csv\")\n",
        "    marketing = pd.read_csv(\"./Marketing_info.csv\")\n",
        "    onlinesales = pd.read_csv(\"./Onlinesales_info.csv\")\n",
        "    tax = pd.read_csv(\"./Tax_info.csv\")\n",
        "    return customer, discount, marketing, onlinesales, tax"
      ]
    },
    {
      "cell_type": "code",
      "execution_count": 3,
      "metadata": {
        "id": "svUWNVuq9srn"
      },
      "outputs": [],
      "source": [
        "customer, discount, marketing, onlinesales, tax = load_data()"
      ]
    },
    {
      "cell_type": "code",
      "execution_count": 4,
      "metadata": {
        "colab": {
          "base_uri": "https://localhost:8080/",
          "height": 206
        },
        "id": "jlPD1_CH9zsX",
        "outputId": "33ad17e9-445b-41fd-a0f5-5ff4b323eca8"
      },
      "outputs": [
        {
          "data": {
            "text/html": [
              "<div>\n",
              "<style scoped>\n",
              "    .dataframe tbody tr th:only-of-type {\n",
              "        vertical-align: middle;\n",
              "    }\n",
              "\n",
              "    .dataframe tbody tr th {\n",
              "        vertical-align: top;\n",
              "    }\n",
              "\n",
              "    .dataframe thead th {\n",
              "        text-align: right;\n",
              "    }\n",
              "</style>\n",
              "<table border=\"1\" class=\"dataframe\">\n",
              "  <thead>\n",
              "    <tr style=\"text-align: right;\">\n",
              "      <th></th>\n",
              "      <th>고객ID</th>\n",
              "      <th>성별</th>\n",
              "      <th>고객지역</th>\n",
              "      <th>가입기간</th>\n",
              "    </tr>\n",
              "  </thead>\n",
              "  <tbody>\n",
              "    <tr>\n",
              "      <th>0</th>\n",
              "      <td>USER_1358</td>\n",
              "      <td>남</td>\n",
              "      <td>Chicago</td>\n",
              "      <td>12</td>\n",
              "    </tr>\n",
              "    <tr>\n",
              "      <th>1</th>\n",
              "      <td>USER_0190</td>\n",
              "      <td>남</td>\n",
              "      <td>California</td>\n",
              "      <td>43</td>\n",
              "    </tr>\n",
              "    <tr>\n",
              "      <th>2</th>\n",
              "      <td>USER_0066</td>\n",
              "      <td>남</td>\n",
              "      <td>Chicago</td>\n",
              "      <td>33</td>\n",
              "    </tr>\n",
              "    <tr>\n",
              "      <th>3</th>\n",
              "      <td>USER_0345</td>\n",
              "      <td>여</td>\n",
              "      <td>California</td>\n",
              "      <td>30</td>\n",
              "    </tr>\n",
              "    <tr>\n",
              "      <th>4</th>\n",
              "      <td>USER_0683</td>\n",
              "      <td>남</td>\n",
              "      <td>California</td>\n",
              "      <td>49</td>\n",
              "    </tr>\n",
              "  </tbody>\n",
              "</table>\n",
              "</div>"
            ],
            "text/plain": [
              "        고객ID 성별        고객지역  가입기간\n",
              "0  USER_1358  남     Chicago    12\n",
              "1  USER_0190  남  California    43\n",
              "2  USER_0066  남     Chicago    33\n",
              "3  USER_0345  여  California    30\n",
              "4  USER_0683  남  California    49"
            ]
          },
          "execution_count": 4,
          "metadata": {},
          "output_type": "execute_result"
        }
      ],
      "source": [
        "customer.head() # 가입기간은 1월 기준임.\n"
      ]
    },
    {
      "cell_type": "code",
      "execution_count": 5,
      "metadata": {
        "colab": {
          "base_uri": "https://localhost:8080/",
          "height": 206
        },
        "id": "h3w2f1JH90mC",
        "outputId": "23ecb9e0-3ab8-41c4-b9a0-34fde88bb28b"
      },
      "outputs": [
        {
          "data": {
            "text/html": [
              "<div>\n",
              "<style scoped>\n",
              "    .dataframe tbody tr th:only-of-type {\n",
              "        vertical-align: middle;\n",
              "    }\n",
              "\n",
              "    .dataframe tbody tr th {\n",
              "        vertical-align: top;\n",
              "    }\n",
              "\n",
              "    .dataframe thead th {\n",
              "        text-align: right;\n",
              "    }\n",
              "</style>\n",
              "<table border=\"1\" class=\"dataframe\">\n",
              "  <thead>\n",
              "    <tr style=\"text-align: right;\">\n",
              "      <th></th>\n",
              "      <th>월</th>\n",
              "      <th>제품카테고리</th>\n",
              "      <th>쿠폰코드</th>\n",
              "      <th>할인율</th>\n",
              "    </tr>\n",
              "  </thead>\n",
              "  <tbody>\n",
              "    <tr>\n",
              "      <th>0</th>\n",
              "      <td>Jan</td>\n",
              "      <td>Apparel</td>\n",
              "      <td>SALE10</td>\n",
              "      <td>10</td>\n",
              "    </tr>\n",
              "    <tr>\n",
              "      <th>1</th>\n",
              "      <td>Feb</td>\n",
              "      <td>Apparel</td>\n",
              "      <td>SALE20</td>\n",
              "      <td>20</td>\n",
              "    </tr>\n",
              "    <tr>\n",
              "      <th>2</th>\n",
              "      <td>Mar</td>\n",
              "      <td>Apparel</td>\n",
              "      <td>SALE30</td>\n",
              "      <td>30</td>\n",
              "    </tr>\n",
              "    <tr>\n",
              "      <th>3</th>\n",
              "      <td>Jan</td>\n",
              "      <td>Nest-USA</td>\n",
              "      <td>ELEC10</td>\n",
              "      <td>10</td>\n",
              "    </tr>\n",
              "    <tr>\n",
              "      <th>4</th>\n",
              "      <td>Feb</td>\n",
              "      <td>Nest-USA</td>\n",
              "      <td>ELEC20</td>\n",
              "      <td>20</td>\n",
              "    </tr>\n",
              "  </tbody>\n",
              "</table>\n",
              "</div>"
            ],
            "text/plain": [
              "     월    제품카테고리    쿠폰코드  할인율\n",
              "0  Jan   Apparel  SALE10   10\n",
              "1  Feb   Apparel  SALE20   20\n",
              "2  Mar   Apparel  SALE30   30\n",
              "3  Jan  Nest-USA  ELEC10   10\n",
              "4  Feb  Nest-USA  ELEC20   20"
            ]
          },
          "execution_count": 5,
          "metadata": {},
          "output_type": "execute_result"
        }
      ],
      "source": [
        "discount.head()"
      ]
    },
    {
      "cell_type": "code",
      "execution_count": 6,
      "metadata": {
        "colab": {
          "base_uri": "https://localhost:8080/",
          "height": 206
        },
        "id": "dP8j7qU492ro",
        "outputId": "838e95bf-7c71-4cbd-9069-d39c6228fb7e"
      },
      "outputs": [
        {
          "data": {
            "text/html": [
              "<div>\n",
              "<style scoped>\n",
              "    .dataframe tbody tr th:only-of-type {\n",
              "        vertical-align: middle;\n",
              "    }\n",
              "\n",
              "    .dataframe tbody tr th {\n",
              "        vertical-align: top;\n",
              "    }\n",
              "\n",
              "    .dataframe thead th {\n",
              "        text-align: right;\n",
              "    }\n",
              "</style>\n",
              "<table border=\"1\" class=\"dataframe\">\n",
              "  <thead>\n",
              "    <tr style=\"text-align: right;\">\n",
              "      <th></th>\n",
              "      <th>날짜</th>\n",
              "      <th>오프라인비용</th>\n",
              "      <th>온라인비용</th>\n",
              "    </tr>\n",
              "  </thead>\n",
              "  <tbody>\n",
              "    <tr>\n",
              "      <th>0</th>\n",
              "      <td>2019-01-01</td>\n",
              "      <td>4500</td>\n",
              "      <td>2424.50</td>\n",
              "    </tr>\n",
              "    <tr>\n",
              "      <th>1</th>\n",
              "      <td>2019-01-02</td>\n",
              "      <td>4500</td>\n",
              "      <td>3480.36</td>\n",
              "    </tr>\n",
              "    <tr>\n",
              "      <th>2</th>\n",
              "      <td>2019-01-03</td>\n",
              "      <td>4500</td>\n",
              "      <td>1576.38</td>\n",
              "    </tr>\n",
              "    <tr>\n",
              "      <th>3</th>\n",
              "      <td>2019-01-04</td>\n",
              "      <td>4500</td>\n",
              "      <td>2928.55</td>\n",
              "    </tr>\n",
              "    <tr>\n",
              "      <th>4</th>\n",
              "      <td>2019-01-05</td>\n",
              "      <td>4500</td>\n",
              "      <td>4055.30</td>\n",
              "    </tr>\n",
              "  </tbody>\n",
              "</table>\n",
              "</div>"
            ],
            "text/plain": [
              "           날짜  오프라인비용    온라인비용\n",
              "0  2019-01-01    4500  2424.50\n",
              "1  2019-01-02    4500  3480.36\n",
              "2  2019-01-03    4500  1576.38\n",
              "3  2019-01-04    4500  2928.55\n",
              "4  2019-01-05    4500  4055.30"
            ]
          },
          "execution_count": 6,
          "metadata": {},
          "output_type": "execute_result"
        }
      ],
      "source": [
        "marketing.head()"
      ]
    },
    {
      "cell_type": "code",
      "execution_count": 7,
      "metadata": {
        "colab": {
          "base_uri": "https://localhost:8080/",
          "height": 206
        },
        "id": "Uma6E2ar93l3",
        "outputId": "2665e3ae-fbb7-49d9-a2c3-b39e2ff4aa27"
      },
      "outputs": [
        {
          "data": {
            "text/html": [
              "<div>\n",
              "<style scoped>\n",
              "    .dataframe tbody tr th:only-of-type {\n",
              "        vertical-align: middle;\n",
              "    }\n",
              "\n",
              "    .dataframe tbody tr th {\n",
              "        vertical-align: top;\n",
              "    }\n",
              "\n",
              "    .dataframe thead th {\n",
              "        text-align: right;\n",
              "    }\n",
              "</style>\n",
              "<table border=\"1\" class=\"dataframe\">\n",
              "  <thead>\n",
              "    <tr style=\"text-align: right;\">\n",
              "      <th></th>\n",
              "      <th>고객ID</th>\n",
              "      <th>거래ID</th>\n",
              "      <th>거래날짜</th>\n",
              "      <th>제품ID</th>\n",
              "      <th>제품카테고리</th>\n",
              "      <th>수량</th>\n",
              "      <th>평균금액</th>\n",
              "      <th>배송료</th>\n",
              "      <th>쿠폰상태</th>\n",
              "    </tr>\n",
              "  </thead>\n",
              "  <tbody>\n",
              "    <tr>\n",
              "      <th>0</th>\n",
              "      <td>USER_1358</td>\n",
              "      <td>Transaction_0000</td>\n",
              "      <td>2019-01-01</td>\n",
              "      <td>Product_0981</td>\n",
              "      <td>Nest-USA</td>\n",
              "      <td>1</td>\n",
              "      <td>153.71</td>\n",
              "      <td>6.5</td>\n",
              "      <td>Used</td>\n",
              "    </tr>\n",
              "    <tr>\n",
              "      <th>1</th>\n",
              "      <td>USER_1358</td>\n",
              "      <td>Transaction_0001</td>\n",
              "      <td>2019-01-01</td>\n",
              "      <td>Product_0981</td>\n",
              "      <td>Nest-USA</td>\n",
              "      <td>1</td>\n",
              "      <td>153.71</td>\n",
              "      <td>6.5</td>\n",
              "      <td>Used</td>\n",
              "    </tr>\n",
              "    <tr>\n",
              "      <th>2</th>\n",
              "      <td>USER_1358</td>\n",
              "      <td>Transaction_0002</td>\n",
              "      <td>2019-01-01</td>\n",
              "      <td>Product_0904</td>\n",
              "      <td>Office</td>\n",
              "      <td>1</td>\n",
              "      <td>2.05</td>\n",
              "      <td>6.5</td>\n",
              "      <td>Used</td>\n",
              "    </tr>\n",
              "    <tr>\n",
              "      <th>3</th>\n",
              "      <td>USER_1358</td>\n",
              "      <td>Transaction_0003</td>\n",
              "      <td>2019-01-01</td>\n",
              "      <td>Product_0203</td>\n",
              "      <td>Apparel</td>\n",
              "      <td>5</td>\n",
              "      <td>17.53</td>\n",
              "      <td>6.5</td>\n",
              "      <td>Not Used</td>\n",
              "    </tr>\n",
              "    <tr>\n",
              "      <th>4</th>\n",
              "      <td>USER_1358</td>\n",
              "      <td>Transaction_0003</td>\n",
              "      <td>2019-01-01</td>\n",
              "      <td>Product_0848</td>\n",
              "      <td>Bags</td>\n",
              "      <td>1</td>\n",
              "      <td>16.50</td>\n",
              "      <td>6.5</td>\n",
              "      <td>Used</td>\n",
              "    </tr>\n",
              "  </tbody>\n",
              "</table>\n",
              "</div>"
            ],
            "text/plain": [
              "        고객ID              거래ID        거래날짜          제품ID    제품카테고리  수량  \\\n",
              "0  USER_1358  Transaction_0000  2019-01-01  Product_0981  Nest-USA   1   \n",
              "1  USER_1358  Transaction_0001  2019-01-01  Product_0981  Nest-USA   1   \n",
              "2  USER_1358  Transaction_0002  2019-01-01  Product_0904    Office   1   \n",
              "3  USER_1358  Transaction_0003  2019-01-01  Product_0203   Apparel   5   \n",
              "4  USER_1358  Transaction_0003  2019-01-01  Product_0848      Bags   1   \n",
              "\n",
              "     평균금액  배송료      쿠폰상태  \n",
              "0  153.71  6.5      Used  \n",
              "1  153.71  6.5      Used  \n",
              "2    2.05  6.5      Used  \n",
              "3   17.53  6.5  Not Used  \n",
              "4   16.50  6.5      Used  "
            ]
          },
          "execution_count": 7,
          "metadata": {},
          "output_type": "execute_result"
        }
      ],
      "source": [
        "onlinesales.head()"
      ]
    },
    {
      "cell_type": "code",
      "execution_count": 8,
      "metadata": {
        "colab": {
          "base_uri": "https://localhost:8080/",
          "height": 206
        },
        "id": "P1SPI8yo94e6",
        "outputId": "40649aed-69e1-42c3-f442-8c870f5ed000"
      },
      "outputs": [
        {
          "data": {
            "text/html": [
              "<div>\n",
              "<style scoped>\n",
              "    .dataframe tbody tr th:only-of-type {\n",
              "        vertical-align: middle;\n",
              "    }\n",
              "\n",
              "    .dataframe tbody tr th {\n",
              "        vertical-align: top;\n",
              "    }\n",
              "\n",
              "    .dataframe thead th {\n",
              "        text-align: right;\n",
              "    }\n",
              "</style>\n",
              "<table border=\"1\" class=\"dataframe\">\n",
              "  <thead>\n",
              "    <tr style=\"text-align: right;\">\n",
              "      <th></th>\n",
              "      <th>제품카테고리</th>\n",
              "      <th>GST</th>\n",
              "    </tr>\n",
              "  </thead>\n",
              "  <tbody>\n",
              "    <tr>\n",
              "      <th>0</th>\n",
              "      <td>Nest-USA</td>\n",
              "      <td>0.10</td>\n",
              "    </tr>\n",
              "    <tr>\n",
              "      <th>1</th>\n",
              "      <td>Office</td>\n",
              "      <td>0.10</td>\n",
              "    </tr>\n",
              "    <tr>\n",
              "      <th>2</th>\n",
              "      <td>Apparel</td>\n",
              "      <td>0.18</td>\n",
              "    </tr>\n",
              "    <tr>\n",
              "      <th>3</th>\n",
              "      <td>Bags</td>\n",
              "      <td>0.18</td>\n",
              "    </tr>\n",
              "    <tr>\n",
              "      <th>4</th>\n",
              "      <td>Drinkware</td>\n",
              "      <td>0.18</td>\n",
              "    </tr>\n",
              "  </tbody>\n",
              "</table>\n",
              "</div>"
            ],
            "text/plain": [
              "      제품카테고리   GST\n",
              "0   Nest-USA  0.10\n",
              "1     Office  0.10\n",
              "2    Apparel  0.18\n",
              "3       Bags  0.18\n",
              "4  Drinkware  0.18"
            ]
          },
          "execution_count": 8,
          "metadata": {},
          "output_type": "execute_result"
        }
      ],
      "source": [
        "tax.head()"
      ]
    },
    {
      "cell_type": "code",
      "execution_count": 9,
      "metadata": {
        "id": "ow-tpvDd_p9n"
      },
      "outputs": [],
      "source": [
        "def merge_data(customer, discount, marketing, onlinesales, tax):\n",
        "  month_mapping = {'Jan': 1, 'Feb': 2, 'Mar': 3, 'Apr': 4, 'May': 5, 'Jun': 6,\n",
        "                  'Jul': 7, 'Aug': 8, 'Sep': 9, 'Oct': 10, 'Nov': 11, 'Dec': 12}\n",
        "  discount[\"월\"] = discount['월'].map(month_mapping)\n",
        "  onlinesales['거래날짜'] = pd.to_datetime(onlinesales['거래날짜'])\n",
        "  onlinesales['월'] = onlinesales['거래날짜'].dt.month\n",
        "  # marketing.columns = [\"거래날짜\", \"오프라인비용\", \"온라인비용\"]\n",
        "  # marketing[\"거래날짜\"] = pd.to_datetime(marketing[\"거래날짜\"])\n",
        "\n",
        "  df = pd.merge(onlinesales, customer, on='고객ID', how='left')\n",
        "  df = pd.merge(df, discount, on=['월', '제품카테고리'], how='left')\n",
        "  df = pd.merge(df, tax, on='제품카테고리', how='left')\n",
        "  # df = pd.merge(df, marketing, on = '거래날짜', how = 'left')\n",
        "\n",
        "  df['쿠폰코드'].fillna('unknown', inplace=True)\n",
        "  df['할인율'].fillna(0, inplace=True)\n",
        "\n",
        "  df[\"가입기간\"] = df[\"가입기간\"] + (df[\"월\"] - 1)\n",
        "  df[\"가입기간\"] = df[\"가입기간\"].astype(int) # dt type 이 포함되어있으므로\n",
        "\n",
        "  return df, marketing"
      ]
    },
    {
      "cell_type": "code",
      "execution_count": 10,
      "metadata": {
        "id": "NZCfTKORAk83"
      },
      "outputs": [],
      "source": [
        "df, _ = merge_data(customer, discount, marketing, onlinesales, tax)"
      ]
    },
    {
      "cell_type": "code",
      "execution_count": 11,
      "metadata": {
        "colab": {
          "base_uri": "https://localhost:8080/",
          "height": 206
        },
        "id": "iefspsRlSVX4",
        "outputId": "782005cc-2922-4de2-e54f-57fb58f5470b"
      },
      "outputs": [
        {
          "data": {
            "text/html": [
              "<div>\n",
              "<style scoped>\n",
              "    .dataframe tbody tr th:only-of-type {\n",
              "        vertical-align: middle;\n",
              "    }\n",
              "\n",
              "    .dataframe tbody tr th {\n",
              "        vertical-align: top;\n",
              "    }\n",
              "\n",
              "    .dataframe thead th {\n",
              "        text-align: right;\n",
              "    }\n",
              "</style>\n",
              "<table border=\"1\" class=\"dataframe\">\n",
              "  <thead>\n",
              "    <tr style=\"text-align: right;\">\n",
              "      <th></th>\n",
              "      <th>고객ID</th>\n",
              "      <th>거래ID</th>\n",
              "      <th>거래날짜</th>\n",
              "      <th>제품ID</th>\n",
              "      <th>제품카테고리</th>\n",
              "      <th>수량</th>\n",
              "      <th>평균금액</th>\n",
              "      <th>배송료</th>\n",
              "      <th>쿠폰상태</th>\n",
              "      <th>월</th>\n",
              "      <th>성별</th>\n",
              "      <th>고객지역</th>\n",
              "      <th>가입기간</th>\n",
              "      <th>쿠폰코드</th>\n",
              "      <th>할인율</th>\n",
              "      <th>GST</th>\n",
              "    </tr>\n",
              "  </thead>\n",
              "  <tbody>\n",
              "    <tr>\n",
              "      <th>0</th>\n",
              "      <td>USER_1358</td>\n",
              "      <td>Transaction_0000</td>\n",
              "      <td>2019-01-01</td>\n",
              "      <td>Product_0981</td>\n",
              "      <td>Nest-USA</td>\n",
              "      <td>1</td>\n",
              "      <td>153.71</td>\n",
              "      <td>6.5</td>\n",
              "      <td>Used</td>\n",
              "      <td>1</td>\n",
              "      <td>남</td>\n",
              "      <td>Chicago</td>\n",
              "      <td>12</td>\n",
              "      <td>ELEC10</td>\n",
              "      <td>10.0</td>\n",
              "      <td>0.10</td>\n",
              "    </tr>\n",
              "    <tr>\n",
              "      <th>1</th>\n",
              "      <td>USER_1358</td>\n",
              "      <td>Transaction_0001</td>\n",
              "      <td>2019-01-01</td>\n",
              "      <td>Product_0981</td>\n",
              "      <td>Nest-USA</td>\n",
              "      <td>1</td>\n",
              "      <td>153.71</td>\n",
              "      <td>6.5</td>\n",
              "      <td>Used</td>\n",
              "      <td>1</td>\n",
              "      <td>남</td>\n",
              "      <td>Chicago</td>\n",
              "      <td>12</td>\n",
              "      <td>ELEC10</td>\n",
              "      <td>10.0</td>\n",
              "      <td>0.10</td>\n",
              "    </tr>\n",
              "    <tr>\n",
              "      <th>2</th>\n",
              "      <td>USER_1358</td>\n",
              "      <td>Transaction_0002</td>\n",
              "      <td>2019-01-01</td>\n",
              "      <td>Product_0904</td>\n",
              "      <td>Office</td>\n",
              "      <td>1</td>\n",
              "      <td>2.05</td>\n",
              "      <td>6.5</td>\n",
              "      <td>Used</td>\n",
              "      <td>1</td>\n",
              "      <td>남</td>\n",
              "      <td>Chicago</td>\n",
              "      <td>12</td>\n",
              "      <td>OFF10</td>\n",
              "      <td>10.0</td>\n",
              "      <td>0.10</td>\n",
              "    </tr>\n",
              "    <tr>\n",
              "      <th>3</th>\n",
              "      <td>USER_1358</td>\n",
              "      <td>Transaction_0003</td>\n",
              "      <td>2019-01-01</td>\n",
              "      <td>Product_0203</td>\n",
              "      <td>Apparel</td>\n",
              "      <td>5</td>\n",
              "      <td>17.53</td>\n",
              "      <td>6.5</td>\n",
              "      <td>Not Used</td>\n",
              "      <td>1</td>\n",
              "      <td>남</td>\n",
              "      <td>Chicago</td>\n",
              "      <td>12</td>\n",
              "      <td>SALE10</td>\n",
              "      <td>10.0</td>\n",
              "      <td>0.18</td>\n",
              "    </tr>\n",
              "    <tr>\n",
              "      <th>4</th>\n",
              "      <td>USER_1358</td>\n",
              "      <td>Transaction_0003</td>\n",
              "      <td>2019-01-01</td>\n",
              "      <td>Product_0848</td>\n",
              "      <td>Bags</td>\n",
              "      <td>1</td>\n",
              "      <td>16.50</td>\n",
              "      <td>6.5</td>\n",
              "      <td>Used</td>\n",
              "      <td>1</td>\n",
              "      <td>남</td>\n",
              "      <td>Chicago</td>\n",
              "      <td>12</td>\n",
              "      <td>AIO10</td>\n",
              "      <td>10.0</td>\n",
              "      <td>0.18</td>\n",
              "    </tr>\n",
              "  </tbody>\n",
              "</table>\n",
              "</div>"
            ],
            "text/plain": [
              "        고객ID              거래ID       거래날짜          제품ID    제품카테고리  수량    평균금액  \\\n",
              "0  USER_1358  Transaction_0000 2019-01-01  Product_0981  Nest-USA   1  153.71   \n",
              "1  USER_1358  Transaction_0001 2019-01-01  Product_0981  Nest-USA   1  153.71   \n",
              "2  USER_1358  Transaction_0002 2019-01-01  Product_0904    Office   1    2.05   \n",
              "3  USER_1358  Transaction_0003 2019-01-01  Product_0203   Apparel   5   17.53   \n",
              "4  USER_1358  Transaction_0003 2019-01-01  Product_0848      Bags   1   16.50   \n",
              "\n",
              "   배송료      쿠폰상태  월 성별     고객지역  가입기간    쿠폰코드   할인율   GST  \n",
              "0  6.5      Used  1  남  Chicago    12  ELEC10  10.0  0.10  \n",
              "1  6.5      Used  1  남  Chicago    12  ELEC10  10.0  0.10  \n",
              "2  6.5      Used  1  남  Chicago    12   OFF10  10.0  0.10  \n",
              "3  6.5  Not Used  1  남  Chicago    12  SALE10  10.0  0.18  \n",
              "4  6.5      Used  1  남  Chicago    12   AIO10  10.0  0.18  "
            ]
          },
          "execution_count": 11,
          "metadata": {},
          "output_type": "execute_result"
        }
      ],
      "source": [
        "df.head()"
      ]
    },
    {
      "cell_type": "code",
      "execution_count": 12,
      "metadata": {
        "id": "k_KFTeKIZ-cu"
      },
      "outputs": [],
      "source": [
        "df.reset_index(inplace = True)"
      ]
    },
    {
      "cell_type": "code",
      "execution_count": 28,
      "metadata": {},
      "outputs": [
        {
          "data": {
            "text/html": [
              "<div>\n",
              "<style scoped>\n",
              "    .dataframe tbody tr th:only-of-type {\n",
              "        vertical-align: middle;\n",
              "    }\n",
              "\n",
              "    .dataframe tbody tr th {\n",
              "        vertical-align: top;\n",
              "    }\n",
              "\n",
              "    .dataframe thead th {\n",
              "        text-align: right;\n",
              "    }\n",
              "</style>\n",
              "<table border=\"1\" class=\"dataframe\">\n",
              "  <thead>\n",
              "    <tr style=\"text-align: right;\">\n",
              "      <th></th>\n",
              "      <th>IND</th>\n",
              "      <th>고객ID</th>\n",
              "      <th>거래ID</th>\n",
              "      <th>거래날짜</th>\n",
              "      <th>제품ID</th>\n",
              "      <th>제품카테고리</th>\n",
              "      <th>수량</th>\n",
              "      <th>평균금액</th>\n",
              "      <th>배송료</th>\n",
              "      <th>쿠폰상태</th>\n",
              "      <th>월</th>\n",
              "      <th>성별</th>\n",
              "      <th>고객지역</th>\n",
              "      <th>가입기간</th>\n",
              "      <th>쿠폰코드</th>\n",
              "      <th>할인율</th>\n",
              "      <th>GST</th>\n",
              "    </tr>\n",
              "  </thead>\n",
              "  <tbody>\n",
              "    <tr>\n",
              "      <th>0</th>\n",
              "      <td>0</td>\n",
              "      <td>USER_1358</td>\n",
              "      <td>Transaction_0000</td>\n",
              "      <td>2019-01-01</td>\n",
              "      <td>Product_0981</td>\n",
              "      <td>Nest-USA</td>\n",
              "      <td>1</td>\n",
              "      <td>153.71</td>\n",
              "      <td>6.5</td>\n",
              "      <td>Used</td>\n",
              "      <td>1</td>\n",
              "      <td>남</td>\n",
              "      <td>Chicago</td>\n",
              "      <td>12</td>\n",
              "      <td>ELEC10</td>\n",
              "      <td>10.0</td>\n",
              "      <td>0.10</td>\n",
              "    </tr>\n",
              "    <tr>\n",
              "      <th>1</th>\n",
              "      <td>1</td>\n",
              "      <td>USER_1358</td>\n",
              "      <td>Transaction_0001</td>\n",
              "      <td>2019-01-01</td>\n",
              "      <td>Product_0981</td>\n",
              "      <td>Nest-USA</td>\n",
              "      <td>1</td>\n",
              "      <td>153.71</td>\n",
              "      <td>6.5</td>\n",
              "      <td>Used</td>\n",
              "      <td>1</td>\n",
              "      <td>남</td>\n",
              "      <td>Chicago</td>\n",
              "      <td>12</td>\n",
              "      <td>ELEC10</td>\n",
              "      <td>10.0</td>\n",
              "      <td>0.10</td>\n",
              "    </tr>\n",
              "    <tr>\n",
              "      <th>2</th>\n",
              "      <td>2</td>\n",
              "      <td>USER_1358</td>\n",
              "      <td>Transaction_0002</td>\n",
              "      <td>2019-01-01</td>\n",
              "      <td>Product_0904</td>\n",
              "      <td>Office</td>\n",
              "      <td>1</td>\n",
              "      <td>2.05</td>\n",
              "      <td>6.5</td>\n",
              "      <td>Used</td>\n",
              "      <td>1</td>\n",
              "      <td>남</td>\n",
              "      <td>Chicago</td>\n",
              "      <td>12</td>\n",
              "      <td>OFF10</td>\n",
              "      <td>10.0</td>\n",
              "      <td>0.10</td>\n",
              "    </tr>\n",
              "    <tr>\n",
              "      <th>3</th>\n",
              "      <td>3</td>\n",
              "      <td>USER_1358</td>\n",
              "      <td>Transaction_0003</td>\n",
              "      <td>2019-01-01</td>\n",
              "      <td>Product_0203</td>\n",
              "      <td>Apparel</td>\n",
              "      <td>5</td>\n",
              "      <td>17.53</td>\n",
              "      <td>6.5</td>\n",
              "      <td>Not Used</td>\n",
              "      <td>1</td>\n",
              "      <td>남</td>\n",
              "      <td>Chicago</td>\n",
              "      <td>12</td>\n",
              "      <td>SALE10</td>\n",
              "      <td>10.0</td>\n",
              "      <td>0.18</td>\n",
              "    </tr>\n",
              "    <tr>\n",
              "      <th>4</th>\n",
              "      <td>4</td>\n",
              "      <td>USER_1358</td>\n",
              "      <td>Transaction_0003</td>\n",
              "      <td>2019-01-01</td>\n",
              "      <td>Product_0848</td>\n",
              "      <td>Bags</td>\n",
              "      <td>1</td>\n",
              "      <td>16.50</td>\n",
              "      <td>6.5</td>\n",
              "      <td>Used</td>\n",
              "      <td>1</td>\n",
              "      <td>남</td>\n",
              "      <td>Chicago</td>\n",
              "      <td>12</td>\n",
              "      <td>AIO10</td>\n",
              "      <td>10.0</td>\n",
              "      <td>0.18</td>\n",
              "    </tr>\n",
              "  </tbody>\n",
              "</table>\n",
              "</div>"
            ],
            "text/plain": [
              "   IND       고객ID              거래ID       거래날짜          제품ID    제품카테고리  수량  \\\n",
              "0    0  USER_1358  Transaction_0000 2019-01-01  Product_0981  Nest-USA   1   \n",
              "1    1  USER_1358  Transaction_0001 2019-01-01  Product_0981  Nest-USA   1   \n",
              "2    2  USER_1358  Transaction_0002 2019-01-01  Product_0904    Office   1   \n",
              "3    3  USER_1358  Transaction_0003 2019-01-01  Product_0203   Apparel   5   \n",
              "4    4  USER_1358  Transaction_0003 2019-01-01  Product_0848      Bags   1   \n",
              "\n",
              "     평균금액  배송료      쿠폰상태  월 성별     고객지역  가입기간    쿠폰코드   할인율   GST  \n",
              "0  153.71  6.5      Used  1  남  Chicago    12  ELEC10  10.0  0.10  \n",
              "1  153.71  6.5      Used  1  남  Chicago    12  ELEC10  10.0  0.10  \n",
              "2    2.05  6.5      Used  1  남  Chicago    12   OFF10  10.0  0.10  \n",
              "3   17.53  6.5  Not Used  1  남  Chicago    12  SALE10  10.0  0.18  \n",
              "4   16.50  6.5      Used  1  남  Chicago    12   AIO10  10.0  0.18  "
            ]
          },
          "execution_count": 28,
          "metadata": {},
          "output_type": "execute_result"
        }
      ],
      "source": [
        "df.rename(columns = {\"index\":\"IND\"}, inplace = True)\n",
        "df.head()"
      ]
    },
    {
      "cell_type": "code",
      "execution_count": 13,
      "metadata": {
        "id": "6UuChE3QG-tq"
      },
      "outputs": [],
      "source": [
        "train_only = df.iloc[:df[df[\"월\"] == 9].index[0],:] # 1 ~ 8\n",
        "train = df.iloc[: df[df[\"월\"] == 11].index[0],:] # 1 ~ 10\n",
        "val = df.iloc[df[df[\"월\"] == 9].index[0]: df[df[\"월\"] == 11].index[0],:] # 9 ~ 10\n",
        "test = df.iloc[df[df[\"월\"] == 11].index[0]:,:] # 11 ~ 12\n"
      ]
    },
    {
      "cell_type": "code",
      "execution_count": 14,
      "metadata": {
        "id": "xPATHwn2Taq8"
      },
      "outputs": [],
      "source": [
        "train.to_csv(\"train.csv\", index=False)\n",
        "val.to_csv(\"val.csv\", index=False)\n",
        "test.to_csv(\"test.csv\", index=False)"
      ]
    },
    {
      "cell_type": "code",
      "execution_count": 15,
      "metadata": {
        "colab": {
          "base_uri": "https://localhost:8080/"
        },
        "id": "jDhc8cNDWOU9",
        "outputId": "3098b3e5-9efb-40c6-873c-dc0f23dd40d5"
      },
      "outputs": [
        {
          "name": "stdout",
          "output_type": "stream",
          "text": [
            "Requirement already satisfied: schedule in c:\\users\\junio\\anaconda3\\envs\\mlops.proj\\lib\\site-packages (1.2.1)\n"
          ]
        }
      ],
      "source": [
        "!pip install schedule"
      ]
    },
    {
      "cell_type": "code",
      "execution_count": null,
      "metadata": {},
      "outputs": [],
      "source": []
    },
    {
      "cell_type": "code",
      "execution_count": 23,
      "metadata": {
        "id": "4kKOLP7QSs-0"
      },
      "outputs": [],
      "source": [
        "import sqlite3\n",
        "import schedule\n",
        "import time\n",
        "\n",
        "test_db = \"TEST.DB\"\n",
        "train_db = \"TRAIN.DB\"\n",
        "\n",
        "def csv2db():\n",
        "  train_df = pd.read_csv(\"train.csv\")\n",
        "  test_df = pd.read_csv(\"test.csv\")\n",
        "\n",
        "  train_conn = sqlite3.connect(train_db)\n",
        "  test_conn = sqlite3.connect(test_db)\n",
        "\n",
        "  train_df.to_sql(\"train_table\", train_conn, if_exists=\"replace\", index=False)\n",
        "  test_df.to_sql(\"test_table\", test_conn, if_exists=\"replace\", index=False)\n",
        "\n",
        "  print(\"csv to db\")\n",
        "  train_conn.commit()\n",
        "  test_conn.commit()\n",
        "  train_conn.close()\n",
        "  test_conn.close()\n",
        "\n",
        "def shoot_row():\n",
        "  train_conn = sqlite3.connect(train_db)\n",
        "  test_conn = sqlite3.connect(test_db)\n",
        "\n",
        "  try:\n",
        "    train_cur = train_conn.cursor()\n",
        "    test_cur = test_conn.cursor()\n",
        "\n",
        "    # Get the maximum ID from train_table\n",
        "    train_cur.execute(\"SELECT MAX(index) FROM train_table\")\n",
        "    last_index = train_cur.fetchone()[0]\n",
        "\n",
        "    next_index = last_index + 1\n",
        "    test_cur.execute(f\"SELECT * FROM test_table WHERE index = {next_index}\")\n",
        "    row = test_cur.fetchone()\n",
        "\n",
        "    if row:\n",
        "      col_names = [description[0] for description in test_cur.description]\n",
        "      placeholders = ', '.join(['?'] * len(col_names))\n",
        "      train_cur.execute(f\"INSERT INTO train_table ({', '.join(col_names)}) VALUES ({placeholders})\", row)\n",
        "      train_conn.commit()\n",
        "      print(f\"Row transferred from TEST.DB to TRAIN.DB successfully.\")\n",
        "  # except sqlite3.Error as e:\n",
        "  #   print(f\"An Error Occurred: {e}\")\n",
        "\n",
        "  finally:\n",
        "    train_conn.close()\n",
        "    test_conn.close()\n",
        "\n",
        "def main():\n",
        "  csv2db()\n",
        "  schedule.every(2).seconds.do(shoot_row)\n",
        "\n",
        "  while True:\n",
        "    schedule.run_pending()\n",
        "    time.sleep(1)\n",
        "\n",
        "\n",
        "# if __name__ == \"__main__\":\n",
        "#   main()"
      ]
    },
    {
      "cell_type": "code",
      "execution_count": 24,
      "metadata": {},
      "outputs": [
        {
          "data": {
            "text/plain": [
              "[(0, 'index', 'INTEGER', 0, None, 0),\n",
              " (1, '고객ID', 'TEXT', 0, None, 0),\n",
              " (2, '거래ID', 'TEXT', 0, None, 0),\n",
              " (3, '거래날짜', 'TEXT', 0, None, 0),\n",
              " (4, '제품ID', 'TEXT', 0, None, 0),\n",
              " (5, '제품카테고리', 'TEXT', 0, None, 0),\n",
              " (6, '수량', 'INTEGER', 0, None, 0),\n",
              " (7, '평균금액', 'REAL', 0, None, 0),\n",
              " (8, '배송료', 'REAL', 0, None, 0),\n",
              " (9, '쿠폰상태', 'TEXT', 0, None, 0),\n",
              " (10, '월', 'INTEGER', 0, None, 0),\n",
              " (11, '성별', 'TEXT', 0, None, 0),\n",
              " (12, '고객지역', 'TEXT', 0, None, 0),\n",
              " (13, '가입기간', 'INTEGER', 0, None, 0),\n",
              " (14, '쿠폰코드', 'TEXT', 0, None, 0),\n",
              " (15, '할인율', 'REAL', 0, None, 0),\n",
              " (16, 'GST', 'REAL', 0, None, 0)]"
            ]
          },
          "execution_count": 24,
          "metadata": {},
          "output_type": "execute_result"
        }
      ],
      "source": [
        "\n",
        "conn = sqlite3.connect(\"TRAIN.DB\")\n",
        "cursor = conn.cursor()\n",
        "cursor.execute(\"PRAGMA table_info(train_table)\")\n",
        "columns = cursor.fetchall()\n",
        "\n",
        "columns"
      ]
    },
    {
      "cell_type": "code",
      "execution_count": 25,
      "metadata": {
        "colab": {
          "base_uri": "https://localhost:8080/",
          "height": 911
        },
        "id": "V0M2NVvDX6fX",
        "outputId": "0076642b-9fea-4e6a-a2f4-9f0a71c4db69"
      },
      "outputs": [
        {
          "name": "stdout",
          "output_type": "stream",
          "text": [
            "csv to db\n"
          ]
        },
        {
          "ename": "OperationalError",
          "evalue": "near \"index\": syntax error",
          "output_type": "error",
          "traceback": [
            "\u001b[1;31m---------------------------------------------------------------------------\u001b[0m",
            "\u001b[1;31mOperationalError\u001b[0m                          Traceback (most recent call last)",
            "Cell \u001b[1;32mIn[25], line 1\u001b[0m\n\u001b[1;32m----> 1\u001b[0m \u001b[43mmain\u001b[49m\u001b[43m(\u001b[49m\u001b[43m)\u001b[49m\n",
            "Cell \u001b[1;32mIn[23], line 58\u001b[0m, in \u001b[0;36mmain\u001b[1;34m()\u001b[0m\n\u001b[0;32m     55\u001b[0m schedule\u001b[38;5;241m.\u001b[39mevery(\u001b[38;5;241m2\u001b[39m)\u001b[38;5;241m.\u001b[39mseconds\u001b[38;5;241m.\u001b[39mdo(shoot_row)\n\u001b[0;32m     57\u001b[0m \u001b[38;5;28;01mwhile\u001b[39;00m \u001b[38;5;28;01mTrue\u001b[39;00m:\n\u001b[1;32m---> 58\u001b[0m   \u001b[43mschedule\u001b[49m\u001b[38;5;241;43m.\u001b[39;49m\u001b[43mrun_pending\u001b[49m\u001b[43m(\u001b[49m\u001b[43m)\u001b[49m\n\u001b[0;32m     59\u001b[0m   time\u001b[38;5;241m.\u001b[39msleep(\u001b[38;5;241m1\u001b[39m)\n",
            "File \u001b[1;32mc:\\Users\\junio\\anaconda3\\envs\\mlops.proj\\Lib\\site-packages\\schedule\\__init__.py:822\u001b[0m, in \u001b[0;36mrun_pending\u001b[1;34m()\u001b[0m\n\u001b[0;32m    818\u001b[0m \u001b[38;5;28;01mdef\u001b[39;00m \u001b[38;5;21mrun_pending\u001b[39m() \u001b[38;5;241m-\u001b[39m\u001b[38;5;241m>\u001b[39m \u001b[38;5;28;01mNone\u001b[39;00m:\n\u001b[0;32m    819\u001b[0m \u001b[38;5;250m    \u001b[39m\u001b[38;5;124;03m\"\"\"Calls :meth:`run_pending <Scheduler.run_pending>` on the\u001b[39;00m\n\u001b[0;32m    820\u001b[0m \u001b[38;5;124;03m    :data:`default scheduler instance <default_scheduler>`.\u001b[39;00m\n\u001b[0;32m    821\u001b[0m \u001b[38;5;124;03m    \"\"\"\u001b[39;00m\n\u001b[1;32m--> 822\u001b[0m     \u001b[43mdefault_scheduler\u001b[49m\u001b[38;5;241;43m.\u001b[39;49m\u001b[43mrun_pending\u001b[49m\u001b[43m(\u001b[49m\u001b[43m)\u001b[49m\n",
            "File \u001b[1;32mc:\\Users\\junio\\anaconda3\\envs\\mlops.proj\\Lib\\site-packages\\schedule\\__init__.py:100\u001b[0m, in \u001b[0;36mScheduler.run_pending\u001b[1;34m(self)\u001b[0m\n\u001b[0;32m     98\u001b[0m runnable_jobs \u001b[38;5;241m=\u001b[39m (job \u001b[38;5;28;01mfor\u001b[39;00m job \u001b[38;5;129;01min\u001b[39;00m \u001b[38;5;28mself\u001b[39m\u001b[38;5;241m.\u001b[39mjobs \u001b[38;5;28;01mif\u001b[39;00m job\u001b[38;5;241m.\u001b[39mshould_run)\n\u001b[0;32m     99\u001b[0m \u001b[38;5;28;01mfor\u001b[39;00m job \u001b[38;5;129;01min\u001b[39;00m \u001b[38;5;28msorted\u001b[39m(runnable_jobs):\n\u001b[1;32m--> 100\u001b[0m     \u001b[38;5;28;43mself\u001b[39;49m\u001b[38;5;241;43m.\u001b[39;49m\u001b[43m_run_job\u001b[49m\u001b[43m(\u001b[49m\u001b[43mjob\u001b[49m\u001b[43m)\u001b[49m\n",
            "File \u001b[1;32mc:\\Users\\junio\\anaconda3\\envs\\mlops.proj\\Lib\\site-packages\\schedule\\__init__.py:172\u001b[0m, in \u001b[0;36mScheduler._run_job\u001b[1;34m(self, job)\u001b[0m\n\u001b[0;32m    171\u001b[0m \u001b[38;5;28;01mdef\u001b[39;00m \u001b[38;5;21m_run_job\u001b[39m(\u001b[38;5;28mself\u001b[39m, job: \u001b[38;5;124m\"\u001b[39m\u001b[38;5;124mJob\u001b[39m\u001b[38;5;124m\"\u001b[39m) \u001b[38;5;241m-\u001b[39m\u001b[38;5;241m>\u001b[39m \u001b[38;5;28;01mNone\u001b[39;00m:\n\u001b[1;32m--> 172\u001b[0m     ret \u001b[38;5;241m=\u001b[39m \u001b[43mjob\u001b[49m\u001b[38;5;241;43m.\u001b[39;49m\u001b[43mrun\u001b[49m\u001b[43m(\u001b[49m\u001b[43m)\u001b[49m\n\u001b[0;32m    173\u001b[0m     \u001b[38;5;28;01mif\u001b[39;00m \u001b[38;5;28misinstance\u001b[39m(ret, CancelJob) \u001b[38;5;129;01mor\u001b[39;00m ret \u001b[38;5;129;01mis\u001b[39;00m CancelJob:\n\u001b[0;32m    174\u001b[0m         \u001b[38;5;28mself\u001b[39m\u001b[38;5;241m.\u001b[39mcancel_job(job)\n",
            "File \u001b[1;32mc:\\Users\\junio\\anaconda3\\envs\\mlops.proj\\Lib\\site-packages\\schedule\\__init__.py:693\u001b[0m, in \u001b[0;36mJob.run\u001b[1;34m(self)\u001b[0m\n\u001b[0;32m    690\u001b[0m     \u001b[38;5;28;01mreturn\u001b[39;00m CancelJob\n\u001b[0;32m    692\u001b[0m logger\u001b[38;5;241m.\u001b[39mdebug(\u001b[38;5;124m\"\u001b[39m\u001b[38;5;124mRunning job \u001b[39m\u001b[38;5;132;01m%s\u001b[39;00m\u001b[38;5;124m\"\u001b[39m, \u001b[38;5;28mself\u001b[39m)\n\u001b[1;32m--> 693\u001b[0m ret \u001b[38;5;241m=\u001b[39m \u001b[38;5;28;43mself\u001b[39;49m\u001b[38;5;241;43m.\u001b[39;49m\u001b[43mjob_func\u001b[49m\u001b[43m(\u001b[49m\u001b[43m)\u001b[49m\n\u001b[0;32m    694\u001b[0m \u001b[38;5;28mself\u001b[39m\u001b[38;5;241m.\u001b[39mlast_run \u001b[38;5;241m=\u001b[39m datetime\u001b[38;5;241m.\u001b[39mdatetime\u001b[38;5;241m.\u001b[39mnow()\n\u001b[0;32m    695\u001b[0m \u001b[38;5;28mself\u001b[39m\u001b[38;5;241m.\u001b[39m_schedule_next_run()\n",
            "Cell \u001b[1;32mIn[19], line 33\u001b[0m, in \u001b[0;36mshoot_row\u001b[1;34m()\u001b[0m\n\u001b[0;32m     30\u001b[0m test_cur \u001b[38;5;241m=\u001b[39m test_conn\u001b[38;5;241m.\u001b[39mcursor()\n\u001b[0;32m     32\u001b[0m \u001b[38;5;66;03m# Get the maximum ID from train_table\u001b[39;00m\n\u001b[1;32m---> 33\u001b[0m \u001b[43mtrain_cur\u001b[49m\u001b[38;5;241;43m.\u001b[39;49m\u001b[43mexecute\u001b[49m\u001b[43m(\u001b[49m\u001b[38;5;124;43m\"\u001b[39;49m\u001b[38;5;124;43mSELECT MAX(index) FROM train_table\u001b[39;49m\u001b[38;5;124;43m\"\u001b[39;49m\u001b[43m)\u001b[49m\n\u001b[0;32m     34\u001b[0m last_index \u001b[38;5;241m=\u001b[39m train_cur\u001b[38;5;241m.\u001b[39mfetchone()[\u001b[38;5;241m0\u001b[39m]\n\u001b[0;32m     36\u001b[0m next_index \u001b[38;5;241m=\u001b[39m last_index \u001b[38;5;241m+\u001b[39m \u001b[38;5;241m1\u001b[39m\n",
            "\u001b[1;31mOperationalError\u001b[0m: near \"index\": syntax error"
          ]
        }
      ],
      "source": [
        "main()"
      ]
    }
  ],
  "metadata": {
    "colab": {
      "provenance": []
    },
    "kernelspec": {
      "display_name": "Python 3",
      "name": "python3"
    },
    "language_info": {
      "codemirror_mode": {
        "name": "ipython",
        "version": 3
      },
      "file_extension": ".py",
      "mimetype": "text/x-python",
      "name": "python",
      "nbconvert_exporter": "python",
      "pygments_lexer": "ipython3",
      "version": "3.12.3"
    }
  },
  "nbformat": 4,
  "nbformat_minor": 0
}
