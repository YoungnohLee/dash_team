{
 "cells": [
  {
   "cell_type": "code",
   "execution_count": 2,
   "metadata": {},
   "outputs": [
    {
     "name": "stdout",
     "output_type": "stream",
     "text": [
      "c:\\Users\\junio\\OneDrive\\바탕 화면\\dash_v2\\may\\0523\n"
     ]
    }
   ],
   "source": [
    "import os\n",
    "print(os.getcwd())"
   ]
  },
  {
   "cell_type": "code",
   "execution_count": 6,
   "metadata": {},
   "outputs": [],
   "source": [
    "import sqlite3\n",
    "import schedule\n",
    "import time\n",
    "\n",
    "import pandas as pd\n",
    "import numpy as np\n",
    "import matplotlib.pyplot as plt \n",
    "%matplotlib inline\n",
    "\n",
    "test_db = \"TEST.DB\"\n",
    "train_db = \"TRAIN.DB\"\n",
    "\n",
    "def csv2db():\n",
    "  train_df = pd.read_csv(\"train.csv\")\n",
    "  test_df = pd.read_csv(\"test.csv\")\n",
    "\n",
    "  train_conn = sqlite3.connect(train_db)\n",
    "  test_conn = sqlite3.connect(test_db)\n",
    "\n",
    "  train_df.to_sql(\"train_table\", train_conn, if_exists=\"replace\", index=False)\n",
    "  test_df.to_sql(\"test_table\", test_conn, if_exists=\"replace\", index=False)\n",
    "\n",
    "  print(\"csv to db\")\n",
    "  train_conn.commit()\n",
    "  test_conn.commit()\n",
    "  train_conn.close()\n",
    "  test_conn.close()\n",
    "\n",
    "def shoot_row():\n",
    "  train_conn = sqlite3.connect(train_db)\n",
    "  test_conn = sqlite3.connect(test_db)\n",
    "\n",
    "  try:\n",
    "    train_cur = train_conn.cursor()\n",
    "    test_cur = test_conn.cursor()\n",
    "\n",
    "    # Get the maximum ID from train_table\n",
    "    train_cur.execute(\"SELECT MAX(IND) FROM train_table\")\n",
    "    last_index = train_cur.fetchone()[0]\n",
    "\n",
    "    next_index = last_index + 1\n",
    "    test_cur.execute(f\"SELECT * FROM test_table WHERE IND = {next_index}\")\n",
    "    row = test_cur.fetchone()\n",
    "\n",
    "    if row:\n",
    "      col_names = [description[0] for description in test_cur.description]\n",
    "      placeholders = ', '.join(['?'] * len(col_names))\n",
    "      train_cur.execute(f\"INSERT INTO train_table ({', '.join(col_names)}) VALUES ({placeholders})\", row)\n",
    "      train_conn.commit()\n",
    "      print(f\"Row transferred from TEST.DB to TRAIN.DB successfully.\")\n",
    "  # except sqlite3.Error as e:\n",
    "  #   print(f\"An Error Occurred: {e}\")\n",
    "\n",
    "  finally:\n",
    "    train_conn.close()\n",
    "    test_conn.close()\n",
    "\n",
    "def main():\n",
    "  csv2db()\n",
    "  schedule.every(2).seconds.do(shoot_row)\n",
    "\n",
    "  while True:\n",
    "    schedule.run_pending()\n",
    "    time.sleep(1)\n",
    "\n",
    "\n",
    "# if __name__ == \"__main__\":\n",
    "#   main()"
   ]
  },
  {
   "cell_type": "code",
   "execution_count": 4,
   "metadata": {},
   "outputs": [
    {
     "name": "stdout",
     "output_type": "stream",
     "text": [
      "csv to db\n"
     ]
    }
   ],
   "source": [
    "csv2db()"
   ]
  },
  {
   "cell_type": "code",
   "execution_count": 5,
   "metadata": {},
   "outputs": [
    {
     "data": {
      "text/plain": [
       "[(0, 'IND', 'INTEGER', 0, None, 0),\n",
       " (1, '고객ID', 'TEXT', 0, None, 0),\n",
       " (2, '거래ID', 'TEXT', 0, None, 0),\n",
       " (3, '거래날짜', 'TEXT', 0, None, 0),\n",
       " (4, '제품ID', 'TEXT', 0, None, 0),\n",
       " (5, '제품카테고리', 'TEXT', 0, None, 0),\n",
       " (6, '수량', 'INTEGER', 0, None, 0),\n",
       " (7, '평균금액', 'REAL', 0, None, 0),\n",
       " (8, '배송료', 'REAL', 0, None, 0),\n",
       " (9, '쿠폰상태', 'TEXT', 0, None, 0),\n",
       " (10, '월', 'INTEGER', 0, None, 0),\n",
       " (11, '성별', 'TEXT', 0, None, 0),\n",
       " (12, '고객지역', 'TEXT', 0, None, 0),\n",
       " (13, '가입기간', 'INTEGER', 0, None, 0),\n",
       " (14, '쿠폰코드', 'TEXT', 0, None, 0),\n",
       " (15, '할인율', 'REAL', 0, None, 0),\n",
       " (16, 'GST', 'REAL', 0, None, 0)]"
      ]
     },
     "execution_count": 5,
     "metadata": {},
     "output_type": "execute_result"
    }
   ],
   "source": [
    "\n",
    "conn = sqlite3.connect(\"TRAIN.DB\")\n",
    "cursor = conn.cursor()\n",
    "cursor.execute(\"PRAGMA table_info(train_table)\")\n",
    "columns = cursor.fetchall()\n",
    "\n",
    "columns"
   ]
  },
  {
   "cell_type": "code",
   "execution_count": 7,
   "metadata": {},
   "outputs": [
    {
     "name": "stdout",
     "output_type": "stream",
     "text": [
      "csv to db\n",
      "Row transferred from TEST.DB to TRAIN.DB successfully.\n",
      "Row transferred from TEST.DB to TRAIN.DB successfully.\n",
      "Row transferred from TEST.DB to TRAIN.DB successfully.\n",
      "Row transferred from TEST.DB to TRAIN.DB successfully.\n",
      "Row transferred from TEST.DB to TRAIN.DB successfully.\n",
      "Row transferred from TEST.DB to TRAIN.DB successfully.\n",
      "Row transferred from TEST.DB to TRAIN.DB successfully.\n",
      "Row transferred from TEST.DB to TRAIN.DB successfully.\n",
      "Row transferred from TEST.DB to TRAIN.DB successfully.\n",
      "Row transferred from TEST.DB to TRAIN.DB successfully.\n"
     ]
    },
    {
     "ename": "KeyboardInterrupt",
     "evalue": "",
     "output_type": "error",
     "traceback": [
      "\u001b[1;31m---------------------------------------------------------------------------\u001b[0m",
      "\u001b[1;31mKeyboardInterrupt\u001b[0m                         Traceback (most recent call last)",
      "Cell \u001b[1;32mIn[7], line 1\u001b[0m\n\u001b[1;32m----> 1\u001b[0m \u001b[43mmain\u001b[49m\u001b[43m(\u001b[49m\u001b[43m)\u001b[49m\n",
      "Cell \u001b[1;32mIn[6], line 64\u001b[0m, in \u001b[0;36mmain\u001b[1;34m()\u001b[0m\n\u001b[0;32m     62\u001b[0m \u001b[38;5;28;01mwhile\u001b[39;00m \u001b[38;5;28;01mTrue\u001b[39;00m:\n\u001b[0;32m     63\u001b[0m   schedule\u001b[38;5;241m.\u001b[39mrun_pending()\n\u001b[1;32m---> 64\u001b[0m   \u001b[43mtime\u001b[49m\u001b[38;5;241;43m.\u001b[39;49m\u001b[43msleep\u001b[49m\u001b[43m(\u001b[49m\u001b[38;5;241;43m1\u001b[39;49m\u001b[43m)\u001b[49m\n",
      "\u001b[1;31mKeyboardInterrupt\u001b[0m: "
     ]
    }
   ],
   "source": [
    "main()"
   ]
  }
 ],
 "metadata": {
  "kernelspec": {
   "display_name": "mlops.proj",
   "language": "python",
   "name": "python3"
  },
  "language_info": {
   "codemirror_mode": {
    "name": "ipython",
    "version": 3
   },
   "file_extension": ".py",
   "mimetype": "text/x-python",
   "name": "python",
   "nbconvert_exporter": "python",
   "pygments_lexer": "ipython3",
   "version": "3.12.3"
  }
 },
 "nbformat": 4,
 "nbformat_minor": 2
}
