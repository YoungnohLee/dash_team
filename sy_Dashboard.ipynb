{
 "cells": [
  {
   "cell_type": "code",
   "execution_count": 1,
   "id": "4daf942c",
   "metadata": {},
   "outputs": [
    {
     "name": "stderr",
     "output_type": "stream",
     "text": [
      "C:\\Users\\소영\\AppData\\Local\\Temp\\ipykernel_19816\\4263996259.py:7: UserWarning: \n",
      "The dash_table package is deprecated. Please replace\n",
      "`import dash_table` with `from dash import dash_table`\n",
      "\n",
      "Also, if you're using any of the table format helpers (e.g. Group), replace \n",
      "`from dash_table.Format import Group` with \n",
      "`from dash.dash_table.Format import Group`\n",
      "  import dash_table\n",
      "C:\\Users\\소영\\AppData\\Local\\Temp\\ipykernel_19816\\4263996259.py:10: UserWarning: \n",
      "The dash_core_components package is deprecated. Please replace\n",
      "`import dash_core_components as dcc` with `from dash import dcc`\n",
      "  import dash_core_components as dcc\n",
      "C:\\Users\\소영\\AppData\\Local\\Temp\\ipykernel_19816\\4263996259.py:11: UserWarning: \n",
      "The dash_html_components package is deprecated. Please replace\n",
      "`import dash_html_components as html` with `from dash import html`\n",
      "  import dash_html_components as html\n"
     ]
    }
   ],
   "source": [
    "import pathlib\n",
    "import re\n",
    "import json\n",
    "from datetime import datetime\n",
    "import flask\n",
    "import dash\n",
    "import dash_table\n",
    "import matplotlib.colors as mcolors\n",
    "import dash_bootstrap_components as dbc\n",
    "import dash_core_components as dcc\n",
    "import dash_html_components as html\n",
    "import plotly.graph_objs as go\n",
    "import plotly.express as px\n",
    "import pandas as pd\n",
    "import numpy as np\n",
    "# from precomputing import add_stopwords\n",
    "from dash.dependencies import Output, Input, State\n",
    "from dateutil import relativedelta\n",
    "from wordcloud import WordCloud, STOPWORDS\n",
    "# from ldacomplaints import lda_analysis\n",
    "from sklearn.manifold import TSNE\n",
    "import sy_database\n",
    "import sy_class"
   ]
  },
  {
   "cell_type": "code",
   "execution_count": 2,
   "id": "4a31708e",
   "metadata": {},
   "outputs": [],
   "source": [
    "db_manager = sy_database.DatabaseManager()\n",
    "category = db_manager.making_dataframe('category')"
   ]
  },
  {
   "cell_type": "code",
   "execution_count": 3,
   "id": "09c73119",
   "metadata": {},
   "outputs": [
    {
     "data": {
      "application/vnd.plotly.v1+json": {
       "config": {
        "plotlyServerURL": "https://plot.ly"
       },
       "data": [
        {
         "alignmentgroup": "True",
         "hovertemplate": "제품카테고리=%{y}<br>평균 재구매 주기(일)=%{text}<extra></extra>",
         "legendgroup": "Accessories",
         "marker": {
          "color": "#636efa",
          "line": {
           "color": "#000000",
           "width": 1
          },
          "pattern": {
           "shape": ""
          }
         },
         "name": "Accessories",
         "offsetgroup": "Accessories",
         "orientation": "h",
         "showlegend": true,
         "text": [
          13.541666666666666
         ],
         "textposition": "outside",
         "texttemplate": "%{text:.2f}",
         "type": "bar",
         "x": [
          13.541666666666666
         ],
         "xaxis": "x",
         "y": [
          "Accessories"
         ],
         "yaxis": "y"
        },
        {
         "alignmentgroup": "True",
         "hovertemplate": "제품카테고리=%{y}<br>평균 재구매 주기(일)=%{text}<extra></extra>",
         "legendgroup": "Android",
         "marker": {
          "color": "#EF553B",
          "line": {
           "color": "#000000",
           "width": 1
          },
          "pattern": {
           "shape": ""
          }
         },
         "name": "Android",
         "offsetgroup": "Android",
         "orientation": "h",
         "showlegend": true,
         "text": [
          40
         ],
         "textposition": "outside",
         "texttemplate": "%{text:.2f}",
         "type": "bar",
         "x": [
          40
         ],
         "xaxis": "x",
         "y": [
          "Android"
         ],
         "yaxis": "y"
        },
        {
         "alignmentgroup": "True",
         "hovertemplate": "제품카테고리=%{y}<br>평균 재구매 주기(일)=%{text}<extra></extra>",
         "legendgroup": "Apparel",
         "marker": {
          "color": "#00cc96",
          "line": {
           "color": "#000000",
           "width": 1
          },
          "pattern": {
           "shape": ""
          }
         },
         "name": "Apparel",
         "offsetgroup": "Apparel",
         "orientation": "h",
         "showlegend": true,
         "text": [
          3.5173784184292067
         ],
         "textposition": "outside",
         "texttemplate": "%{text:.2f}",
         "type": "bar",
         "x": [
          3.5173784184292067
         ],
         "xaxis": "x",
         "y": [
          "Apparel"
         ],
         "yaxis": "y"
        },
        {
         "alignmentgroup": "True",
         "hovertemplate": "제품카테고리=%{y}<br>평균 재구매 주기(일)=%{text}<extra></extra>",
         "legendgroup": "Backpacks",
         "marker": {
          "color": "#ab63fa",
          "line": {
           "color": "#000000",
           "width": 1
          },
          "pattern": {
           "shape": ""
          }
         },
         "name": "Backpacks",
         "offsetgroup": "Backpacks",
         "orientation": "h",
         "showlegend": true,
         "text": [
          12.357142857142858
         ],
         "textposition": "outside",
         "texttemplate": "%{text:.2f}",
         "type": "bar",
         "x": [
          12.357142857142858
         ],
         "xaxis": "x",
         "y": [
          "Backpacks"
         ],
         "yaxis": "y"
        },
        {
         "alignmentgroup": "True",
         "hovertemplate": "제품카테고리=%{y}<br>평균 재구매 주기(일)=%{text}<extra></extra>",
         "legendgroup": "Bags",
         "marker": {
          "color": "#FFA15A",
          "line": {
           "color": "#000000",
           "width": 1
          },
          "pattern": {
           "shape": ""
          }
         },
         "name": "Bags",
         "offsetgroup": "Bags",
         "orientation": "h",
         "showlegend": true,
         "text": [
          16.4775390625
         ],
         "textposition": "outside",
         "texttemplate": "%{text:.2f}",
         "type": "bar",
         "x": [
          16.4775390625
         ],
         "xaxis": "x",
         "y": [
          "Bags"
         ],
         "yaxis": "y"
        },
        {
         "alignmentgroup": "True",
         "hovertemplate": "제품카테고리=%{y}<br>평균 재구매 주기(일)=%{text}<extra></extra>",
         "legendgroup": "Bottles",
         "marker": {
          "color": "#19d3f3",
          "line": {
           "color": "#000000",
           "width": 1
          },
          "pattern": {
           "shape": ""
          }
         },
         "name": "Bottles",
         "offsetgroup": "Bottles",
         "orientation": "h",
         "showlegend": true,
         "text": [
          34.90769230769231
         ],
         "textposition": "outside",
         "texttemplate": "%{text:.2f}",
         "type": "bar",
         "x": [
          34.90769230769231
         ],
         "xaxis": "x",
         "y": [
          "Bottles"
         ],
         "yaxis": "y"
        },
        {
         "alignmentgroup": "True",
         "hovertemplate": "제품카테고리=%{y}<br>평균 재구매 주기(일)=%{text}<extra></extra>",
         "legendgroup": "Drinkware",
         "marker": {
          "color": "#FF6692",
          "line": {
           "color": "#000000",
           "width": 1
          },
          "pattern": {
           "shape": ""
          }
         },
         "name": "Drinkware",
         "offsetgroup": "Drinkware",
         "orientation": "h",
         "showlegend": true,
         "text": [
          11.3656330749354
         ],
         "textposition": "outside",
         "texttemplate": "%{text:.2f}",
         "type": "bar",
         "x": [
          11.3656330749354
         ],
         "xaxis": "x",
         "y": [
          "Drinkware"
         ],
         "yaxis": "y"
        },
        {
         "alignmentgroup": "True",
         "hovertemplate": "제품카테고리=%{y}<br>평균 재구매 주기(일)=%{text}<extra></extra>",
         "legendgroup": "Fun",
         "marker": {
          "color": "#B6E880",
          "line": {
           "color": "#000000",
           "width": 1
          },
          "pattern": {
           "shape": ""
          }
         },
         "name": "Fun",
         "offsetgroup": "Fun",
         "orientation": "h",
         "showlegend": true,
         "text": [
          29.404761904761905
         ],
         "textposition": "outside",
         "texttemplate": "%{text:.2f}",
         "type": "bar",
         "x": [
          29.404761904761905
         ],
         "xaxis": "x",
         "y": [
          "Fun"
         ],
         "yaxis": "y"
        },
        {
         "alignmentgroup": "True",
         "hovertemplate": "제품카테고리=%{y}<br>평균 재구매 주기(일)=%{text}<extra></extra>",
         "legendgroup": "Gift Cards",
         "marker": {
          "color": "#FF97FF",
          "line": {
           "color": "#000000",
           "width": 1
          },
          "pattern": {
           "shape": ""
          }
         },
         "name": "Gift Cards",
         "offsetgroup": "Gift Cards",
         "orientation": "h",
         "showlegend": true,
         "text": [
          0.8375
         ],
         "textposition": "outside",
         "texttemplate": "%{text:.2f}",
         "type": "bar",
         "x": [
          0.8375
         ],
         "xaxis": "x",
         "y": [
          "Gift Cards"
         ],
         "yaxis": "y"
        },
        {
         "alignmentgroup": "True",
         "hovertemplate": "제품카테고리=%{y}<br>평균 재구매 주기(일)=%{text}<extra></extra>",
         "legendgroup": "Google",
         "marker": {
          "color": "#FECB52",
          "line": {
           "color": "#000000",
           "width": 1
          },
          "pattern": {
           "shape": ""
          }
         },
         "name": "Google",
         "offsetgroup": "Google",
         "orientation": "h",
         "showlegend": true,
         "text": [
          25.1875
         ],
         "textposition": "outside",
         "texttemplate": "%{text:.2f}",
         "type": "bar",
         "x": [
          25.1875
         ],
         "xaxis": "x",
         "y": [
          "Google"
         ],
         "yaxis": "y"
        },
        {
         "alignmentgroup": "True",
         "hovertemplate": "제품카테고리=%{y}<br>평균 재구매 주기(일)=%{text}<extra></extra>",
         "legendgroup": "Headgear",
         "marker": {
          "color": "#636efa",
          "line": {
           "color": "#000000",
           "width": 1
          },
          "pattern": {
           "shape": ""
          }
         },
         "name": "Headgear",
         "offsetgroup": "Headgear",
         "orientation": "h",
         "showlegend": true,
         "text": [
          25.55483870967742
         ],
         "textposition": "outside",
         "texttemplate": "%{text:.2f}",
         "type": "bar",
         "x": [
          25.55483870967742
         ],
         "xaxis": "x",
         "y": [
          "Headgear"
         ],
         "yaxis": "y"
        },
        {
         "alignmentgroup": "True",
         "hovertemplate": "제품카테고리=%{y}<br>평균 재구매 주기(일)=%{text}<extra></extra>",
         "legendgroup": "Housewares",
         "marker": {
          "color": "#EF553B",
          "line": {
           "color": "#000000",
           "width": 1
          },
          "pattern": {
           "shape": ""
          }
         },
         "name": "Housewares",
         "offsetgroup": "Housewares",
         "orientation": "h",
         "showlegend": true,
         "text": [
          41.53333333333333
         ],
         "textposition": "outside",
         "texttemplate": "%{text:.2f}",
         "type": "bar",
         "x": [
          41.53333333333333
         ],
         "xaxis": "x",
         "y": [
          "Housewares"
         ],
         "yaxis": "y"
        },
        {
         "alignmentgroup": "True",
         "hovertemplate": "제품카테고리=%{y}<br>평균 재구매 주기(일)=%{text}<extra></extra>",
         "legendgroup": "Lifestyle",
         "marker": {
          "color": "#00cc96",
          "line": {
           "color": "#000000",
           "width": 1
          },
          "pattern": {
           "shape": ""
          }
         },
         "name": "Lifestyle",
         "offsetgroup": "Lifestyle",
         "orientation": "h",
         "showlegend": true,
         "text": [
          10.873894834806887
         ],
         "textposition": "outside",
         "texttemplate": "%{text:.2f}",
         "type": "bar",
         "x": [
          10.873894834806887
         ],
         "xaxis": "x",
         "y": [
          "Lifestyle"
         ],
         "yaxis": "y"
        },
        {
         "alignmentgroup": "True",
         "hovertemplate": "제품카테고리=%{y}<br>평균 재구매 주기(일)=%{text}<extra></extra>",
         "legendgroup": "Nest",
         "marker": {
          "color": "#ab63fa",
          "line": {
           "color": "#000000",
           "width": 1
          },
          "pattern": {
           "shape": ""
          }
         },
         "name": "Nest",
         "offsetgroup": "Nest",
         "orientation": "h",
         "showlegend": true,
         "text": [
          1.4115586690017514
         ],
         "textposition": "outside",
         "texttemplate": "%{text:.2f}",
         "type": "bar",
         "x": [
          1.4115586690017514
         ],
         "xaxis": "x",
         "y": [
          "Nest"
         ],
         "yaxis": "y"
        },
        {
         "alignmentgroup": "True",
         "hovertemplate": "제품카테고리=%{y}<br>평균 재구매 주기(일)=%{text}<extra></extra>",
         "legendgroup": "Nest-Canada",
         "marker": {
          "color": "#FFA15A",
          "line": {
           "color": "#000000",
           "width": 1
          },
          "pattern": {
           "shape": ""
          }
         },
         "name": "Nest-Canada",
         "offsetgroup": "Nest-Canada",
         "orientation": "h",
         "showlegend": true,
         "text": [
          19.711340206185568
         ],
         "textposition": "outside",
         "texttemplate": "%{text:.2f}",
         "type": "bar",
         "x": [
          19.711340206185568
         ],
         "xaxis": "x",
         "y": [
          "Nest-Canada"
         ],
         "yaxis": "y"
        },
        {
         "alignmentgroup": "True",
         "hovertemplate": "제품카테고리=%{y}<br>평균 재구매 주기(일)=%{text}<extra></extra>",
         "legendgroup": "Nest-USA",
         "marker": {
          "color": "#19d3f3",
          "line": {
           "color": "#000000",
           "width": 1
          },
          "pattern": {
           "shape": ""
          }
         },
         "name": "Nest-USA",
         "offsetgroup": "Nest-USA",
         "orientation": "h",
         "showlegend": true,
         "text": [
          4.758779851495083
         ],
         "textposition": "outside",
         "texttemplate": "%{text:.2f}",
         "type": "bar",
         "x": [
          4.758779851495083
         ],
         "xaxis": "x",
         "y": [
          "Nest-USA"
         ],
         "yaxis": "y"
        },
        {
         "alignmentgroup": "True",
         "hovertemplate": "제품카테고리=%{y}<br>평균 재구매 주기(일)=%{text}<extra></extra>",
         "legendgroup": "Notebooks & Journals",
         "marker": {
          "color": "#FF6692",
          "line": {
           "color": "#000000",
           "width": 1
          },
          "pattern": {
           "shape": ""
          }
         },
         "name": "Notebooks & Journals",
         "offsetgroup": "Notebooks & Journals",
         "orientation": "h",
         "showlegend": true,
         "text": [
          16.229916897506925
         ],
         "textposition": "outside",
         "texttemplate": "%{text:.2f}",
         "type": "bar",
         "x": [
          16.229916897506925
         ],
         "xaxis": "x",
         "y": [
          "Notebooks & Journals"
         ],
         "yaxis": "y"
        },
        {
         "alignmentgroup": "True",
         "hovertemplate": "제품카테고리=%{y}<br>평균 재구매 주기(일)=%{text}<extra></extra>",
         "legendgroup": "Office",
         "marker": {
          "color": "#B6E880",
          "line": {
           "color": "#000000",
           "width": 1
          },
          "pattern": {
           "shape": ""
          }
         },
         "name": "Office",
         "offsetgroup": "Office",
         "orientation": "h",
         "showlegend": true,
         "text": [
          7.9509360877985795
         ],
         "textposition": "outside",
         "texttemplate": "%{text:.2f}",
         "type": "bar",
         "x": [
          7.9509360877985795
         ],
         "xaxis": "x",
         "y": [
          "Office"
         ],
         "yaxis": "y"
        },
        {
         "alignmentgroup": "True",
         "hovertemplate": "제품카테고리=%{y}<br>평균 재구매 주기(일)=%{text}<extra></extra>",
         "legendgroup": "Waze",
         "marker": {
          "color": "#FF97FF",
          "line": {
           "color": "#000000",
           "width": 1
          },
          "pattern": {
           "shape": ""
          }
         },
         "name": "Waze",
         "offsetgroup": "Waze",
         "orientation": "h",
         "showlegend": true,
         "text": [
          13.449197860962567
         ],
         "textposition": "outside",
         "texttemplate": "%{text:.2f}",
         "type": "bar",
         "x": [
          13.449197860962567
         ],
         "xaxis": "x",
         "y": [
          "Waze"
         ],
         "yaxis": "y"
        }
       ],
       "layout": {
        "barmode": "relative",
        "font": {
         "color": "RebeccaPurple",
         "family": "Courier New, monospace",
         "size": 12
        },
        "legend": {
         "title": {
          "text": "제품카테고리"
         },
         "tracegroupgap": 0
        },
        "paper_bgcolor": "rgba(0,0,0,0)",
        "plot_bgcolor": "rgba(0,0,0,0)",
        "template": {
         "data": {
          "bar": [
           {
            "error_x": {
             "color": "#2a3f5f"
            },
            "error_y": {
             "color": "#2a3f5f"
            },
            "marker": {
             "line": {
              "color": "#E5ECF6",
              "width": 0.5
             },
             "pattern": {
              "fillmode": "overlay",
              "size": 10,
              "solidity": 0.2
             }
            },
            "type": "bar"
           }
          ],
          "barpolar": [
           {
            "marker": {
             "line": {
              "color": "#E5ECF6",
              "width": 0.5
             },
             "pattern": {
              "fillmode": "overlay",
              "size": 10,
              "solidity": 0.2
             }
            },
            "type": "barpolar"
           }
          ],
          "carpet": [
           {
            "aaxis": {
             "endlinecolor": "#2a3f5f",
             "gridcolor": "white",
             "linecolor": "white",
             "minorgridcolor": "white",
             "startlinecolor": "#2a3f5f"
            },
            "baxis": {
             "endlinecolor": "#2a3f5f",
             "gridcolor": "white",
             "linecolor": "white",
             "minorgridcolor": "white",
             "startlinecolor": "#2a3f5f"
            },
            "type": "carpet"
           }
          ],
          "choropleth": [
           {
            "colorbar": {
             "outlinewidth": 0,
             "ticks": ""
            },
            "type": "choropleth"
           }
          ],
          "contour": [
           {
            "colorbar": {
             "outlinewidth": 0,
             "ticks": ""
            },
            "colorscale": [
             [
              0,
              "#0d0887"
             ],
             [
              0.1111111111111111,
              "#46039f"
             ],
             [
              0.2222222222222222,
              "#7201a8"
             ],
             [
              0.3333333333333333,
              "#9c179e"
             ],
             [
              0.4444444444444444,
              "#bd3786"
             ],
             [
              0.5555555555555556,
              "#d8576b"
             ],
             [
              0.6666666666666666,
              "#ed7953"
             ],
             [
              0.7777777777777778,
              "#fb9f3a"
             ],
             [
              0.8888888888888888,
              "#fdca26"
             ],
             [
              1,
              "#f0f921"
             ]
            ],
            "type": "contour"
           }
          ],
          "contourcarpet": [
           {
            "colorbar": {
             "outlinewidth": 0,
             "ticks": ""
            },
            "type": "contourcarpet"
           }
          ],
          "heatmap": [
           {
            "colorbar": {
             "outlinewidth": 0,
             "ticks": ""
            },
            "colorscale": [
             [
              0,
              "#0d0887"
             ],
             [
              0.1111111111111111,
              "#46039f"
             ],
             [
              0.2222222222222222,
              "#7201a8"
             ],
             [
              0.3333333333333333,
              "#9c179e"
             ],
             [
              0.4444444444444444,
              "#bd3786"
             ],
             [
              0.5555555555555556,
              "#d8576b"
             ],
             [
              0.6666666666666666,
              "#ed7953"
             ],
             [
              0.7777777777777778,
              "#fb9f3a"
             ],
             [
              0.8888888888888888,
              "#fdca26"
             ],
             [
              1,
              "#f0f921"
             ]
            ],
            "type": "heatmap"
           }
          ],
          "heatmapgl": [
           {
            "colorbar": {
             "outlinewidth": 0,
             "ticks": ""
            },
            "colorscale": [
             [
              0,
              "#0d0887"
             ],
             [
              0.1111111111111111,
              "#46039f"
             ],
             [
              0.2222222222222222,
              "#7201a8"
             ],
             [
              0.3333333333333333,
              "#9c179e"
             ],
             [
              0.4444444444444444,
              "#bd3786"
             ],
             [
              0.5555555555555556,
              "#d8576b"
             ],
             [
              0.6666666666666666,
              "#ed7953"
             ],
             [
              0.7777777777777778,
              "#fb9f3a"
             ],
             [
              0.8888888888888888,
              "#fdca26"
             ],
             [
              1,
              "#f0f921"
             ]
            ],
            "type": "heatmapgl"
           }
          ],
          "histogram": [
           {
            "marker": {
             "pattern": {
              "fillmode": "overlay",
              "size": 10,
              "solidity": 0.2
             }
            },
            "type": "histogram"
           }
          ],
          "histogram2d": [
           {
            "colorbar": {
             "outlinewidth": 0,
             "ticks": ""
            },
            "colorscale": [
             [
              0,
              "#0d0887"
             ],
             [
              0.1111111111111111,
              "#46039f"
             ],
             [
              0.2222222222222222,
              "#7201a8"
             ],
             [
              0.3333333333333333,
              "#9c179e"
             ],
             [
              0.4444444444444444,
              "#bd3786"
             ],
             [
              0.5555555555555556,
              "#d8576b"
             ],
             [
              0.6666666666666666,
              "#ed7953"
             ],
             [
              0.7777777777777778,
              "#fb9f3a"
             ],
             [
              0.8888888888888888,
              "#fdca26"
             ],
             [
              1,
              "#f0f921"
             ]
            ],
            "type": "histogram2d"
           }
          ],
          "histogram2dcontour": [
           {
            "colorbar": {
             "outlinewidth": 0,
             "ticks": ""
            },
            "colorscale": [
             [
              0,
              "#0d0887"
             ],
             [
              0.1111111111111111,
              "#46039f"
             ],
             [
              0.2222222222222222,
              "#7201a8"
             ],
             [
              0.3333333333333333,
              "#9c179e"
             ],
             [
              0.4444444444444444,
              "#bd3786"
             ],
             [
              0.5555555555555556,
              "#d8576b"
             ],
             [
              0.6666666666666666,
              "#ed7953"
             ],
             [
              0.7777777777777778,
              "#fb9f3a"
             ],
             [
              0.8888888888888888,
              "#fdca26"
             ],
             [
              1,
              "#f0f921"
             ]
            ],
            "type": "histogram2dcontour"
           }
          ],
          "mesh3d": [
           {
            "colorbar": {
             "outlinewidth": 0,
             "ticks": ""
            },
            "type": "mesh3d"
           }
          ],
          "parcoords": [
           {
            "line": {
             "colorbar": {
              "outlinewidth": 0,
              "ticks": ""
             }
            },
            "type": "parcoords"
           }
          ],
          "pie": [
           {
            "automargin": true,
            "type": "pie"
           }
          ],
          "scatter": [
           {
            "fillpattern": {
             "fillmode": "overlay",
             "size": 10,
             "solidity": 0.2
            },
            "type": "scatter"
           }
          ],
          "scatter3d": [
           {
            "line": {
             "colorbar": {
              "outlinewidth": 0,
              "ticks": ""
             }
            },
            "marker": {
             "colorbar": {
              "outlinewidth": 0,
              "ticks": ""
             }
            },
            "type": "scatter3d"
           }
          ],
          "scattercarpet": [
           {
            "marker": {
             "colorbar": {
              "outlinewidth": 0,
              "ticks": ""
             }
            },
            "type": "scattercarpet"
           }
          ],
          "scattergeo": [
           {
            "marker": {
             "colorbar": {
              "outlinewidth": 0,
              "ticks": ""
             }
            },
            "type": "scattergeo"
           }
          ],
          "scattergl": [
           {
            "marker": {
             "colorbar": {
              "outlinewidth": 0,
              "ticks": ""
             }
            },
            "type": "scattergl"
           }
          ],
          "scattermapbox": [
           {
            "marker": {
             "colorbar": {
              "outlinewidth": 0,
              "ticks": ""
             }
            },
            "type": "scattermapbox"
           }
          ],
          "scatterpolar": [
           {
            "marker": {
             "colorbar": {
              "outlinewidth": 0,
              "ticks": ""
             }
            },
            "type": "scatterpolar"
           }
          ],
          "scatterpolargl": [
           {
            "marker": {
             "colorbar": {
              "outlinewidth": 0,
              "ticks": ""
             }
            },
            "type": "scatterpolargl"
           }
          ],
          "scatterternary": [
           {
            "marker": {
             "colorbar": {
              "outlinewidth": 0,
              "ticks": ""
             }
            },
            "type": "scatterternary"
           }
          ],
          "surface": [
           {
            "colorbar": {
             "outlinewidth": 0,
             "ticks": ""
            },
            "colorscale": [
             [
              0,
              "#0d0887"
             ],
             [
              0.1111111111111111,
              "#46039f"
             ],
             [
              0.2222222222222222,
              "#7201a8"
             ],
             [
              0.3333333333333333,
              "#9c179e"
             ],
             [
              0.4444444444444444,
              "#bd3786"
             ],
             [
              0.5555555555555556,
              "#d8576b"
             ],
             [
              0.6666666666666666,
              "#ed7953"
             ],
             [
              0.7777777777777778,
              "#fb9f3a"
             ],
             [
              0.8888888888888888,
              "#fdca26"
             ],
             [
              1,
              "#f0f921"
             ]
            ],
            "type": "surface"
           }
          ],
          "table": [
           {
            "cells": {
             "fill": {
              "color": "#EBF0F8"
             },
             "line": {
              "color": "white"
             }
            },
            "header": {
             "fill": {
              "color": "#C8D4E3"
             },
             "line": {
              "color": "white"
             }
            },
            "type": "table"
           }
          ]
         },
         "layout": {
          "annotationdefaults": {
           "arrowcolor": "#2a3f5f",
           "arrowhead": 0,
           "arrowwidth": 1
          },
          "autotypenumbers": "strict",
          "coloraxis": {
           "colorbar": {
            "outlinewidth": 0,
            "ticks": ""
           }
          },
          "colorscale": {
           "diverging": [
            [
             0,
             "#8e0152"
            ],
            [
             0.1,
             "#c51b7d"
            ],
            [
             0.2,
             "#de77ae"
            ],
            [
             0.3,
             "#f1b6da"
            ],
            [
             0.4,
             "#fde0ef"
            ],
            [
             0.5,
             "#f7f7f7"
            ],
            [
             0.6,
             "#e6f5d0"
            ],
            [
             0.7,
             "#b8e186"
            ],
            [
             0.8,
             "#7fbc41"
            ],
            [
             0.9,
             "#4d9221"
            ],
            [
             1,
             "#276419"
            ]
           ],
           "sequential": [
            [
             0,
             "#0d0887"
            ],
            [
             0.1111111111111111,
             "#46039f"
            ],
            [
             0.2222222222222222,
             "#7201a8"
            ],
            [
             0.3333333333333333,
             "#9c179e"
            ],
            [
             0.4444444444444444,
             "#bd3786"
            ],
            [
             0.5555555555555556,
             "#d8576b"
            ],
            [
             0.6666666666666666,
             "#ed7953"
            ],
            [
             0.7777777777777778,
             "#fb9f3a"
            ],
            [
             0.8888888888888888,
             "#fdca26"
            ],
            [
             1,
             "#f0f921"
            ]
           ],
           "sequentialminus": [
            [
             0,
             "#0d0887"
            ],
            [
             0.1111111111111111,
             "#46039f"
            ],
            [
             0.2222222222222222,
             "#7201a8"
            ],
            [
             0.3333333333333333,
             "#9c179e"
            ],
            [
             0.4444444444444444,
             "#bd3786"
            ],
            [
             0.5555555555555556,
             "#d8576b"
            ],
            [
             0.6666666666666666,
             "#ed7953"
            ],
            [
             0.7777777777777778,
             "#fb9f3a"
            ],
            [
             0.8888888888888888,
             "#fdca26"
            ],
            [
             1,
             "#f0f921"
            ]
           ]
          },
          "colorway": [
           "#636efa",
           "#EF553B",
           "#00cc96",
           "#ab63fa",
           "#FFA15A",
           "#19d3f3",
           "#FF6692",
           "#B6E880",
           "#FF97FF",
           "#FECB52"
          ],
          "font": {
           "color": "#2a3f5f"
          },
          "geo": {
           "bgcolor": "white",
           "lakecolor": "white",
           "landcolor": "#E5ECF6",
           "showlakes": true,
           "showland": true,
           "subunitcolor": "white"
          },
          "hoverlabel": {
           "align": "left"
          },
          "hovermode": "closest",
          "mapbox": {
           "style": "light"
          },
          "paper_bgcolor": "white",
          "plot_bgcolor": "#E5ECF6",
          "polar": {
           "angularaxis": {
            "gridcolor": "white",
            "linecolor": "white",
            "ticks": ""
           },
           "bgcolor": "#E5ECF6",
           "radialaxis": {
            "gridcolor": "white",
            "linecolor": "white",
            "ticks": ""
           }
          },
          "scene": {
           "xaxis": {
            "backgroundcolor": "#E5ECF6",
            "gridcolor": "white",
            "gridwidth": 2,
            "linecolor": "white",
            "showbackground": true,
            "ticks": "",
            "zerolinecolor": "white"
           },
           "yaxis": {
            "backgroundcolor": "#E5ECF6",
            "gridcolor": "white",
            "gridwidth": 2,
            "linecolor": "white",
            "showbackground": true,
            "ticks": "",
            "zerolinecolor": "white"
           },
           "zaxis": {
            "backgroundcolor": "#E5ECF6",
            "gridcolor": "white",
            "gridwidth": 2,
            "linecolor": "white",
            "showbackground": true,
            "ticks": "",
            "zerolinecolor": "white"
           }
          },
          "shapedefaults": {
           "line": {
            "color": "#2a3f5f"
           }
          },
          "ternary": {
           "aaxis": {
            "gridcolor": "white",
            "linecolor": "white",
            "ticks": ""
           },
           "baxis": {
            "gridcolor": "white",
            "linecolor": "white",
            "ticks": ""
           },
           "bgcolor": "#E5ECF6",
           "caxis": {
            "gridcolor": "white",
            "linecolor": "white",
            "ticks": ""
           }
          },
          "title": {
           "x": 0.05
          },
          "xaxis": {
           "automargin": true,
           "gridcolor": "white",
           "linecolor": "white",
           "ticks": "",
           "title": {
            "standoff": 15
           },
           "zerolinecolor": "white",
           "zerolinewidth": 2
          },
          "yaxis": {
           "automargin": true,
           "gridcolor": "white",
           "linecolor": "white",
           "ticks": "",
           "title": {
            "standoff": 15
           },
           "zerolinecolor": "white",
           "zerolinewidth": 2
          }
         }
        },
        "title": {
         "text": "카테고리별 평균 재구매 주기(일)",
         "x": 0.3,
         "xanchor": "center",
         "y": 0.9,
         "yanchor": "top"
        },
        "xaxis": {
         "anchor": "y",
         "domain": [
          0,
          1
         ],
         "title": {
          "text": "평균 재구매 주기(일)"
         }
        },
        "yaxis": {
         "anchor": "x",
         "categoryarray": [
          "Waze",
          "Office",
          "Notebooks & Journals",
          "Nest-USA",
          "Nest-Canada",
          "Nest",
          "Lifestyle",
          "Housewares",
          "Headgear",
          "Google",
          "Gift Cards",
          "Fun",
          "Drinkware",
          "Bottles",
          "Bags",
          "Backpacks",
          "Apparel",
          "Android",
          "Accessories"
         ],
         "categoryorder": "array",
         "domain": [
          0,
          1
         ],
         "title": {
          "text": "제품카테고리"
         }
        }
       }
      }
     },
     "metadata": {},
     "output_type": "display_data"
    }
   ],
   "source": [
    "import plotly.express as px\n",
    "\n",
    "# Plotly Express를 사용하여 바 차트 그리기\n",
    "def barplot1():\n",
    "    # 기본 바 차트 생성\n",
    "    fig = px.bar(category, \n",
    "                 x='평균 재구매 주기(일)',\n",
    "                 y='제품카테고리', \n",
    "                 title='카테고리별 평균 재구매 주기(일)',\n",
    "                 orientation='h',\n",
    "                 color='제품카테고리',  # 카테고리에 따라 색상 지정\n",
    "                 text='평균 재구매 주기(일)')  # 막대에 텍스트 라벨 추가\n",
    "    \n",
    "    # 차트 레이아웃 꾸미기\n",
    "    fig.update_layout(\n",
    "        title={\n",
    "            'text': \"카테고리별 평균 재구매 주기(일)\",\n",
    "            'y':0.9,\n",
    "            'x':0.3,\n",
    "            'xanchor': 'center',\n",
    "            'yanchor': 'top'\n",
    "        },\n",
    "        xaxis_title=\"평균 재구매 주기(일)\",\n",
    "        yaxis_title=\"제품카테고리\",\n",
    "        legend_title=\"제품카테고리\",\n",
    "        font=dict(\n",
    "            family=\"Courier New, monospace\",\n",
    "            size=12,\n",
    "            color=\"RebeccaPurple\"\n",
    "        ),\n",
    "        plot_bgcolor='rgba(0,0,0,0)',\n",
    "        paper_bgcolor='rgba(0,0,0,0)',\n",
    "    )\n",
    "    \n",
    "    # 막대 색상 꾸미기\n",
    "    fig.update_traces(\n",
    "        marker=dict(line=dict(color='#000000', width=1)),\n",
    "        texttemplate='%{text:.2f}', textposition='outside'\n",
    "    )\n",
    "    \n",
    "    return fig\n",
    "\n",
    "\n",
    "barplot1()\n"
   ]
  },
  {
   "cell_type": "code",
   "execution_count": 4,
   "id": "157a8c33",
   "metadata": {},
   "outputs": [
    {
     "data": {
      "application/vnd.plotly.v1+json": {
       "config": {
        "plotlyServerURL": "https://plot.ly"
       },
       "data": [
        {
         "alignmentgroup": "True",
         "hovertemplate": "제품카테고리=%{y}<br>재구매율=%{text}<extra></extra>",
         "legendgroup": "Accessories",
         "marker": {
          "color": "#636efa",
          "line": {
           "color": "#000000",
           "width": 1
          },
          "pattern": {
           "shape": ""
          }
         },
         "name": "Accessories",
         "offsetgroup": "Accessories",
         "orientation": "h",
         "showlegend": true,
         "text": [
          1
         ],
         "textposition": "outside",
         "texttemplate": "%{text:.2f}",
         "type": "bar",
         "x": [
          1
         ],
         "xaxis": "x",
         "y": [
          "Accessories"
         ],
         "yaxis": "y"
        },
        {
         "alignmentgroup": "True",
         "hovertemplate": "제품카테고리=%{y}<br>재구매율=%{text}<extra></extra>",
         "legendgroup": "Android",
         "marker": {
          "color": "#EF553B",
          "line": {
           "color": "#000000",
           "width": 1
          },
          "pattern": {
           "shape": ""
          }
         },
         "name": "Android",
         "offsetgroup": "Android",
         "orientation": "h",
         "showlegend": true,
         "text": [
          1
         ],
         "textposition": "outside",
         "texttemplate": "%{text:.2f}",
         "type": "bar",
         "x": [
          1
         ],
         "xaxis": "x",
         "y": [
          "Android"
         ],
         "yaxis": "y"
        },
        {
         "alignmentgroup": "True",
         "hovertemplate": "제품카테고리=%{y}<br>재구매율=%{text}<extra></extra>",
         "legendgroup": "Apparel",
         "marker": {
          "color": "#00cc96",
          "line": {
           "color": "#000000",
           "width": 1
          },
          "pattern": {
           "shape": ""
          }
         },
         "name": "Apparel",
         "offsetgroup": "Apparel",
         "orientation": "h",
         "showlegend": true,
         "text": [
          0.5122699386503068
         ],
         "textposition": "outside",
         "texttemplate": "%{text:.2f}",
         "type": "bar",
         "x": [
          0.5122699386503068
         ],
         "xaxis": "x",
         "y": [
          "Apparel"
         ],
         "yaxis": "y"
        },
        {
         "alignmentgroup": "True",
         "hovertemplate": "제품카테고리=%{y}<br>재구매율=%{text}<extra></extra>",
         "legendgroup": "Backpacks",
         "marker": {
          "color": "#ab63fa",
          "line": {
           "color": "#000000",
           "width": 1
          },
          "pattern": {
           "shape": ""
          }
         },
         "name": "Backpacks",
         "offsetgroup": "Backpacks",
         "orientation": "h",
         "showlegend": true,
         "text": [
          0.8
         ],
         "textposition": "outside",
         "texttemplate": "%{text:.2f}",
         "type": "bar",
         "x": [
          0.8
         ],
         "xaxis": "x",
         "y": [
          "Backpacks"
         ],
         "yaxis": "y"
        },
        {
         "alignmentgroup": "True",
         "hovertemplate": "제품카테고리=%{y}<br>재구매율=%{text}<extra></extra>",
         "legendgroup": "Bags",
         "marker": {
          "color": "#FFA15A",
          "line": {
           "color": "#000000",
           "width": 1
          },
          "pattern": {
           "shape": ""
          }
         },
         "name": "Bags",
         "offsetgroup": "Bags",
         "orientation": "h",
         "showlegend": true,
         "text": [
          0.5655430711610487
         ],
         "textposition": "outside",
         "texttemplate": "%{text:.2f}",
         "type": "bar",
         "x": [
          0.5655430711610487
         ],
         "xaxis": "x",
         "y": [
          "Bags"
         ],
         "yaxis": "y"
        },
        {
         "alignmentgroup": "True",
         "hovertemplate": "제품카테고리=%{y}<br>재구매율=%{text}<extra></extra>",
         "legendgroup": "Bottles",
         "marker": {
          "color": "#19d3f3",
          "line": {
           "color": "#000000",
           "width": 1
          },
          "pattern": {
           "shape": ""
          }
         },
         "name": "Bottles",
         "offsetgroup": "Bottles",
         "orientation": "h",
         "showlegend": true,
         "text": [
          0.75
         ],
         "textposition": "outside",
         "texttemplate": "%{text:.2f}",
         "type": "bar",
         "x": [
          0.75
         ],
         "xaxis": "x",
         "y": [
          "Bottles"
         ],
         "yaxis": "y"
        },
        {
         "alignmentgroup": "True",
         "hovertemplate": "제품카테고리=%{y}<br>재구매율=%{text}<extra></extra>",
         "legendgroup": "Drinkware",
         "marker": {
          "color": "#FF6692",
          "line": {
           "color": "#000000",
           "width": 1
          },
          "pattern": {
           "shape": ""
          }
         },
         "name": "Drinkware",
         "offsetgroup": "Drinkware",
         "orientation": "h",
         "showlegend": true,
         "text": [
          0.5642201834862385
         ],
         "textposition": "outside",
         "texttemplate": "%{text:.2f}",
         "type": "bar",
         "x": [
          0.5642201834862385
         ],
         "xaxis": "x",
         "y": [
          "Drinkware"
         ],
         "yaxis": "y"
        },
        {
         "alignmentgroup": "True",
         "hovertemplate": "제품카테고리=%{y}<br>재구매율=%{text}<extra></extra>",
         "legendgroup": "Fun",
         "marker": {
          "color": "#B6E880",
          "line": {
           "color": "#000000",
           "width": 1
          },
          "pattern": {
           "shape": ""
          }
         },
         "name": "Fun",
         "offsetgroup": "Fun",
         "orientation": "h",
         "showlegend": true,
         "text": [
          0.6842105263157895
         ],
         "textposition": "outside",
         "texttemplate": "%{text:.2f}",
         "type": "bar",
         "x": [
          0.6842105263157895
         ],
         "xaxis": "x",
         "y": [
          "Fun"
         ],
         "yaxis": "y"
        },
        {
         "alignmentgroup": "True",
         "hovertemplate": "제품카테고리=%{y}<br>재구매율=%{text}<extra></extra>",
         "legendgroup": "Gift Cards",
         "marker": {
          "color": "#FF97FF",
          "line": {
           "color": "#000000",
           "width": 1
          },
          "pattern": {
           "shape": ""
          }
         },
         "name": "Gift Cards",
         "offsetgroup": "Gift Cards",
         "orientation": "h",
         "showlegend": true,
         "text": [
          1
         ],
         "textposition": "outside",
         "texttemplate": "%{text:.2f}",
         "type": "bar",
         "x": [
          1
         ],
         "xaxis": "x",
         "y": [
          "Gift Cards"
         ],
         "yaxis": "y"
        },
        {
         "alignmentgroup": "True",
         "hovertemplate": "제품카테고리=%{y}<br>재구매율=%{text}<extra></extra>",
         "legendgroup": "Google",
         "marker": {
          "color": "#FECB52",
          "line": {
           "color": "#000000",
           "width": 1
          },
          "pattern": {
           "shape": ""
          }
         },
         "name": "Google",
         "offsetgroup": "Google",
         "orientation": "h",
         "showlegend": true,
         "text": [
          0.625
         ],
         "textposition": "outside",
         "texttemplate": "%{text:.2f}",
         "type": "bar",
         "x": [
          0.625
         ],
         "xaxis": "x",
         "y": [
          "Google"
         ],
         "yaxis": "y"
        },
        {
         "alignmentgroup": "True",
         "hovertemplate": "제품카테고리=%{y}<br>재구매율=%{text}<extra></extra>",
         "legendgroup": "Headgear",
         "marker": {
          "color": "#636efa",
          "line": {
           "color": "#000000",
           "width": 1
          },
          "pattern": {
           "shape": ""
          }
         },
         "name": "Headgear",
         "offsetgroup": "Headgear",
         "orientation": "h",
         "showlegend": true,
         "text": [
          0.6528925619834711
         ],
         "textposition": "outside",
         "texttemplate": "%{text:.2f}",
         "type": "bar",
         "x": [
          0.6528925619834711
         ],
         "xaxis": "x",
         "y": [
          "Headgear"
         ],
         "yaxis": "y"
        },
        {
         "alignmentgroup": "True",
         "hovertemplate": "제품카테고리=%{y}<br>재구매율=%{text}<extra></extra>",
         "legendgroup": "Housewares",
         "marker": {
          "color": "#EF553B",
          "line": {
           "color": "#000000",
           "width": 1
          },
          "pattern": {
           "shape": ""
          }
         },
         "name": "Housewares",
         "offsetgroup": "Housewares",
         "orientation": "h",
         "showlegend": true,
         "text": [
          0.8333333333333334
         ],
         "textposition": "outside",
         "texttemplate": "%{text:.2f}",
         "type": "bar",
         "x": [
          0.8333333333333334
         ],
         "xaxis": "x",
         "y": [
          "Housewares"
         ],
         "yaxis": "y"
        },
        {
         "alignmentgroup": "True",
         "hovertemplate": "제품카테고리=%{y}<br>재구매율=%{text}<extra></extra>",
         "legendgroup": "Lifestyle",
         "marker": {
          "color": "#00cc96",
          "line": {
           "color": "#000000",
           "width": 1
          },
          "pattern": {
           "shape": ""
          }
         },
         "name": "Lifestyle",
         "offsetgroup": "Lifestyle",
         "orientation": "h",
         "showlegend": true,
         "text": [
          0.5835694050991501
         ],
         "textposition": "outside",
         "texttemplate": "%{text:.2f}",
         "type": "bar",
         "x": [
          0.5835694050991501
         ],
         "xaxis": "x",
         "y": [
          "Lifestyle"
         ],
         "yaxis": "y"
        },
        {
         "alignmentgroup": "True",
         "hovertemplate": "제품카테고리=%{y}<br>재구매율=%{text}<extra></extra>",
         "legendgroup": "Nest",
         "marker": {
          "color": "#ab63fa",
          "line": {
           "color": "#000000",
           "width": 1
          },
          "pattern": {
           "shape": ""
          }
         },
         "name": "Nest",
         "offsetgroup": "Nest",
         "orientation": "h",
         "showlegend": true,
         "text": [
          0.6545454545454545
         ],
         "textposition": "outside",
         "texttemplate": "%{text:.2f}",
         "type": "bar",
         "x": [
          0.6545454545454545
         ],
         "xaxis": "x",
         "y": [
          "Nest"
         ],
         "yaxis": "y"
        },
        {
         "alignmentgroup": "True",
         "hovertemplate": "제품카테고리=%{y}<br>재구매율=%{text}<extra></extra>",
         "legendgroup": "Nest-Canada",
         "marker": {
          "color": "#FFA15A",
          "line": {
           "color": "#000000",
           "width": 1
          },
          "pattern": {
           "shape": ""
          }
         },
         "name": "Nest-Canada",
         "offsetgroup": "Nest-Canada",
         "orientation": "h",
         "showlegend": true,
         "text": [
          0.8636363636363636
         ],
         "textposition": "outside",
         "texttemplate": "%{text:.2f}",
         "type": "bar",
         "x": [
          0.8636363636363636
         ],
         "xaxis": "x",
         "y": [
          "Nest-Canada"
         ],
         "yaxis": "y"
        },
        {
         "alignmentgroup": "True",
         "hovertemplate": "제품카테고리=%{y}<br>재구매율=%{text}<extra></extra>",
         "legendgroup": "Nest-USA",
         "marker": {
          "color": "#19d3f3",
          "line": {
           "color": "#000000",
           "width": 1
          },
          "pattern": {
           "shape": ""
          }
         },
         "name": "Nest-USA",
         "offsetgroup": "Nest-USA",
         "orientation": "h",
         "showlegend": true,
         "text": [
          0.5154994259471871
         ],
         "textposition": "outside",
         "texttemplate": "%{text:.2f}",
         "type": "bar",
         "x": [
          0.5154994259471871
         ],
         "xaxis": "x",
         "y": [
          "Nest-USA"
         ],
         "yaxis": "y"
        },
        {
         "alignmentgroup": "True",
         "hovertemplate": "제품카테고리=%{y}<br>재구매율=%{text}<extra></extra>",
         "legendgroup": "Notebooks & Journals",
         "marker": {
          "color": "#FF6692",
          "line": {
           "color": "#000000",
           "width": 1
          },
          "pattern": {
           "shape": ""
          }
         },
         "name": "Notebooks & Journals",
         "offsetgroup": "Notebooks & Journals",
         "orientation": "h",
         "showlegend": true,
         "text": [
          0.7142857142857143
         ],
         "textposition": "outside",
         "texttemplate": "%{text:.2f}",
         "type": "bar",
         "x": [
          0.7142857142857143
         ],
         "xaxis": "x",
         "y": [
          "Notebooks & Journals"
         ],
         "yaxis": "y"
        },
        {
         "alignmentgroup": "True",
         "hovertemplate": "제품카테고리=%{y}<br>재구매율=%{text}<extra></extra>",
         "legendgroup": "Office",
         "marker": {
          "color": "#B6E880",
          "line": {
           "color": "#000000",
           "width": 1
          },
          "pattern": {
           "shape": ""
          }
         },
         "name": "Office",
         "offsetgroup": "Office",
         "orientation": "h",
         "showlegend": true,
         "text": [
          0.5525876460767947
         ],
         "textposition": "outside",
         "texttemplate": "%{text:.2f}",
         "type": "bar",
         "x": [
          0.5525876460767947
         ],
         "xaxis": "x",
         "y": [
          "Office"
         ],
         "yaxis": "y"
        },
        {
         "alignmentgroup": "True",
         "hovertemplate": "제품카테고리=%{y}<br>재구매율=%{text}<extra></extra>",
         "legendgroup": "Waze",
         "marker": {
          "color": "#FF97FF",
          "line": {
           "color": "#000000",
           "width": 1
          },
          "pattern": {
           "shape": ""
          }
         },
         "name": "Waze",
         "offsetgroup": "Waze",
         "orientation": "h",
         "showlegend": true,
         "text": [
          0.717391304347826
         ],
         "textposition": "outside",
         "texttemplate": "%{text:.2f}",
         "type": "bar",
         "x": [
          0.717391304347826
         ],
         "xaxis": "x",
         "y": [
          "Waze"
         ],
         "yaxis": "y"
        }
       ],
       "layout": {
        "barmode": "relative",
        "font": {
         "color": "RebeccaPurple",
         "family": "Courier New, monospace",
         "size": 12
        },
        "legend": {
         "title": {
          "text": "제품카테고리"
         },
         "tracegroupgap": 0
        },
        "paper_bgcolor": "rgba(0,0,0,0)",
        "plot_bgcolor": "rgba(0,0,0,0)",
        "template": {
         "data": {
          "bar": [
           {
            "error_x": {
             "color": "#2a3f5f"
            },
            "error_y": {
             "color": "#2a3f5f"
            },
            "marker": {
             "line": {
              "color": "#E5ECF6",
              "width": 0.5
             },
             "pattern": {
              "fillmode": "overlay",
              "size": 10,
              "solidity": 0.2
             }
            },
            "type": "bar"
           }
          ],
          "barpolar": [
           {
            "marker": {
             "line": {
              "color": "#E5ECF6",
              "width": 0.5
             },
             "pattern": {
              "fillmode": "overlay",
              "size": 10,
              "solidity": 0.2
             }
            },
            "type": "barpolar"
           }
          ],
          "carpet": [
           {
            "aaxis": {
             "endlinecolor": "#2a3f5f",
             "gridcolor": "white",
             "linecolor": "white",
             "minorgridcolor": "white",
             "startlinecolor": "#2a3f5f"
            },
            "baxis": {
             "endlinecolor": "#2a3f5f",
             "gridcolor": "white",
             "linecolor": "white",
             "minorgridcolor": "white",
             "startlinecolor": "#2a3f5f"
            },
            "type": "carpet"
           }
          ],
          "choropleth": [
           {
            "colorbar": {
             "outlinewidth": 0,
             "ticks": ""
            },
            "type": "choropleth"
           }
          ],
          "contour": [
           {
            "colorbar": {
             "outlinewidth": 0,
             "ticks": ""
            },
            "colorscale": [
             [
              0,
              "#0d0887"
             ],
             [
              0.1111111111111111,
              "#46039f"
             ],
             [
              0.2222222222222222,
              "#7201a8"
             ],
             [
              0.3333333333333333,
              "#9c179e"
             ],
             [
              0.4444444444444444,
              "#bd3786"
             ],
             [
              0.5555555555555556,
              "#d8576b"
             ],
             [
              0.6666666666666666,
              "#ed7953"
             ],
             [
              0.7777777777777778,
              "#fb9f3a"
             ],
             [
              0.8888888888888888,
              "#fdca26"
             ],
             [
              1,
              "#f0f921"
             ]
            ],
            "type": "contour"
           }
          ],
          "contourcarpet": [
           {
            "colorbar": {
             "outlinewidth": 0,
             "ticks": ""
            },
            "type": "contourcarpet"
           }
          ],
          "heatmap": [
           {
            "colorbar": {
             "outlinewidth": 0,
             "ticks": ""
            },
            "colorscale": [
             [
              0,
              "#0d0887"
             ],
             [
              0.1111111111111111,
              "#46039f"
             ],
             [
              0.2222222222222222,
              "#7201a8"
             ],
             [
              0.3333333333333333,
              "#9c179e"
             ],
             [
              0.4444444444444444,
              "#bd3786"
             ],
             [
              0.5555555555555556,
              "#d8576b"
             ],
             [
              0.6666666666666666,
              "#ed7953"
             ],
             [
              0.7777777777777778,
              "#fb9f3a"
             ],
             [
              0.8888888888888888,
              "#fdca26"
             ],
             [
              1,
              "#f0f921"
             ]
            ],
            "type": "heatmap"
           }
          ],
          "heatmapgl": [
           {
            "colorbar": {
             "outlinewidth": 0,
             "ticks": ""
            },
            "colorscale": [
             [
              0,
              "#0d0887"
             ],
             [
              0.1111111111111111,
              "#46039f"
             ],
             [
              0.2222222222222222,
              "#7201a8"
             ],
             [
              0.3333333333333333,
              "#9c179e"
             ],
             [
              0.4444444444444444,
              "#bd3786"
             ],
             [
              0.5555555555555556,
              "#d8576b"
             ],
             [
              0.6666666666666666,
              "#ed7953"
             ],
             [
              0.7777777777777778,
              "#fb9f3a"
             ],
             [
              0.8888888888888888,
              "#fdca26"
             ],
             [
              1,
              "#f0f921"
             ]
            ],
            "type": "heatmapgl"
           }
          ],
          "histogram": [
           {
            "marker": {
             "pattern": {
              "fillmode": "overlay",
              "size": 10,
              "solidity": 0.2
             }
            },
            "type": "histogram"
           }
          ],
          "histogram2d": [
           {
            "colorbar": {
             "outlinewidth": 0,
             "ticks": ""
            },
            "colorscale": [
             [
              0,
              "#0d0887"
             ],
             [
              0.1111111111111111,
              "#46039f"
             ],
             [
              0.2222222222222222,
              "#7201a8"
             ],
             [
              0.3333333333333333,
              "#9c179e"
             ],
             [
              0.4444444444444444,
              "#bd3786"
             ],
             [
              0.5555555555555556,
              "#d8576b"
             ],
             [
              0.6666666666666666,
              "#ed7953"
             ],
             [
              0.7777777777777778,
              "#fb9f3a"
             ],
             [
              0.8888888888888888,
              "#fdca26"
             ],
             [
              1,
              "#f0f921"
             ]
            ],
            "type": "histogram2d"
           }
          ],
          "histogram2dcontour": [
           {
            "colorbar": {
             "outlinewidth": 0,
             "ticks": ""
            },
            "colorscale": [
             [
              0,
              "#0d0887"
             ],
             [
              0.1111111111111111,
              "#46039f"
             ],
             [
              0.2222222222222222,
              "#7201a8"
             ],
             [
              0.3333333333333333,
              "#9c179e"
             ],
             [
              0.4444444444444444,
              "#bd3786"
             ],
             [
              0.5555555555555556,
              "#d8576b"
             ],
             [
              0.6666666666666666,
              "#ed7953"
             ],
             [
              0.7777777777777778,
              "#fb9f3a"
             ],
             [
              0.8888888888888888,
              "#fdca26"
             ],
             [
              1,
              "#f0f921"
             ]
            ],
            "type": "histogram2dcontour"
           }
          ],
          "mesh3d": [
           {
            "colorbar": {
             "outlinewidth": 0,
             "ticks": ""
            },
            "type": "mesh3d"
           }
          ],
          "parcoords": [
           {
            "line": {
             "colorbar": {
              "outlinewidth": 0,
              "ticks": ""
             }
            },
            "type": "parcoords"
           }
          ],
          "pie": [
           {
            "automargin": true,
            "type": "pie"
           }
          ],
          "scatter": [
           {
            "fillpattern": {
             "fillmode": "overlay",
             "size": 10,
             "solidity": 0.2
            },
            "type": "scatter"
           }
          ],
          "scatter3d": [
           {
            "line": {
             "colorbar": {
              "outlinewidth": 0,
              "ticks": ""
             }
            },
            "marker": {
             "colorbar": {
              "outlinewidth": 0,
              "ticks": ""
             }
            },
            "type": "scatter3d"
           }
          ],
          "scattercarpet": [
           {
            "marker": {
             "colorbar": {
              "outlinewidth": 0,
              "ticks": ""
             }
            },
            "type": "scattercarpet"
           }
          ],
          "scattergeo": [
           {
            "marker": {
             "colorbar": {
              "outlinewidth": 0,
              "ticks": ""
             }
            },
            "type": "scattergeo"
           }
          ],
          "scattergl": [
           {
            "marker": {
             "colorbar": {
              "outlinewidth": 0,
              "ticks": ""
             }
            },
            "type": "scattergl"
           }
          ],
          "scattermapbox": [
           {
            "marker": {
             "colorbar": {
              "outlinewidth": 0,
              "ticks": ""
             }
            },
            "type": "scattermapbox"
           }
          ],
          "scatterpolar": [
           {
            "marker": {
             "colorbar": {
              "outlinewidth": 0,
              "ticks": ""
             }
            },
            "type": "scatterpolar"
           }
          ],
          "scatterpolargl": [
           {
            "marker": {
             "colorbar": {
              "outlinewidth": 0,
              "ticks": ""
             }
            },
            "type": "scatterpolargl"
           }
          ],
          "scatterternary": [
           {
            "marker": {
             "colorbar": {
              "outlinewidth": 0,
              "ticks": ""
             }
            },
            "type": "scatterternary"
           }
          ],
          "surface": [
           {
            "colorbar": {
             "outlinewidth": 0,
             "ticks": ""
            },
            "colorscale": [
             [
              0,
              "#0d0887"
             ],
             [
              0.1111111111111111,
              "#46039f"
             ],
             [
              0.2222222222222222,
              "#7201a8"
             ],
             [
              0.3333333333333333,
              "#9c179e"
             ],
             [
              0.4444444444444444,
              "#bd3786"
             ],
             [
              0.5555555555555556,
              "#d8576b"
             ],
             [
              0.6666666666666666,
              "#ed7953"
             ],
             [
              0.7777777777777778,
              "#fb9f3a"
             ],
             [
              0.8888888888888888,
              "#fdca26"
             ],
             [
              1,
              "#f0f921"
             ]
            ],
            "type": "surface"
           }
          ],
          "table": [
           {
            "cells": {
             "fill": {
              "color": "#EBF0F8"
             },
             "line": {
              "color": "white"
             }
            },
            "header": {
             "fill": {
              "color": "#C8D4E3"
             },
             "line": {
              "color": "white"
             }
            },
            "type": "table"
           }
          ]
         },
         "layout": {
          "annotationdefaults": {
           "arrowcolor": "#2a3f5f",
           "arrowhead": 0,
           "arrowwidth": 1
          },
          "autotypenumbers": "strict",
          "coloraxis": {
           "colorbar": {
            "outlinewidth": 0,
            "ticks": ""
           }
          },
          "colorscale": {
           "diverging": [
            [
             0,
             "#8e0152"
            ],
            [
             0.1,
             "#c51b7d"
            ],
            [
             0.2,
             "#de77ae"
            ],
            [
             0.3,
             "#f1b6da"
            ],
            [
             0.4,
             "#fde0ef"
            ],
            [
             0.5,
             "#f7f7f7"
            ],
            [
             0.6,
             "#e6f5d0"
            ],
            [
             0.7,
             "#b8e186"
            ],
            [
             0.8,
             "#7fbc41"
            ],
            [
             0.9,
             "#4d9221"
            ],
            [
             1,
             "#276419"
            ]
           ],
           "sequential": [
            [
             0,
             "#0d0887"
            ],
            [
             0.1111111111111111,
             "#46039f"
            ],
            [
             0.2222222222222222,
             "#7201a8"
            ],
            [
             0.3333333333333333,
             "#9c179e"
            ],
            [
             0.4444444444444444,
             "#bd3786"
            ],
            [
             0.5555555555555556,
             "#d8576b"
            ],
            [
             0.6666666666666666,
             "#ed7953"
            ],
            [
             0.7777777777777778,
             "#fb9f3a"
            ],
            [
             0.8888888888888888,
             "#fdca26"
            ],
            [
             1,
             "#f0f921"
            ]
           ],
           "sequentialminus": [
            [
             0,
             "#0d0887"
            ],
            [
             0.1111111111111111,
             "#46039f"
            ],
            [
             0.2222222222222222,
             "#7201a8"
            ],
            [
             0.3333333333333333,
             "#9c179e"
            ],
            [
             0.4444444444444444,
             "#bd3786"
            ],
            [
             0.5555555555555556,
             "#d8576b"
            ],
            [
             0.6666666666666666,
             "#ed7953"
            ],
            [
             0.7777777777777778,
             "#fb9f3a"
            ],
            [
             0.8888888888888888,
             "#fdca26"
            ],
            [
             1,
             "#f0f921"
            ]
           ]
          },
          "colorway": [
           "#636efa",
           "#EF553B",
           "#00cc96",
           "#ab63fa",
           "#FFA15A",
           "#19d3f3",
           "#FF6692",
           "#B6E880",
           "#FF97FF",
           "#FECB52"
          ],
          "font": {
           "color": "#2a3f5f"
          },
          "geo": {
           "bgcolor": "white",
           "lakecolor": "white",
           "landcolor": "#E5ECF6",
           "showlakes": true,
           "showland": true,
           "subunitcolor": "white"
          },
          "hoverlabel": {
           "align": "left"
          },
          "hovermode": "closest",
          "mapbox": {
           "style": "light"
          },
          "paper_bgcolor": "white",
          "plot_bgcolor": "#E5ECF6",
          "polar": {
           "angularaxis": {
            "gridcolor": "white",
            "linecolor": "white",
            "ticks": ""
           },
           "bgcolor": "#E5ECF6",
           "radialaxis": {
            "gridcolor": "white",
            "linecolor": "white",
            "ticks": ""
           }
          },
          "scene": {
           "xaxis": {
            "backgroundcolor": "#E5ECF6",
            "gridcolor": "white",
            "gridwidth": 2,
            "linecolor": "white",
            "showbackground": true,
            "ticks": "",
            "zerolinecolor": "white"
           },
           "yaxis": {
            "backgroundcolor": "#E5ECF6",
            "gridcolor": "white",
            "gridwidth": 2,
            "linecolor": "white",
            "showbackground": true,
            "ticks": "",
            "zerolinecolor": "white"
           },
           "zaxis": {
            "backgroundcolor": "#E5ECF6",
            "gridcolor": "white",
            "gridwidth": 2,
            "linecolor": "white",
            "showbackground": true,
            "ticks": "",
            "zerolinecolor": "white"
           }
          },
          "shapedefaults": {
           "line": {
            "color": "#2a3f5f"
           }
          },
          "ternary": {
           "aaxis": {
            "gridcolor": "white",
            "linecolor": "white",
            "ticks": ""
           },
           "baxis": {
            "gridcolor": "white",
            "linecolor": "white",
            "ticks": ""
           },
           "bgcolor": "#E5ECF6",
           "caxis": {
            "gridcolor": "white",
            "linecolor": "white",
            "ticks": ""
           }
          },
          "title": {
           "x": 0.05
          },
          "xaxis": {
           "automargin": true,
           "gridcolor": "white",
           "linecolor": "white",
           "ticks": "",
           "title": {
            "standoff": 15
           },
           "zerolinecolor": "white",
           "zerolinewidth": 2
          },
          "yaxis": {
           "automargin": true,
           "gridcolor": "white",
           "linecolor": "white",
           "ticks": "",
           "title": {
            "standoff": 15
           },
           "zerolinecolor": "white",
           "zerolinewidth": 2
          }
         }
        },
        "title": {
         "text": "재구매율",
         "x": 0.5,
         "xanchor": "center",
         "y": 0.9,
         "yanchor": "top"
        },
        "xaxis": {
         "anchor": "y",
         "domain": [
          0,
          1
         ],
         "title": {
          "text": "재구매율"
         }
        },
        "yaxis": {
         "anchor": "x",
         "categoryarray": [
          "Waze",
          "Office",
          "Notebooks & Journals",
          "Nest-USA",
          "Nest-Canada",
          "Nest",
          "Lifestyle",
          "Housewares",
          "Headgear",
          "Google",
          "Gift Cards",
          "Fun",
          "Drinkware",
          "Bottles",
          "Bags",
          "Backpacks",
          "Apparel",
          "Android",
          "Accessories"
         ],
         "categoryorder": "array",
         "domain": [
          0,
          1
         ],
         "title": {
          "text": "제품카테고리"
         }
        }
       }
      }
     },
     "metadata": {},
     "output_type": "display_data"
    }
   ],
   "source": [
    "import plotly.express as px\n",
    "\n",
    "# Plotly Express를 사용하여 바 차트 그리기\n",
    "def barplot2():\n",
    "    # 기본 바 차트 생성\n",
    "    fig = px.bar(category, \n",
    "                 x='재구매율',\n",
    "                 y='제품카테고리',  \n",
    "                 title='재구매율',\n",
    "                 color='제품카테고리',  # 카테고리에 따라 색상 지정\n",
    "                 orientation='h',\n",
    "                 text='재구매율')  # 막대에 텍스트 라벨 추가\n",
    "    \n",
    "    # 차트 레이아웃 꾸미기\n",
    "    fig.update_layout(\n",
    "        title={\n",
    "            'text': \"재구매율\",\n",
    "            'y':0.9,\n",
    "            'x':0.5,\n",
    "            'xanchor': 'center',\n",
    "            'yanchor': 'top'\n",
    "        },\n",
    "        xaxis_title=\"재구매율\",\n",
    "        yaxis_title=\"제품카테고리\",\n",
    "        legend_title=\"제품카테고리\",\n",
    "        font=dict(\n",
    "            family=\"Courier New, monospace\",\n",
    "            size=12,\n",
    "            color=\"RebeccaPurple\"\n",
    "        ),\n",
    "        plot_bgcolor='rgba(0,0,0,0)',\n",
    "        paper_bgcolor='rgba(0,0,0,0)',\n",
    "    )\n",
    "    \n",
    "    # 막대 색상 꾸미기\n",
    "    fig.update_traces(\n",
    "        marker=dict(line=dict(color='#000000', width=1)),\n",
    "        texttemplate='%{text:.2f}', textposition='outside'\n",
    "    )\n",
    "    \n",
    "    return fig\n",
    "\n",
    "# barplot1() 함수 호출하여 차트 출력\n",
    "barplot2()\n"
   ]
  },
  {
   "cell_type": "code",
   "execution_count": 6,
   "id": "4788d814-7426-4e02-a23d-3217cffc6617",
   "metadata": {},
   "outputs": [],
   "source": [
    "# cohort = db_manager.making_dataframe('cohort')\n",
    "train = db_manager.making_dataframe('train')\n",
    "cohort_analysis = sy_class.CohortAnalysis(train)\n",
    "cohort = cohort_analysis.calculate_cohort()\n",
    "retention_matrix = cohort_analysis.calculate_retention_rate(cohort)"
   ]
  },
  {
   "cell_type": "code",
   "execution_count": 7,
   "id": "b6c918e3-27ee-4094-8edf-4fd1db1c6ab0",
   "metadata": {},
   "outputs": [
    {
     "data": {
      "application/vnd.plotly.v1+json": {
       "config": {
        "plotlyServerURL": "https://plot.ly"
       },
       "data": [
        {
         "colorscale": [
          [
           0,
           "rgb(247,251,255)"
          ],
          [
           0.125,
           "rgb(222,235,247)"
          ],
          [
           0.25,
           "rgb(198,219,239)"
          ],
          [
           0.375,
           "rgb(158,202,225)"
          ],
          [
           0.5,
           "rgb(107,174,214)"
          ],
          [
           0.625,
           "rgb(66,146,198)"
          ],
          [
           0.75,
           "rgb(33,113,181)"
          ],
          [
           0.875,
           "rgb(8,81,156)"
          ],
          [
           1,
           "rgb(8,48,107)"
          ]
         ],
         "text": [
          [
           1,
           0.0196078431372549,
           0.058823529411764705,
           0.06862745098039216,
           0.049019607843137254,
           0.14705882352941177,
           0.08823529411764706,
           0.2549019607843137,
           0.14705882352941177,
           0.27450980392156865
          ],
          [
           1,
           0.09375,
           0.09375,
           0.15625,
           0.15625,
           0.3125,
           0.40625,
           0.40625,
           0.375,
           null
          ],
          [
           1,
           0.08,
           0.12,
           0.12,
           0.2,
           0.3466666666666667,
           0.2,
           0.29333333333333333,
           null,
           null
          ],
          [
           1,
           0.07865168539325842,
           0.1348314606741573,
           0.19101123595505617,
           0.15730337078651685,
           0.15730337078651685,
           0.11235955056179775,
           null,
           null,
           null
          ],
          [
           1,
           0.07142857142857142,
           0.07142857142857142,
           0.14285714285714285,
           0.12857142857142856,
           0.18571428571428572,
           null,
           null,
           null,
           null
          ],
          [
           1,
           0.09782608695652174,
           0.15217391304347827,
           0.11956521739130435,
           0.11956521739130435,
           null,
           null,
           null,
           null,
           null
          ],
          [
           1,
           0.11842105263157894,
           0.039473684210526314,
           0.07894736842105263,
           null,
           null,
           null,
           null,
           null,
           null
          ],
          [
           1,
           0.1111111111111111,
           0.1388888888888889,
           null,
           null,
           null,
           null,
           null,
           null,
           null
          ],
          [
           1,
           0.08333333333333333,
           null,
           null,
           null,
           null,
           null,
           null,
           null,
           null
          ],
          [
           1,
           null,
           null,
           null,
           null,
           null,
           null,
           null,
           null,
           null
          ]
         ],
         "textfont": {
          "color": "black",
          "size": 10
         },
         "texttemplate": "%{text:.2%}",
         "type": "heatmap",
         "x": [
          0,
          1,
          2,
          3,
          4,
          5,
          6,
          7,
          8,
          9
         ],
         "y": [
          "2019-01",
          "2019-02",
          "2019-03",
          "2019-04",
          "2019-05",
          "2019-06",
          "2019-07",
          "2019-08",
          "2019-09",
          "2019-10"
         ],
         "z": [
          [
           1,
           0.0196078431372549,
           0.058823529411764705,
           0.06862745098039216,
           0.049019607843137254,
           0.14705882352941177,
           0.08823529411764706,
           0.2549019607843137,
           0.14705882352941177,
           0.27450980392156865
          ],
          [
           1,
           0.09375,
           0.09375,
           0.15625,
           0.15625,
           0.3125,
           0.40625,
           0.40625,
           0.375,
           null
          ],
          [
           1,
           0.08,
           0.12,
           0.12,
           0.2,
           0.3466666666666667,
           0.2,
           0.29333333333333333,
           null,
           null
          ],
          [
           1,
           0.07865168539325842,
           0.1348314606741573,
           0.19101123595505617,
           0.15730337078651685,
           0.15730337078651685,
           0.11235955056179775,
           null,
           null,
           null
          ],
          [
           1,
           0.07142857142857142,
           0.07142857142857142,
           0.14285714285714285,
           0.12857142857142856,
           0.18571428571428572,
           null,
           null,
           null,
           null
          ],
          [
           1,
           0.09782608695652174,
           0.15217391304347827,
           0.11956521739130435,
           0.11956521739130435,
           null,
           null,
           null,
           null,
           null
          ],
          [
           1,
           0.11842105263157894,
           0.039473684210526314,
           0.07894736842105263,
           null,
           null,
           null,
           null,
           null,
           null
          ],
          [
           1,
           0.1111111111111111,
           0.1388888888888889,
           null,
           null,
           null,
           null,
           null,
           null,
           null
          ],
          [
           1,
           0.08333333333333333,
           null,
           null,
           null,
           null,
           null,
           null,
           null,
           null
          ],
          [
           1,
           null,
           null,
           null,
           null,
           null,
           null,
           null,
           null,
           null
          ]
         ]
        }
       ],
       "layout": {
        "coloraxis": {
         "colorbar": {
          "tickfont": {
           "size": 12
          },
          "title": {
           "font": {
            "size": 14
           },
           "side": "right",
           "text": "재구매율"
          }
         }
        },
        "height": 600,
        "margin": {
         "b": 50,
         "l": 60,
         "r": 20,
         "t": 50
        },
        "plot_bgcolor": "white",
        "template": {
         "data": {
          "bar": [
           {
            "error_x": {
             "color": "#2a3f5f"
            },
            "error_y": {
             "color": "#2a3f5f"
            },
            "marker": {
             "line": {
              "color": "#E5ECF6",
              "width": 0.5
             },
             "pattern": {
              "fillmode": "overlay",
              "size": 10,
              "solidity": 0.2
             }
            },
            "type": "bar"
           }
          ],
          "barpolar": [
           {
            "marker": {
             "line": {
              "color": "#E5ECF6",
              "width": 0.5
             },
             "pattern": {
              "fillmode": "overlay",
              "size": 10,
              "solidity": 0.2
             }
            },
            "type": "barpolar"
           }
          ],
          "carpet": [
           {
            "aaxis": {
             "endlinecolor": "#2a3f5f",
             "gridcolor": "white",
             "linecolor": "white",
             "minorgridcolor": "white",
             "startlinecolor": "#2a3f5f"
            },
            "baxis": {
             "endlinecolor": "#2a3f5f",
             "gridcolor": "white",
             "linecolor": "white",
             "minorgridcolor": "white",
             "startlinecolor": "#2a3f5f"
            },
            "type": "carpet"
           }
          ],
          "choropleth": [
           {
            "colorbar": {
             "outlinewidth": 0,
             "ticks": ""
            },
            "type": "choropleth"
           }
          ],
          "contour": [
           {
            "colorbar": {
             "outlinewidth": 0,
             "ticks": ""
            },
            "colorscale": [
             [
              0,
              "#0d0887"
             ],
             [
              0.1111111111111111,
              "#46039f"
             ],
             [
              0.2222222222222222,
              "#7201a8"
             ],
             [
              0.3333333333333333,
              "#9c179e"
             ],
             [
              0.4444444444444444,
              "#bd3786"
             ],
             [
              0.5555555555555556,
              "#d8576b"
             ],
             [
              0.6666666666666666,
              "#ed7953"
             ],
             [
              0.7777777777777778,
              "#fb9f3a"
             ],
             [
              0.8888888888888888,
              "#fdca26"
             ],
             [
              1,
              "#f0f921"
             ]
            ],
            "type": "contour"
           }
          ],
          "contourcarpet": [
           {
            "colorbar": {
             "outlinewidth": 0,
             "ticks": ""
            },
            "type": "contourcarpet"
           }
          ],
          "heatmap": [
           {
            "colorbar": {
             "outlinewidth": 0,
             "ticks": ""
            },
            "colorscale": [
             [
              0,
              "#0d0887"
             ],
             [
              0.1111111111111111,
              "#46039f"
             ],
             [
              0.2222222222222222,
              "#7201a8"
             ],
             [
              0.3333333333333333,
              "#9c179e"
             ],
             [
              0.4444444444444444,
              "#bd3786"
             ],
             [
              0.5555555555555556,
              "#d8576b"
             ],
             [
              0.6666666666666666,
              "#ed7953"
             ],
             [
              0.7777777777777778,
              "#fb9f3a"
             ],
             [
              0.8888888888888888,
              "#fdca26"
             ],
             [
              1,
              "#f0f921"
             ]
            ],
            "type": "heatmap"
           }
          ],
          "heatmapgl": [
           {
            "colorbar": {
             "outlinewidth": 0,
             "ticks": ""
            },
            "colorscale": [
             [
              0,
              "#0d0887"
             ],
             [
              0.1111111111111111,
              "#46039f"
             ],
             [
              0.2222222222222222,
              "#7201a8"
             ],
             [
              0.3333333333333333,
              "#9c179e"
             ],
             [
              0.4444444444444444,
              "#bd3786"
             ],
             [
              0.5555555555555556,
              "#d8576b"
             ],
             [
              0.6666666666666666,
              "#ed7953"
             ],
             [
              0.7777777777777778,
              "#fb9f3a"
             ],
             [
              0.8888888888888888,
              "#fdca26"
             ],
             [
              1,
              "#f0f921"
             ]
            ],
            "type": "heatmapgl"
           }
          ],
          "histogram": [
           {
            "marker": {
             "pattern": {
              "fillmode": "overlay",
              "size": 10,
              "solidity": 0.2
             }
            },
            "type": "histogram"
           }
          ],
          "histogram2d": [
           {
            "colorbar": {
             "outlinewidth": 0,
             "ticks": ""
            },
            "colorscale": [
             [
              0,
              "#0d0887"
             ],
             [
              0.1111111111111111,
              "#46039f"
             ],
             [
              0.2222222222222222,
              "#7201a8"
             ],
             [
              0.3333333333333333,
              "#9c179e"
             ],
             [
              0.4444444444444444,
              "#bd3786"
             ],
             [
              0.5555555555555556,
              "#d8576b"
             ],
             [
              0.6666666666666666,
              "#ed7953"
             ],
             [
              0.7777777777777778,
              "#fb9f3a"
             ],
             [
              0.8888888888888888,
              "#fdca26"
             ],
             [
              1,
              "#f0f921"
             ]
            ],
            "type": "histogram2d"
           }
          ],
          "histogram2dcontour": [
           {
            "colorbar": {
             "outlinewidth": 0,
             "ticks": ""
            },
            "colorscale": [
             [
              0,
              "#0d0887"
             ],
             [
              0.1111111111111111,
              "#46039f"
             ],
             [
              0.2222222222222222,
              "#7201a8"
             ],
             [
              0.3333333333333333,
              "#9c179e"
             ],
             [
              0.4444444444444444,
              "#bd3786"
             ],
             [
              0.5555555555555556,
              "#d8576b"
             ],
             [
              0.6666666666666666,
              "#ed7953"
             ],
             [
              0.7777777777777778,
              "#fb9f3a"
             ],
             [
              0.8888888888888888,
              "#fdca26"
             ],
             [
              1,
              "#f0f921"
             ]
            ],
            "type": "histogram2dcontour"
           }
          ],
          "mesh3d": [
           {
            "colorbar": {
             "outlinewidth": 0,
             "ticks": ""
            },
            "type": "mesh3d"
           }
          ],
          "parcoords": [
           {
            "line": {
             "colorbar": {
              "outlinewidth": 0,
              "ticks": ""
             }
            },
            "type": "parcoords"
           }
          ],
          "pie": [
           {
            "automargin": true,
            "type": "pie"
           }
          ],
          "scatter": [
           {
            "fillpattern": {
             "fillmode": "overlay",
             "size": 10,
             "solidity": 0.2
            },
            "type": "scatter"
           }
          ],
          "scatter3d": [
           {
            "line": {
             "colorbar": {
              "outlinewidth": 0,
              "ticks": ""
             }
            },
            "marker": {
             "colorbar": {
              "outlinewidth": 0,
              "ticks": ""
             }
            },
            "type": "scatter3d"
           }
          ],
          "scattercarpet": [
           {
            "marker": {
             "colorbar": {
              "outlinewidth": 0,
              "ticks": ""
             }
            },
            "type": "scattercarpet"
           }
          ],
          "scattergeo": [
           {
            "marker": {
             "colorbar": {
              "outlinewidth": 0,
              "ticks": ""
             }
            },
            "type": "scattergeo"
           }
          ],
          "scattergl": [
           {
            "marker": {
             "colorbar": {
              "outlinewidth": 0,
              "ticks": ""
             }
            },
            "type": "scattergl"
           }
          ],
          "scattermapbox": [
           {
            "marker": {
             "colorbar": {
              "outlinewidth": 0,
              "ticks": ""
             }
            },
            "type": "scattermapbox"
           }
          ],
          "scatterpolar": [
           {
            "marker": {
             "colorbar": {
              "outlinewidth": 0,
              "ticks": ""
             }
            },
            "type": "scatterpolar"
           }
          ],
          "scatterpolargl": [
           {
            "marker": {
             "colorbar": {
              "outlinewidth": 0,
              "ticks": ""
             }
            },
            "type": "scatterpolargl"
           }
          ],
          "scatterternary": [
           {
            "marker": {
             "colorbar": {
              "outlinewidth": 0,
              "ticks": ""
             }
            },
            "type": "scatterternary"
           }
          ],
          "surface": [
           {
            "colorbar": {
             "outlinewidth": 0,
             "ticks": ""
            },
            "colorscale": [
             [
              0,
              "#0d0887"
             ],
             [
              0.1111111111111111,
              "#46039f"
             ],
             [
              0.2222222222222222,
              "#7201a8"
             ],
             [
              0.3333333333333333,
              "#9c179e"
             ],
             [
              0.4444444444444444,
              "#bd3786"
             ],
             [
              0.5555555555555556,
              "#d8576b"
             ],
             [
              0.6666666666666666,
              "#ed7953"
             ],
             [
              0.7777777777777778,
              "#fb9f3a"
             ],
             [
              0.8888888888888888,
              "#fdca26"
             ],
             [
              1,
              "#f0f921"
             ]
            ],
            "type": "surface"
           }
          ],
          "table": [
           {
            "cells": {
             "fill": {
              "color": "#EBF0F8"
             },
             "line": {
              "color": "white"
             }
            },
            "header": {
             "fill": {
              "color": "#C8D4E3"
             },
             "line": {
              "color": "white"
             }
            },
            "type": "table"
           }
          ]
         },
         "layout": {
          "annotationdefaults": {
           "arrowcolor": "#2a3f5f",
           "arrowhead": 0,
           "arrowwidth": 1
          },
          "autotypenumbers": "strict",
          "coloraxis": {
           "colorbar": {
            "outlinewidth": 0,
            "ticks": ""
           }
          },
          "colorscale": {
           "diverging": [
            [
             0,
             "#8e0152"
            ],
            [
             0.1,
             "#c51b7d"
            ],
            [
             0.2,
             "#de77ae"
            ],
            [
             0.3,
             "#f1b6da"
            ],
            [
             0.4,
             "#fde0ef"
            ],
            [
             0.5,
             "#f7f7f7"
            ],
            [
             0.6,
             "#e6f5d0"
            ],
            [
             0.7,
             "#b8e186"
            ],
            [
             0.8,
             "#7fbc41"
            ],
            [
             0.9,
             "#4d9221"
            ],
            [
             1,
             "#276419"
            ]
           ],
           "sequential": [
            [
             0,
             "#0d0887"
            ],
            [
             0.1111111111111111,
             "#46039f"
            ],
            [
             0.2222222222222222,
             "#7201a8"
            ],
            [
             0.3333333333333333,
             "#9c179e"
            ],
            [
             0.4444444444444444,
             "#bd3786"
            ],
            [
             0.5555555555555556,
             "#d8576b"
            ],
            [
             0.6666666666666666,
             "#ed7953"
            ],
            [
             0.7777777777777778,
             "#fb9f3a"
            ],
            [
             0.8888888888888888,
             "#fdca26"
            ],
            [
             1,
             "#f0f921"
            ]
           ],
           "sequentialminus": [
            [
             0,
             "#0d0887"
            ],
            [
             0.1111111111111111,
             "#46039f"
            ],
            [
             0.2222222222222222,
             "#7201a8"
            ],
            [
             0.3333333333333333,
             "#9c179e"
            ],
            [
             0.4444444444444444,
             "#bd3786"
            ],
            [
             0.5555555555555556,
             "#d8576b"
            ],
            [
             0.6666666666666666,
             "#ed7953"
            ],
            [
             0.7777777777777778,
             "#fb9f3a"
            ],
            [
             0.8888888888888888,
             "#fdca26"
            ],
            [
             1,
             "#f0f921"
            ]
           ]
          },
          "colorway": [
           "#636efa",
           "#EF553B",
           "#00cc96",
           "#ab63fa",
           "#FFA15A",
           "#19d3f3",
           "#FF6692",
           "#B6E880",
           "#FF97FF",
           "#FECB52"
          ],
          "font": {
           "color": "#2a3f5f"
          },
          "geo": {
           "bgcolor": "white",
           "lakecolor": "white",
           "landcolor": "#E5ECF6",
           "showlakes": true,
           "showland": true,
           "subunitcolor": "white"
          },
          "hoverlabel": {
           "align": "left"
          },
          "hovermode": "closest",
          "mapbox": {
           "style": "light"
          },
          "paper_bgcolor": "white",
          "plot_bgcolor": "#E5ECF6",
          "polar": {
           "angularaxis": {
            "gridcolor": "white",
            "linecolor": "white",
            "ticks": ""
           },
           "bgcolor": "#E5ECF6",
           "radialaxis": {
            "gridcolor": "white",
            "linecolor": "white",
            "ticks": ""
           }
          },
          "scene": {
           "xaxis": {
            "backgroundcolor": "#E5ECF6",
            "gridcolor": "white",
            "gridwidth": 2,
            "linecolor": "white",
            "showbackground": true,
            "ticks": "",
            "zerolinecolor": "white"
           },
           "yaxis": {
            "backgroundcolor": "#E5ECF6",
            "gridcolor": "white",
            "gridwidth": 2,
            "linecolor": "white",
            "showbackground": true,
            "ticks": "",
            "zerolinecolor": "white"
           },
           "zaxis": {
            "backgroundcolor": "#E5ECF6",
            "gridcolor": "white",
            "gridwidth": 2,
            "linecolor": "white",
            "showbackground": true,
            "ticks": "",
            "zerolinecolor": "white"
           }
          },
          "shapedefaults": {
           "line": {
            "color": "#2a3f5f"
           }
          },
          "ternary": {
           "aaxis": {
            "gridcolor": "white",
            "linecolor": "white",
            "ticks": ""
           },
           "baxis": {
            "gridcolor": "white",
            "linecolor": "white",
            "ticks": ""
           },
           "bgcolor": "#E5ECF6",
           "caxis": {
            "gridcolor": "white",
            "linecolor": "white",
            "ticks": ""
           }
          },
          "title": {
           "x": 0.05
          },
          "xaxis": {
           "automargin": true,
           "gridcolor": "white",
           "linecolor": "white",
           "ticks": "",
           "title": {
            "standoff": 15
           },
           "zerolinecolor": "white",
           "zerolinewidth": 2
          },
          "yaxis": {
           "automargin": true,
           "gridcolor": "white",
           "linecolor": "white",
           "ticks": "",
           "title": {
            "standoff": 15
           },
           "zerolinecolor": "white",
           "zerolinewidth": 2
          }
         }
        },
        "title": {
         "font": {
          "size": 20
         },
         "text": "코호트 분석 - Retention Rates"
        },
        "width": 800,
        "xaxis": {
         "dtick": 1,
         "tick0": 0,
         "tickfont": {
          "size": 12
         },
         "tickmode": "linear",
         "title": {
          "font": {
           "size": 14
          },
          "text": "Months After First Purchase"
         }
        },
        "yaxis": {
         "tickfont": {
          "size": 12
         },
         "title": {
          "font": {
           "size": 14
          },
          "text": "Cohort Group"
         }
        }
       }
      }
     },
     "metadata": {},
     "output_type": "display_data"
    }
   ],
   "source": [
    "import plotly.graph_objects as go\n",
    "from datetime import datetime\n",
    "\n",
    "def heatmap() : \n",
    "    fig = go.Figure(data=go.Heatmap(\n",
    "        z=retention_matrix.values,\n",
    "        x=retention_matrix.columns,\n",
    "        y=retention_matrix.index,\n",
    "        colorscale='Blues',\n",
    "        text=retention_matrix.values,\n",
    "        texttemplate=\"%{text:.2%}\",  # 비율 형식으로 표시\n",
    "        textfont={\"size\": 10, \"color\": \"black\"}\n",
    "    ))\n",
    "    \n",
    "    # 레이아웃 업데이트\n",
    "    fig.update_layout(\n",
    "        title='코호트 분석 - Retention Rates',\n",
    "        title_font_size=20,\n",
    "        xaxis_title='Months After First Purchase',\n",
    "        yaxis_title='Cohort Group',\n",
    "        xaxis=dict(tickmode='linear', tick0=0, dtick=1, tickfont=dict(size=12)),\n",
    "        yaxis=dict(tickfont=dict(size=12)),\n",
    "        plot_bgcolor='white',\n",
    "        margin=dict(l=60, r=20, t=50, b=50),\n",
    "        width=800,\n",
    "        height=600\n",
    "    )\n",
    "    \n",
    "    # 축 레이블 및 타이틀 스타일링\n",
    "    fig.update_xaxes(\n",
    "        title_font=dict(size=14),\n",
    "        tickfont=dict(size=12)\n",
    "    )\n",
    "    \n",
    "    fig.update_yaxes(\n",
    "        title_font=dict(size=14),\n",
    "        tickfont=dict(size=12)\n",
    "    )\n",
    "    \n",
    "    # 색상바(컬러바) 스타일링\n",
    "    fig.update_coloraxes(colorbar=dict(\n",
    "        title=\"재구매율\",\n",
    "        titleside=\"right\",\n",
    "        titlefont=dict(size=14),\n",
    "        tickfont=dict(size=12)\n",
    "    ))\n",
    "    return fig\n",
    "\n",
    "heatmap()"
   ]
  },
  {
   "cell_type": "code",
   "execution_count": 8,
   "id": "42759f88",
   "metadata": {},
   "outputs": [],
   "source": [
    "# NAVBAR 구성\n",
    "NAVBAR = dbc.Navbar(\n",
    "    children=[\n",
    "        html.A(\n",
    "            # Use row and col to control vertical alignment of logo / brand\n",
    "            dbc.Row(\n",
    "                [\n",
    "                    dbc.Col(),\n",
    "                    dbc.Col(\n",
    "                        dbc.NavbarBrand(\"Bank Customer Complaints\", className=\"ml-2\")\n",
    "                    ),\n",
    "                ],\n",
    "                align=\"center\",\n",
    "            ),\n",
    "            href=\"https://plot.ly\",\n",
    "        )\n",
    "    ],\n",
    "    color=\"dark\",\n",
    "    dark=True,\n",
    "    sticky=\"top\",\n",
    ")\n",
    "\n",
    "CLUSTER1 = dbc.Card(\n",
    "    [\n",
    "        dbc.CardHeader(html.H5(\"Comparison of each cluster\")),\n",
    "        dbc.CardBody(\n",
    "            [\n",
    "                dcc.Loading(\n",
    "                    id=\"loading-cluster-comps\",\n",
    "                    children=[\n",
    "                        dbc.Alert(\n",
    "                            \"Something's gone wrong! Give us a moment, but try loading this page again if problem persists.\",\n",
    "                            id=\"cluster-alert\",  # ID 변경\n",
    "                            color=\"warning\",\n",
    "                            style={\"display\": \"none\"},\n",
    "                        ),\n",
    "                        dcc.Graph(id=\"cluster-comps\", figure=barplot1()),   \n",
    "                    ],\n",
    "                    type=\"default\",\n",
    "                )\n",
    "            ],\n",
    "            style={\"marginTop\": 0, \"marginBottom\": 0},\n",
    "        ),\n",
    "    ]\n",
    ")\n",
    "\n",
    "CLUSTER2 = dbc.Card(\n",
    "    [\n",
    "        dbc.CardHeader(html.H5(\"Comparison of each cluster\")),\n",
    "        dbc.CardBody(\n",
    "            [\n",
    "                dcc.Loading(\n",
    "                    id=\"loading-cluster-comps\",\n",
    "                    children=[\n",
    "                        dbc.Alert(\n",
    "                            \"Something's gone wrong! Give us a moment, but try loading this page again if problem persists.\",\n",
    "                            id=\"cluster-alert\",  # ID 변경\n",
    "                            color=\"warning\",\n",
    "                            style={\"display\": \"none\"},\n",
    "                        ),\n",
    "                        dcc.Graph(id=\"cluster-comps\", figure=barplot2()),  \n",
    "                    ],\n",
    "                    type=\"default\",\n",
    "                )\n",
    "            ],\n",
    "            style={\"marginTop\": 0, \"marginBottom\": 0},\n",
    "        ),\n",
    "    ]\n",
    ")\n",
    "\n",
    "CLUSTER3 = dbc.Card(\n",
    "    [\n",
    "        dbc.CardHeader(html.H5(\"Comparison of each cluster\")),\n",
    "        dbc.CardBody(\n",
    "            [\n",
    "                dcc.Loading(\n",
    "                    id=\"loading-cluster-comps\",\n",
    "                    children=[\n",
    "                        dbc.Alert(\n",
    "                            \"Something's gone wrong! Give us a moment, but try loading this page again if problem persists.\",\n",
    "                            id=\"cluster-alert\",  # ID 변경\n",
    "                            color=\"warning\",\n",
    "                            style={\"display\": \"none\"},\n",
    "                        ),\n",
    "                        dcc.Graph(id=\"cluster-comps\", figure=heatmap()),  \n",
    "                    ],\n",
    "                    type=\"default\",\n",
    "                )\n",
    "            ],\n",
    "            style={\"marginTop\": 0, \"marginBottom\": 0},\n",
    "        ),\n",
    "    ]\n",
    ")\n"
   ]
  },
  {
   "cell_type": "code",
   "execution_count": 9,
   "id": "602398e0",
   "metadata": {},
   "outputs": [],
   "source": [
    "# 전체 레이아웃 구성 변경\n",
    "BODY = dbc.Container(\n",
    "    [\n",
    "        dbc.Row(\n",
    "            [   \n",
    "                dbc.Col(CLUSTER1, align=\"center\"),\n",
    "                dbc.Col(CLUSTER2, align=\"center\")\n",
    "            \n",
    "            ],\n",
    "            \n",
    "            style={\"marginTop\": 30}\n",
    "        ),\n",
    "        dbc.Row(\n",
    "            [   \n",
    "                dbc.Col(CLUSTER3, align=\"center\"),\n",
    "            \n",
    "            ],\n",
    "            \n",
    "            style={\"marginTop\": 30}\n",
    "        ),\n",
    "        \n",
    "    ],\n",
    "    className=\"mt-12\",\n",
    ")"
   ]
  },
  {
   "cell_type": "code",
   "execution_count": 10,
   "id": "5a71a529",
   "metadata": {},
   "outputs": [
    {
     "name": "stderr",
     "output_type": "stream",
     "text": [
      "[2024-06-10 00:41:10,309] ERROR in app: Exception on /_alive_ae208ced-b1ed-4363-9075-fcd304f33ff4 [GET]\n",
      "Traceback (most recent call last):\n",
      "  File \"c:\\Users\\소영\\AppData\\Local\\Programs\\Python\\Python312\\Lib\\site-packages\\flask\\app.py\", line 1463, in wsgi_app\n",
      "    response = self.full_dispatch_request()\n",
      "               ^^^^^^^^^^^^^^^^^^^^^^^^^^^^\n",
      "  File \"c:\\Users\\소영\\AppData\\Local\\Programs\\Python\\Python312\\Lib\\site-packages\\flask\\app.py\", line 872, in full_dispatch_request\n",
      "    rv = self.handle_user_exception(e)\n",
      "         ^^^^^^^^^^^^^^^^^^^^^^^^^^^^^\n",
      "  File \"c:\\Users\\소영\\AppData\\Local\\Programs\\Python\\Python312\\Lib\\site-packages\\flask\\app.py\", line 868, in full_dispatch_request\n",
      "    rv = self.preprocess_request()\n",
      "         ^^^^^^^^^^^^^^^^^^^^^^^^^\n",
      "  File \"c:\\Users\\소영\\AppData\\Local\\Programs\\Python\\Python312\\Lib\\site-packages\\flask\\app.py\", line 1243, in preprocess_request\n",
      "    rv = self.ensure_sync(before_func)()\n",
      "         ^^^^^^^^^^^^^^^^^^^^^^^^^^^^^^^\n",
      "  File \"c:\\Users\\소영\\AppData\\Local\\Programs\\Python\\Python312\\Lib\\site-packages\\dash\\dash.py\", line 1391, in _setup_server\n",
      "    _validate.validate_layout(self.layout, self._layout_value())\n",
      "  File \"c:\\Users\\소영\\AppData\\Local\\Programs\\Python\\Python312\\Lib\\site-packages\\dash\\_validate.py\", line 427, in validate_layout\n",
      "    raise exceptions.DuplicateIdError(\n",
      "dash.exceptions.DuplicateIdError: Duplicate component id found in the initial layout: `loading-cluster-comps`\n"
     ]
    },
    {
     "name": "stdout",
     "output_type": "stream",
     "text": [
      "Dash app running on http://127.0.0.1:8050/\n"
     ]
    }
   ],
   "source": [
    "app = dash.Dash(__name__, external_stylesheets=[dbc.themes.BOOTSTRAP])\n",
    "server = app.server  # for Heroku deployment\n",
    "\n",
    "app.layout = html.Div(children=[NAVBAR, BODY])\n",
    "\n",
    "if __name__ == \"__main__\":\n",
    "    app.run_server(jupyter_mode='external')"
   ]
  }
 ],
 "metadata": {
  "kernelspec": {
   "display_name": "Python 3 (ipykernel)",
   "language": "python",
   "name": "python3"
  },
  "language_info": {
   "codemirror_mode": {
    "name": "ipython",
    "version": 3
   },
   "file_extension": ".py",
   "mimetype": "text/x-python",
   "name": "python",
   "nbconvert_exporter": "python",
   "pygments_lexer": "ipython3",
   "version": "3.12.0"
  }
 },
 "nbformat": 4,
 "nbformat_minor": 5
}
